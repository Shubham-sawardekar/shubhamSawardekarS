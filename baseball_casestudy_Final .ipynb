{
 "cells": [
  {
   "cell_type": "code",
   "execution_count": 1,
   "id": "11d3aac5",
   "metadata": {},
   "outputs": [],
   "source": [
    "#importing necessary libraries\n",
    "import numpy as np\n",
    "import pandas as pd\n",
    "import matplotlib.pyplot as plt\n",
    "import seaborn as sns\n",
    "\n",
    "import warnings\n",
    "warnings.filterwarnings('ignore')"
   ]
  },
  {
   "cell_type": "code",
   "execution_count": 2,
   "id": "ae4286fe",
   "metadata": {},
   "outputs": [],
   "source": [
    "# Load Data from URL\n",
    "df=pd.read_csv('https://raw.githubusercontent.com/dsrscientist/Data-Science-ML-Capstone-Projects/master/baseball.csv')"
   ]
  },
  {
   "cell_type": "code",
   "execution_count": 3,
   "id": "fe759f85",
   "metadata": {},
   "outputs": [
    {
     "data": {
      "text/html": [
       "<div>\n",
       "<style scoped>\n",
       "    .dataframe tbody tr th:only-of-type {\n",
       "        vertical-align: middle;\n",
       "    }\n",
       "\n",
       "    .dataframe tbody tr th {\n",
       "        vertical-align: top;\n",
       "    }\n",
       "\n",
       "    .dataframe thead th {\n",
       "        text-align: right;\n",
       "    }\n",
       "</style>\n",
       "<table border=\"1\" class=\"dataframe\">\n",
       "  <thead>\n",
       "    <tr style=\"text-align: right;\">\n",
       "      <th></th>\n",
       "      <th>W</th>\n",
       "      <th>R</th>\n",
       "      <th>AB</th>\n",
       "      <th>H</th>\n",
       "      <th>2B</th>\n",
       "      <th>3B</th>\n",
       "      <th>HR</th>\n",
       "      <th>BB</th>\n",
       "      <th>SO</th>\n",
       "      <th>SB</th>\n",
       "      <th>RA</th>\n",
       "      <th>ER</th>\n",
       "      <th>ERA</th>\n",
       "      <th>CG</th>\n",
       "      <th>SHO</th>\n",
       "      <th>SV</th>\n",
       "      <th>E</th>\n",
       "    </tr>\n",
       "  </thead>\n",
       "  <tbody>\n",
       "    <tr>\n",
       "      <th>0</th>\n",
       "      <td>95</td>\n",
       "      <td>724</td>\n",
       "      <td>5575</td>\n",
       "      <td>1497</td>\n",
       "      <td>300</td>\n",
       "      <td>42</td>\n",
       "      <td>139</td>\n",
       "      <td>383</td>\n",
       "      <td>973</td>\n",
       "      <td>104</td>\n",
       "      <td>641</td>\n",
       "      <td>601</td>\n",
       "      <td>3.73</td>\n",
       "      <td>2</td>\n",
       "      <td>8</td>\n",
       "      <td>56</td>\n",
       "      <td>88</td>\n",
       "    </tr>\n",
       "    <tr>\n",
       "      <th>1</th>\n",
       "      <td>83</td>\n",
       "      <td>696</td>\n",
       "      <td>5467</td>\n",
       "      <td>1349</td>\n",
       "      <td>277</td>\n",
       "      <td>44</td>\n",
       "      <td>156</td>\n",
       "      <td>439</td>\n",
       "      <td>1264</td>\n",
       "      <td>70</td>\n",
       "      <td>700</td>\n",
       "      <td>653</td>\n",
       "      <td>4.07</td>\n",
       "      <td>2</td>\n",
       "      <td>12</td>\n",
       "      <td>45</td>\n",
       "      <td>86</td>\n",
       "    </tr>\n",
       "    <tr>\n",
       "      <th>2</th>\n",
       "      <td>81</td>\n",
       "      <td>669</td>\n",
       "      <td>5439</td>\n",
       "      <td>1395</td>\n",
       "      <td>303</td>\n",
       "      <td>29</td>\n",
       "      <td>141</td>\n",
       "      <td>533</td>\n",
       "      <td>1157</td>\n",
       "      <td>86</td>\n",
       "      <td>640</td>\n",
       "      <td>584</td>\n",
       "      <td>3.67</td>\n",
       "      <td>11</td>\n",
       "      <td>10</td>\n",
       "      <td>38</td>\n",
       "      <td>79</td>\n",
       "    </tr>\n",
       "    <tr>\n",
       "      <th>3</th>\n",
       "      <td>76</td>\n",
       "      <td>622</td>\n",
       "      <td>5533</td>\n",
       "      <td>1381</td>\n",
       "      <td>260</td>\n",
       "      <td>27</td>\n",
       "      <td>136</td>\n",
       "      <td>404</td>\n",
       "      <td>1231</td>\n",
       "      <td>68</td>\n",
       "      <td>701</td>\n",
       "      <td>643</td>\n",
       "      <td>3.98</td>\n",
       "      <td>7</td>\n",
       "      <td>9</td>\n",
       "      <td>37</td>\n",
       "      <td>101</td>\n",
       "    </tr>\n",
       "    <tr>\n",
       "      <th>4</th>\n",
       "      <td>74</td>\n",
       "      <td>689</td>\n",
       "      <td>5605</td>\n",
       "      <td>1515</td>\n",
       "      <td>289</td>\n",
       "      <td>49</td>\n",
       "      <td>151</td>\n",
       "      <td>455</td>\n",
       "      <td>1259</td>\n",
       "      <td>83</td>\n",
       "      <td>803</td>\n",
       "      <td>746</td>\n",
       "      <td>4.64</td>\n",
       "      <td>7</td>\n",
       "      <td>12</td>\n",
       "      <td>35</td>\n",
       "      <td>86</td>\n",
       "    </tr>\n",
       "  </tbody>\n",
       "</table>\n",
       "</div>"
      ],
      "text/plain": [
       "    W    R    AB     H   2B  3B   HR   BB    SO   SB   RA   ER   ERA  CG  SHO  \\\n",
       "0  95  724  5575  1497  300  42  139  383   973  104  641  601  3.73   2    8   \n",
       "1  83  696  5467  1349  277  44  156  439  1264   70  700  653  4.07   2   12   \n",
       "2  81  669  5439  1395  303  29  141  533  1157   86  640  584  3.67  11   10   \n",
       "3  76  622  5533  1381  260  27  136  404  1231   68  701  643  3.98   7    9   \n",
       "4  74  689  5605  1515  289  49  151  455  1259   83  803  746  4.64   7   12   \n",
       "\n",
       "   SV    E  \n",
       "0  56   88  \n",
       "1  45   86  \n",
       "2  38   79  \n",
       "3  37  101  \n",
       "4  35   86  "
      ]
     },
     "execution_count": 3,
     "metadata": {},
     "output_type": "execute_result"
    }
   ],
   "source": [
    "df.head() # to find the upper five records"
   ]
  },
  {
   "cell_type": "code",
   "execution_count": 4,
   "id": "1c179bc4",
   "metadata": {},
   "outputs": [
    {
     "data": {
      "text/html": [
       "<div>\n",
       "<style scoped>\n",
       "    .dataframe tbody tr th:only-of-type {\n",
       "        vertical-align: middle;\n",
       "    }\n",
       "\n",
       "    .dataframe tbody tr th {\n",
       "        vertical-align: top;\n",
       "    }\n",
       "\n",
       "    .dataframe thead th {\n",
       "        text-align: right;\n",
       "    }\n",
       "</style>\n",
       "<table border=\"1\" class=\"dataframe\">\n",
       "  <thead>\n",
       "    <tr style=\"text-align: right;\">\n",
       "      <th></th>\n",
       "      <th>W</th>\n",
       "      <th>R</th>\n",
       "      <th>AB</th>\n",
       "      <th>H</th>\n",
       "      <th>2B</th>\n",
       "      <th>3B</th>\n",
       "      <th>HR</th>\n",
       "      <th>BB</th>\n",
       "      <th>SO</th>\n",
       "      <th>SB</th>\n",
       "      <th>RA</th>\n",
       "      <th>ER</th>\n",
       "      <th>ERA</th>\n",
       "      <th>CG</th>\n",
       "      <th>SHO</th>\n",
       "      <th>SV</th>\n",
       "      <th>E</th>\n",
       "    </tr>\n",
       "  </thead>\n",
       "  <tbody>\n",
       "    <tr>\n",
       "      <th>15</th>\n",
       "      <td>100</td>\n",
       "      <td>647</td>\n",
       "      <td>5484</td>\n",
       "      <td>1386</td>\n",
       "      <td>288</td>\n",
       "      <td>39</td>\n",
       "      <td>137</td>\n",
       "      <td>506</td>\n",
       "      <td>1267</td>\n",
       "      <td>69</td>\n",
       "      <td>525</td>\n",
       "      <td>478</td>\n",
       "      <td>2.94</td>\n",
       "      <td>1</td>\n",
       "      <td>15</td>\n",
       "      <td>62</td>\n",
       "      <td>96</td>\n",
       "    </tr>\n",
       "    <tr>\n",
       "      <th>16</th>\n",
       "      <td>98</td>\n",
       "      <td>697</td>\n",
       "      <td>5631</td>\n",
       "      <td>1462</td>\n",
       "      <td>292</td>\n",
       "      <td>27</td>\n",
       "      <td>140</td>\n",
       "      <td>461</td>\n",
       "      <td>1322</td>\n",
       "      <td>98</td>\n",
       "      <td>596</td>\n",
       "      <td>532</td>\n",
       "      <td>3.21</td>\n",
       "      <td>0</td>\n",
       "      <td>13</td>\n",
       "      <td>54</td>\n",
       "      <td>122</td>\n",
       "    </tr>\n",
       "    <tr>\n",
       "      <th>17</th>\n",
       "      <td>97</td>\n",
       "      <td>689</td>\n",
       "      <td>5491</td>\n",
       "      <td>1341</td>\n",
       "      <td>272</td>\n",
       "      <td>30</td>\n",
       "      <td>171</td>\n",
       "      <td>567</td>\n",
       "      <td>1518</td>\n",
       "      <td>95</td>\n",
       "      <td>608</td>\n",
       "      <td>546</td>\n",
       "      <td>3.36</td>\n",
       "      <td>6</td>\n",
       "      <td>21</td>\n",
       "      <td>48</td>\n",
       "      <td>111</td>\n",
       "    </tr>\n",
       "    <tr>\n",
       "      <th>0</th>\n",
       "      <td>95</td>\n",
       "      <td>724</td>\n",
       "      <td>5575</td>\n",
       "      <td>1497</td>\n",
       "      <td>300</td>\n",
       "      <td>42</td>\n",
       "      <td>139</td>\n",
       "      <td>383</td>\n",
       "      <td>973</td>\n",
       "      <td>104</td>\n",
       "      <td>641</td>\n",
       "      <td>601</td>\n",
       "      <td>3.73</td>\n",
       "      <td>2</td>\n",
       "      <td>8</td>\n",
       "      <td>56</td>\n",
       "      <td>88</td>\n",
       "    </tr>\n",
       "    <tr>\n",
       "      <th>5</th>\n",
       "      <td>93</td>\n",
       "      <td>891</td>\n",
       "      <td>5509</td>\n",
       "      <td>1480</td>\n",
       "      <td>308</td>\n",
       "      <td>17</td>\n",
       "      <td>232</td>\n",
       "      <td>570</td>\n",
       "      <td>1151</td>\n",
       "      <td>88</td>\n",
       "      <td>670</td>\n",
       "      <td>609</td>\n",
       "      <td>3.80</td>\n",
       "      <td>7</td>\n",
       "      <td>10</td>\n",
       "      <td>34</td>\n",
       "      <td>88</td>\n",
       "    </tr>\n",
       "    <tr>\n",
       "      <th>25</th>\n",
       "      <td>92</td>\n",
       "      <td>667</td>\n",
       "      <td>5385</td>\n",
       "      <td>1346</td>\n",
       "      <td>263</td>\n",
       "      <td>26</td>\n",
       "      <td>187</td>\n",
       "      <td>563</td>\n",
       "      <td>1258</td>\n",
       "      <td>59</td>\n",
       "      <td>595</td>\n",
       "      <td>553</td>\n",
       "      <td>3.44</td>\n",
       "      <td>6</td>\n",
       "      <td>21</td>\n",
       "      <td>47</td>\n",
       "      <td>75</td>\n",
       "    </tr>\n",
       "    <tr>\n",
       "      <th>20</th>\n",
       "      <td>90</td>\n",
       "      <td>683</td>\n",
       "      <td>5527</td>\n",
       "      <td>1351</td>\n",
       "      <td>295</td>\n",
       "      <td>17</td>\n",
       "      <td>177</td>\n",
       "      <td>488</td>\n",
       "      <td>1290</td>\n",
       "      <td>51</td>\n",
       "      <td>613</td>\n",
       "      <td>557</td>\n",
       "      <td>3.43</td>\n",
       "      <td>1</td>\n",
       "      <td>14</td>\n",
       "      <td>50</td>\n",
       "      <td>88</td>\n",
       "    </tr>\n",
       "    <tr>\n",
       "      <th>10</th>\n",
       "      <td>88</td>\n",
       "      <td>751</td>\n",
       "      <td>5511</td>\n",
       "      <td>1419</td>\n",
       "      <td>279</td>\n",
       "      <td>32</td>\n",
       "      <td>172</td>\n",
       "      <td>503</td>\n",
       "      <td>1233</td>\n",
       "      <td>101</td>\n",
       "      <td>733</td>\n",
       "      <td>680</td>\n",
       "      <td>4.24</td>\n",
       "      <td>5</td>\n",
       "      <td>9</td>\n",
       "      <td>45</td>\n",
       "      <td>119</td>\n",
       "    </tr>\n",
       "    <tr>\n",
       "      <th>6</th>\n",
       "      <td>87</td>\n",
       "      <td>764</td>\n",
       "      <td>5567</td>\n",
       "      <td>1397</td>\n",
       "      <td>272</td>\n",
       "      <td>19</td>\n",
       "      <td>212</td>\n",
       "      <td>554</td>\n",
       "      <td>1227</td>\n",
       "      <td>63</td>\n",
       "      <td>698</td>\n",
       "      <td>652</td>\n",
       "      <td>4.03</td>\n",
       "      <td>3</td>\n",
       "      <td>4</td>\n",
       "      <td>48</td>\n",
       "      <td>93</td>\n",
       "    </tr>\n",
       "    <tr>\n",
       "      <th>11</th>\n",
       "      <td>86</td>\n",
       "      <td>729</td>\n",
       "      <td>5459</td>\n",
       "      <td>1363</td>\n",
       "      <td>278</td>\n",
       "      <td>26</td>\n",
       "      <td>230</td>\n",
       "      <td>486</td>\n",
       "      <td>1392</td>\n",
       "      <td>121</td>\n",
       "      <td>618</td>\n",
       "      <td>572</td>\n",
       "      <td>3.57</td>\n",
       "      <td>5</td>\n",
       "      <td>13</td>\n",
       "      <td>39</td>\n",
       "      <td>85</td>\n",
       "    </tr>\n",
       "    <tr>\n",
       "      <th>12</th>\n",
       "      <td>85</td>\n",
       "      <td>661</td>\n",
       "      <td>5417</td>\n",
       "      <td>1331</td>\n",
       "      <td>243</td>\n",
       "      <td>21</td>\n",
       "      <td>176</td>\n",
       "      <td>435</td>\n",
       "      <td>1150</td>\n",
       "      <td>52</td>\n",
       "      <td>675</td>\n",
       "      <td>630</td>\n",
       "      <td>3.94</td>\n",
       "      <td>2</td>\n",
       "      <td>12</td>\n",
       "      <td>46</td>\n",
       "      <td>93</td>\n",
       "    </tr>\n",
       "    <tr>\n",
       "      <th>26</th>\n",
       "      <td>84</td>\n",
       "      <td>696</td>\n",
       "      <td>5565</td>\n",
       "      <td>1486</td>\n",
       "      <td>288</td>\n",
       "      <td>39</td>\n",
       "      <td>136</td>\n",
       "      <td>457</td>\n",
       "      <td>1159</td>\n",
       "      <td>93</td>\n",
       "      <td>627</td>\n",
       "      <td>597</td>\n",
       "      <td>3.72</td>\n",
       "      <td>7</td>\n",
       "      <td>18</td>\n",
       "      <td>41</td>\n",
       "      <td>78</td>\n",
       "    </tr>\n",
       "    <tr>\n",
       "      <th>21</th>\n",
       "      <td>83</td>\n",
       "      <td>703</td>\n",
       "      <td>5428</td>\n",
       "      <td>1363</td>\n",
       "      <td>265</td>\n",
       "      <td>13</td>\n",
       "      <td>177</td>\n",
       "      <td>539</td>\n",
       "      <td>1344</td>\n",
       "      <td>57</td>\n",
       "      <td>635</td>\n",
       "      <td>577</td>\n",
       "      <td>3.62</td>\n",
       "      <td>4</td>\n",
       "      <td>13</td>\n",
       "      <td>41</td>\n",
       "      <td>90</td>\n",
       "    </tr>\n",
       "    <tr>\n",
       "      <th>1</th>\n",
       "      <td>83</td>\n",
       "      <td>696</td>\n",
       "      <td>5467</td>\n",
       "      <td>1349</td>\n",
       "      <td>277</td>\n",
       "      <td>44</td>\n",
       "      <td>156</td>\n",
       "      <td>439</td>\n",
       "      <td>1264</td>\n",
       "      <td>70</td>\n",
       "      <td>700</td>\n",
       "      <td>653</td>\n",
       "      <td>4.07</td>\n",
       "      <td>2</td>\n",
       "      <td>12</td>\n",
       "      <td>45</td>\n",
       "      <td>86</td>\n",
       "    </tr>\n",
       "    <tr>\n",
       "      <th>2</th>\n",
       "      <td>81</td>\n",
       "      <td>669</td>\n",
       "      <td>5439</td>\n",
       "      <td>1395</td>\n",
       "      <td>303</td>\n",
       "      <td>29</td>\n",
       "      <td>141</td>\n",
       "      <td>533</td>\n",
       "      <td>1157</td>\n",
       "      <td>86</td>\n",
       "      <td>640</td>\n",
       "      <td>584</td>\n",
       "      <td>3.67</td>\n",
       "      <td>11</td>\n",
       "      <td>10</td>\n",
       "      <td>38</td>\n",
       "      <td>79</td>\n",
       "    </tr>\n",
       "    <tr>\n",
       "      <th>7</th>\n",
       "      <td>81</td>\n",
       "      <td>713</td>\n",
       "      <td>5485</td>\n",
       "      <td>1370</td>\n",
       "      <td>246</td>\n",
       "      <td>20</td>\n",
       "      <td>217</td>\n",
       "      <td>418</td>\n",
       "      <td>1331</td>\n",
       "      <td>44</td>\n",
       "      <td>693</td>\n",
       "      <td>646</td>\n",
       "      <td>4.05</td>\n",
       "      <td>0</td>\n",
       "      <td>10</td>\n",
       "      <td>43</td>\n",
       "      <td>77</td>\n",
       "    </tr>\n",
       "    <tr>\n",
       "      <th>8</th>\n",
       "      <td>80</td>\n",
       "      <td>644</td>\n",
       "      <td>5485</td>\n",
       "      <td>1383</td>\n",
       "      <td>278</td>\n",
       "      <td>32</td>\n",
       "      <td>167</td>\n",
       "      <td>436</td>\n",
       "      <td>1310</td>\n",
       "      <td>87</td>\n",
       "      <td>642</td>\n",
       "      <td>604</td>\n",
       "      <td>3.74</td>\n",
       "      <td>1</td>\n",
       "      <td>12</td>\n",
       "      <td>60</td>\n",
       "      <td>95</td>\n",
       "    </tr>\n",
       "    <tr>\n",
       "      <th>27</th>\n",
       "      <td>79</td>\n",
       "      <td>720</td>\n",
       "      <td>5649</td>\n",
       "      <td>1494</td>\n",
       "      <td>289</td>\n",
       "      <td>48</td>\n",
       "      <td>154</td>\n",
       "      <td>490</td>\n",
       "      <td>1312</td>\n",
       "      <td>132</td>\n",
       "      <td>713</td>\n",
       "      <td>659</td>\n",
       "      <td>4.04</td>\n",
       "      <td>1</td>\n",
       "      <td>12</td>\n",
       "      <td>44</td>\n",
       "      <td>86</td>\n",
       "    </tr>\n",
       "    <tr>\n",
       "      <th>9</th>\n",
       "      <td>78</td>\n",
       "      <td>748</td>\n",
       "      <td>5640</td>\n",
       "      <td>1495</td>\n",
       "      <td>294</td>\n",
       "      <td>33</td>\n",
       "      <td>161</td>\n",
       "      <td>478</td>\n",
       "      <td>1148</td>\n",
       "      <td>71</td>\n",
       "      <td>753</td>\n",
       "      <td>694</td>\n",
       "      <td>4.31</td>\n",
       "      <td>3</td>\n",
       "      <td>10</td>\n",
       "      <td>40</td>\n",
       "      <td>97</td>\n",
       "    </tr>\n",
       "    <tr>\n",
       "      <th>3</th>\n",
       "      <td>76</td>\n",
       "      <td>622</td>\n",
       "      <td>5533</td>\n",
       "      <td>1381</td>\n",
       "      <td>260</td>\n",
       "      <td>27</td>\n",
       "      <td>136</td>\n",
       "      <td>404</td>\n",
       "      <td>1231</td>\n",
       "      <td>68</td>\n",
       "      <td>701</td>\n",
       "      <td>643</td>\n",
       "      <td>3.98</td>\n",
       "      <td>7</td>\n",
       "      <td>9</td>\n",
       "      <td>37</td>\n",
       "      <td>101</td>\n",
       "    </tr>\n",
       "    <tr>\n",
       "      <th>13</th>\n",
       "      <td>76</td>\n",
       "      <td>656</td>\n",
       "      <td>5544</td>\n",
       "      <td>1379</td>\n",
       "      <td>262</td>\n",
       "      <td>22</td>\n",
       "      <td>198</td>\n",
       "      <td>478</td>\n",
       "      <td>1336</td>\n",
       "      <td>69</td>\n",
       "      <td>726</td>\n",
       "      <td>677</td>\n",
       "      <td>4.16</td>\n",
       "      <td>6</td>\n",
       "      <td>12</td>\n",
       "      <td>45</td>\n",
       "      <td>94</td>\n",
       "    </tr>\n",
       "    <tr>\n",
       "      <th>28</th>\n",
       "      <td>74</td>\n",
       "      <td>650</td>\n",
       "      <td>5457</td>\n",
       "      <td>1324</td>\n",
       "      <td>260</td>\n",
       "      <td>36</td>\n",
       "      <td>148</td>\n",
       "      <td>426</td>\n",
       "      <td>1327</td>\n",
       "      <td>82</td>\n",
       "      <td>731</td>\n",
       "      <td>655</td>\n",
       "      <td>4.09</td>\n",
       "      <td>1</td>\n",
       "      <td>6</td>\n",
       "      <td>41</td>\n",
       "      <td>92</td>\n",
       "    </tr>\n",
       "    <tr>\n",
       "      <th>4</th>\n",
       "      <td>74</td>\n",
       "      <td>689</td>\n",
       "      <td>5605</td>\n",
       "      <td>1515</td>\n",
       "      <td>289</td>\n",
       "      <td>49</td>\n",
       "      <td>151</td>\n",
       "      <td>455</td>\n",
       "      <td>1259</td>\n",
       "      <td>83</td>\n",
       "      <td>803</td>\n",
       "      <td>746</td>\n",
       "      <td>4.64</td>\n",
       "      <td>7</td>\n",
       "      <td>12</td>\n",
       "      <td>35</td>\n",
       "      <td>86</td>\n",
       "    </tr>\n",
       "    <tr>\n",
       "      <th>22</th>\n",
       "      <td>71</td>\n",
       "      <td>613</td>\n",
       "      <td>5463</td>\n",
       "      <td>1420</td>\n",
       "      <td>236</td>\n",
       "      <td>40</td>\n",
       "      <td>120</td>\n",
       "      <td>375</td>\n",
       "      <td>1150</td>\n",
       "      <td>112</td>\n",
       "      <td>678</td>\n",
       "      <td>638</td>\n",
       "      <td>4.02</td>\n",
       "      <td>0</td>\n",
       "      <td>12</td>\n",
       "      <td>35</td>\n",
       "      <td>77</td>\n",
       "    </tr>\n",
       "    <tr>\n",
       "      <th>18</th>\n",
       "      <td>68</td>\n",
       "      <td>655</td>\n",
       "      <td>5480</td>\n",
       "      <td>1378</td>\n",
       "      <td>274</td>\n",
       "      <td>34</td>\n",
       "      <td>145</td>\n",
       "      <td>412</td>\n",
       "      <td>1299</td>\n",
       "      <td>84</td>\n",
       "      <td>737</td>\n",
       "      <td>682</td>\n",
       "      <td>4.28</td>\n",
       "      <td>1</td>\n",
       "      <td>7</td>\n",
       "      <td>40</td>\n",
       "      <td>116</td>\n",
       "    </tr>\n",
       "    <tr>\n",
       "      <th>14</th>\n",
       "      <td>68</td>\n",
       "      <td>694</td>\n",
       "      <td>5600</td>\n",
       "      <td>1405</td>\n",
       "      <td>277</td>\n",
       "      <td>46</td>\n",
       "      <td>146</td>\n",
       "      <td>475</td>\n",
       "      <td>1119</td>\n",
       "      <td>78</td>\n",
       "      <td>729</td>\n",
       "      <td>664</td>\n",
       "      <td>4.14</td>\n",
       "      <td>5</td>\n",
       "      <td>15</td>\n",
       "      <td>28</td>\n",
       "      <td>126</td>\n",
       "    </tr>\n",
       "    <tr>\n",
       "      <th>29</th>\n",
       "      <td>68</td>\n",
       "      <td>737</td>\n",
       "      <td>5572</td>\n",
       "      <td>1479</td>\n",
       "      <td>274</td>\n",
       "      <td>49</td>\n",
       "      <td>186</td>\n",
       "      <td>388</td>\n",
       "      <td>1283</td>\n",
       "      <td>97</td>\n",
       "      <td>844</td>\n",
       "      <td>799</td>\n",
       "      <td>5.04</td>\n",
       "      <td>4</td>\n",
       "      <td>4</td>\n",
       "      <td>36</td>\n",
       "      <td>95</td>\n",
       "    </tr>\n",
       "    <tr>\n",
       "      <th>23</th>\n",
       "      <td>67</td>\n",
       "      <td>573</td>\n",
       "      <td>5420</td>\n",
       "      <td>1361</td>\n",
       "      <td>251</td>\n",
       "      <td>18</td>\n",
       "      <td>100</td>\n",
       "      <td>471</td>\n",
       "      <td>1107</td>\n",
       "      <td>69</td>\n",
       "      <td>760</td>\n",
       "      <td>698</td>\n",
       "      <td>4.41</td>\n",
       "      <td>3</td>\n",
       "      <td>10</td>\n",
       "      <td>44</td>\n",
       "      <td>90</td>\n",
       "    </tr>\n",
       "    <tr>\n",
       "      <th>19</th>\n",
       "      <td>64</td>\n",
       "      <td>640</td>\n",
       "      <td>5571</td>\n",
       "      <td>1382</td>\n",
       "      <td>257</td>\n",
       "      <td>27</td>\n",
       "      <td>167</td>\n",
       "      <td>496</td>\n",
       "      <td>1255</td>\n",
       "      <td>134</td>\n",
       "      <td>754</td>\n",
       "      <td>700</td>\n",
       "      <td>4.33</td>\n",
       "      <td>2</td>\n",
       "      <td>8</td>\n",
       "      <td>35</td>\n",
       "      <td>90</td>\n",
       "    </tr>\n",
       "    <tr>\n",
       "      <th>24</th>\n",
       "      <td>63</td>\n",
       "      <td>626</td>\n",
       "      <td>5529</td>\n",
       "      <td>1374</td>\n",
       "      <td>272</td>\n",
       "      <td>37</td>\n",
       "      <td>130</td>\n",
       "      <td>387</td>\n",
       "      <td>1274</td>\n",
       "      <td>88</td>\n",
       "      <td>809</td>\n",
       "      <td>749</td>\n",
       "      <td>4.69</td>\n",
       "      <td>1</td>\n",
       "      <td>7</td>\n",
       "      <td>35</td>\n",
       "      <td>117</td>\n",
       "    </tr>\n",
       "  </tbody>\n",
       "</table>\n",
       "</div>"
      ],
      "text/plain": [
       "      W    R    AB     H   2B  3B   HR   BB    SO   SB   RA   ER   ERA  CG  \\\n",
       "15  100  647  5484  1386  288  39  137  506  1267   69  525  478  2.94   1   \n",
       "16   98  697  5631  1462  292  27  140  461  1322   98  596  532  3.21   0   \n",
       "17   97  689  5491  1341  272  30  171  567  1518   95  608  546  3.36   6   \n",
       "0    95  724  5575  1497  300  42  139  383   973  104  641  601  3.73   2   \n",
       "5    93  891  5509  1480  308  17  232  570  1151   88  670  609  3.80   7   \n",
       "25   92  667  5385  1346  263  26  187  563  1258   59  595  553  3.44   6   \n",
       "20   90  683  5527  1351  295  17  177  488  1290   51  613  557  3.43   1   \n",
       "10   88  751  5511  1419  279  32  172  503  1233  101  733  680  4.24   5   \n",
       "6    87  764  5567  1397  272  19  212  554  1227   63  698  652  4.03   3   \n",
       "11   86  729  5459  1363  278  26  230  486  1392  121  618  572  3.57   5   \n",
       "12   85  661  5417  1331  243  21  176  435  1150   52  675  630  3.94   2   \n",
       "26   84  696  5565  1486  288  39  136  457  1159   93  627  597  3.72   7   \n",
       "21   83  703  5428  1363  265  13  177  539  1344   57  635  577  3.62   4   \n",
       "1    83  696  5467  1349  277  44  156  439  1264   70  700  653  4.07   2   \n",
       "2    81  669  5439  1395  303  29  141  533  1157   86  640  584  3.67  11   \n",
       "7    81  713  5485  1370  246  20  217  418  1331   44  693  646  4.05   0   \n",
       "8    80  644  5485  1383  278  32  167  436  1310   87  642  604  3.74   1   \n",
       "27   79  720  5649  1494  289  48  154  490  1312  132  713  659  4.04   1   \n",
       "9    78  748  5640  1495  294  33  161  478  1148   71  753  694  4.31   3   \n",
       "3    76  622  5533  1381  260  27  136  404  1231   68  701  643  3.98   7   \n",
       "13   76  656  5544  1379  262  22  198  478  1336   69  726  677  4.16   6   \n",
       "28   74  650  5457  1324  260  36  148  426  1327   82  731  655  4.09   1   \n",
       "4    74  689  5605  1515  289  49  151  455  1259   83  803  746  4.64   7   \n",
       "22   71  613  5463  1420  236  40  120  375  1150  112  678  638  4.02   0   \n",
       "18   68  655  5480  1378  274  34  145  412  1299   84  737  682  4.28   1   \n",
       "14   68  694  5600  1405  277  46  146  475  1119   78  729  664  4.14   5   \n",
       "29   68  737  5572  1479  274  49  186  388  1283   97  844  799  5.04   4   \n",
       "23   67  573  5420  1361  251  18  100  471  1107   69  760  698  4.41   3   \n",
       "19   64  640  5571  1382  257  27  167  496  1255  134  754  700  4.33   2   \n",
       "24   63  626  5529  1374  272  37  130  387  1274   88  809  749  4.69   1   \n",
       "\n",
       "    SHO  SV    E  \n",
       "15   15  62   96  \n",
       "16   13  54  122  \n",
       "17   21  48  111  \n",
       "0     8  56   88  \n",
       "5    10  34   88  \n",
       "25   21  47   75  \n",
       "20   14  50   88  \n",
       "10    9  45  119  \n",
       "6     4  48   93  \n",
       "11   13  39   85  \n",
       "12   12  46   93  \n",
       "26   18  41   78  \n",
       "21   13  41   90  \n",
       "1    12  45   86  \n",
       "2    10  38   79  \n",
       "7    10  43   77  \n",
       "8    12  60   95  \n",
       "27   12  44   86  \n",
       "9    10  40   97  \n",
       "3     9  37  101  \n",
       "13   12  45   94  \n",
       "28    6  41   92  \n",
       "4    12  35   86  \n",
       "22   12  35   77  \n",
       "18    7  40  116  \n",
       "14   15  28  126  \n",
       "29    4  36   95  \n",
       "23   10  44   90  \n",
       "19    8  35   90  \n",
       "24    7  35  117  "
      ]
     },
     "execution_count": 4,
     "metadata": {},
     "output_type": "execute_result"
    }
   ],
   "source": [
    "# sorting  whole data in ascending order with output column\n",
    "df.sort_values([\"W\"], \n",
    "                    axis=0,\n",
    "                    ascending=[False], \n",
    "                    inplace=True)\n",
    "df"
   ]
  },
  {
   "cell_type": "markdown",
   "id": "d8f60aa4",
   "metadata": {},
   "source": [
    "here we sort the whoe dataset for analysing which column is important"
   ]
  },
  {
   "cell_type": "code",
   "execution_count": 5,
   "id": "a5cda948",
   "metadata": {},
   "outputs": [
    {
     "data": {
      "text/plain": [
       "(30, 17)"
      ]
     },
     "execution_count": 5,
     "metadata": {},
     "output_type": "execute_result"
    }
   ],
   "source": [
    "#The data rows are total 30 and having columns 14\n",
    "df.shape"
   ]
  },
  {
   "cell_type": "code",
   "execution_count": 6,
   "id": "bb4866ba",
   "metadata": {},
   "outputs": [
    {
     "name": "stdout",
     "output_type": "stream",
     "text": [
      "<class 'pandas.core.frame.DataFrame'>\n",
      "Int64Index: 30 entries, 15 to 24\n",
      "Data columns (total 17 columns):\n",
      " #   Column  Non-Null Count  Dtype  \n",
      "---  ------  --------------  -----  \n",
      " 0   W       30 non-null     int64  \n",
      " 1   R       30 non-null     int64  \n",
      " 2   AB      30 non-null     int64  \n",
      " 3   H       30 non-null     int64  \n",
      " 4   2B      30 non-null     int64  \n",
      " 5   3B      30 non-null     int64  \n",
      " 6   HR      30 non-null     int64  \n",
      " 7   BB      30 non-null     int64  \n",
      " 8   SO      30 non-null     int64  \n",
      " 9   SB      30 non-null     int64  \n",
      " 10  RA      30 non-null     int64  \n",
      " 11  ER      30 non-null     int64  \n",
      " 12  ERA     30 non-null     float64\n",
      " 13  CG      30 non-null     int64  \n",
      " 14  SHO     30 non-null     int64  \n",
      " 15  SV      30 non-null     int64  \n",
      " 16  E       30 non-null     int64  \n",
      "dtypes: float64(1), int64(16)\n",
      "memory usage: 4.2 KB\n"
     ]
    }
   ],
   "source": [
    "df.info()"
   ]
  },
  {
   "cell_type": "markdown",
   "id": "a491b47e",
   "metadata": {},
   "source": [
    "Here we can see all columns are in Int and float which can learn by Machine hence no need to convert any column values"
   ]
  },
  {
   "cell_type": "code",
   "execution_count": 7,
   "id": "b7069313",
   "metadata": {},
   "outputs": [
    {
     "data": {
      "text/plain": [
       "array([100,  98,  97,  95,  93,  92,  90,  88,  87,  86,  85,  84,  83,\n",
       "        81,  80,  79,  78,  76,  74,  71,  68,  67,  64,  63], dtype=int64)"
      ]
     },
     "execution_count": 7,
     "metadata": {},
     "output_type": "execute_result"
    }
   ],
   "source": [
    "df.W.unique()"
   ]
  },
  {
   "cell_type": "markdown",
   "id": "d347a33c",
   "metadata": {},
   "source": [
    "as we can see the output values are in increment in nature hence we are using Linear Regreesion,it is the best assumption is Linear regression can work well."
   ]
  },
  {
   "cell_type": "markdown",
   "id": "28eb876e",
   "metadata": {},
   "source": [
    "# EDA:Exploratory Data Analysis"
   ]
  },
  {
   "cell_type": "code",
   "execution_count": 9,
   "id": "ef26db9c",
   "metadata": {},
   "outputs": [
    {
     "data": {
      "text/html": [
       "<div>\n",
       "<style scoped>\n",
       "    .dataframe tbody tr th:only-of-type {\n",
       "        vertical-align: middle;\n",
       "    }\n",
       "\n",
       "    .dataframe tbody tr th {\n",
       "        vertical-align: top;\n",
       "    }\n",
       "\n",
       "    .dataframe thead th {\n",
       "        text-align: right;\n",
       "    }\n",
       "</style>\n",
       "<table border=\"1\" class=\"dataframe\">\n",
       "  <thead>\n",
       "    <tr style=\"text-align: right;\">\n",
       "      <th></th>\n",
       "      <th>W</th>\n",
       "      <th>R</th>\n",
       "      <th>AB</th>\n",
       "      <th>H</th>\n",
       "      <th>2B</th>\n",
       "      <th>3B</th>\n",
       "      <th>HR</th>\n",
       "      <th>BB</th>\n",
       "      <th>SO</th>\n",
       "      <th>SB</th>\n",
       "      <th>RA</th>\n",
       "      <th>ER</th>\n",
       "      <th>ERA</th>\n",
       "      <th>CG</th>\n",
       "      <th>SHO</th>\n",
       "      <th>SV</th>\n",
       "      <th>E</th>\n",
       "    </tr>\n",
       "  </thead>\n",
       "  <tbody>\n",
       "    <tr>\n",
       "      <th>count</th>\n",
       "      <td>30.000000</td>\n",
       "      <td>30.000000</td>\n",
       "      <td>30.000000</td>\n",
       "      <td>30.000000</td>\n",
       "      <td>30.000000</td>\n",
       "      <td>30.000000</td>\n",
       "      <td>30.000000</td>\n",
       "      <td>30.000000</td>\n",
       "      <td>30.00000</td>\n",
       "      <td>30.000000</td>\n",
       "      <td>30.000000</td>\n",
       "      <td>30.000000</td>\n",
       "      <td>30.000000</td>\n",
       "      <td>30.000000</td>\n",
       "      <td>30.000000</td>\n",
       "      <td>30.000000</td>\n",
       "      <td>30.000000</td>\n",
       "    </tr>\n",
       "    <tr>\n",
       "      <th>mean</th>\n",
       "      <td>80.966667</td>\n",
       "      <td>688.233333</td>\n",
       "      <td>5516.266667</td>\n",
       "      <td>1403.533333</td>\n",
       "      <td>274.733333</td>\n",
       "      <td>31.300000</td>\n",
       "      <td>163.633333</td>\n",
       "      <td>469.100000</td>\n",
       "      <td>1248.20000</td>\n",
       "      <td>83.500000</td>\n",
       "      <td>688.233333</td>\n",
       "      <td>635.833333</td>\n",
       "      <td>3.956333</td>\n",
       "      <td>3.466667</td>\n",
       "      <td>11.300000</td>\n",
       "      <td>43.066667</td>\n",
       "      <td>94.333333</td>\n",
       "    </tr>\n",
       "    <tr>\n",
       "      <th>std</th>\n",
       "      <td>10.453455</td>\n",
       "      <td>58.761754</td>\n",
       "      <td>70.467372</td>\n",
       "      <td>57.140923</td>\n",
       "      <td>18.095405</td>\n",
       "      <td>10.452355</td>\n",
       "      <td>31.823309</td>\n",
       "      <td>57.053725</td>\n",
       "      <td>103.75947</td>\n",
       "      <td>22.815225</td>\n",
       "      <td>72.108005</td>\n",
       "      <td>70.140786</td>\n",
       "      <td>0.454089</td>\n",
       "      <td>2.763473</td>\n",
       "      <td>4.120177</td>\n",
       "      <td>7.869335</td>\n",
       "      <td>13.958889</td>\n",
       "    </tr>\n",
       "    <tr>\n",
       "      <th>min</th>\n",
       "      <td>63.000000</td>\n",
       "      <td>573.000000</td>\n",
       "      <td>5385.000000</td>\n",
       "      <td>1324.000000</td>\n",
       "      <td>236.000000</td>\n",
       "      <td>13.000000</td>\n",
       "      <td>100.000000</td>\n",
       "      <td>375.000000</td>\n",
       "      <td>973.00000</td>\n",
       "      <td>44.000000</td>\n",
       "      <td>525.000000</td>\n",
       "      <td>478.000000</td>\n",
       "      <td>2.940000</td>\n",
       "      <td>0.000000</td>\n",
       "      <td>4.000000</td>\n",
       "      <td>28.000000</td>\n",
       "      <td>75.000000</td>\n",
       "    </tr>\n",
       "    <tr>\n",
       "      <th>25%</th>\n",
       "      <td>74.000000</td>\n",
       "      <td>651.250000</td>\n",
       "      <td>5464.000000</td>\n",
       "      <td>1363.000000</td>\n",
       "      <td>262.250000</td>\n",
       "      <td>23.000000</td>\n",
       "      <td>140.250000</td>\n",
       "      <td>428.250000</td>\n",
       "      <td>1157.50000</td>\n",
       "      <td>69.000000</td>\n",
       "      <td>636.250000</td>\n",
       "      <td>587.250000</td>\n",
       "      <td>3.682500</td>\n",
       "      <td>1.000000</td>\n",
       "      <td>9.000000</td>\n",
       "      <td>37.250000</td>\n",
       "      <td>86.000000</td>\n",
       "    </tr>\n",
       "    <tr>\n",
       "      <th>50%</th>\n",
       "      <td>81.000000</td>\n",
       "      <td>689.000000</td>\n",
       "      <td>5510.000000</td>\n",
       "      <td>1382.500000</td>\n",
       "      <td>275.500000</td>\n",
       "      <td>31.000000</td>\n",
       "      <td>158.500000</td>\n",
       "      <td>473.000000</td>\n",
       "      <td>1261.50000</td>\n",
       "      <td>83.500000</td>\n",
       "      <td>695.500000</td>\n",
       "      <td>644.500000</td>\n",
       "      <td>4.025000</td>\n",
       "      <td>3.000000</td>\n",
       "      <td>12.000000</td>\n",
       "      <td>42.000000</td>\n",
       "      <td>91.000000</td>\n",
       "    </tr>\n",
       "    <tr>\n",
       "      <th>75%</th>\n",
       "      <td>87.750000</td>\n",
       "      <td>718.250000</td>\n",
       "      <td>5570.000000</td>\n",
       "      <td>1451.500000</td>\n",
       "      <td>288.750000</td>\n",
       "      <td>39.000000</td>\n",
       "      <td>177.000000</td>\n",
       "      <td>501.250000</td>\n",
       "      <td>1311.50000</td>\n",
       "      <td>96.500000</td>\n",
       "      <td>732.500000</td>\n",
       "      <td>679.250000</td>\n",
       "      <td>4.220000</td>\n",
       "      <td>5.750000</td>\n",
       "      <td>13.000000</td>\n",
       "      <td>46.750000</td>\n",
       "      <td>96.750000</td>\n",
       "    </tr>\n",
       "    <tr>\n",
       "      <th>max</th>\n",
       "      <td>100.000000</td>\n",
       "      <td>891.000000</td>\n",
       "      <td>5649.000000</td>\n",
       "      <td>1515.000000</td>\n",
       "      <td>308.000000</td>\n",
       "      <td>49.000000</td>\n",
       "      <td>232.000000</td>\n",
       "      <td>570.000000</td>\n",
       "      <td>1518.00000</td>\n",
       "      <td>134.000000</td>\n",
       "      <td>844.000000</td>\n",
       "      <td>799.000000</td>\n",
       "      <td>5.040000</td>\n",
       "      <td>11.000000</td>\n",
       "      <td>21.000000</td>\n",
       "      <td>62.000000</td>\n",
       "      <td>126.000000</td>\n",
       "    </tr>\n",
       "  </tbody>\n",
       "</table>\n",
       "</div>"
      ],
      "text/plain": [
       "                W           R           AB            H          2B  \\\n",
       "count   30.000000   30.000000    30.000000    30.000000   30.000000   \n",
       "mean    80.966667  688.233333  5516.266667  1403.533333  274.733333   \n",
       "std     10.453455   58.761754    70.467372    57.140923   18.095405   \n",
       "min     63.000000  573.000000  5385.000000  1324.000000  236.000000   \n",
       "25%     74.000000  651.250000  5464.000000  1363.000000  262.250000   \n",
       "50%     81.000000  689.000000  5510.000000  1382.500000  275.500000   \n",
       "75%     87.750000  718.250000  5570.000000  1451.500000  288.750000   \n",
       "max    100.000000  891.000000  5649.000000  1515.000000  308.000000   \n",
       "\n",
       "              3B          HR          BB          SO          SB          RA  \\\n",
       "count  30.000000   30.000000   30.000000    30.00000   30.000000   30.000000   \n",
       "mean   31.300000  163.633333  469.100000  1248.20000   83.500000  688.233333   \n",
       "std    10.452355   31.823309   57.053725   103.75947   22.815225   72.108005   \n",
       "min    13.000000  100.000000  375.000000   973.00000   44.000000  525.000000   \n",
       "25%    23.000000  140.250000  428.250000  1157.50000   69.000000  636.250000   \n",
       "50%    31.000000  158.500000  473.000000  1261.50000   83.500000  695.500000   \n",
       "75%    39.000000  177.000000  501.250000  1311.50000   96.500000  732.500000   \n",
       "max    49.000000  232.000000  570.000000  1518.00000  134.000000  844.000000   \n",
       "\n",
       "               ER        ERA         CG        SHO         SV           E  \n",
       "count   30.000000  30.000000  30.000000  30.000000  30.000000   30.000000  \n",
       "mean   635.833333   3.956333   3.466667  11.300000  43.066667   94.333333  \n",
       "std     70.140786   0.454089   2.763473   4.120177   7.869335   13.958889  \n",
       "min    478.000000   2.940000   0.000000   4.000000  28.000000   75.000000  \n",
       "25%    587.250000   3.682500   1.000000   9.000000  37.250000   86.000000  \n",
       "50%    644.500000   4.025000   3.000000  12.000000  42.000000   91.000000  \n",
       "75%    679.250000   4.220000   5.750000  13.000000  46.750000   96.750000  \n",
       "max    799.000000   5.040000  11.000000  21.000000  62.000000  126.000000  "
      ]
     },
     "execution_count": 9,
     "metadata": {},
     "output_type": "execute_result"
    }
   ],
   "source": [
    "#checking the overall health of the dataset\n",
    "df.describe()"
   ]
  },
  {
   "cell_type": "markdown",
   "id": "c12687db",
   "metadata": {},
   "source": [
    "Obervation:\n",
    "    \n",
    "    -with Comparison in Mean and 50% (Mean>50% the skwness present ) and with \"Std dev\", we can see that data is highly skewed. hence it will required \"power transform\" technique to remove skewness.\n",
    "    \n",
    "    -here we can see in column AB,H,3B,HR,CG,SV almost in all the columns having high std dev.\n",
    "    \n",
    "    -only ERA column is not having skweness as std dev is under +-1.\n",
    "    \n",
    "    -Outliers: here very large gap in max and 75% that  is also high so possibilities of outliers.\n",
    "    "
   ]
  },
  {
   "cell_type": "markdown",
   "id": "90565aca",
   "metadata": {},
   "source": [
    "# Null values"
   ]
  },
  {
   "cell_type": "code",
   "execution_count": 10,
   "id": "8c2ed823",
   "metadata": {},
   "outputs": [
    {
     "data": {
      "text/plain": [
       "W      0\n",
       "R      0\n",
       "AB     0\n",
       "H      0\n",
       "2B     0\n",
       "3B     0\n",
       "HR     0\n",
       "BB     0\n",
       "SO     0\n",
       "SB     0\n",
       "RA     0\n",
       "ER     0\n",
       "ERA    0\n",
       "CG     0\n",
       "SHO    0\n",
       "SV     0\n",
       "E      0\n",
       "dtype: int64"
      ]
     },
     "execution_count": 10,
     "metadata": {},
     "output_type": "execute_result"
    }
   ],
   "source": [
    "#checking null values\n",
    "df.isnull().sum()"
   ]
  },
  {
   "cell_type": "markdown",
   "id": "55312357",
   "metadata": {},
   "source": [
    "The data is not Having any Null value"
   ]
  },
  {
   "cell_type": "code",
   "execution_count": 11,
   "id": "2c3d6d8d",
   "metadata": {},
   "outputs": [
    {
     "data": {
      "text/plain": [
       "<AxesSubplot:>"
      ]
     },
     "execution_count": 11,
     "metadata": {},
     "output_type": "execute_result"
    },
    {
     "data": {
      "image/png": "[encoded data removed]",
      "text/plain": [
       "<Figure size 432x288 with 2 Axes>"
      ]
     },
     "metadata": {
      "needs_background": "light"
     },
     "output_type": "display_data"
    }
   ],
   "source": [
    "#crosschecking onemore time \n",
    "sns.heatmap(df.isnull())"
   ]
  },
  {
   "cell_type": "markdown",
   "id": "95c28a9a",
   "metadata": {},
   "source": [
    "Hence using Heatmap also we can see Null values are not present."
   ]
  },
  {
   "cell_type": "markdown",
   "id": "575bd023",
   "metadata": {},
   "source": [
    "# Checking correlation of input columns with output column"
   ]
  },
  {
   "cell_type": "code",
   "execution_count": 12,
   "id": "c14e5f14",
   "metadata": {},
   "outputs": [
    {
     "data": {
      "image/png": "[encoded data removed]",
      "text/plain": [
       "<Figure size 1584x864 with 2 Axes>"
      ]
     },
     "metadata": {
      "needs_background": "light"
     },
     "output_type": "display_data"
    }
   ],
   "source": [
    "corr_mat=df.corr()\n",
    "\n",
    "plt.figure(figsize=[22,12])\n",
    "sns.heatmap(corr_mat,annot=True)\n",
    "plt.title(\"correlation Matrix\")\n",
    "plt.show()"
   ]
  },
  {
   "cell_type": "markdown",
   "id": "5b499324",
   "metadata": {},
   "source": [
    "R 2B HR BB SO SHO SV These columns are positively correlated with label "
   ]
  },
  {
   "cell_type": "markdown",
   "id": "d8a04473",
   "metadata": {},
   "source": [
    "Here we can see that column RA,ER and ERA are negatively correlated with output column W and hence we cleared there is multicollinearity problem exist  hence to predict well we will drop this columns"
   ]
  },
  {
   "cell_type": "markdown",
   "id": "59bbdb9d",
   "metadata": {},
   "source": [
    "# Dropping the Unwanted columns:"
   ]
  },
  {
   "cell_type": "code",
   "execution_count": null,
   "id": "af403dae",
   "metadata": {},
   "outputs": [],
   "source": [
    "df.drop(['RA','ERA','ER'],axis=1,inplace=True)\n",
    "df.shape"
   ]
  },
  {
   "cell_type": "code",
   "execution_count": 15,
   "id": "20eb0998",
   "metadata": {},
   "outputs": [
    {
     "data": {
      "image/png": "[encoded data removed]",
      "text/plain": [
       "<Figure size 1584x864 with 2 Axes>"
      ]
     },
     "metadata": {
      "needs_background": "light"
     },
     "output_type": "display_data"
    }
   ],
   "source": [
    "#checking correlationship again\n",
    "\n",
    "corr_mat=df.corr()#----------------> corelation function\n",
    "\n",
    "plt.figure(figsize=[22,12])#-------> figure size dimetions\n",
    "sns.heatmap(corr_mat,annot=True)#--> annot = true means will print values\n",
    "plt.title(\"correlation Matrix\")#---> title of the correlation\n",
    "plt.show()"
   ]
  },
  {
   "cell_type": "code",
   "execution_count": 18,
   "id": "2bec1d56",
   "metadata": {},
   "outputs": [
    {
     "data": {
      "text/plain": [
       "W      1.000000\n",
       "SV     0.666530\n",
       "BB     0.484342\n",
       "SHO    0.471805\n",
       "R      0.430751\n",
       "2B     0.427797\n",
       "HR     0.307407\n",
       "SO     0.111850\n",
       "CG     0.080533\n",
       "H      0.037612\n",
       "AB    -0.087947\n",
       "E     -0.089485\n",
       "SB    -0.157234\n",
       "3B    -0.251118\n",
       "Name: W, dtype: float64"
      ]
     },
     "execution_count": 18,
     "metadata": {},
     "output_type": "execute_result"
    }
   ],
   "source": [
    "#checking  seprately correlation with label columns \n",
    "corr_mat['W'].sort_values(ascending=False)"
   ]
  },
  {
   "cell_type": "markdown",
   "id": "3dc6f7c2",
   "metadata": {},
   "source": [
    "our correlaion is in the range of 1to-1"
   ]
  },
  {
   "cell_type": "markdown",
   "id": "9d1102df",
   "metadata": {},
   "source": [
    "# Checking Data for Individual Column"
   ]
  },
  {
   "cell_type": "code",
   "execution_count": 19,
   "id": "9dfd0f34",
   "metadata": {},
   "outputs": [
    {
     "data": {
      "image/png": "[encoded data removed]",
      "text/plain": [
       "<Figure size 432x288 with 1 Axes>"
      ]
     },
     "metadata": {
      "needs_background": "light"
     },
     "output_type": "display_data"
    }
   ],
   "source": [
    "df[\"R\"].hist(grid=False)\n",
    "plt.title(\"Baseball R\")\n",
    "plt.show()"
   ]
  },
  {
   "cell_type": "code",
   "execution_count": 20,
   "id": "f4e23587",
   "metadata": {},
   "outputs": [
    {
     "data": {
      "image/png": "[encoded data removed]",
      "text/plain": [
       "<Figure size 432x288 with 1 Axes>"
      ]
     },
     "metadata": {
      "needs_background": "light"
     },
     "output_type": "display_data"
    }
   ],
   "source": [
    "#AB column\n",
    "df[\"AB\"].hist(grid=False)\n",
    "plt.title(\"Baseball R\")\n",
    "plt.show()"
   ]
  },
  {
   "cell_type": "code",
   "execution_count": 21,
   "id": "4e74053c",
   "metadata": {},
   "outputs": [
    {
     "data": {
      "image/png": "[encoded data removed]",
      "text/plain": [
       "<Figure size 432x288 with 1 Axes>"
      ]
     },
     "metadata": {
      "needs_background": "light"
     },
     "output_type": "display_data"
    }
   ],
   "source": [
    "df[\"H\"].hist(grid=False)\n",
    "plt.title(\"Baseball R\")\n",
    "plt.show()"
   ]
  },
  {
   "cell_type": "code",
   "execution_count": 22,
   "id": "890c15f3",
   "metadata": {},
   "outputs": [
    {
     "data": {
      "image/png": "[encoded data removed]",
      "text/plain": [
       "<Figure size 432x288 with 1 Axes>"
      ]
     },
     "metadata": {
      "needs_background": "light"
     },
     "output_type": "display_data"
    }
   ],
   "source": [
    "df[\"2B\"].hist(grid=False)\n",
    "plt.title(\"Baseball R\")\n",
    "plt.show()"
   ]
  },
  {
   "cell_type": "code",
   "execution_count": 23,
   "id": "3de8489a",
   "metadata": {},
   "outputs": [
    {
     "data": {
      "image/png": "[encoded data removed]",
      "text/plain": [
       "<Figure size 432x288 with 1 Axes>"
      ]
     },
     "metadata": {
      "needs_background": "light"
     },
     "output_type": "display_data"
    }
   ],
   "source": [
    "df[\"3B\"].hist(grid=False)\n",
    "plt.title(\"Baseball R\")\n",
    "plt.show()"
   ]
  },
  {
   "cell_type": "code",
   "execution_count": 24,
   "id": "b6de66fc",
   "metadata": {},
   "outputs": [
    {
     "data": {
      "image/png": "[encoded data removed]",
      "text/plain": [
       "<Figure size 432x288 with 1 Axes>"
      ]
     },
     "metadata": {
      "needs_background": "light"
     },
     "output_type": "display_data"
    }
   ],
   "source": [
    "df[\"HR\"].hist(grid=False)\n",
    "plt.title(\"Baseball R\")\n",
    "plt.show()"
   ]
  },
  {
   "cell_type": "code",
   "execution_count": 25,
   "id": "6e6f8593",
   "metadata": {},
   "outputs": [
    {
     "data": {
      "image/png": "[encoded data removed]",
      "text/plain": [
       "<Figure size 432x288 with 1 Axes>"
      ]
     },
     "metadata": {
      "needs_background": "light"
     },
     "output_type": "display_data"
    }
   ],
   "source": [
    "df[\"BB\"].hist(grid=False)\n",
    "plt.title(\"Baseball R\")\n",
    "plt.show()"
   ]
  },
  {
   "cell_type": "code",
   "execution_count": 26,
   "id": "fb3f482e",
   "metadata": {},
   "outputs": [
    {
     "data": {
      "image/png": "[encoded data removed]",
      "text/plain": [
       "<Figure size 432x288 with 1 Axes>"
      ]
     },
     "metadata": {
      "needs_background": "light"
     },
     "output_type": "display_data"
    }
   ],
   "source": [
    "df[\"SO\"].hist(grid=False)\n",
    "plt.title(\"Baseball R\")\n",
    "plt.show()"
   ]
  },
  {
   "cell_type": "code",
   "execution_count": 27,
   "id": "b20925d7",
   "metadata": {},
   "outputs": [
    {
     "data": {
      "image/png": "[encoded data removed]",
      "text/plain": [
       "<Figure size 432x288 with 1 Axes>"
      ]
     },
     "metadata": {
      "needs_background": "light"
     },
     "output_type": "display_data"
    }
   ],
   "source": [
    "df[\"SB\"].hist(grid=False)\n",
    "plt.title(\"Baseball R\")\n",
    "plt.show()"
   ]
  },
  {
   "cell_type": "code",
   "execution_count": 28,
   "id": "8e2375d7",
   "metadata": {},
   "outputs": [
    {
     "data": {
      "image/png": "[encoded data removed]",
      "text/plain": [
       "<Figure size 432x288 with 1 Axes>"
      ]
     },
     "metadata": {
      "needs_background": "light"
     },
     "output_type": "display_data"
    }
   ],
   "source": [
    "df[\"CG\"].hist(grid=False)\n",
    "plt.title(\"Baseball R\")\n",
    "plt.show()"
   ]
  },
  {
   "cell_type": "code",
   "execution_count": 29,
   "id": "766c9240",
   "metadata": {},
   "outputs": [
    {
     "data": {
      "image/png": "[encoded data removed]",
      "text/plain": [
       "<Figure size 432x288 with 1 Axes>"
      ]
     },
     "metadata": {
      "needs_background": "light"
     },
     "output_type": "display_data"
    }
   ],
   "source": [
    "df[\"SHO\"].hist(grid=False)\n",
    "plt.title(\"Baseball R\")\n",
    "plt.show()"
   ]
  },
  {
   "cell_type": "code",
   "execution_count": 30,
   "id": "58816dca",
   "metadata": {},
   "outputs": [
    {
     "data": {
      "image/png": "[encoded data removed]",
      "text/plain": [
       "<Figure size 432x288 with 1 Axes>"
      ]
     },
     "metadata": {
      "needs_background": "light"
     },
     "output_type": "display_data"
    }
   ],
   "source": [
    "df[\"SV\"].hist(grid=False)\n",
    "plt.title(\"Baseball R\")\n",
    "plt.show()"
   ]
  },
  {
   "cell_type": "code",
   "execution_count": 31,
   "id": "7af42c46",
   "metadata": {},
   "outputs": [
    {
     "data": {
      "image/png": "[encoded data removed]",
      "text/plain": [
       "<Figure size 432x288 with 1 Axes>"
      ]
     },
     "metadata": {
      "needs_background": "light"
     },
     "output_type": "display_data"
    }
   ],
   "source": [
    "df[\"E\"].hist(grid=False)\n",
    "plt.title(\"Baseball R\")\n",
    "plt.show()"
   ]
  },
  {
   "cell_type": "markdown",
   "id": "c8677552",
   "metadata": {},
   "source": [
    "# Checking Outliers by boxplot"
   ]
  },
  {
   "cell_type": "code",
   "execution_count": 32,
   "id": "b057f67d",
   "metadata": {},
   "outputs": [
    {
     "data": {
      "image/png": "[encoded data removed]",
      "text/plain": [
       "<Figure size 1584x1080 with 14 Axes>"
      ]
     },
     "metadata": {},
     "output_type": "display_data"
    }
   ],
   "source": [
    "\n",
    "plt.figure(figsize=(22,15),facecolor='gray')\n",
    "plotnumber=1\n",
    "\n",
    "for column in df:\n",
    "    if plotnumber<=15:\n",
    "        ax=plt.subplot(3,5,plotnumber)\n",
    "        plt.boxplot(df[column])\n",
    "        plt.xlabel(column)\n",
    "        \n",
    "    plotnumber+=1\n",
    "plt.show()"
   ]
  },
  {
   "cell_type": "markdown",
   "id": "073709ee",
   "metadata": {},
   "source": [
    "we cn see SV, SHO,E,R columns are having Outliers hence we will check with percentile for those columns"
   ]
  },
  {
   "cell_type": "markdown",
   "id": "0a173ad3",
   "metadata": {},
   "source": [
    "# checking outliers by percentile method"
   ]
  },
  {
   "cell_type": "code",
   "execution_count": 34,
   "id": "927df85c",
   "metadata": {},
   "outputs": [
    {
     "data": {
      "text/plain": [
       "0.0    28.0\n",
       "0.1    35.0\n",
       "0.2    35.8\n",
       "0.3    38.7\n",
       "0.4    40.6\n",
       "0.5    42.0\n",
       "0.6    44.4\n",
       "0.7    45.3\n",
       "0.8    48.0\n",
       "0.9    54.2\n",
       "1.0    62.0\n",
       "Name: SV, dtype: float64"
      ]
     },
     "execution_count": 34,
     "metadata": {},
     "output_type": "execute_result"
    }
   ],
   "source": [
    "df['SV'].quantile([0,0.1,0.2,0.3,0.4,0.5,0.6,0.7,0.8,0.9,1]) \n"
   ]
  },
  {
   "cell_type": "markdown",
   "id": "161fd1cb",
   "metadata": {},
   "source": [
    "can see every percentile having Avg diff is 3 to 4 but 9th and 10th having diff almost 8. hence outlier present"
   ]
  },
  {
   "cell_type": "code",
   "execution_count": 35,
   "id": "fad48bac",
   "metadata": {},
   "outputs": [
    {
     "data": {
      "text/plain": [
       "0.0     4.0\n",
       "0.1     6.9\n",
       "0.2     8.0\n",
       "0.3     9.7\n",
       "0.4    10.0\n",
       "0.5    12.0\n",
       "0.6    12.0\n",
       "0.7    12.3\n",
       "0.8    13.2\n",
       "0.9    15.3\n",
       "1.0    21.0\n",
       "Name: SHO, dtype: float64"
      ]
     },
     "execution_count": 35,
     "metadata": {},
     "output_type": "execute_result"
    }
   ],
   "source": [
    "df['SHO'].quantile([0,0.1,0.2,0.3,0.4,0.5,0.6,0.7,0.8,0.9,1]) \n"
   ]
  },
  {
   "cell_type": "markdown",
   "id": "ce220e39",
   "metadata": {},
   "source": [
    "Can see every percentile having Avg diff is 1 to 2 but 9th and 10th having diff almost 6. hence outlier present"
   ]
  },
  {
   "cell_type": "code",
   "execution_count": 36,
   "id": "9ebc1b29",
   "metadata": {},
   "outputs": [
    {
     "data": {
      "text/plain": [
       "0.0     75.0\n",
       "0.1     77.9\n",
       "0.2     85.8\n",
       "0.3     87.4\n",
       "0.4     89.2\n",
       "0.5     91.0\n",
       "0.6     93.4\n",
       "0.7     95.3\n",
       "0.8    103.0\n",
       "0.9    117.2\n",
       "1.0    126.0\n",
       "Name: E, dtype: float64"
      ]
     },
     "execution_count": 36,
     "metadata": {},
     "output_type": "execute_result"
    }
   ],
   "source": [
    "df['E'].quantile([0,0.1,0.2,0.3,0.4,0.5,0.6,0.7,0.8,0.9,1]) \n"
   ]
  },
  {
   "cell_type": "markdown",
   "id": "2a1f1b28",
   "metadata": {},
   "source": [
    "Can see every percentile having Avg diff is 3  but 9th and 10th having diff almost 9. hence outlier present"
   ]
  },
  {
   "cell_type": "code",
   "execution_count": 37,
   "id": "e0c56cd1",
   "metadata": {},
   "outputs": [
    {
     "data": {
      "text/plain": [
       "0.0    573.0\n",
       "0.1    625.6\n",
       "0.2    646.4\n",
       "0.3    655.7\n",
       "0.4    668.2\n",
       "0.5    689.0\n",
       "0.6    696.0\n",
       "0.7    706.0\n",
       "0.8    725.0\n",
       "0.9    748.3\n",
       "1.0    891.0\n",
       "Name: R, dtype: float64"
      ]
     },
     "execution_count": 37,
     "metadata": {},
     "output_type": "execute_result"
    }
   ],
   "source": [
    "df['R'].quantile([0,0.1,0.2,0.3,0.4,0.5,0.6,0.7,0.8,0.9,1])"
   ]
  },
  {
   "cell_type": "markdown",
   "id": "b3ee449c",
   "metadata": {},
   "source": [
    "Can see every percentile having Avg diff is 9 to 22 but 9th and 10th having diff almost 142. hence outlier present"
   ]
  },
  {
   "cell_type": "markdown",
   "id": "1b23ee2a",
   "metadata": {},
   "source": [
    "# Removing Outliers using Z score Method"
   ]
  },
  {
   "cell_type": "code",
   "execution_count": 39,
   "id": "9e940193",
   "metadata": {},
   "outputs": [
    {
     "data": {
      "text/plain": [
       "(30, 14)"
      ]
     },
     "execution_count": 39,
     "metadata": {},
     "output_type": "execute_result"
    }
   ],
   "source": [
    "from scipy.stats import zscore\n",
    "import numpy as np\n",
    "z=np.abs(zscore(df))# abs will make it positive all values\n",
    "z.shape"
   ]
  },
  {
   "cell_type": "code",
   "execution_count": 40,
   "id": "9367990f",
   "metadata": {},
   "outputs": [
    {
     "name": "stdout",
     "output_type": "stream",
     "text": [
      "(array([4], dtype=int64), array([1], dtype=int64))\n"
     ]
    }
   ],
   "source": [
    "thresold=3\n",
    "print(np.where(z>3))"
   ]
  },
  {
   "cell_type": "markdown",
   "id": "a4238d19",
   "metadata": {},
   "source": [
    "with Z - Score method we found only one outlier which we are going to remove and will store it in df_new variable"
   ]
  },
  {
   "cell_type": "code",
   "execution_count": 41,
   "id": "a1a3c99c",
   "metadata": {},
   "outputs": [],
   "source": [
    "df_new=df[(z<3).all(axis=1)]"
   ]
  },
  {
   "cell_type": "code",
   "execution_count": 42,
   "id": "81a3a48e",
   "metadata": {},
   "outputs": [
    {
     "data": {
      "text/plain": [
       "(29, 14)"
      ]
     },
     "execution_count": 42,
     "metadata": {},
     "output_type": "execute_result"
    }
   ],
   "source": [
    "df_new.shape"
   ]
  },
  {
   "cell_type": "code",
   "execution_count": 43,
   "id": "7e8de634",
   "metadata": {},
   "outputs": [
    {
     "data": {
      "text/html": [
       "<div>\n",
       "<style scoped>\n",
       "    .dataframe tbody tr th:only-of-type {\n",
       "        vertical-align: middle;\n",
       "    }\n",
       "\n",
       "    .dataframe tbody tr th {\n",
       "        vertical-align: top;\n",
       "    }\n",
       "\n",
       "    .dataframe thead th {\n",
       "        text-align: right;\n",
       "    }\n",
       "</style>\n",
       "<table border=\"1\" class=\"dataframe\">\n",
       "  <thead>\n",
       "    <tr style=\"text-align: right;\">\n",
       "      <th></th>\n",
       "      <th>W</th>\n",
       "      <th>R</th>\n",
       "      <th>AB</th>\n",
       "      <th>H</th>\n",
       "      <th>2B</th>\n",
       "      <th>3B</th>\n",
       "      <th>HR</th>\n",
       "      <th>BB</th>\n",
       "      <th>SO</th>\n",
       "      <th>SB</th>\n",
       "      <th>CG</th>\n",
       "      <th>SHO</th>\n",
       "      <th>SV</th>\n",
       "      <th>E</th>\n",
       "    </tr>\n",
       "  </thead>\n",
       "  <tbody>\n",
       "    <tr>\n",
       "      <th>15</th>\n",
       "      <td>100</td>\n",
       "      <td>647</td>\n",
       "      <td>5484</td>\n",
       "      <td>1386</td>\n",
       "      <td>288</td>\n",
       "      <td>39</td>\n",
       "      <td>137</td>\n",
       "      <td>506</td>\n",
       "      <td>1267</td>\n",
       "      <td>69</td>\n",
       "      <td>1</td>\n",
       "      <td>15</td>\n",
       "      <td>62</td>\n",
       "      <td>96</td>\n",
       "    </tr>\n",
       "    <tr>\n",
       "      <th>16</th>\n",
       "      <td>98</td>\n",
       "      <td>697</td>\n",
       "      <td>5631</td>\n",
       "      <td>1462</td>\n",
       "      <td>292</td>\n",
       "      <td>27</td>\n",
       "      <td>140</td>\n",
       "      <td>461</td>\n",
       "      <td>1322</td>\n",
       "      <td>98</td>\n",
       "      <td>0</td>\n",
       "      <td>13</td>\n",
       "      <td>54</td>\n",
       "      <td>122</td>\n",
       "    </tr>\n",
       "    <tr>\n",
       "      <th>17</th>\n",
       "      <td>97</td>\n",
       "      <td>689</td>\n",
       "      <td>5491</td>\n",
       "      <td>1341</td>\n",
       "      <td>272</td>\n",
       "      <td>30</td>\n",
       "      <td>171</td>\n",
       "      <td>567</td>\n",
       "      <td>1518</td>\n",
       "      <td>95</td>\n",
       "      <td>6</td>\n",
       "      <td>21</td>\n",
       "      <td>48</td>\n",
       "      <td>111</td>\n",
       "    </tr>\n",
       "    <tr>\n",
       "      <th>0</th>\n",
       "      <td>95</td>\n",
       "      <td>724</td>\n",
       "      <td>5575</td>\n",
       "      <td>1497</td>\n",
       "      <td>300</td>\n",
       "      <td>42</td>\n",
       "      <td>139</td>\n",
       "      <td>383</td>\n",
       "      <td>973</td>\n",
       "      <td>104</td>\n",
       "      <td>2</td>\n",
       "      <td>8</td>\n",
       "      <td>56</td>\n",
       "      <td>88</td>\n",
       "    </tr>\n",
       "    <tr>\n",
       "      <th>25</th>\n",
       "      <td>92</td>\n",
       "      <td>667</td>\n",
       "      <td>5385</td>\n",
       "      <td>1346</td>\n",
       "      <td>263</td>\n",
       "      <td>26</td>\n",
       "      <td>187</td>\n",
       "      <td>563</td>\n",
       "      <td>1258</td>\n",
       "      <td>59</td>\n",
       "      <td>6</td>\n",
       "      <td>21</td>\n",
       "      <td>47</td>\n",
       "      <td>75</td>\n",
       "    </tr>\n",
       "    <tr>\n",
       "      <th>20</th>\n",
       "      <td>90</td>\n",
       "      <td>683</td>\n",
       "      <td>5527</td>\n",
       "      <td>1351</td>\n",
       "      <td>295</td>\n",
       "      <td>17</td>\n",
       "      <td>177</td>\n",
       "      <td>488</td>\n",
       "      <td>1290</td>\n",
       "      <td>51</td>\n",
       "      <td>1</td>\n",
       "      <td>14</td>\n",
       "      <td>50</td>\n",
       "      <td>88</td>\n",
       "    </tr>\n",
       "    <tr>\n",
       "      <th>10</th>\n",
       "      <td>88</td>\n",
       "      <td>751</td>\n",
       "      <td>5511</td>\n",
       "      <td>1419</td>\n",
       "      <td>279</td>\n",
       "      <td>32</td>\n",
       "      <td>172</td>\n",
       "      <td>503</td>\n",
       "      <td>1233</td>\n",
       "      <td>101</td>\n",
       "      <td>5</td>\n",
       "      <td>9</td>\n",
       "      <td>45</td>\n",
       "      <td>119</td>\n",
       "    </tr>\n",
       "    <tr>\n",
       "      <th>6</th>\n",
       "      <td>87</td>\n",
       "      <td>764</td>\n",
       "      <td>5567</td>\n",
       "      <td>1397</td>\n",
       "      <td>272</td>\n",
       "      <td>19</td>\n",
       "      <td>212</td>\n",
       "      <td>554</td>\n",
       "      <td>1227</td>\n",
       "      <td>63</td>\n",
       "      <td>3</td>\n",
       "      <td>4</td>\n",
       "      <td>48</td>\n",
       "      <td>93</td>\n",
       "    </tr>\n",
       "    <tr>\n",
       "      <th>11</th>\n",
       "      <td>86</td>\n",
       "      <td>729</td>\n",
       "      <td>5459</td>\n",
       "      <td>1363</td>\n",
       "      <td>278</td>\n",
       "      <td>26</td>\n",
       "      <td>230</td>\n",
       "      <td>486</td>\n",
       "      <td>1392</td>\n",
       "      <td>121</td>\n",
       "      <td>5</td>\n",
       "      <td>13</td>\n",
       "      <td>39</td>\n",
       "      <td>85</td>\n",
       "    </tr>\n",
       "    <tr>\n",
       "      <th>12</th>\n",
       "      <td>85</td>\n",
       "      <td>661</td>\n",
       "      <td>5417</td>\n",
       "      <td>1331</td>\n",
       "      <td>243</td>\n",
       "      <td>21</td>\n",
       "      <td>176</td>\n",
       "      <td>435</td>\n",
       "      <td>1150</td>\n",
       "      <td>52</td>\n",
       "      <td>2</td>\n",
       "      <td>12</td>\n",
       "      <td>46</td>\n",
       "      <td>93</td>\n",
       "    </tr>\n",
       "    <tr>\n",
       "      <th>26</th>\n",
       "      <td>84</td>\n",
       "      <td>696</td>\n",
       "      <td>5565</td>\n",
       "      <td>1486</td>\n",
       "      <td>288</td>\n",
       "      <td>39</td>\n",
       "      <td>136</td>\n",
       "      <td>457</td>\n",
       "      <td>1159</td>\n",
       "      <td>93</td>\n",
       "      <td>7</td>\n",
       "      <td>18</td>\n",
       "      <td>41</td>\n",
       "      <td>78</td>\n",
       "    </tr>\n",
       "    <tr>\n",
       "      <th>21</th>\n",
       "      <td>83</td>\n",
       "      <td>703</td>\n",
       "      <td>5428</td>\n",
       "      <td>1363</td>\n",
       "      <td>265</td>\n",
       "      <td>13</td>\n",
       "      <td>177</td>\n",
       "      <td>539</td>\n",
       "      <td>1344</td>\n",
       "      <td>57</td>\n",
       "      <td>4</td>\n",
       "      <td>13</td>\n",
       "      <td>41</td>\n",
       "      <td>90</td>\n",
       "    </tr>\n",
       "    <tr>\n",
       "      <th>1</th>\n",
       "      <td>83</td>\n",
       "      <td>696</td>\n",
       "      <td>5467</td>\n",
       "      <td>1349</td>\n",
       "      <td>277</td>\n",
       "      <td>44</td>\n",
       "      <td>156</td>\n",
       "      <td>439</td>\n",
       "      <td>1264</td>\n",
       "      <td>70</td>\n",
       "      <td>2</td>\n",
       "      <td>12</td>\n",
       "      <td>45</td>\n",
       "      <td>86</td>\n",
       "    </tr>\n",
       "    <tr>\n",
       "      <th>2</th>\n",
       "      <td>81</td>\n",
       "      <td>669</td>\n",
       "      <td>5439</td>\n",
       "      <td>1395</td>\n",
       "      <td>303</td>\n",
       "      <td>29</td>\n",
       "      <td>141</td>\n",
       "      <td>533</td>\n",
       "      <td>1157</td>\n",
       "      <td>86</td>\n",
       "      <td>11</td>\n",
       "      <td>10</td>\n",
       "      <td>38</td>\n",
       "      <td>79</td>\n",
       "    </tr>\n",
       "    <tr>\n",
       "      <th>7</th>\n",
       "      <td>81</td>\n",
       "      <td>713</td>\n",
       "      <td>5485</td>\n",
       "      <td>1370</td>\n",
       "      <td>246</td>\n",
       "      <td>20</td>\n",
       "      <td>217</td>\n",
       "      <td>418</td>\n",
       "      <td>1331</td>\n",
       "      <td>44</td>\n",
       "      <td>0</td>\n",
       "      <td>10</td>\n",
       "      <td>43</td>\n",
       "      <td>77</td>\n",
       "    </tr>\n",
       "    <tr>\n",
       "      <th>8</th>\n",
       "      <td>80</td>\n",
       "      <td>644</td>\n",
       "      <td>5485</td>\n",
       "      <td>1383</td>\n",
       "      <td>278</td>\n",
       "      <td>32</td>\n",
       "      <td>167</td>\n",
       "      <td>436</td>\n",
       "      <td>1310</td>\n",
       "      <td>87</td>\n",
       "      <td>1</td>\n",
       "      <td>12</td>\n",
       "      <td>60</td>\n",
       "      <td>95</td>\n",
       "    </tr>\n",
       "    <tr>\n",
       "      <th>27</th>\n",
       "      <td>79</td>\n",
       "      <td>720</td>\n",
       "      <td>5649</td>\n",
       "      <td>1494</td>\n",
       "      <td>289</td>\n",
       "      <td>48</td>\n",
       "      <td>154</td>\n",
       "      <td>490</td>\n",
       "      <td>1312</td>\n",
       "      <td>132</td>\n",
       "      <td>1</td>\n",
       "      <td>12</td>\n",
       "      <td>44</td>\n",
       "      <td>86</td>\n",
       "    </tr>\n",
       "    <tr>\n",
       "      <th>9</th>\n",
       "      <td>78</td>\n",
       "      <td>748</td>\n",
       "      <td>5640</td>\n",
       "      <td>1495</td>\n",
       "      <td>294</td>\n",
       "      <td>33</td>\n",
       "      <td>161</td>\n",
       "      <td>478</td>\n",
       "      <td>1148</td>\n",
       "      <td>71</td>\n",
       "      <td>3</td>\n",
       "      <td>10</td>\n",
       "      <td>40</td>\n",
       "      <td>97</td>\n",
       "    </tr>\n",
       "    <tr>\n",
       "      <th>3</th>\n",
       "      <td>76</td>\n",
       "      <td>622</td>\n",
       "      <td>5533</td>\n",
       "      <td>1381</td>\n",
       "      <td>260</td>\n",
       "      <td>27</td>\n",
       "      <td>136</td>\n",
       "      <td>404</td>\n",
       "      <td>1231</td>\n",
       "      <td>68</td>\n",
       "      <td>7</td>\n",
       "      <td>9</td>\n",
       "      <td>37</td>\n",
       "      <td>101</td>\n",
       "    </tr>\n",
       "    <tr>\n",
       "      <th>13</th>\n",
       "      <td>76</td>\n",
       "      <td>656</td>\n",
       "      <td>5544</td>\n",
       "      <td>1379</td>\n",
       "      <td>262</td>\n",
       "      <td>22</td>\n",
       "      <td>198</td>\n",
       "      <td>478</td>\n",
       "      <td>1336</td>\n",
       "      <td>69</td>\n",
       "      <td>6</td>\n",
       "      <td>12</td>\n",
       "      <td>45</td>\n",
       "      <td>94</td>\n",
       "    </tr>\n",
       "    <tr>\n",
       "      <th>28</th>\n",
       "      <td>74</td>\n",
       "      <td>650</td>\n",
       "      <td>5457</td>\n",
       "      <td>1324</td>\n",
       "      <td>260</td>\n",
       "      <td>36</td>\n",
       "      <td>148</td>\n",
       "      <td>426</td>\n",
       "      <td>1327</td>\n",
       "      <td>82</td>\n",
       "      <td>1</td>\n",
       "      <td>6</td>\n",
       "      <td>41</td>\n",
       "      <td>92</td>\n",
       "    </tr>\n",
       "    <tr>\n",
       "      <th>4</th>\n",
       "      <td>74</td>\n",
       "      <td>689</td>\n",
       "      <td>5605</td>\n",
       "      <td>1515</td>\n",
       "      <td>289</td>\n",
       "      <td>49</td>\n",
       "      <td>151</td>\n",
       "      <td>455</td>\n",
       "      <td>1259</td>\n",
       "      <td>83</td>\n",
       "      <td>7</td>\n",
       "      <td>12</td>\n",
       "      <td>35</td>\n",
       "      <td>86</td>\n",
       "    </tr>\n",
       "    <tr>\n",
       "      <th>22</th>\n",
       "      <td>71</td>\n",
       "      <td>613</td>\n",
       "      <td>5463</td>\n",
       "      <td>1420</td>\n",
       "      <td>236</td>\n",
       "      <td>40</td>\n",
       "      <td>120</td>\n",
       "      <td>375</td>\n",
       "      <td>1150</td>\n",
       "      <td>112</td>\n",
       "      <td>0</td>\n",
       "      <td>12</td>\n",
       "      <td>35</td>\n",
       "      <td>77</td>\n",
       "    </tr>\n",
       "    <tr>\n",
       "      <th>18</th>\n",
       "      <td>68</td>\n",
       "      <td>655</td>\n",
       "      <td>5480</td>\n",
       "      <td>1378</td>\n",
       "      <td>274</td>\n",
       "      <td>34</td>\n",
       "      <td>145</td>\n",
       "      <td>412</td>\n",
       "      <td>1299</td>\n",
       "      <td>84</td>\n",
       "      <td>1</td>\n",
       "      <td>7</td>\n",
       "      <td>40</td>\n",
       "      <td>116</td>\n",
       "    </tr>\n",
       "    <tr>\n",
       "      <th>14</th>\n",
       "      <td>68</td>\n",
       "      <td>694</td>\n",
       "      <td>5600</td>\n",
       "      <td>1405</td>\n",
       "      <td>277</td>\n",
       "      <td>46</td>\n",
       "      <td>146</td>\n",
       "      <td>475</td>\n",
       "      <td>1119</td>\n",
       "      <td>78</td>\n",
       "      <td>5</td>\n",
       "      <td>15</td>\n",
       "      <td>28</td>\n",
       "      <td>126</td>\n",
       "    </tr>\n",
       "    <tr>\n",
       "      <th>29</th>\n",
       "      <td>68</td>\n",
       "      <td>737</td>\n",
       "      <td>5572</td>\n",
       "      <td>1479</td>\n",
       "      <td>274</td>\n",
       "      <td>49</td>\n",
       "      <td>186</td>\n",
       "      <td>388</td>\n",
       "      <td>1283</td>\n",
       "      <td>97</td>\n",
       "      <td>4</td>\n",
       "      <td>4</td>\n",
       "      <td>36</td>\n",
       "      <td>95</td>\n",
       "    </tr>\n",
       "    <tr>\n",
       "      <th>23</th>\n",
       "      <td>67</td>\n",
       "      <td>573</td>\n",
       "      <td>5420</td>\n",
       "      <td>1361</td>\n",
       "      <td>251</td>\n",
       "      <td>18</td>\n",
       "      <td>100</td>\n",
       "      <td>471</td>\n",
       "      <td>1107</td>\n",
       "      <td>69</td>\n",
       "      <td>3</td>\n",
       "      <td>10</td>\n",
       "      <td>44</td>\n",
       "      <td>90</td>\n",
       "    </tr>\n",
       "    <tr>\n",
       "      <th>19</th>\n",
       "      <td>64</td>\n",
       "      <td>640</td>\n",
       "      <td>5571</td>\n",
       "      <td>1382</td>\n",
       "      <td>257</td>\n",
       "      <td>27</td>\n",
       "      <td>167</td>\n",
       "      <td>496</td>\n",
       "      <td>1255</td>\n",
       "      <td>134</td>\n",
       "      <td>2</td>\n",
       "      <td>8</td>\n",
       "      <td>35</td>\n",
       "      <td>90</td>\n",
       "    </tr>\n",
       "    <tr>\n",
       "      <th>24</th>\n",
       "      <td>63</td>\n",
       "      <td>626</td>\n",
       "      <td>5529</td>\n",
       "      <td>1374</td>\n",
       "      <td>272</td>\n",
       "      <td>37</td>\n",
       "      <td>130</td>\n",
       "      <td>387</td>\n",
       "      <td>1274</td>\n",
       "      <td>88</td>\n",
       "      <td>1</td>\n",
       "      <td>7</td>\n",
       "      <td>35</td>\n",
       "      <td>117</td>\n",
       "    </tr>\n",
       "  </tbody>\n",
       "</table>\n",
       "</div>"
      ],
      "text/plain": [
       "      W    R    AB     H   2B  3B   HR   BB    SO   SB  CG  SHO  SV    E\n",
       "15  100  647  5484  1386  288  39  137  506  1267   69   1   15  62   96\n",
       "16   98  697  5631  1462  292  27  140  461  1322   98   0   13  54  122\n",
       "17   97  689  5491  1341  272  30  171  567  1518   95   6   21  48  111\n",
       "0    95  724  5575  1497  300  42  139  383   973  104   2    8  56   88\n",
       "25   92  667  5385  1346  263  26  187  563  1258   59   6   21  47   75\n",
       "20   90  683  5527  1351  295  17  177  488  1290   51   1   14  50   88\n",
       "10   88  751  5511  1419  279  32  172  503  1233  101   5    9  45  119\n",
       "6    87  764  5567  1397  272  19  212  554  1227   63   3    4  48   93\n",
       "11   86  729  5459  1363  278  26  230  486  1392  121   5   13  39   85\n",
       "12   85  661  5417  1331  243  21  176  435  1150   52   2   12  46   93\n",
       "26   84  696  5565  1486  288  39  136  457  1159   93   7   18  41   78\n",
       "21   83  703  5428  1363  265  13  177  539  1344   57   4   13  41   90\n",
       "1    83  696  5467  1349  277  44  156  439  1264   70   2   12  45   86\n",
       "2    81  669  5439  1395  303  29  141  533  1157   86  11   10  38   79\n",
       "7    81  713  5485  1370  246  20  217  418  1331   44   0   10  43   77\n",
       "8    80  644  5485  1383  278  32  167  436  1310   87   1   12  60   95\n",
       "27   79  720  5649  1494  289  48  154  490  1312  132   1   12  44   86\n",
       "9    78  748  5640  1495  294  33  161  478  1148   71   3   10  40   97\n",
       "3    76  622  5533  1381  260  27  136  404  1231   68   7    9  37  101\n",
       "13   76  656  5544  1379  262  22  198  478  1336   69   6   12  45   94\n",
       "28   74  650  5457  1324  260  36  148  426  1327   82   1    6  41   92\n",
       "4    74  689  5605  1515  289  49  151  455  1259   83   7   12  35   86\n",
       "22   71  613  5463  1420  236  40  120  375  1150  112   0   12  35   77\n",
       "18   68  655  5480  1378  274  34  145  412  1299   84   1    7  40  116\n",
       "14   68  694  5600  1405  277  46  146  475  1119   78   5   15  28  126\n",
       "29   68  737  5572  1479  274  49  186  388  1283   97   4    4  36   95\n",
       "23   67  573  5420  1361  251  18  100  471  1107   69   3   10  44   90\n",
       "19   64  640  5571  1382  257  27  167  496  1255  134   2    8  35   90\n",
       "24   63  626  5529  1374  272  37  130  387  1274   88   1    7  35  117"
      ]
     },
     "execution_count": 43,
     "metadata": {},
     "output_type": "execute_result"
    }
   ],
   "source": [
    "df_new"
   ]
  },
  {
   "cell_type": "code",
   "execution_count": 44,
   "id": "62831908",
   "metadata": {},
   "outputs": [
    {
     "data": {
      "image/png": "[encoded data removed]",
      "text/plain": [
       "<Figure size 1584x1080 with 14 Axes>"
      ]
     },
     "metadata": {},
     "output_type": "display_data"
    }
   ],
   "source": [
    "#checking outliers after using zscore method\n",
    "plt.figure(figsize=(22,15),facecolor='pink')\n",
    "plotnumber=1\n",
    "\n",
    "for column in df_new:\n",
    "    if plotnumber<=15:\n",
    "        ax=plt.subplot(3,5,plotnumber)\n",
    "        plt.boxplot(df_new[column])\n",
    "        plt.xlabel(column)\n",
    "        \n",
    "    plotnumber+=1\n",
    "plt.show()"
   ]
  },
  {
   "cell_type": "markdown",
   "id": "e5bd41e1",
   "metadata": {},
   "source": [
    "Still we can see the outliers but can't remove outliers now as it is not recomended to use z score methode twice as it impacts the data loss"
   ]
  },
  {
   "cell_type": "markdown",
   "id": "422921f1",
   "metadata": {},
   "source": [
    "# checking the data distributions for skewness"
   ]
  },
  {
   "cell_type": "code",
   "execution_count": 45,
   "id": "218b2a2e",
   "metadata": {},
   "outputs": [
    {
     "data": {
      "image/png": "[encoded data removed]",
      "text/plain": [
       "<Figure size 1584x1080 with 14 Axes>"
      ]
     },
     "metadata": {},
     "output_type": "display_data"
    }
   ],
   "source": [
    "plt.figure(figsize=(22,15),facecolor='pink')\n",
    "plotnumber=1\n",
    "\n",
    "for column in df_new:\n",
    "    if plotnumber<=15:\n",
    "        ax=plt.subplot(3,5,plotnumber)\n",
    "        sns.distplot(df_new[column])\n",
    "        plt.xlabel(column)\n",
    "        \n",
    "    plotnumber+=1\n",
    "plt.show()"
   ]
  },
  {
   "cell_type": "code",
   "execution_count": 46,
   "id": "545e5242",
   "metadata": {},
   "outputs": [
    {
     "data": {
      "text/plain": [
       "CG     0.854980\n",
       "E      0.840271\n",
       "H      0.783772\n",
       "SV     0.627480\n",
       "SHO    0.526943\n",
       "SB     0.494966\n",
       "HR     0.450862\n",
       "AB     0.169573\n",
       "BB     0.151193\n",
       "W      0.119013\n",
       "3B     0.090124\n",
       "R     -0.215364\n",
       "SO    -0.233815\n",
       "2B    -0.335304\n",
       "dtype: float64"
      ]
     },
     "execution_count": 46,
     "metadata": {},
     "output_type": "execute_result"
    }
   ],
   "source": [
    "df_new.skew().sort_values(ascending=False)"
   ]
  },
  {
   "cell_type": "markdown",
   "id": "e2a3f906",
   "metadata": {},
   "source": [
    "Most of the Data  we can see slightly skewed.\n",
    "\n",
    "to check if skewness is present within range of +-0.5  we will used skew() method"
   ]
  },
  {
   "cell_type": "code",
   "execution_count": 47,
   "id": "b1d1fc2b",
   "metadata": {},
   "outputs": [
    {
     "data": {
      "text/html": [
       "<div>\n",
       "<style scoped>\n",
       "    .dataframe tbody tr th:only-of-type {\n",
       "        vertical-align: middle;\n",
       "    }\n",
       "\n",
       "    .dataframe tbody tr th {\n",
       "        vertical-align: top;\n",
       "    }\n",
       "\n",
       "    .dataframe thead th {\n",
       "        text-align: right;\n",
       "    }\n",
       "</style>\n",
       "<table border=\"1\" class=\"dataframe\">\n",
       "  <thead>\n",
       "    <tr style=\"text-align: right;\">\n",
       "      <th></th>\n",
       "      <th>W</th>\n",
       "      <th>R</th>\n",
       "      <th>AB</th>\n",
       "      <th>H</th>\n",
       "      <th>2B</th>\n",
       "      <th>3B</th>\n",
       "      <th>HR</th>\n",
       "      <th>BB</th>\n",
       "      <th>SO</th>\n",
       "      <th>SB</th>\n",
       "      <th>CG</th>\n",
       "      <th>SHO</th>\n",
       "      <th>SV</th>\n",
       "      <th>E</th>\n",
       "    </tr>\n",
       "  </thead>\n",
       "  <tbody>\n",
       "    <tr>\n",
       "      <th>count</th>\n",
       "      <td>29.000000</td>\n",
       "      <td>29.000000</td>\n",
       "      <td>29.000000</td>\n",
       "      <td>29.000000</td>\n",
       "      <td>29.000000</td>\n",
       "      <td>29.000000</td>\n",
       "      <td>29.000000</td>\n",
       "      <td>29.000000</td>\n",
       "      <td>29.000000</td>\n",
       "      <td>29.000000</td>\n",
       "      <td>29.000000</td>\n",
       "      <td>29.000000</td>\n",
       "      <td>29.000000</td>\n",
       "      <td>29.000000</td>\n",
       "    </tr>\n",
       "    <tr>\n",
       "      <th>mean</th>\n",
       "      <td>80.551724</td>\n",
       "      <td>681.241379</td>\n",
       "      <td>5516.517241</td>\n",
       "      <td>1400.896552</td>\n",
       "      <td>273.586207</td>\n",
       "      <td>31.793103</td>\n",
       "      <td>161.275862</td>\n",
       "      <td>465.620690</td>\n",
       "      <td>1251.551724</td>\n",
       "      <td>83.344828</td>\n",
       "      <td>3.344828</td>\n",
       "      <td>11.344828</td>\n",
       "      <td>43.379310</td>\n",
       "      <td>94.551724</td>\n",
       "    </tr>\n",
       "    <tr>\n",
       "      <th>std</th>\n",
       "      <td>10.384006</td>\n",
       "      <td>45.357040</td>\n",
       "      <td>71.701076</td>\n",
       "      <td>56.264265</td>\n",
       "      <td>17.269952</td>\n",
       "      <td>10.276114</td>\n",
       "      <td>29.600792</td>\n",
       "      <td>54.728821</td>\n",
       "      <td>103.930123</td>\n",
       "      <td>23.202949</td>\n",
       "      <td>2.729153</td>\n",
       "      <td>4.185655</td>\n",
       "      <td>7.816712</td>\n",
       "      <td>14.153713</td>\n",
       "    </tr>\n",
       "    <tr>\n",
       "      <th>min</th>\n",
       "      <td>63.000000</td>\n",
       "      <td>573.000000</td>\n",
       "      <td>5385.000000</td>\n",
       "      <td>1324.000000</td>\n",
       "      <td>236.000000</td>\n",
       "      <td>13.000000</td>\n",
       "      <td>100.000000</td>\n",
       "      <td>375.000000</td>\n",
       "      <td>973.000000</td>\n",
       "      <td>44.000000</td>\n",
       "      <td>0.000000</td>\n",
       "      <td>4.000000</td>\n",
       "      <td>28.000000</td>\n",
       "      <td>75.000000</td>\n",
       "    </tr>\n",
       "    <tr>\n",
       "      <th>25%</th>\n",
       "      <td>74.000000</td>\n",
       "      <td>650.000000</td>\n",
       "      <td>5463.000000</td>\n",
       "      <td>1363.000000</td>\n",
       "      <td>262.000000</td>\n",
       "      <td>26.000000</td>\n",
       "      <td>140.000000</td>\n",
       "      <td>426.000000</td>\n",
       "      <td>1159.000000</td>\n",
       "      <td>69.000000</td>\n",
       "      <td>1.000000</td>\n",
       "      <td>9.000000</td>\n",
       "      <td>38.000000</td>\n",
       "      <td>86.000000</td>\n",
       "    </tr>\n",
       "    <tr>\n",
       "      <th>50%</th>\n",
       "      <td>81.000000</td>\n",
       "      <td>689.000000</td>\n",
       "      <td>5511.000000</td>\n",
       "      <td>1382.000000</td>\n",
       "      <td>274.000000</td>\n",
       "      <td>32.000000</td>\n",
       "      <td>156.000000</td>\n",
       "      <td>471.000000</td>\n",
       "      <td>1264.000000</td>\n",
       "      <td>83.000000</td>\n",
       "      <td>3.000000</td>\n",
       "      <td>12.000000</td>\n",
       "      <td>43.000000</td>\n",
       "      <td>92.000000</td>\n",
       "    </tr>\n",
       "    <tr>\n",
       "      <th>75%</th>\n",
       "      <td>87.000000</td>\n",
       "      <td>713.000000</td>\n",
       "      <td>5571.000000</td>\n",
       "      <td>1420.000000</td>\n",
       "      <td>288.000000</td>\n",
       "      <td>39.000000</td>\n",
       "      <td>177.000000</td>\n",
       "      <td>496.000000</td>\n",
       "      <td>1312.000000</td>\n",
       "      <td>97.000000</td>\n",
       "      <td>5.000000</td>\n",
       "      <td>13.000000</td>\n",
       "      <td>47.000000</td>\n",
       "      <td>97.000000</td>\n",
       "    </tr>\n",
       "    <tr>\n",
       "      <th>max</th>\n",
       "      <td>100.000000</td>\n",
       "      <td>764.000000</td>\n",
       "      <td>5649.000000</td>\n",
       "      <td>1515.000000</td>\n",
       "      <td>303.000000</td>\n",
       "      <td>49.000000</td>\n",
       "      <td>230.000000</td>\n",
       "      <td>567.000000</td>\n",
       "      <td>1518.000000</td>\n",
       "      <td>134.000000</td>\n",
       "      <td>11.000000</td>\n",
       "      <td>21.000000</td>\n",
       "      <td>62.000000</td>\n",
       "      <td>126.000000</td>\n",
       "    </tr>\n",
       "  </tbody>\n",
       "</table>\n",
       "</div>"
      ],
      "text/plain": [
       "                W           R           AB            H          2B  \\\n",
       "count   29.000000   29.000000    29.000000    29.000000   29.000000   \n",
       "mean    80.551724  681.241379  5516.517241  1400.896552  273.586207   \n",
       "std     10.384006   45.357040    71.701076    56.264265   17.269952   \n",
       "min     63.000000  573.000000  5385.000000  1324.000000  236.000000   \n",
       "25%     74.000000  650.000000  5463.000000  1363.000000  262.000000   \n",
       "50%     81.000000  689.000000  5511.000000  1382.000000  274.000000   \n",
       "75%     87.000000  713.000000  5571.000000  1420.000000  288.000000   \n",
       "max    100.000000  764.000000  5649.000000  1515.000000  303.000000   \n",
       "\n",
       "              3B          HR          BB           SO          SB         CG  \\\n",
       "count  29.000000   29.000000   29.000000    29.000000   29.000000  29.000000   \n",
       "mean   31.793103  161.275862  465.620690  1251.551724   83.344828   3.344828   \n",
       "std    10.276114   29.600792   54.728821   103.930123   23.202949   2.729153   \n",
       "min    13.000000  100.000000  375.000000   973.000000   44.000000   0.000000   \n",
       "25%    26.000000  140.000000  426.000000  1159.000000   69.000000   1.000000   \n",
       "50%    32.000000  156.000000  471.000000  1264.000000   83.000000   3.000000   \n",
       "75%    39.000000  177.000000  496.000000  1312.000000   97.000000   5.000000   \n",
       "max    49.000000  230.000000  567.000000  1518.000000  134.000000  11.000000   \n",
       "\n",
       "             SHO         SV           E  \n",
       "count  29.000000  29.000000   29.000000  \n",
       "mean   11.344828  43.379310   94.551724  \n",
       "std     4.185655   7.816712   14.153713  \n",
       "min     4.000000  28.000000   75.000000  \n",
       "25%     9.000000  38.000000   86.000000  \n",
       "50%    12.000000  43.000000   92.000000  \n",
       "75%    13.000000  47.000000   97.000000  \n",
       "max    21.000000  62.000000  126.000000  "
      ]
     },
     "execution_count": 47,
     "metadata": {},
     "output_type": "execute_result"
    }
   ],
   "source": [
    "df_new.describe()"
   ]
  },
  {
   "cell_type": "markdown",
   "id": "a2f350ea",
   "metadata": {},
   "source": [
    "Obervation:  we can see columns are normalised and also checked with skewness, all columns are in range of +-1\n",
    "\n",
    "But std dev we can see is more than +-1 hence we will apply model first to see accuracy then we will apply power transform technique."
   ]
  },
  {
   "cell_type": "markdown",
   "id": "5efa2dc9",
   "metadata": {},
   "source": [
    "# Data distribution for Testing and Training"
   ]
  },
  {
   "cell_type": "code",
   "execution_count": 48,
   "id": "5e2aa11f",
   "metadata": {},
   "outputs": [],
   "source": [
    "x=df_new.drop(\"W\",axis=1)"
   ]
  },
  {
   "cell_type": "code",
   "execution_count": 49,
   "id": "d862b5fb",
   "metadata": {},
   "outputs": [
    {
     "data": {
      "text/plain": [
       "(29, 13)"
      ]
     },
     "execution_count": 49,
     "metadata": {},
     "output_type": "execute_result"
    }
   ],
   "source": [
    "x.shape"
   ]
  },
  {
   "cell_type": "code",
   "execution_count": 50,
   "id": "9b85dd7a",
   "metadata": {},
   "outputs": [
    {
     "data": {
      "text/plain": [
       "(29,)"
      ]
     },
     "execution_count": 50,
     "metadata": {},
     "output_type": "execute_result"
    }
   ],
   "source": [
    "y=df_new['W']\n",
    "y.shape"
   ]
  },
  {
   "cell_type": "code",
   "execution_count": null,
   "id": "27555dbe",
   "metadata": {},
   "outputs": [],
   "source": []
  },
  {
   "cell_type": "markdown",
   "id": "fd1d6693",
   "metadata": {},
   "source": [
    "# Removing Skwness using power_transform "
   ]
  },
  {
   "cell_type": "code",
   "execution_count": 51,
   "id": "389072aa",
   "metadata": {},
   "outputs": [],
   "source": [
    "from sklearn.preprocessing import power_transform\n",
    "x1=power_transform(x)"
   ]
  },
  {
   "cell_type": "code",
   "execution_count": 52,
   "id": "ece77e93",
   "metadata": {},
   "outputs": [
    {
     "data": {
      "text/plain": [
       "1     0.080382\n",
       "12    0.065585\n",
       "7     0.051530\n",
       "10    0.000529\n",
       "5     0.000448\n",
       "2     0.000000\n",
       "11   -0.000925\n",
       "6    -0.008572\n",
       "8    -0.009570\n",
       "0    -0.024842\n",
       "9    -0.045947\n",
       "3    -0.052793\n",
       "4    -0.075139\n",
       "dtype: float64"
      ]
     },
     "execution_count": 52,
     "metadata": {},
     "output_type": "execute_result"
    }
   ],
   "source": [
    "pd.DataFrame(x1).skew().sort_values(ascending=False)"
   ]
  },
  {
   "cell_type": "code",
   "execution_count": 53,
   "id": "9e782f42",
   "metadata": {},
   "outputs": [
    {
     "data": {
      "text/plain": [
       "AB     0.080382\n",
       "E      0.065585\n",
       "SO     0.051530\n",
       "SHO    0.000529\n",
       "HR     0.000448\n",
       "H      0.000000\n",
       "SV    -0.000925\n",
       "BB    -0.008572\n",
       "SB    -0.009570\n",
       "R     -0.024842\n",
       "CG    -0.045947\n",
       "2B    -0.052793\n",
       "3B    -0.075139\n",
       "dtype: float64"
      ]
     },
     "execution_count": 53,
     "metadata": {},
     "output_type": "execute_result"
    }
   ],
   "source": [
    "pd.DataFrame(x1, columns = x.columns).skew().sort_values(ascending=False)"
   ]
  },
  {
   "cell_type": "code",
   "execution_count": 54,
   "id": "a845bb2f",
   "metadata": {},
   "outputs": [],
   "source": [
    "x=pd.DataFrame(x1,columns=x.columns)"
   ]
  },
  {
   "cell_type": "code",
   "execution_count": 55,
   "id": "f90f806e",
   "metadata": {},
   "outputs": [
    {
     "data": {
      "text/plain": [
       "AB     0.080382\n",
       "E      0.065585\n",
       "SO     0.051530\n",
       "SHO    0.000529\n",
       "HR     0.000448\n",
       "H      0.000000\n",
       "SV    -0.000925\n",
       "BB    -0.008572\n",
       "SB    -0.009570\n",
       "R     -0.024842\n",
       "CG    -0.045947\n",
       "2B    -0.052793\n",
       "3B    -0.075139\n",
       "dtype: float64"
      ]
     },
     "execution_count": 55,
     "metadata": {},
     "output_type": "execute_result"
    }
   ],
   "source": [
    "x.skew().sort_values(ascending=False)"
   ]
  },
  {
   "cell_type": "markdown",
   "id": "e75fb2a9",
   "metadata": {},
   "source": [
    "We can see the skewness has beend removed and it is under range of +-0.5"
   ]
  },
  {
   "cell_type": "code",
   "execution_count": 56,
   "id": "32ef99d5",
   "metadata": {},
   "outputs": [
    {
     "data": {
      "text/html": [
       "<div>\n",
       "<style scoped>\n",
       "    .dataframe tbody tr th:only-of-type {\n",
       "        vertical-align: middle;\n",
       "    }\n",
       "\n",
       "    .dataframe tbody tr th {\n",
       "        vertical-align: top;\n",
       "    }\n",
       "\n",
       "    .dataframe thead th {\n",
       "        text-align: right;\n",
       "    }\n",
       "</style>\n",
       "<table border=\"1\" class=\"dataframe\">\n",
       "  <thead>\n",
       "    <tr style=\"text-align: right;\">\n",
       "      <th></th>\n",
       "      <th>R</th>\n",
       "      <th>AB</th>\n",
       "      <th>H</th>\n",
       "      <th>2B</th>\n",
       "      <th>3B</th>\n",
       "      <th>HR</th>\n",
       "      <th>BB</th>\n",
       "      <th>SO</th>\n",
       "      <th>SB</th>\n",
       "      <th>CG</th>\n",
       "      <th>SHO</th>\n",
       "      <th>SV</th>\n",
       "      <th>E</th>\n",
       "    </tr>\n",
       "  </thead>\n",
       "  <tbody>\n",
       "    <tr>\n",
       "      <th>0</th>\n",
       "      <td>-0.789011</td>\n",
       "      <td>-0.445393</td>\n",
       "      <td>-8.326673e-17</td>\n",
       "      <td>0.844222</td>\n",
       "      <td>0.732678</td>\n",
       "      <td>-0.820431</td>\n",
       "      <td>0.770046</td>\n",
       "      <td>0.123475</td>\n",
       "      <td>-0.567102</td>\n",
       "      <td>-0.870682</td>\n",
       "      <td>0.908147</td>\n",
       "      <td>2.084917</td>\n",
       "      <td>0.311562</td>\n",
       "    </tr>\n",
       "    <tr>\n",
       "      <th>1</th>\n",
       "      <td>0.322037</td>\n",
       "      <td>1.583618</td>\n",
       "      <td>3.330669e-16</td>\n",
       "      <td>1.116168</td>\n",
       "      <td>-0.432228</td>\n",
       "      <td>-0.703026</td>\n",
       "      <td>-0.042862</td>\n",
       "      <td>0.678550</td>\n",
       "      <td>0.710994</td>\n",
       "      <td>-1.732896</td>\n",
       "      <td>0.468029</td>\n",
       "      <td>1.333006</td>\n",
       "      <td>1.669209</td>\n",
       "    </tr>\n",
       "    <tr>\n",
       "      <th>2</th>\n",
       "      <td>0.137737</td>\n",
       "      <td>-0.346416</td>\n",
       "      <td>-4.163336e-16</td>\n",
       "      <td>-0.163010</td>\n",
       "      <td>-0.128676</td>\n",
       "      <td>0.401843</td>\n",
       "      <td>1.789632</td>\n",
       "      <td>2.791487</td>\n",
       "      <td>0.594218</td>\n",
       "      <td>1.031663</td>\n",
       "      <td>2.090856</td>\n",
       "      <td>0.677176</td>\n",
       "      <td>1.203715</td>\n",
       "    </tr>\n",
       "    <tr>\n",
       "      <th>3</th>\n",
       "      <td>0.962544</td>\n",
       "      <td>0.838204</td>\n",
       "      <td>4.718448e-16</td>\n",
       "      <td>1.685188</td>\n",
       "      <td>1.006150</td>\n",
       "      <td>-0.741927</td>\n",
       "      <td>-1.605198</td>\n",
       "      <td>-2.550612</td>\n",
       "      <td>0.936132</td>\n",
       "      <td>-0.307098</td>\n",
       "      <td>-0.787002</td>\n",
       "      <td>1.532753</td>\n",
       "      <td>-0.348265</td>\n",
       "    </tr>\n",
       "    <tr>\n",
       "      <th>4</th>\n",
       "      <td>-0.356235</td>\n",
       "      <td>-1.945500</td>\n",
       "      <td>-3.608225e-16</td>\n",
       "      <td>-0.675253</td>\n",
       "      <td>-0.535590</td>\n",
       "      <td>0.908214</td>\n",
       "      <td>1.725362</td>\n",
       "      <td>0.034252</td>\n",
       "      <td>-1.109925</td>\n",
       "      <td>1.031663</td>\n",
       "      <td>2.090856</td>\n",
       "      <td>0.558509</td>\n",
       "      <td>-1.870191</td>\n",
       "    </tr>\n",
       "    <tr>\n",
       "      <th>5</th>\n",
       "      <td>0.001150</td>\n",
       "      <td>0.170115</td>\n",
       "      <td>-3.330669e-16</td>\n",
       "      <td>1.325587</td>\n",
       "      <td>-1.527310</td>\n",
       "      <td>0.596168</td>\n",
       "      <td>0.451649</td>\n",
       "      <td>0.353547</td>\n",
       "      <td>-1.600293</td>\n",
       "      <td>-0.870682</td>\n",
       "      <td>0.691583</td>\n",
       "      <td>0.906024</td>\n",
       "      <td>-0.348265</td>\n",
       "    </tr>\n",
       "    <tr>\n",
       "      <th>6</th>\n",
       "      <td>1.631727</td>\n",
       "      <td>-0.055674</td>\n",
       "      <td>1.110223e-16</td>\n",
       "      <td>0.262086</td>\n",
       "      <td>0.068703</td>\n",
       "      <td>0.434620</td>\n",
       "      <td>0.717576</td>\n",
       "      <td>-0.211199</td>\n",
       "      <td>0.824915</td>\n",
       "      <td>0.770649</td>\n",
       "      <td>-0.513555</td>\n",
       "      <td>0.312020</td>\n",
       "      <td>1.554265</td>\n",
       "    </tr>\n",
       "    <tr>\n",
       "      <th>7</th>\n",
       "      <td>1.964209</td>\n",
       "      <td>0.726856</td>\n",
       "      <td>0.000000e+00</td>\n",
       "      <td>-0.163010</td>\n",
       "      <td>-1.295827</td>\n",
       "      <td>1.631637</td>\n",
       "      <td>1.579494</td>\n",
       "      <td>-0.269583</td>\n",
       "      <td>-0.884526</td>\n",
       "      <td>0.121871</td>\n",
       "      <td>-2.064039</td>\n",
       "      <td>0.677176</td>\n",
       "      <td>0.082858</td>\n",
       "    </tr>\n",
       "    <tr>\n",
       "      <th>8</th>\n",
       "      <td>1.084297</td>\n",
       "      <td>-0.813460</td>\n",
       "      <td>-2.220446e-16</td>\n",
       "      <td>0.199897</td>\n",
       "      <td>-0.535590</td>\n",
       "      <td>2.109761</td>\n",
       "      <td>0.415731</td>\n",
       "      <td>1.409203</td>\n",
       "      <td>1.521413</td>\n",
       "      <td>0.770649</td>\n",
       "      <td>0.468029</td>\n",
       "      <td>-0.512328</td>\n",
       "      <td>-0.641925</td>\n",
       "    </tr>\n",
       "    <tr>\n",
       "      <th>9</th>\n",
       "      <td>-0.487692</td>\n",
       "      <td>-1.447526</td>\n",
       "      <td>-4.718448e-16</td>\n",
       "      <td>-1.682709</td>\n",
       "      <td>-1.071323</td>\n",
       "      <td>0.564164</td>\n",
       "      <td>-0.540002</td>\n",
       "      <td>-1.000673</td>\n",
       "      <td>-1.535760</td>\n",
       "      <td>-0.307098</td>\n",
       "      <td>0.236737</td>\n",
       "      <td>0.436838</td>\n",
       "      <td>0.082858</td>\n",
       "    </tr>\n",
       "    <tr>\n",
       "      <th>10</th>\n",
       "      <td>0.298863</td>\n",
       "      <td>0.699019</td>\n",
       "      <td>4.440892e-16</td>\n",
       "      <td>0.844222</td>\n",
       "      <td>0.732678</td>\n",
       "      <td>-0.860039</td>\n",
       "      <td>-0.117955</td>\n",
       "      <td>-0.916971</td>\n",
       "      <td>0.514700</td>\n",
       "      <td>1.264463</td>\n",
       "      <td>1.521828</td>\n",
       "      <td>-0.221934</td>\n",
       "      <td>-1.454792</td>\n",
       "    </tr>\n",
       "    <tr>\n",
       "      <th>11</th>\n",
       "      <td>0.461904</td>\n",
       "      <td>-1.280504</td>\n",
       "      <td>-2.220446e-16</td>\n",
       "      <td>-0.564688</td>\n",
       "      <td>-2.015649</td>\n",
       "      <td>0.596168</td>\n",
       "      <td>1.332385</td>\n",
       "      <td>0.905280</td>\n",
       "      <td>-1.227262</td>\n",
       "      <td>0.472300</td>\n",
       "      <td>0.468029</td>\n",
       "      <td>-0.221934</td>\n",
       "      <td>-0.167685</td>\n",
       "    </tr>\n",
       "    <tr>\n",
       "      <th>12</th>\n",
       "      <td>0.298863</td>\n",
       "      <td>-0.695926</td>\n",
       "      <td>-3.330669e-16</td>\n",
       "      <td>0.138198</td>\n",
       "      <td>1.185227</td>\n",
       "      <td>-0.109958</td>\n",
       "      <td>-0.462096</td>\n",
       "      <td>0.093683</td>\n",
       "      <td>-0.516377</td>\n",
       "      <td>-0.307098</td>\n",
       "      <td>0.236737</td>\n",
       "      <td>0.312020</td>\n",
       "      <td>-0.540820</td>\n",
       "    </tr>\n",
       "    <tr>\n",
       "      <th>13</th>\n",
       "      <td>-0.312105</td>\n",
       "      <td>-1.113482</td>\n",
       "      <td>-2.775558e-17</td>\n",
       "      <td>1.907385</td>\n",
       "      <td>-0.228819</td>\n",
       "      <td>-0.664354</td>\n",
       "      <td>1.232098</td>\n",
       "      <td>-0.935611</td>\n",
       "      <td>0.225038</td>\n",
       "      <td>2.011315</td>\n",
       "      <td>-0.252844</td>\n",
       "      <td>-0.664137</td>\n",
       "      <td>-1.326125</td>\n",
       "    </tr>\n",
       "    <tr>\n",
       "      <th>14</th>\n",
       "      <td>0.698146</td>\n",
       "      <td>-0.429928</td>\n",
       "      <td>-1.942890e-16</td>\n",
       "      <td>-1.542635</td>\n",
       "      <td>-1.182758</td>\n",
       "      <td>1.767734</td>\n",
       "      <td>-0.877217</td>\n",
       "      <td>0.770980</td>\n",
       "      <td>-2.082843</td>\n",
       "      <td>-1.732896</td>\n",
       "      <td>-0.252844</td>\n",
       "      <td>0.052325</td>\n",
       "      <td>-1.588198</td>\n",
       "    </tr>\n",
       "    <tr>\n",
       "      <th>15</th>\n",
       "      <td>-0.852595</td>\n",
       "      <td>-0.429928</td>\n",
       "      <td>-1.110223e-16</td>\n",
       "      <td>0.199897</td>\n",
       "      <td>0.068703</td>\n",
       "      <td>0.269125</td>\n",
       "      <td>-0.520476</td>\n",
       "      <td>0.556008</td>\n",
       "      <td>0.267558</td>\n",
       "      <td>-0.870682</td>\n",
       "      <td>0.236737</td>\n",
       "      <td>1.908137</td>\n",
       "      <td>0.237593</td>\n",
       "    </tr>\n",
       "    <tr>\n",
       "      <th>16</th>\n",
       "      <td>0.865849</td>\n",
       "      <td>1.818687</td>\n",
       "      <td>4.718448e-16</td>\n",
       "      <td>0.911435</td>\n",
       "      <td>1.536265</td>\n",
       "      <td>-0.181252</td>\n",
       "      <td>0.487457</td>\n",
       "      <td>0.576376</td>\n",
       "      <td>1.865486</td>\n",
       "      <td>-0.870682</td>\n",
       "      <td>0.236737</td>\n",
       "      <td>0.183904</td>\n",
       "      <td>-0.540820</td>\n",
       "    </tr>\n",
       "    <tr>\n",
       "      <th>17</th>\n",
       "      <td>1.555951</td>\n",
       "      <td>1.701152</td>\n",
       "      <td>4.718448e-16</td>\n",
       "      <td>1.255256</td>\n",
       "      <td>0.166017</td>\n",
       "      <td>0.065014</td>\n",
       "      <td>0.270944</td>\n",
       "      <td>-1.019210</td>\n",
       "      <td>-0.466233</td>\n",
       "      <td>0.121871</td>\n",
       "      <td>-0.252844</td>\n",
       "      <td>-0.365006</td>\n",
       "      <td>0.383386</td>\n",
       "    </tr>\n",
       "    <tr>\n",
       "      <th>18</th>\n",
       "      <td>-1.308298</td>\n",
       "      <td>0.256719</td>\n",
       "      <td>-1.110223e-16</td>\n",
       "      <td>-0.837665</td>\n",
       "      <td>-0.432228</td>\n",
       "      <td>-0.860039</td>\n",
       "      <td>-1.162721</td>\n",
       "      <td>-0.230683</td>\n",
       "      <td>-0.618422</td>\n",
       "      <td>1.264463</td>\n",
       "      <td>-0.513555</td>\n",
       "      <td>-0.820689</td>\n",
       "      <td>0.650818</td>\n",
       "    </tr>\n",
       "    <tr>\n",
       "      <th>19</th>\n",
       "      <td>-0.596176</td>\n",
       "      <td>0.408277</td>\n",
       "      <td>-1.387779e-16</td>\n",
       "      <td>-0.729847</td>\n",
       "      <td>-0.961425</td>\n",
       "      <td>1.235848</td>\n",
       "      <td>0.270944</td>\n",
       "      <td>0.822524</td>\n",
       "      <td>-0.567102</td>\n",
       "      <td>1.031663</td>\n",
       "      <td>0.236737</td>\n",
       "      <td>0.312020</td>\n",
       "      <td>0.161389</td>\n",
       "    </tr>\n",
       "    <tr>\n",
       "      <th>20</th>\n",
       "      <td>-0.725080</td>\n",
       "      <td>-0.844390</td>\n",
       "      <td>-5.273559e-16</td>\n",
       "      <td>-0.837665</td>\n",
       "      <td>0.452861</td>\n",
       "      <td>-0.399842</td>\n",
       "      <td>-0.717273</td>\n",
       "      <td>0.729845</td>\n",
       "      <td>0.050861</td>\n",
       "      <td>-0.870682</td>\n",
       "      <td>-1.381412</td>\n",
       "      <td>-0.221934</td>\n",
       "      <td>0.001905</td>\n",
       "    </tr>\n",
       "    <tr>\n",
       "      <th>21</th>\n",
       "      <td>0.137737</td>\n",
       "      <td>1.240295</td>\n",
       "      <td>5.551115e-16</td>\n",
       "      <td>0.911435</td>\n",
       "      <td>1.622636</td>\n",
       "      <td>-0.289647</td>\n",
       "      <td>-0.155686</td>\n",
       "      <td>0.044143</td>\n",
       "      <td>0.095038</td>\n",
       "      <td>1.264463</td>\n",
       "      <td>0.236737</td>\n",
       "      <td>-1.149165</td>\n",
       "      <td>-0.540820</td>\n",
       "    </tr>\n",
       "    <tr>\n",
       "      <th>22</th>\n",
       "      <td>-1.489372</td>\n",
       "      <td>-0.754693</td>\n",
       "      <td>1.110223e-16</td>\n",
       "      <td>-1.995042</td>\n",
       "      <td>0.824510</td>\n",
       "      <td>-1.529112</td>\n",
       "      <td>-1.778543</td>\n",
       "      <td>-1.000673</td>\n",
       "      <td>1.220510</td>\n",
       "      <td>-1.732896</td>\n",
       "      <td>0.236737</td>\n",
       "      <td>-1.149165</td>\n",
       "      <td>-1.588198</td>\n",
       "    </tr>\n",
       "    <tr>\n",
       "      <th>23</th>\n",
       "      <td>-0.617757</td>\n",
       "      <td>-0.504160</td>\n",
       "      <td>-1.387779e-16</td>\n",
       "      <td>-0.043976</td>\n",
       "      <td>0.262460</td>\n",
       "      <td>-0.511906</td>\n",
       "      <td>-0.998685</td>\n",
       "      <td>0.444379</td>\n",
       "      <td>0.138787</td>\n",
       "      <td>-0.870682</td>\n",
       "      <td>-1.075340</td>\n",
       "      <td>-0.365006</td>\n",
       "      <td>1.430810</td>\n",
       "    </tr>\n",
       "    <tr>\n",
       "      <th>24</th>\n",
       "      <td>0.252632</td>\n",
       "      <td>1.175342</td>\n",
       "      <td>2.775558e-17</td>\n",
       "      <td>0.138198</td>\n",
       "      <td>1.361887</td>\n",
       "      <td>-0.474340</td>\n",
       "      <td>0.216181</td>\n",
       "      <td>-1.285401</td>\n",
       "      <td>-0.130312</td>\n",
       "      <td>0.770649</td>\n",
       "      <td>0.908147</td>\n",
       "      <td>-2.498840</td>\n",
       "      <td>1.810553</td>\n",
       "    </tr>\n",
       "    <tr>\n",
       "      <th>25</th>\n",
       "      <td>1.281152</td>\n",
       "      <td>0.794902</td>\n",
       "      <td>4.163336e-16</td>\n",
       "      <td>-0.043976</td>\n",
       "      <td>1.622636</td>\n",
       "      <td>0.877642</td>\n",
       "      <td>-1.498230</td>\n",
       "      <td>0.283212</td>\n",
       "      <td>0.672394</td>\n",
       "      <td>0.472300</td>\n",
       "      <td>-2.064039</td>\n",
       "      <td>-0.982264</td>\n",
       "      <td>0.237593</td>\n",
       "    </tr>\n",
       "    <tr>\n",
       "      <th>26</th>\n",
       "      <td>-2.256817</td>\n",
       "      <td>-1.404224</td>\n",
       "      <td>-2.498002e-16</td>\n",
       "      <td>-1.300683</td>\n",
       "      <td>-1.410638</td>\n",
       "      <td>-2.478298</td>\n",
       "      <td>0.142759</td>\n",
       "      <td>-1.394124</td>\n",
       "      <td>-0.567102</td>\n",
       "      <td>0.121871</td>\n",
       "      <td>-0.252844</td>\n",
       "      <td>0.183904</td>\n",
       "      <td>-0.167685</td>\n",
       "    </tr>\n",
       "    <tr>\n",
       "      <th>27</th>\n",
       "      <td>-0.936834</td>\n",
       "      <td>0.782530</td>\n",
       "      <td>-1.110223e-16</td>\n",
       "      <td>-0.996003</td>\n",
       "      <td>-0.432228</td>\n",
       "      <td>0.269125</td>\n",
       "      <td>0.594227</td>\n",
       "      <td>0.004612</td>\n",
       "      <td>1.925528</td>\n",
       "      <td>-0.307098</td>\n",
       "      <td>-0.787002</td>\n",
       "      <td>-1.149165</td>\n",
       "      <td>-0.167685</td>\n",
       "    </tr>\n",
       "    <tr>\n",
       "      <th>28</th>\n",
       "      <td>-1.226825</td>\n",
       "      <td>0.201045</td>\n",
       "      <td>-1.665335e-16</td>\n",
       "      <td>-0.163010</td>\n",
       "      <td>0.546878</td>\n",
       "      <td>-1.102893</td>\n",
       "      <td>-1.519540</td>\n",
       "      <td>0.193184</td>\n",
       "      <td>0.309686</td>\n",
       "      <td>-0.870682</td>\n",
       "      <td>-1.075340</td>\n",
       "      <td>-1.149165</td>\n",
       "      <td>1.472959</td>\n",
       "    </tr>\n",
       "  </tbody>\n",
       "</table>\n",
       "</div>"
      ],
      "text/plain": [
       "           R        AB             H        2B        3B        HR        BB  \\\n",
       "0  -0.789011 -0.445393 -8.326673e-17  0.844222  0.732678 -0.820431  0.770046   \n",
       "1   0.322037  1.583618  3.330669e-16  1.116168 -0.432228 -0.703026 -0.042862   \n",
       "2   0.137737 -0.346416 -4.163336e-16 -0.163010 -0.128676  0.401843  1.789632   \n",
       "3   0.962544  0.838204  4.718448e-16  1.685188  1.006150 -0.741927 -1.605198   \n",
       "4  -0.356235 -1.945500 -3.608225e-16 -0.675253 -0.535590  0.908214  1.725362   \n",
       "5   0.001150  0.170115 -3.330669e-16  1.325587 -1.527310  0.596168  0.451649   \n",
       "6   1.631727 -0.055674  1.110223e-16  0.262086  0.068703  0.434620  0.717576   \n",
       "7   1.964209  0.726856  0.000000e+00 -0.163010 -1.295827  1.631637  1.579494   \n",
       "8   1.084297 -0.813460 -2.220446e-16  0.199897 -0.535590  2.109761  0.415731   \n",
       "9  -0.487692 -1.447526 -4.718448e-16 -1.682709 -1.071323  0.564164 -0.540002   \n",
       "10  0.298863  0.699019  4.440892e-16  0.844222  0.732678 -0.860039 -0.117955   \n",
       "11  0.461904 -1.280504 -2.220446e-16 -0.564688 -2.015649  0.596168  1.332385   \n",
       "12  0.298863 -0.695926 -3.330669e-16  0.138198  1.185227 -0.109958 -0.462096   \n",
       "13 -0.312105 -1.113482 -2.775558e-17  1.907385 -0.228819 -0.664354  1.232098   \n",
       "14  0.698146 -0.429928 -1.942890e-16 -1.542635 -1.182758  1.767734 -0.877217   \n",
       "15 -0.852595 -0.429928 -1.110223e-16  0.199897  0.068703  0.269125 -0.520476   \n",
       "16  0.865849  1.818687  4.718448e-16  0.911435  1.536265 -0.181252  0.487457   \n",
       "17  1.555951  1.701152  4.718448e-16  1.255256  0.166017  0.065014  0.270944   \n",
       "18 -1.308298  0.256719 -1.110223e-16 -0.837665 -0.432228 -0.860039 -1.162721   \n",
       "19 -0.596176  0.408277 -1.387779e-16 -0.729847 -0.961425  1.235848  0.270944   \n",
       "20 -0.725080 -0.844390 -5.273559e-16 -0.837665  0.452861 -0.399842 -0.717273   \n",
       "21  0.137737  1.240295  5.551115e-16  0.911435  1.622636 -0.289647 -0.155686   \n",
       "22 -1.489372 -0.754693  1.110223e-16 -1.995042  0.824510 -1.529112 -1.778543   \n",
       "23 -0.617757 -0.504160 -1.387779e-16 -0.043976  0.262460 -0.511906 -0.998685   \n",
       "24  0.252632  1.175342  2.775558e-17  0.138198  1.361887 -0.474340  0.216181   \n",
       "25  1.281152  0.794902  4.163336e-16 -0.043976  1.622636  0.877642 -1.498230   \n",
       "26 -2.256817 -1.404224 -2.498002e-16 -1.300683 -1.410638 -2.478298  0.142759   \n",
       "27 -0.936834  0.782530 -1.110223e-16 -0.996003 -0.432228  0.269125  0.594227   \n",
       "28 -1.226825  0.201045 -1.665335e-16 -0.163010  0.546878 -1.102893 -1.519540   \n",
       "\n",
       "          SO        SB        CG       SHO        SV         E  \n",
       "0   0.123475 -0.567102 -0.870682  0.908147  2.084917  0.311562  \n",
       "1   0.678550  0.710994 -1.732896  0.468029  1.333006  1.669209  \n",
       "2   2.791487  0.594218  1.031663  2.090856  0.677176  1.203715  \n",
       "3  -2.550612  0.936132 -0.307098 -0.787002  1.532753 -0.348265  \n",
       "4   0.034252 -1.109925  1.031663  2.090856  0.558509 -1.870191  \n",
       "5   0.353547 -1.600293 -0.870682  0.691583  0.906024 -0.348265  \n",
       "6  -0.211199  0.824915  0.770649 -0.513555  0.312020  1.554265  \n",
       "7  -0.269583 -0.884526  0.121871 -2.064039  0.677176  0.082858  \n",
       "8   1.409203  1.521413  0.770649  0.468029 -0.512328 -0.641925  \n",
       "9  -1.000673 -1.535760 -0.307098  0.236737  0.436838  0.082858  \n",
       "10 -0.916971  0.514700  1.264463  1.521828 -0.221934 -1.454792  \n",
       "11  0.905280 -1.227262  0.472300  0.468029 -0.221934 -0.167685  \n",
       "12  0.093683 -0.516377 -0.307098  0.236737  0.312020 -0.540820  \n",
       "13 -0.935611  0.225038  2.011315 -0.252844 -0.664137 -1.326125  \n",
       "14  0.770980 -2.082843 -1.732896 -0.252844  0.052325 -1.588198  \n",
       "15  0.556008  0.267558 -0.870682  0.236737  1.908137  0.237593  \n",
       "16  0.576376  1.865486 -0.870682  0.236737  0.183904 -0.540820  \n",
       "17 -1.019210 -0.466233  0.121871 -0.252844 -0.365006  0.383386  \n",
       "18 -0.230683 -0.618422  1.264463 -0.513555 -0.820689  0.650818  \n",
       "19  0.822524 -0.567102  1.031663  0.236737  0.312020  0.161389  \n",
       "20  0.729845  0.050861 -0.870682 -1.381412 -0.221934  0.001905  \n",
       "21  0.044143  0.095038  1.264463  0.236737 -1.149165 -0.540820  \n",
       "22 -1.000673  1.220510 -1.732896  0.236737 -1.149165 -1.588198  \n",
       "23  0.444379  0.138787 -0.870682 -1.075340 -0.365006  1.430810  \n",
       "24 -1.285401 -0.130312  0.770649  0.908147 -2.498840  1.810553  \n",
       "25  0.283212  0.672394  0.472300 -2.064039 -0.982264  0.237593  \n",
       "26 -1.394124 -0.567102  0.121871 -0.252844  0.183904 -0.167685  \n",
       "27  0.004612  1.925528 -0.307098 -0.787002 -1.149165 -0.167685  \n",
       "28  0.193184  0.309686 -0.870682 -1.075340 -1.149165  1.472959  "
      ]
     },
     "execution_count": 56,
     "metadata": {},
     "output_type": "execute_result"
    }
   ],
   "source": [
    "x"
   ]
  },
  {
   "cell_type": "code",
   "execution_count": null,
   "id": "96204d83",
   "metadata": {},
   "outputs": [],
   "source": []
  },
  {
   "cell_type": "markdown",
   "id": "c763829f",
   "metadata": {},
   "source": [
    "# Will try to run all model to see which model gives better prediction"
   ]
  },
  {
   "cell_type": "code",
   "execution_count": 58,
   "id": "aae8989a",
   "metadata": {},
   "outputs": [],
   "source": [
    "from sklearn.preprocessing import MinMaxScaler\n",
    "mms=MinMaxScaler()\n",
    "from sklearn.linear_model import LinearRegression\n",
    "lm=LinearRegression()\n",
    "from sklearn.svm import SVC\n",
    "sv=SVC()\n",
    "from sklearn.neighbors import KNeighborsClassifier\n",
    "knc=KNeighborsClassifier()\n",
    "from sklearn.naive_bayes import MultinomialNB\n",
    "clf = MultinomialNB()\n",
    "from sklearn.tree import DecisionTreeClassifier\n",
    "dt=DecisionTreeClassifier()\n",
    "from sklearn.preprocessing import StandardScaler\n",
    "\n",
    "from sklearn.metrics import r2_score\n",
    "from sklearn.metrics import mean_squared_error,mean_absolute_error\n",
    "from sklearn.model_selection import train_test_split\n",
    "from sklearn.metrics import accuracy_score\n",
    "from sklearn.metrics import confusion_matrix,classification_report"
   ]
  },
  {
   "cell_type": "markdown",
   "id": "51d9d043",
   "metadata": {},
   "source": [
    "# finding the best Test_size and Random_state"
   ]
  },
  {
   "cell_type": "markdown",
   "id": "14a42ba3",
   "metadata": {},
   "source": [
    "# Linear Regression "
   ]
  },
  {
   "cell_type": "markdown",
   "id": "ccdb536b",
   "metadata": {},
   "source": [
    "we will check seperately as it is regression model with r2_score,mean_squared_error,mean_absolute_error"
   ]
  },
  {
   "cell_type": "code",
   "execution_count": 319,
   "id": "d7d812fd",
   "metadata": {},
   "outputs": [
    {
     "name": "stdout",
     "output_type": "stream",
     "text": [
      "accuracy 0.6983191980368014 Random state 9\n",
      "accuracy 0.9643393951768449 Random state 10\n",
      "Best accuracy is 96.43393951768448 on Random state 10\n"
     ]
    }
   ],
   "source": [
    "# to calculate best test_size for Linear Regression\n",
    "maxAcc = 0\n",
    "maxRs=0\n",
    "\n",
    "for i in range(9,40):\n",
    "    i1 = i*0.01\n",
    "    x_train, x_test, y_train, y_test= train_test_split(x,y,test_size=i1)#=.10,random_state=i) #10====TS=0.02\n",
    "    lm=LinearRegression()\n",
    "    lm.fit(x_train,y_train)\n",
    "    pred=lm.predict(x_test)\n",
    "    acc=lm.score(x_test,y_test)\n",
    "    #print('accuracy',acc,'Random state',i)\n",
    "    \n",
    "    if acc>maxAcc:\n",
    "        maxAcc=acc\n",
    "        maxRs=i\n",
    "        print('accuracy',maxAcc,'Random state',i)\n",
    "        \n",
    "print(\"Best accuracy is\",maxAcc*100,\"on Random state\",maxRs) \n",
    "# we can see below Random state we are getting good test size = 10 with 97% accuracy"
   ]
  },
  {
   "cell_type": "code",
   "execution_count": 320,
   "id": "4daa193c",
   "metadata": {},
   "outputs": [
    {
     "name": "stdout",
     "output_type": "stream",
     "text": [
      "accuracy 0.9525192309974481 Random state 4\n",
      "accuracy 0.9623299031775527 Random state 5\n",
      "Best accuracy is 96.23299031775528 on Random state 5\n"
     ]
    }
   ],
   "source": [
    "# to calculate best random_state for Linear Regression\n",
    "\n",
    "maxAcc = 0\n",
    "maxRs=0\n",
    "\n",
    "for i in range(1,20):\n",
    "    x_train, x_test, y_train, y_test= train_test_split(x,y,test_size=.10,random_state=i) \n",
    "    lm=LinearRegression()\n",
    "    lm.fit(x_train,y_train)\n",
    "    pred=lm.predict(x_test)\n",
    "    acc=lm.score(x_test,y_test)\n",
    "    #print('accuracy',acc,'Random state',i)\n",
    "    \n",
    "    if acc>maxAcc:\n",
    "        maxAcc=acc\n",
    "        maxRs=i\n",
    "        print('accuracy',maxAcc,'Random state',i)\n",
    "        \n",
    "print(\"Best accuracy is\",maxAcc*100,\"on Random state\",maxRs) \n",
    "\n",
    "# we can see below random_state we are getting good random_state = 5 with 82% accuracy -- 82.80584410193778\n",
    "\n",
    "#96.23299031775528"
   ]
  },
  {
   "cell_type": "markdown",
   "id": "1b291dba",
   "metadata": {},
   "source": [
    "Here we can see the Linear model is giving Best accuracy with 96.23%"
   ]
  },
  {
   "cell_type": "markdown",
   "id": "ec26b529",
   "metadata": {},
   "source": [
    "# Will apply classifier Models "
   ]
  },
  {
   "cell_type": "code",
   "execution_count": 321,
   "id": "b4ecd6d6",
   "metadata": {},
   "outputs": [],
   "source": [
    "model=(sv,knc,dt)"
   ]
  },
  {
   "cell_type": "code",
   "execution_count": 322,
   "id": "6aa888d6",
   "metadata": {},
   "outputs": [
    {
     "name": "stdout",
     "output_type": "stream",
     "text": [
      "Accuracy Score DecisionTreeClassifier() is:\n",
      "0.0\n",
      "[[0 1 0 0 0]\n",
      " [0 0 1 0 0]\n",
      " [0 0 0 0 0]\n",
      " [0 0 0 0 1]\n",
      " [0 0 0 0 0]]\n",
      "              precision    recall  f1-score   support\n",
      "\n",
      "          63       0.00      0.00      0.00       1.0\n",
      "          68       0.00      0.00      0.00       1.0\n",
      "          74       0.00      0.00      0.00       0.0\n",
      "          83       0.00      0.00      0.00       1.0\n",
      "          90       0.00      0.00      0.00       0.0\n",
      "\n",
      "    accuracy                           0.00       3.0\n",
      "   macro avg       0.00      0.00      0.00       3.0\n",
      "weighted avg       0.00      0.00      0.00       3.0\n",
      "\n",
      "Accuracy Score SVC() is:\n",
      "0.0\n",
      "[[0 1 0 0 0]\n",
      " [0 0 1 0 0]\n",
      " [0 0 0 0 0]\n",
      " [0 0 0 0 0]\n",
      " [0 0 0 1 0]]\n",
      "              precision    recall  f1-score   support\n",
      "\n",
      "          63       0.00      0.00      0.00       1.0\n",
      "          68       0.00      0.00      0.00       1.0\n",
      "          74       0.00      0.00      0.00       0.0\n",
      "          76       0.00      0.00      0.00       0.0\n",
      "          83       0.00      0.00      0.00       1.0\n",
      "\n",
      "    accuracy                           0.00       3.0\n",
      "   macro avg       0.00      0.00      0.00       3.0\n",
      "weighted avg       0.00      0.00      0.00       3.0\n",
      "\n",
      "Accuracy Score KNeighborsClassifier() is:\n",
      "0.0\n",
      "[[0 1 0 0 0 0]\n",
      " [0 0 0 0 0 0]\n",
      " [0 0 0 1 0 0]\n",
      " [0 0 0 0 0 0]\n",
      " [0 0 0 0 0 0]\n",
      " [0 0 0 0 1 0]]\n",
      "              precision    recall  f1-score   support\n",
      "\n",
      "          63       0.00      0.00      0.00       1.0\n",
      "          64       0.00      0.00      0.00       0.0\n",
      "          68       0.00      0.00      0.00       1.0\n",
      "          74       0.00      0.00      0.00       0.0\n",
      "          76       0.00      0.00      0.00       0.0\n",
      "          83       0.00      0.00      0.00       1.0\n",
      "\n",
      "    accuracy                           0.00       3.0\n",
      "   macro avg       0.00      0.00      0.00       3.0\n",
      "weighted avg       0.00      0.00      0.00       3.0\n",
      "\n"
     ]
    }
   ],
   "source": [
    "x_train, x_test, y_train, y_test= train_test_split(x,y,test_size=.10,random_state=5)\n",
    "for m in model:\n",
    "    m.fit(x_train,y_train)\n",
    "    m.score(x_train,y_train)\n",
    "    pred_test=m.predict(x_test)\n",
    "    print('Accuracy Score',m,'is:')\n",
    "    print(accuracy_score(y_test,pred_test))\n",
    "    print(confusion_matrix(y_test,pred_test))\n",
    "    print(classification_report(y_test,pred_test))"
   ]
  },
  {
   "cell_type": "markdown",
   "id": "1acce96b",
   "metadata": {},
   "source": [
    "All model retriving data in error state hence we will go with Linear regression model"
   ]
  },
  {
   "cell_type": "markdown",
   "id": "0d4ba7f7",
   "metadata": {},
   "source": [
    "AS WE CAN SEE ALL CLASSIFIER MODELS ARE NOT ABLE TO RETRIVE ANY INFORMTION HENCE FOR CROSS VALIDATION WE WILL CHECK WITH DECISION TREE SEPERATELY"
   ]
  },
  {
   "cell_type": "code",
   "execution_count": 323,
   "id": "f665824b",
   "metadata": {},
   "outputs": [
    {
     "name": "stdout",
     "output_type": "stream",
     "text": [
      "Accuracy Score DecisionTreeClassifier() is:\n",
      "0.0\n",
      "[[0 0 0 1 0 0 0]\n",
      " [0 0 0 0 0 0 0]\n",
      " [0 1 0 0 0 0 0]\n",
      " [0 0 0 0 1 0 0]\n",
      " [0 0 0 0 0 0 0]\n",
      " [0 0 0 0 0 0 1]\n",
      " [0 0 0 0 0 0 0]]\n",
      "              precision    recall  f1-score   support\n",
      "\n",
      "          63       0.00      0.00      0.00       1.0\n",
      "          64       0.00      0.00      0.00       0.0\n",
      "          68       0.00      0.00      0.00       1.0\n",
      "          74       0.00      0.00      0.00       1.0\n",
      "          76       0.00      0.00      0.00       0.0\n",
      "          83       0.00      0.00      0.00       1.0\n",
      "          86       0.00      0.00      0.00       0.0\n",
      "\n",
      "    accuracy                           0.00       4.0\n",
      "   macro avg       0.00      0.00      0.00       4.0\n",
      "weighted avg       0.00      0.00      0.00       4.0\n",
      "\n"
     ]
    }
   ],
   "source": [
    "\n",
    "x_train, x_test, y_train, y_test= train_test_split(x,y,test_size=.11,random_state=5)\n",
    "m=DecisionTreeClassifier()\n",
    "m.fit(x_train,y_train)\n",
    "m.score(x_train,y_train)\n",
    "pred_test=m.predict(x_test)\n",
    "print('Accuracy Score',m,'is:')\n",
    "print(accuracy_score(y_test,pred_test))\n",
    "print(confusion_matrix(y_test,pred_test))\n",
    "print(classification_report(y_test,pred_test))"
   ]
  },
  {
   "cell_type": "code",
   "execution_count": 324,
   "id": "19842916",
   "metadata": {},
   "outputs": [
    {
     "name": "stdout",
     "output_type": "stream",
     "text": [
      "accuracy 0.2 Random state 14\n",
      "Best accuracy is 20.0 on Random state 14\n"
     ]
    }
   ],
   "source": [
    "#  calculate best test_size for Linear Regression\n",
    "maxAcc = 0\n",
    "maxRs=0\n",
    "\n",
    "for i in range(9,40):\n",
    "    i1 = i*0.01\n",
    "    x_train, x_test, y_train, y_test= train_test_split(x,y,test_size=i1)#=.11,random_state=i) #10====TS=0.02\n",
    "    lm=DecisionTreeClassifier()\n",
    "    lm.fit(x_train,y_train)\n",
    "    pred=lm.predict(x_test)\n",
    "    acc=lm.score(x_test,y_test)\n",
    "    #print('accuracy',acc,'Random state',i)\n",
    "    \n",
    "    if acc>maxAcc:\n",
    "        maxAcc=acc\n",
    "        maxRs=i\n",
    "        print('accuracy',maxAcc,'Random state',i)\n",
    "        \n",
    "print(\"Best accuracy is\",maxAcc*100,\"on Random state\",maxRs) \n",
    "# we can see below Random state we are getting good test size = 10 with 97% accuracy"
   ]
  },
  {
   "cell_type": "code",
   "execution_count": 245,
   "id": "aecab2ab",
   "metadata": {},
   "outputs": [
    {
     "name": "stdout",
     "output_type": "stream",
     "text": [
      "Accuracy Score DecisionTreeClassifier() is:\n",
      "accuracy 0.2 Random state 1\n",
      "Accuracy Score DecisionTreeClassifier() is:\n",
      "Accuracy Score DecisionTreeClassifier() is:\n",
      "Accuracy Score DecisionTreeClassifier() is:\n",
      "Accuracy Score DecisionTreeClassifier() is:\n",
      "Accuracy Score DecisionTreeClassifier() is:\n",
      "Accuracy Score DecisionTreeClassifier() is:\n",
      "Accuracy Score DecisionTreeClassifier() is:\n",
      "Accuracy Score DecisionTreeClassifier() is:\n",
      "Accuracy Score DecisionTreeClassifier() is:\n",
      "Accuracy Score DecisionTreeClassifier() is:\n",
      "Accuracy Score DecisionTreeClassifier() is:\n",
      "Accuracy Score DecisionTreeClassifier() is:\n",
      "Accuracy Score DecisionTreeClassifier() is:\n",
      "Accuracy Score DecisionTreeClassifier() is:\n",
      "Accuracy Score DecisionTreeClassifier() is:\n",
      "Accuracy Score DecisionTreeClassifier() is:\n",
      "Accuracy Score DecisionTreeClassifier() is:\n",
      "Accuracy Score DecisionTreeClassifier() is:\n",
      "Best accuracy is 20.0 on Random state 1\n"
     ]
    }
   ],
   "source": [
    "# to calculate best random_state for Linear Regression\n",
    "\n",
    "maxAcc = 0\n",
    "maxRs=0\n",
    "\n",
    "for i in range(1,20):\n",
    "    x_train, x_test, y_train, y_test= train_test_split(x,y,test_size=.17,random_state=i) \n",
    "    lm=DecisionTreeClassifier()\n",
    "    lm.fit(x_train,y_train)\n",
    "    pred=lm.predict(x_test)\n",
    "    acc=lm.score(x_test,y_test)\n",
    "    print('Accuracy Score',m,'is:')\n",
    "    \n",
    "    if acc>maxAcc:\n",
    "        maxAcc=acc\n",
    "        maxRs=i\n",
    "        print('accuracy',maxAcc,'Random state',i)\n",
    "        \n",
    "print(\"Best accuracy is\",maxAcc*100,\"on Random state\",maxRs) \n",
    "\n",
    "# we can see below random_state we are getting good random_state = 5 with 82% accuracy"
   ]
  },
  {
   "cell_type": "markdown",
   "id": "bf26996d",
   "metadata": {},
   "source": [
    "Hence with best combination of test_size and random_state we are getting accuracy is 20% only hence we will go with Linear regression"
   ]
  },
  {
   "cell_type": "markdown",
   "id": "c2800fc2",
   "metadata": {},
   "source": [
    "# Checking Accuracy for Linear Regression"
   ]
  },
  {
   "cell_type": "code",
   "execution_count": 337,
   "id": "5626ed3c",
   "metadata": {},
   "outputs": [
    {
     "data": {
      "text/plain": [
       "(96.23299031775528, 1.161447326205651, 1.6494296298549433)"
      ]
     },
     "execution_count": 337,
     "metadata": {},
     "output_type": "execute_result"
    }
   ],
   "source": [
    "x_train, x_test, y_train, y_test= train_test_split(x,y,test_size=.10,random_state=5) \n",
    "lm=LinearRegression()\n",
    "lm.fit(x_train,y_train)\n",
    "pred=lm.predict(x_test)\n",
    "acc=lm.score(x_test,y_test)\n",
    "\n",
    "#print(\"predicted values\",pred)\n",
    "#print(\"predicted values\",y_test)\n",
    "r2_score(y_test, pred)*100, mean_absolute_error(y_test, pred), np.sqrt(mean_squared_error(y_test, pred))"
   ]
  },
  {
   "cell_type": "markdown",
   "id": "c43dca96",
   "metadata": {},
   "source": [
    "# Now Model is predicting well approx 96%"
   ]
  },
  {
   "cell_type": "markdown",
   "id": "a7a0c538",
   "metadata": {},
   "source": [
    "# Cross validation Method"
   ]
  },
  {
   "cell_type": "code",
   "execution_count": 338,
   "id": "a9758b7e",
   "metadata": {},
   "outputs": [
    {
     "name": "stdout",
     "output_type": "stream",
     "text": [
      "at cross fold 2 the CV score is -2.8831472353384457 and accuracy score for training is 0.8132484257023688 and accuracy for testing is 0.9623299031775527\n",
      "at cross fold 3 the CV score is -6.421795992930687 and accuracy score for training is 0.8132484257023688 and accuracy for testing is 0.9623299031775527\n",
      "at cross fold 4 the CV score is -10.397876171505953 and accuracy score for training is 0.8132484257023688 and accuracy for testing is 0.9623299031775527\n",
      "at cross fold 5 the CV score is -16.43173519212174 and accuracy score for training is 0.8132484257023688 and accuracy for testing is 0.9623299031775527\n",
      "at cross fold 6 the CV score is -20.176817872546938 and accuracy score for training is 0.8132484257023688 and accuracy for testing is 0.9623299031775527\n",
      "at cross fold 7 the CV score is -39.09065001426061 and accuracy score for training is 0.8132484257023688 and accuracy for testing is 0.9623299031775527\n",
      "at cross fold 8 the CV score is -37.50557646771327 and accuracy score for training is 0.8132484257023688 and accuracy for testing is 0.9623299031775527\n",
      "at cross fold 9 the CV score is -43.88333827443084 and accuracy score for training is 0.8132484257023688 and accuracy for testing is 0.9623299031775527\n"
     ]
    }
   ],
   "source": [
    "pred_test=lm.predict(x_test)\n",
    "pred_train=lm.predict(x_train)\n",
    "\n",
    "train_accuracy=r2_score(y_train, pred_train)\n",
    "test_accuracy=r2_score(y_test, pred_test)\n",
    "\n",
    "from sklearn.model_selection import cross_val_score\n",
    "for j in range(2,10):\n",
    "    #lm=LinearRegression()\n",
    "    #lm.fit(x_train,y_train)\n",
    "    score= cross_val_score(lm,x,y,cv=j)\n",
    "    cv_score=score.mean()\n",
    "    print(f\"at cross fold {j} the CV score is {cv_score} and accuracy score for training is {train_accuracy} and accuracy for testing is {test_accuracy}\")"
   ]
  },
  {
   "cell_type": "markdown",
   "id": "97177a10",
   "metadata": {},
   "source": [
    "As suggested by Deepika mam, cross validation We can use it for regression also but mostly 90% we use for classification. \n",
    "\n",
    "and here we can see on Cross validation with k fold 9 the max accuracy is getting -43% for regression hence we will go with hyper parameter tunning"
   ]
  },
  {
   "cell_type": "markdown",
   "id": "788707f6",
   "metadata": {},
   "source": [
    "# Plotting Diagram for Linear Regression"
   ]
  },
  {
   "cell_type": "code",
   "execution_count": 339,
   "id": "72a1ec1f",
   "metadata": {},
   "outputs": [
    {
     "data": {
      "image/png": "[encoded data removed]",
      "text/plain": [
       "<Figure size 576x432 with 1 Axes>"
      ]
     },
     "metadata": {
      "needs_background": "light"
     },
     "output_type": "display_data"
    }
   ],
   "source": [
    "import matplotlib.pyplot as plt\n",
    "plt.figure(figsize=(8,6))\n",
    "plt.scatter(x=y_test,y=pred_test,color='r')\n",
    "plt.plot(y_test,y_test,color='b')\n",
    "plt.xlabel('Actual Charges',fontsize=14)\n",
    "plt.ylabel('Predicted Charges',fontsize=14)\n",
    "plt.title('Linear Regression',fontsize=18)\n",
    "plt.show()"
   ]
  },
  {
   "cell_type": "markdown",
   "id": "5e679b95",
   "metadata": {},
   "source": [
    "we can see by Cross Validation Methos the Data is Overfitting hence we need to apply Hyper parameter Tunning technique"
   ]
  },
  {
   "cell_type": "markdown",
   "id": "8df2a18e",
   "metadata": {},
   "source": [
    "# Hyper Parameter Tunning"
   ]
  },
  {
   "cell_type": "markdown",
   "id": "c444cf7d",
   "metadata": {},
   "source": [
    "as shown in Second Project session"
   ]
  },
  {
   "cell_type": "code",
   "execution_count": 341,
   "id": "5bfc85f4",
   "metadata": {},
   "outputs": [],
   "source": [
    "from sklearn.model_selection import GridSearchCV\n",
    "from sklearn.model_selection import cross_val_score\n",
    "import warnings\n",
    "warnings. filterwarnings('ignore')"
   ]
  },
  {
   "cell_type": "code",
   "execution_count": 342,
   "id": "de8a38e4",
   "metadata": {},
   "outputs": [
    {
     "name": "stdout",
     "output_type": "stream",
     "text": [
      "{'alpha': 1, 'random_state': 1}\n"
     ]
    }
   ],
   "source": [
    "\n",
    "from sklearn.linear_model import Lasso\n",
    "\n",
    "parameters = {'alpha':[.0001, .001, .01, .1, 1, 10],'random_state': list(range(1,10))}\n",
    "ls = Lasso()\n",
    "\n",
    "clf = GridSearchCV(ls, parameters)\n",
    "clf.fit(x_train,y_train)\n",
    "\n",
    "print(clf.best_params_)\n"
   ]
  },
  {
   "cell_type": "code",
   "execution_count": 343,
   "id": "e6b9648c",
   "metadata": {},
   "outputs": [
    {
     "data": {
      "text/plain": [
       "0.8627219221053058"
      ]
     },
     "execution_count": 343,
     "metadata": {},
     "output_type": "execute_result"
    }
   ],
   "source": [
    "\n",
    "ls = Lasso(alpha=1, random_state=1)\n",
    "ls. fit(x_train,y_train)\n",
    "ls.score(x_train,y_train)\n",
    "pred_ls = ls.predict(x_test)\n",
    "#pred_ls=pred_ls.reshape(-1,1)\n",
    "Iss = r2_score(y_test,pred_ls)\n",
    "Iss\n"
   ]
  },
  {
   "cell_type": "markdown",
   "id": "7270da52",
   "metadata": {},
   "source": [
    "# Here Lasso regressor also predicting well with accuracy 86% but not better than Linear Regression"
   ]
  },
  {
   "cell_type": "code",
   "execution_count": 345,
   "id": "93f48996",
   "metadata": {},
   "outputs": [
    {
     "name": "stdout",
     "output_type": "stream",
     "text": [
      "{'criterion': 'mse', 'max_features': 'auto'}\n"
     ]
    }
   ],
   "source": [
    "from sklearn.model_selection import GridSearchCV\n",
    "from sklearn.ensemble import RandomForestRegressor\n",
    "\n",
    "parameters = {'criterion':['mse', 'mae'],'max_features':[\"auto\", \"sqrt\", \"log2\"]}\n",
    "rf =RandomForestRegressor()\n",
    "\n",
    "clf = GridSearchCV(rf, parameters)\n",
    "\n",
    "clf. fit(x_train,y_train)\n",
    "\n",
    "\n",
    "print (clf.best_params_)"
   ]
  },
  {
   "cell_type": "code",
   "execution_count": 346,
   "id": "389a7cbe",
   "metadata": {},
   "outputs": [
    {
     "name": "stdout",
     "output_type": "stream",
     "text": [
      "R2 Score:  8.257738461538366\n"
     ]
    }
   ],
   "source": [
    "\n",
    "rf= RandomForestRegressor(criterion=\"mse\",max_features=\"auto\")\n",
    "rf.fit(x_train, y_train)\n",
    "\n",
    "rf.score(x_train, y_train)\n",
    "\n",
    "pred_decision = rf.predict(x_test)\n",
    "\n",
    "rfs = r2_score(y_test,pred_decision)\n",
    "print(\"R2 Score: \" ,rfs*100)\n",
    "\n",
    "#rfscore = cross_val_score(rf, x, y, cv=2)\n",
    "#rfc = rfscore.mean()\n",
    "#print( 'Cross Val Score: ',rfc*100)"
   ]
  },
  {
   "cell_type": "markdown",
   "id": "2de46bad",
   "metadata": {},
   "source": [
    "Here RandomForestRegressor is not predicting well hence we can ignore this model for this data"
   ]
  },
  {
   "cell_type": "code",
   "execution_count": 347,
   "id": "a26b5031",
   "metadata": {},
   "outputs": [],
   "source": [
    "from sklearn.tree import DecisionTreeRegressor\n",
    "\n",
    "parameters={'max_features':['auto','sqrt','log2'],\n",
    "            'max_depth': [4,5,6,7,8],\n",
    "            #'criterion':['gini','entropy']\n",
    "           }"
   ]
  },
  {
   "cell_type": "code",
   "execution_count": 352,
   "id": "fd731006",
   "metadata": {},
   "outputs": [
    {
     "data": {
      "text/plain": [
       "{'max_depth': 5, 'max_features': 'log2'}"
      ]
     },
     "execution_count": 352,
     "metadata": {},
     "output_type": "execute_result"
    }
   ],
   "source": [
    "GCV=GridSearchCV(DecisionTreeRegressor(),parameters,cv=2,scoring=\"accuracy\")\n",
    "\n",
    "GCV.fit(x_train,y_train)\n",
    "GCV.best_params_"
   ]
  },
  {
   "cell_type": "code",
   "execution_count": 353,
   "id": "4f6ed586",
   "metadata": {},
   "outputs": [
    {
     "data": {
      "text/plain": [
       "-0.6153846153846152"
      ]
     },
     "execution_count": 353,
     "metadata": {},
     "output_type": "execute_result"
    }
   ],
   "source": [
    "GCV_pred=GCV.best_estimator_.predict(x_test)\n",
    "r2_score(y_test,GCV_pred)"
   ]
  },
  {
   "cell_type": "markdown",
   "id": "9aefee41",
   "metadata": {},
   "source": [
    "Decision Tree Regressor is also not predicting well hence we will ignore this model for this data"
   ]
  },
  {
   "cell_type": "markdown",
   "id": "c43f74a9",
   "metadata": {},
   "source": [
    "At the end we can Linear Regression model is working well on Baseball data hence we are going to save this model for predicting Upcoming Data"
   ]
  },
  {
   "cell_type": "markdown",
   "id": "07129030",
   "metadata": {},
   "source": [
    "# saving the model in pickel format"
   ]
  },
  {
   "cell_type": "code",
   "execution_count": 359,
   "id": "b461f3a5",
   "metadata": {},
   "outputs": [
    {
     "data": {
      "text/plain": [
       "['Baseball.pk1']"
      ]
     },
     "execution_count": 359,
     "metadata": {},
     "output_type": "execute_result"
    }
   ],
   "source": [
    "import joblib\n",
    "joblib.dump(r2_score(y_test, pred)*100,\"Baseball.pk1\")"
   ]
  },
  {
   "cell_type": "markdown",
   "id": "4bf48e24",
   "metadata": {},
   "source": [
    "# Testing the one sample Data with Linear Regression "
   ]
  },
  {
   "cell_type": "code",
   "execution_count": 365,
   "id": "22839906",
   "metadata": {},
   "outputs": [],
   "source": [
    "t=np.array([0.322037,0.0,0.0,1.116168,-0.432228,-0.703026,-0.042862,0.678550,0.710994,-1.732896,0.468029,1.333006,1.669209]) "
   ]
  },
  {
   "cell_type": "code",
   "execution_count": 366,
   "id": "d38ce2e1",
   "metadata": {},
   "outputs": [
    {
     "data": {
      "text/plain": [
       "(13,)"
      ]
     },
     "execution_count": 366,
     "metadata": {},
     "output_type": "execute_result"
    }
   ],
   "source": [
    "t.shape"
   ]
  },
  {
   "cell_type": "code",
   "execution_count": 367,
   "id": "0a4059f3",
   "metadata": {},
   "outputs": [
    {
     "data": {
      "text/plain": [
       "(1, 13)"
      ]
     },
     "execution_count": 367,
     "metadata": {},
     "output_type": "execute_result"
    }
   ],
   "source": [
    "t=t.reshape(1,-1)\n",
    "t.shape"
   ]
  },
  {
   "cell_type": "code",
   "execution_count": 368,
   "id": "e965561a",
   "metadata": {},
   "outputs": [
    {
     "data": {
      "text/plain": [
       "array([93.42421376])"
      ]
     },
     "execution_count": 368,
     "metadata": {},
     "output_type": "execute_result"
    }
   ],
   "source": [
    "lm.predict(t)"
   ]
  }
 ],
 "metadata": {
  "kernelspec": {
   "display_name": "Python 3 (ipykernel)",
   "language": "python",
   "name": "python3"
  },
  "language_info": {
   "codemirror_mode": {
    "name": "ipython",
    "version": 3
   },
   "file_extension": ".py",
   "mimetype": "text/x-python",
   "name": "python",
   "nbconvert_exporter": "python",
   "pygments_lexer": "ipython3",
   "version": "3.9.7"
  }
 },
 "nbformat": 4,
 "nbformat_minor": 5
}
