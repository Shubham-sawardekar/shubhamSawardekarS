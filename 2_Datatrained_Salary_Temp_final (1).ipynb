{
 "cells": [
  {
   "cell_type": "code",
   "execution_count": 1,
   "id": "d7e0466c",
   "metadata": {},
   "outputs": [],
   "source": [
    "import numpy as np\n",
    "import pandas as pd\n",
    "import matplotlib.pyplot as plt\n",
    "import seaborn as sns\n",
    "import sklearn\n",
    "from sklearn import preprocessing\n",
    "from sklearn.model_selection import train_test_split\n",
    "\n",
    "import warnings\n",
    "warnings.filterwarnings('ignore')"
   ]
  },
  {
   "cell_type": "code",
   "execution_count": 2,
   "id": "2412388d",
   "metadata": {},
   "outputs": [
    {
     "data": {
      "text/html": [
       "<div>\n",
       "<style scoped>\n",
       "    .dataframe tbody tr th:only-of-type {\n",
       "        vertical-align: middle;\n",
       "    }\n",
       "\n",
       "    .dataframe tbody tr th {\n",
       "        vertical-align: top;\n",
       "    }\n",
       "\n",
       "    .dataframe thead th {\n",
       "        text-align: right;\n",
       "    }\n",
       "</style>\n",
       "<table border=\"1\" class=\"dataframe\">\n",
       "  <thead>\n",
       "    <tr style=\"text-align: right;\">\n",
       "      <th></th>\n",
       "      <th>rank</th>\n",
       "      <th>discipline</th>\n",
       "      <th>yrs.since.phd</th>\n",
       "      <th>yrs.service</th>\n",
       "      <th>sex</th>\n",
       "      <th>salary</th>\n",
       "    </tr>\n",
       "  </thead>\n",
       "  <tbody>\n",
       "    <tr>\n",
       "      <th>0</th>\n",
       "      <td>Prof</td>\n",
       "      <td>B</td>\n",
       "      <td>19</td>\n",
       "      <td>18</td>\n",
       "      <td>Male</td>\n",
       "      <td>139750</td>\n",
       "    </tr>\n",
       "    <tr>\n",
       "      <th>1</th>\n",
       "      <td>Prof</td>\n",
       "      <td>B</td>\n",
       "      <td>20</td>\n",
       "      <td>16</td>\n",
       "      <td>Male</td>\n",
       "      <td>173200</td>\n",
       "    </tr>\n",
       "    <tr>\n",
       "      <th>2</th>\n",
       "      <td>AsstProf</td>\n",
       "      <td>B</td>\n",
       "      <td>4</td>\n",
       "      <td>3</td>\n",
       "      <td>Male</td>\n",
       "      <td>79750</td>\n",
       "    </tr>\n",
       "    <tr>\n",
       "      <th>3</th>\n",
       "      <td>Prof</td>\n",
       "      <td>B</td>\n",
       "      <td>45</td>\n",
       "      <td>39</td>\n",
       "      <td>Male</td>\n",
       "      <td>115000</td>\n",
       "    </tr>\n",
       "    <tr>\n",
       "      <th>4</th>\n",
       "      <td>Prof</td>\n",
       "      <td>B</td>\n",
       "      <td>40</td>\n",
       "      <td>41</td>\n",
       "      <td>Male</td>\n",
       "      <td>141500</td>\n",
       "    </tr>\n",
       "    <tr>\n",
       "      <th>...</th>\n",
       "      <td>...</td>\n",
       "      <td>...</td>\n",
       "      <td>...</td>\n",
       "      <td>...</td>\n",
       "      <td>...</td>\n",
       "      <td>...</td>\n",
       "    </tr>\n",
       "    <tr>\n",
       "      <th>392</th>\n",
       "      <td>Prof</td>\n",
       "      <td>A</td>\n",
       "      <td>33</td>\n",
       "      <td>30</td>\n",
       "      <td>Male</td>\n",
       "      <td>103106</td>\n",
       "    </tr>\n",
       "    <tr>\n",
       "      <th>393</th>\n",
       "      <td>Prof</td>\n",
       "      <td>A</td>\n",
       "      <td>31</td>\n",
       "      <td>19</td>\n",
       "      <td>Male</td>\n",
       "      <td>150564</td>\n",
       "    </tr>\n",
       "    <tr>\n",
       "      <th>394</th>\n",
       "      <td>Prof</td>\n",
       "      <td>A</td>\n",
       "      <td>42</td>\n",
       "      <td>25</td>\n",
       "      <td>Male</td>\n",
       "      <td>101738</td>\n",
       "    </tr>\n",
       "    <tr>\n",
       "      <th>395</th>\n",
       "      <td>Prof</td>\n",
       "      <td>A</td>\n",
       "      <td>25</td>\n",
       "      <td>15</td>\n",
       "      <td>Male</td>\n",
       "      <td>95329</td>\n",
       "    </tr>\n",
       "    <tr>\n",
       "      <th>396</th>\n",
       "      <td>AsstProf</td>\n",
       "      <td>A</td>\n",
       "      <td>8</td>\n",
       "      <td>4</td>\n",
       "      <td>Male</td>\n",
       "      <td>81035</td>\n",
       "    </tr>\n",
       "  </tbody>\n",
       "</table>\n",
       "<p>397 rows × 6 columns</p>\n",
       "</div>"
      ],
      "text/plain": [
       "         rank discipline  yrs.since.phd  yrs.service   sex  salary\n",
       "0        Prof          B             19           18  Male  139750\n",
       "1        Prof          B             20           16  Male  173200\n",
       "2    AsstProf          B              4            3  Male   79750\n",
       "3        Prof          B             45           39  Male  115000\n",
       "4        Prof          B             40           41  Male  141500\n",
       "..        ...        ...            ...          ...   ...     ...\n",
       "392      Prof          A             33           30  Male  103106\n",
       "393      Prof          A             31           19  Male  150564\n",
       "394      Prof          A             42           25  Male  101738\n",
       "395      Prof          A             25           15  Male   95329\n",
       "396  AsstProf          A              8            4  Male   81035\n",
       "\n",
       "[397 rows x 6 columns]"
      ]
     },
     "execution_count": 2,
     "metadata": {},
     "output_type": "execute_result"
    }
   ],
   "source": [
    "df=pd.read_csv('https://raw.githubusercontent.com/dsrscientist/dataset3/main/Salaries.csv')\n",
    "df"
   ]
  },
  {
   "cell_type": "code",
   "execution_count": 3,
   "id": "77e89d78",
   "metadata": {},
   "outputs": [
    {
     "data": {
      "text/plain": [
       "rank             object\n",
       "discipline       object\n",
       "yrs.since.phd     int64\n",
       "yrs.service       int64\n",
       "sex              object\n",
       "salary            int64\n",
       "dtype: object"
      ]
     },
     "execution_count": 3,
     "metadata": {},
     "output_type": "execute_result"
    }
   ],
   "source": [
    "df.dtypes"
   ]
  },
  {
   "cell_type": "code",
   "execution_count": 4,
   "id": "5e1eaee9",
   "metadata": {},
   "outputs": [
    {
     "data": {
      "text/html": [
       "<div>\n",
       "<style scoped>\n",
       "    .dataframe tbody tr th:only-of-type {\n",
       "        vertical-align: middle;\n",
       "    }\n",
       "\n",
       "    .dataframe tbody tr th {\n",
       "        vertical-align: top;\n",
       "    }\n",
       "\n",
       "    .dataframe thead th {\n",
       "        text-align: right;\n",
       "    }\n",
       "</style>\n",
       "<table border=\"1\" class=\"dataframe\">\n",
       "  <thead>\n",
       "    <tr style=\"text-align: right;\">\n",
       "      <th></th>\n",
       "      <th>yrs.since.phd</th>\n",
       "      <th>yrs.service</th>\n",
       "      <th>salary</th>\n",
       "    </tr>\n",
       "  </thead>\n",
       "  <tbody>\n",
       "    <tr>\n",
       "      <th>count</th>\n",
       "      <td>397.000000</td>\n",
       "      <td>397.000000</td>\n",
       "      <td>397.000000</td>\n",
       "    </tr>\n",
       "    <tr>\n",
       "      <th>mean</th>\n",
       "      <td>22.314861</td>\n",
       "      <td>17.614610</td>\n",
       "      <td>113706.458438</td>\n",
       "    </tr>\n",
       "    <tr>\n",
       "      <th>std</th>\n",
       "      <td>12.887003</td>\n",
       "      <td>13.006024</td>\n",
       "      <td>30289.038695</td>\n",
       "    </tr>\n",
       "    <tr>\n",
       "      <th>min</th>\n",
       "      <td>1.000000</td>\n",
       "      <td>0.000000</td>\n",
       "      <td>57800.000000</td>\n",
       "    </tr>\n",
       "    <tr>\n",
       "      <th>25%</th>\n",
       "      <td>12.000000</td>\n",
       "      <td>7.000000</td>\n",
       "      <td>91000.000000</td>\n",
       "    </tr>\n",
       "    <tr>\n",
       "      <th>50%</th>\n",
       "      <td>21.000000</td>\n",
       "      <td>16.000000</td>\n",
       "      <td>107300.000000</td>\n",
       "    </tr>\n",
       "    <tr>\n",
       "      <th>75%</th>\n",
       "      <td>32.000000</td>\n",
       "      <td>27.000000</td>\n",
       "      <td>134185.000000</td>\n",
       "    </tr>\n",
       "    <tr>\n",
       "      <th>max</th>\n",
       "      <td>56.000000</td>\n",
       "      <td>60.000000</td>\n",
       "      <td>231545.000000</td>\n",
       "    </tr>\n",
       "  </tbody>\n",
       "</table>\n",
       "</div>"
      ],
      "text/plain": [
       "       yrs.since.phd  yrs.service         salary\n",
       "count     397.000000   397.000000     397.000000\n",
       "mean       22.314861    17.614610  113706.458438\n",
       "std        12.887003    13.006024   30289.038695\n",
       "min         1.000000     0.000000   57800.000000\n",
       "25%        12.000000     7.000000   91000.000000\n",
       "50%        21.000000    16.000000  107300.000000\n",
       "75%        32.000000    27.000000  134185.000000\n",
       "max        56.000000    60.000000  231545.000000"
      ]
     },
     "execution_count": 4,
     "metadata": {},
     "output_type": "execute_result"
    }
   ],
   "source": [
    "df.describe()"
   ]
  },
  {
   "cell_type": "code",
   "execution_count": 5,
   "id": "0e0ea11a",
   "metadata": {},
   "outputs": [
    {
     "data": {
      "text/plain": [
       "Index(['rank', 'discipline', 'yrs.since.phd', 'yrs.service', 'sex', 'salary'], dtype='object')"
      ]
     },
     "execution_count": 5,
     "metadata": {},
     "output_type": "execute_result"
    }
   ],
   "source": [
    "df.columns"
   ]
  },
  {
   "cell_type": "markdown",
   "id": "24064384",
   "metadata": {},
   "source": [
    "as we can see above we are getting only correlation for numeric Data"
   ]
  },
  {
   "cell_type": "markdown",
   "id": "dc90ef41",
   "metadata": {},
   "source": [
    "# Label Encoder"
   ]
  },
  {
   "cell_type": "code",
   "execution_count": 7,
   "id": "c33f1dd7",
   "metadata": {},
   "outputs": [],
   "source": [
    "lencode=preprocessing.LabelEncoder()\n",
    "df['sex']=lencode.fit_transform(df['sex'])"
   ]
  },
  {
   "cell_type": "code",
   "execution_count": 8,
   "id": "aca02c3b",
   "metadata": {},
   "outputs": [
    {
     "data": {
      "text/plain": [
       "array([1, 0], dtype=int64)"
      ]
     },
     "execution_count": 8,
     "metadata": {},
     "output_type": "execute_result"
    }
   ],
   "source": [
    "df.sex.unique()"
   ]
  },
  {
   "cell_type": "code",
   "execution_count": 9,
   "id": "416cceae",
   "metadata": {},
   "outputs": [],
   "source": [
    "lencode=preprocessing.LabelEncoder()\n",
    "df['rank']=lencode.fit_transform(df['rank'])"
   ]
  },
  {
   "cell_type": "code",
   "execution_count": 10,
   "id": "1ddd14eb",
   "metadata": {},
   "outputs": [
    {
     "data": {
      "text/plain": [
       "array([2, 1, 0])"
      ]
     },
     "execution_count": 10,
     "metadata": {},
     "output_type": "execute_result"
    }
   ],
   "source": [
    "df['rank'].unique()"
   ]
  },
  {
   "cell_type": "code",
   "execution_count": 11,
   "id": "05c2fa1b",
   "metadata": {},
   "outputs": [],
   "source": [
    "lencode=preprocessing.LabelEncoder()\n",
    "df['discipline']=lencode.fit_transform(df['discipline'])"
   ]
  },
  {
   "cell_type": "code",
   "execution_count": 12,
   "id": "2f3b4c8b",
   "metadata": {},
   "outputs": [
    {
     "data": {
      "text/plain": [
       "array([1, 0])"
      ]
     },
     "execution_count": 12,
     "metadata": {},
     "output_type": "execute_result"
    }
   ],
   "source": [
    "df.discipline.unique()"
   ]
  },
  {
   "cell_type": "code",
   "execution_count": 13,
   "id": "edb9c2a7",
   "metadata": {},
   "outputs": [
    {
     "data": {
      "text/html": [
       "<div>\n",
       "<style scoped>\n",
       "    .dataframe tbody tr th:only-of-type {\n",
       "        vertical-align: middle;\n",
       "    }\n",
       "\n",
       "    .dataframe tbody tr th {\n",
       "        vertical-align: top;\n",
       "    }\n",
       "\n",
       "    .dataframe thead th {\n",
       "        text-align: right;\n",
       "    }\n",
       "</style>\n",
       "<table border=\"1\" class=\"dataframe\">\n",
       "  <thead>\n",
       "    <tr style=\"text-align: right;\">\n",
       "      <th></th>\n",
       "      <th>rank</th>\n",
       "      <th>discipline</th>\n",
       "      <th>yrs.since.phd</th>\n",
       "      <th>yrs.service</th>\n",
       "      <th>sex</th>\n",
       "      <th>salary</th>\n",
       "    </tr>\n",
       "  </thead>\n",
       "  <tbody>\n",
       "    <tr>\n",
       "      <th>0</th>\n",
       "      <td>2</td>\n",
       "      <td>1</td>\n",
       "      <td>19</td>\n",
       "      <td>18</td>\n",
       "      <td>1</td>\n",
       "      <td>139750</td>\n",
       "    </tr>\n",
       "    <tr>\n",
       "      <th>1</th>\n",
       "      <td>2</td>\n",
       "      <td>1</td>\n",
       "      <td>20</td>\n",
       "      <td>16</td>\n",
       "      <td>1</td>\n",
       "      <td>173200</td>\n",
       "    </tr>\n",
       "    <tr>\n",
       "      <th>2</th>\n",
       "      <td>1</td>\n",
       "      <td>1</td>\n",
       "      <td>4</td>\n",
       "      <td>3</td>\n",
       "      <td>1</td>\n",
       "      <td>79750</td>\n",
       "    </tr>\n",
       "    <tr>\n",
       "      <th>3</th>\n",
       "      <td>2</td>\n",
       "      <td>1</td>\n",
       "      <td>45</td>\n",
       "      <td>39</td>\n",
       "      <td>1</td>\n",
       "      <td>115000</td>\n",
       "    </tr>\n",
       "    <tr>\n",
       "      <th>4</th>\n",
       "      <td>2</td>\n",
       "      <td>1</td>\n",
       "      <td>40</td>\n",
       "      <td>41</td>\n",
       "      <td>1</td>\n",
       "      <td>141500</td>\n",
       "    </tr>\n",
       "  </tbody>\n",
       "</table>\n",
       "</div>"
      ],
      "text/plain": [
       "   rank  discipline  yrs.since.phd  yrs.service  sex  salary\n",
       "0     2           1             19           18    1  139750\n",
       "1     2           1             20           16    1  173200\n",
       "2     1           1              4            3    1   79750\n",
       "3     2           1             45           39    1  115000\n",
       "4     2           1             40           41    1  141500"
      ]
     },
     "execution_count": 13,
     "metadata": {},
     "output_type": "execute_result"
    }
   ],
   "source": [
    "df.head()"
   ]
  },
  {
   "cell_type": "code",
   "execution_count": 14,
   "id": "5ec9efc0",
   "metadata": {},
   "outputs": [
    {
     "data": {
      "text/plain": [
       "rank             int32\n",
       "discipline       int32\n",
       "yrs.since.phd    int64\n",
       "yrs.service      int64\n",
       "sex              int64\n",
       "salary           int64\n",
       "dtype: object"
      ]
     },
     "execution_count": 14,
     "metadata": {},
     "output_type": "execute_result"
    }
   ],
   "source": [
    "df.dtypes"
   ]
  },
  {
   "cell_type": "code",
   "execution_count": 15,
   "id": "d523676a",
   "metadata": {},
   "outputs": [
    {
     "data": {
      "text/plain": [
       "<seaborn.axisgrid.PairGrid at 0x1e5d5de94f0>"
      ]
     },
     "execution_count": 15,
     "metadata": {},
     "output_type": "execute_result"
    },
    {
     "data": {
      "image/png": "[encoded data removed]",
      "text/plain": [
       "<Figure size 1080x1080 with 42 Axes>"
      ]
     },
     "metadata": {
      "needs_background": "light"
     },
     "output_type": "display_data"
    }
   ],
   "source": [
    "sns.pairplot(data=df, diag_kind='kde')"
   ]
  },
  {
   "cell_type": "markdown",
   "id": "39d3e065",
   "metadata": {},
   "source": [
    "# Will check Description to find out skewness and Outliers"
   ]
  },
  {
   "cell_type": "code",
   "execution_count": 16,
   "id": "5523a129",
   "metadata": {},
   "outputs": [
    {
     "data": {
      "text/html": [
       "<div>\n",
       "<style scoped>\n",
       "    .dataframe tbody tr th:only-of-type {\n",
       "        vertical-align: middle;\n",
       "    }\n",
       "\n",
       "    .dataframe tbody tr th {\n",
       "        vertical-align: top;\n",
       "    }\n",
       "\n",
       "    .dataframe thead th {\n",
       "        text-align: right;\n",
       "    }\n",
       "</style>\n",
       "<table border=\"1\" class=\"dataframe\">\n",
       "  <thead>\n",
       "    <tr style=\"text-align: right;\">\n",
       "      <th></th>\n",
       "      <th>rank</th>\n",
       "      <th>discipline</th>\n",
       "      <th>yrs.since.phd</th>\n",
       "      <th>yrs.service</th>\n",
       "      <th>sex</th>\n",
       "      <th>salary</th>\n",
       "    </tr>\n",
       "  </thead>\n",
       "  <tbody>\n",
       "    <tr>\n",
       "      <th>count</th>\n",
       "      <td>397.000000</td>\n",
       "      <td>397.000000</td>\n",
       "      <td>397.000000</td>\n",
       "      <td>397.000000</td>\n",
       "      <td>397.000000</td>\n",
       "      <td>397.000000</td>\n",
       "    </tr>\n",
       "    <tr>\n",
       "      <th>mean</th>\n",
       "      <td>1.508816</td>\n",
       "      <td>0.544081</td>\n",
       "      <td>22.314861</td>\n",
       "      <td>17.614610</td>\n",
       "      <td>0.901763</td>\n",
       "      <td>113706.458438</td>\n",
       "    </tr>\n",
       "    <tr>\n",
       "      <th>std</th>\n",
       "      <td>0.757486</td>\n",
       "      <td>0.498682</td>\n",
       "      <td>12.887003</td>\n",
       "      <td>13.006024</td>\n",
       "      <td>0.298010</td>\n",
       "      <td>30289.038695</td>\n",
       "    </tr>\n",
       "    <tr>\n",
       "      <th>min</th>\n",
       "      <td>0.000000</td>\n",
       "      <td>0.000000</td>\n",
       "      <td>1.000000</td>\n",
       "      <td>0.000000</td>\n",
       "      <td>0.000000</td>\n",
       "      <td>57800.000000</td>\n",
       "    </tr>\n",
       "    <tr>\n",
       "      <th>25%</th>\n",
       "      <td>1.000000</td>\n",
       "      <td>0.000000</td>\n",
       "      <td>12.000000</td>\n",
       "      <td>7.000000</td>\n",
       "      <td>1.000000</td>\n",
       "      <td>91000.000000</td>\n",
       "    </tr>\n",
       "    <tr>\n",
       "      <th>50%</th>\n",
       "      <td>2.000000</td>\n",
       "      <td>1.000000</td>\n",
       "      <td>21.000000</td>\n",
       "      <td>16.000000</td>\n",
       "      <td>1.000000</td>\n",
       "      <td>107300.000000</td>\n",
       "    </tr>\n",
       "    <tr>\n",
       "      <th>75%</th>\n",
       "      <td>2.000000</td>\n",
       "      <td>1.000000</td>\n",
       "      <td>32.000000</td>\n",
       "      <td>27.000000</td>\n",
       "      <td>1.000000</td>\n",
       "      <td>134185.000000</td>\n",
       "    </tr>\n",
       "    <tr>\n",
       "      <th>max</th>\n",
       "      <td>2.000000</td>\n",
       "      <td>1.000000</td>\n",
       "      <td>56.000000</td>\n",
       "      <td>60.000000</td>\n",
       "      <td>1.000000</td>\n",
       "      <td>231545.000000</td>\n",
       "    </tr>\n",
       "  </tbody>\n",
       "</table>\n",
       "</div>"
      ],
      "text/plain": [
       "             rank  discipline  yrs.since.phd  yrs.service         sex  \\\n",
       "count  397.000000  397.000000     397.000000   397.000000  397.000000   \n",
       "mean     1.508816    0.544081      22.314861    17.614610    0.901763   \n",
       "std      0.757486    0.498682      12.887003    13.006024    0.298010   \n",
       "min      0.000000    0.000000       1.000000     0.000000    0.000000   \n",
       "25%      1.000000    0.000000      12.000000     7.000000    1.000000   \n",
       "50%      2.000000    1.000000      21.000000    16.000000    1.000000   \n",
       "75%      2.000000    1.000000      32.000000    27.000000    1.000000   \n",
       "max      2.000000    1.000000      56.000000    60.000000    1.000000   \n",
       "\n",
       "              salary  \n",
       "count     397.000000  \n",
       "mean   113706.458438  \n",
       "std     30289.038695  \n",
       "min     57800.000000  \n",
       "25%     91000.000000  \n",
       "50%    107300.000000  \n",
       "75%    134185.000000  \n",
       "max    231545.000000  "
      ]
     },
     "execution_count": 16,
     "metadata": {},
     "output_type": "execute_result"
    }
   ],
   "source": [
    "df.describe()"
   ]
  },
  {
   "cell_type": "markdown",
   "id": "1d31d0ee",
   "metadata": {},
   "source": [
    "we can see yrs.since.phd and yrs.service having high std dev. Possibilities we will have outliers"
   ]
  },
  {
   "cell_type": "markdown",
   "id": "db9b12fd",
   "metadata": {},
   "source": [
    "if mean > 50% then we have skewness: yrs.since.phd, yrs.service"
   ]
  },
  {
   "cell_type": "markdown",
   "id": "021d0a3e",
   "metadata": {},
   "source": [
    "Comparison in 75% and Max to find Outliers columns: yrs.since.phd, yrs.service"
   ]
  },
  {
   "cell_type": "markdown",
   "id": "171e73c5",
   "metadata": {},
   "source": [
    "# First validating the Outliers using Percentile"
   ]
  },
  {
   "cell_type": "code",
   "execution_count": 17,
   "id": "e82a77c2",
   "metadata": {},
   "outputs": [
    {
     "data": {
      "text/plain": [
       "rank                AxesSubplot(0.125,0.536818;0.110714x0.343182)\n",
       "discipline       AxesSubplot(0.257857,0.536818;0.110714x0.343182)\n",
       "yrs.since.phd    AxesSubplot(0.390714,0.536818;0.110714x0.343182)\n",
       "yrs.service      AxesSubplot(0.523571,0.536818;0.110714x0.343182)\n",
       "sex              AxesSubplot(0.656429,0.536818;0.110714x0.343182)\n",
       "salary           AxesSubplot(0.789286,0.536818;0.110714x0.343182)\n",
       "dtype: object"
      ]
     },
     "execution_count": 17,
     "metadata": {},
     "output_type": "execute_result"
    },
    {
     "data": {
      "image/png": "[encoded data removed]",
      "text/plain": [
       "<Figure size 720x720 with 12 Axes>"
      ]
     },
     "metadata": {
      "needs_background": "light"
     },
     "output_type": "display_data"
    }
   ],
   "source": [
    "df.plot(kind='box',subplots=True,layout=(2,6),figsize=(10,10))"
   ]
  },
  {
   "cell_type": "code",
   "execution_count": 18,
   "id": "e88dd053",
   "metadata": {},
   "outputs": [
    {
     "data": {
      "text/plain": [
       "0.0     1.0\n",
       "0.1     5.0\n",
       "0.2    10.0\n",
       "0.3    13.0\n",
       "0.4    17.4\n",
       "0.5    21.0\n",
       "0.6    25.0\n",
       "0.7    30.0\n",
       "0.8    35.0\n",
       "0.9    40.0\n",
       "1.0    56.0\n",
       "Name: yrs.since.phd, dtype: float64"
      ]
     },
     "execution_count": 18,
     "metadata": {},
     "output_type": "execute_result"
    }
   ],
   "source": [
    "df['yrs.since.phd'].quantile([0,0.1,0.2,0.3,0.4,0.5,0.6,0.7,0.8,0.9,1])"
   ]
  },
  {
   "cell_type": "code",
   "execution_count": 19,
   "id": "eb03c9a9",
   "metadata": {},
   "outputs": [
    {
     "data": {
      "text/plain": [
       "0.0     0.0\n",
       "0.1     3.0\n",
       "0.2     5.0\n",
       "0.3     8.0\n",
       "0.4    11.0\n",
       "0.5    16.0\n",
       "0.6    19.0\n",
       "0.7    23.0\n",
       "0.8    28.8\n",
       "0.9    37.0\n",
       "1.0    60.0\n",
       "Name: yrs.service, dtype: float64"
      ]
     },
     "execution_count": 19,
     "metadata": {},
     "output_type": "execute_result"
    }
   ],
   "source": [
    "df['yrs.service'].quantile([0,0.1,0.2,0.3,0.4,0.5,0.6,0.7,0.8,0.9,1])"
   ]
  },
  {
   "cell_type": "markdown",
   "id": "422551ce",
   "metadata": {},
   "source": [
    "# Removing Outliers using Z score "
   ]
  },
  {
   "cell_type": "code",
   "execution_count": 20,
   "id": "9271832d",
   "metadata": {},
   "outputs": [
    {
     "data": {
      "text/plain": [
       "(397, 6)"
      ]
     },
     "execution_count": 20,
     "metadata": {},
     "output_type": "execute_result"
    }
   ],
   "source": [
    "from scipy.stats import zscore\n",
    "import numpy as np\n",
    "z=np.abs(zscore(df))# abs will make it positive---> mod of x= x and -X---> if x=2 then mode of x=3 or x=-(-2)=2\n",
    "z.shape"
   ]
  },
  {
   "cell_type": "code",
   "execution_count": 21,
   "id": "4dbdc222",
   "metadata": {},
   "outputs": [
    {
     "name": "stdout",
     "output_type": "stream",
     "text": [
      "(array([  9,  19,  24,  34,  35,  43,  47,  48,  52,  63,  68,  84,  90,\n",
      "       103, 114, 119, 123, 127, 131, 132, 133, 148, 153, 179, 186, 218,\n",
      "       230, 231, 233, 237, 245, 253, 254, 274, 316, 323, 330, 332, 334,\n",
      "       341, 358, 361, 364], dtype=int64), array([4, 4, 4, 4, 4, 5, 4, 4, 4, 4, 4, 4, 4, 4, 4, 4, 4, 4, 3, 4, 4, 4,\n",
      "       4, 4, 4, 4, 4, 4, 4, 4, 4, 4, 4, 4, 4, 4, 3, 4, 4, 4, 4, 4, 5],\n",
      "      dtype=int64))\n"
     ]
    }
   ],
   "source": [
    "thresold=3\n",
    "print(np.where(z>3))"
   ]
  },
  {
   "cell_type": "code",
   "execution_count": 22,
   "id": "03adbe5d",
   "metadata": {},
   "outputs": [],
   "source": [
    "df_new=df[(z<3).all(axis=1)]"
   ]
  },
  {
   "cell_type": "code",
   "execution_count": 23,
   "id": "49a62c3f",
   "metadata": {},
   "outputs": [
    {
     "data": {
      "text/html": [
       "<div>\n",
       "<style scoped>\n",
       "    .dataframe tbody tr th:only-of-type {\n",
       "        vertical-align: middle;\n",
       "    }\n",
       "\n",
       "    .dataframe tbody tr th {\n",
       "        vertical-align: top;\n",
       "    }\n",
       "\n",
       "    .dataframe thead th {\n",
       "        text-align: right;\n",
       "    }\n",
       "</style>\n",
       "<table border=\"1\" class=\"dataframe\">\n",
       "  <thead>\n",
       "    <tr style=\"text-align: right;\">\n",
       "      <th></th>\n",
       "      <th>rank</th>\n",
       "      <th>discipline</th>\n",
       "      <th>yrs.since.phd</th>\n",
       "      <th>yrs.service</th>\n",
       "      <th>sex</th>\n",
       "      <th>salary</th>\n",
       "    </tr>\n",
       "  </thead>\n",
       "  <tbody>\n",
       "    <tr>\n",
       "      <th>0</th>\n",
       "      <td>2</td>\n",
       "      <td>1</td>\n",
       "      <td>19</td>\n",
       "      <td>18</td>\n",
       "      <td>1</td>\n",
       "      <td>139750</td>\n",
       "    </tr>\n",
       "    <tr>\n",
       "      <th>1</th>\n",
       "      <td>2</td>\n",
       "      <td>1</td>\n",
       "      <td>20</td>\n",
       "      <td>16</td>\n",
       "      <td>1</td>\n",
       "      <td>173200</td>\n",
       "    </tr>\n",
       "    <tr>\n",
       "      <th>2</th>\n",
       "      <td>1</td>\n",
       "      <td>1</td>\n",
       "      <td>4</td>\n",
       "      <td>3</td>\n",
       "      <td>1</td>\n",
       "      <td>79750</td>\n",
       "    </tr>\n",
       "    <tr>\n",
       "      <th>3</th>\n",
       "      <td>2</td>\n",
       "      <td>1</td>\n",
       "      <td>45</td>\n",
       "      <td>39</td>\n",
       "      <td>1</td>\n",
       "      <td>115000</td>\n",
       "    </tr>\n",
       "    <tr>\n",
       "      <th>4</th>\n",
       "      <td>2</td>\n",
       "      <td>1</td>\n",
       "      <td>40</td>\n",
       "      <td>41</td>\n",
       "      <td>1</td>\n",
       "      <td>141500</td>\n",
       "    </tr>\n",
       "    <tr>\n",
       "      <th>...</th>\n",
       "      <td>...</td>\n",
       "      <td>...</td>\n",
       "      <td>...</td>\n",
       "      <td>...</td>\n",
       "      <td>...</td>\n",
       "      <td>...</td>\n",
       "    </tr>\n",
       "    <tr>\n",
       "      <th>392</th>\n",
       "      <td>2</td>\n",
       "      <td>0</td>\n",
       "      <td>33</td>\n",
       "      <td>30</td>\n",
       "      <td>1</td>\n",
       "      <td>103106</td>\n",
       "    </tr>\n",
       "    <tr>\n",
       "      <th>393</th>\n",
       "      <td>2</td>\n",
       "      <td>0</td>\n",
       "      <td>31</td>\n",
       "      <td>19</td>\n",
       "      <td>1</td>\n",
       "      <td>150564</td>\n",
       "    </tr>\n",
       "    <tr>\n",
       "      <th>394</th>\n",
       "      <td>2</td>\n",
       "      <td>0</td>\n",
       "      <td>42</td>\n",
       "      <td>25</td>\n",
       "      <td>1</td>\n",
       "      <td>101738</td>\n",
       "    </tr>\n",
       "    <tr>\n",
       "      <th>395</th>\n",
       "      <td>2</td>\n",
       "      <td>0</td>\n",
       "      <td>25</td>\n",
       "      <td>15</td>\n",
       "      <td>1</td>\n",
       "      <td>95329</td>\n",
       "    </tr>\n",
       "    <tr>\n",
       "      <th>396</th>\n",
       "      <td>1</td>\n",
       "      <td>0</td>\n",
       "      <td>8</td>\n",
       "      <td>4</td>\n",
       "      <td>1</td>\n",
       "      <td>81035</td>\n",
       "    </tr>\n",
       "  </tbody>\n",
       "</table>\n",
       "<p>354 rows × 6 columns</p>\n",
       "</div>"
      ],
      "text/plain": [
       "     rank  discipline  yrs.since.phd  yrs.service  sex  salary\n",
       "0       2           1             19           18    1  139750\n",
       "1       2           1             20           16    1  173200\n",
       "2       1           1              4            3    1   79750\n",
       "3       2           1             45           39    1  115000\n",
       "4       2           1             40           41    1  141500\n",
       "..    ...         ...            ...          ...  ...     ...\n",
       "392     2           0             33           30    1  103106\n",
       "393     2           0             31           19    1  150564\n",
       "394     2           0             42           25    1  101738\n",
       "395     2           0             25           15    1   95329\n",
       "396     1           0              8            4    1   81035\n",
       "\n",
       "[354 rows x 6 columns]"
      ]
     },
     "execution_count": 23,
     "metadata": {},
     "output_type": "execute_result"
    }
   ],
   "source": [
    "df_new"
   ]
  },
  {
   "cell_type": "code",
   "execution_count": 24,
   "id": "d16f77e0",
   "metadata": {},
   "outputs": [],
   "source": [
    "#df['yrs.since.phd'].quantile([0,0.1,0.2,0.3,0.4,0.5,0.6,0.7,0.8,0.9,1])"
   ]
  },
  {
   "cell_type": "code",
   "execution_count": 25,
   "id": "61e37b00",
   "metadata": {},
   "outputs": [],
   "source": [
    "#df_new['yrs.since.phd'].quantile([0,0.1,0.2,0.3,0.4,0.5,0.6,0.7,0.8,0.9,1])"
   ]
  },
  {
   "cell_type": "code",
   "execution_count": 26,
   "id": "bedb84b7",
   "metadata": {},
   "outputs": [],
   "source": [
    "#df['yrs.service'].quantile([0,0.1,0.2,0.3,0.4,0.5,0.6,0.7,0.8,0.9,1])"
   ]
  },
  {
   "cell_type": "code",
   "execution_count": 27,
   "id": "e3317e91",
   "metadata": {},
   "outputs": [],
   "source": [
    "#df_new['yrs.service'].quantile([0,0.1,0.2,0.3,0.4,0.5,0.6,0.7,0.8,0.9,1])"
   ]
  },
  {
   "cell_type": "markdown",
   "id": "6ca9b2ee",
   "metadata": {},
   "source": [
    "# Checking correlationship"
   ]
  },
  {
   "cell_type": "markdown",
   "id": "1bca2b3e",
   "metadata": {},
   "source": [
    "As we can see the output is incremental hence try to remove the column which is less correlated with output Salary"
   ]
  },
  {
   "cell_type": "code",
   "execution_count": 28,
   "id": "86fc56ac",
   "metadata": {},
   "outputs": [
    {
     "data": {
      "image/png": "[encoded data removed]",
      "text/plain": [
       "<Figure size 720x720 with 2 Axes>"
      ]
     },
     "metadata": {
      "needs_background": "light"
     },
     "output_type": "display_data"
    }
   ],
   "source": [
    "df_corr=df_new.corr()\n",
    "plt.figure(figsize=(10,10))\n",
    "sns.heatmap(df_corr,annot=True,annot_kws={'size':10})\n",
    "plt.show()"
   ]
  },
  {
   "cell_type": "code",
   "execution_count": 29,
   "id": "cfb53d10",
   "metadata": {},
   "outputs": [
    {
     "data": {
      "text/html": [
       "<div>\n",
       "<style scoped>\n",
       "    .dataframe tbody tr th:only-of-type {\n",
       "        vertical-align: middle;\n",
       "    }\n",
       "\n",
       "    .dataframe tbody tr th {\n",
       "        vertical-align: top;\n",
       "    }\n",
       "\n",
       "    .dataframe thead th {\n",
       "        text-align: right;\n",
       "    }\n",
       "</style>\n",
       "<table border=\"1\" class=\"dataframe\">\n",
       "  <thead>\n",
       "    <tr style=\"text-align: right;\">\n",
       "      <th></th>\n",
       "      <th>rank</th>\n",
       "      <th>discipline</th>\n",
       "      <th>yrs.since.phd</th>\n",
       "      <th>yrs.service</th>\n",
       "      <th>salary</th>\n",
       "    </tr>\n",
       "  </thead>\n",
       "  <tbody>\n",
       "    <tr>\n",
       "      <th>0</th>\n",
       "      <td>2</td>\n",
       "      <td>1</td>\n",
       "      <td>19</td>\n",
       "      <td>18</td>\n",
       "      <td>139750</td>\n",
       "    </tr>\n",
       "    <tr>\n",
       "      <th>1</th>\n",
       "      <td>2</td>\n",
       "      <td>1</td>\n",
       "      <td>20</td>\n",
       "      <td>16</td>\n",
       "      <td>173200</td>\n",
       "    </tr>\n",
       "    <tr>\n",
       "      <th>2</th>\n",
       "      <td>1</td>\n",
       "      <td>1</td>\n",
       "      <td>4</td>\n",
       "      <td>3</td>\n",
       "      <td>79750</td>\n",
       "    </tr>\n",
       "    <tr>\n",
       "      <th>3</th>\n",
       "      <td>2</td>\n",
       "      <td>1</td>\n",
       "      <td>45</td>\n",
       "      <td>39</td>\n",
       "      <td>115000</td>\n",
       "    </tr>\n",
       "    <tr>\n",
       "      <th>4</th>\n",
       "      <td>2</td>\n",
       "      <td>1</td>\n",
       "      <td>40</td>\n",
       "      <td>41</td>\n",
       "      <td>141500</td>\n",
       "    </tr>\n",
       "  </tbody>\n",
       "</table>\n",
       "</div>"
      ],
      "text/plain": [
       "   rank  discipline  yrs.since.phd  yrs.service  salary\n",
       "0     2           1             19           18  139750\n",
       "1     2           1             20           16  173200\n",
       "2     1           1              4            3   79750\n",
       "3     2           1             45           39  115000\n",
       "4     2           1             40           41  141500"
      ]
     },
     "execution_count": 29,
     "metadata": {},
     "output_type": "execute_result"
    }
   ],
   "source": [
    "# removing Sex column as we can see it is having NAN values\n",
    "df_new.drop(columns='sex',axis=1,inplace=True)\n",
    "df_new.head()"
   ]
  },
  {
   "cell_type": "code",
   "execution_count": 30,
   "id": "420776a6",
   "metadata": {},
   "outputs": [
    {
     "data": {
      "text/html": [
       "<div>\n",
       "<style scoped>\n",
       "    .dataframe tbody tr th:only-of-type {\n",
       "        vertical-align: middle;\n",
       "    }\n",
       "\n",
       "    .dataframe tbody tr th {\n",
       "        vertical-align: top;\n",
       "    }\n",
       "\n",
       "    .dataframe thead th {\n",
       "        text-align: right;\n",
       "    }\n",
       "</style>\n",
       "<table border=\"1\" class=\"dataframe\">\n",
       "  <thead>\n",
       "    <tr style=\"text-align: right;\">\n",
       "      <th></th>\n",
       "      <th>rank</th>\n",
       "      <th>yrs.since.phd</th>\n",
       "      <th>yrs.service</th>\n",
       "      <th>salary</th>\n",
       "    </tr>\n",
       "  </thead>\n",
       "  <tbody>\n",
       "    <tr>\n",
       "      <th>0</th>\n",
       "      <td>2</td>\n",
       "      <td>19</td>\n",
       "      <td>18</td>\n",
       "      <td>139750</td>\n",
       "    </tr>\n",
       "    <tr>\n",
       "      <th>1</th>\n",
       "      <td>2</td>\n",
       "      <td>20</td>\n",
       "      <td>16</td>\n",
       "      <td>173200</td>\n",
       "    </tr>\n",
       "    <tr>\n",
       "      <th>2</th>\n",
       "      <td>1</td>\n",
       "      <td>4</td>\n",
       "      <td>3</td>\n",
       "      <td>79750</td>\n",
       "    </tr>\n",
       "    <tr>\n",
       "      <th>3</th>\n",
       "      <td>2</td>\n",
       "      <td>45</td>\n",
       "      <td>39</td>\n",
       "      <td>115000</td>\n",
       "    </tr>\n",
       "    <tr>\n",
       "      <th>4</th>\n",
       "      <td>2</td>\n",
       "      <td>40</td>\n",
       "      <td>41</td>\n",
       "      <td>141500</td>\n",
       "    </tr>\n",
       "  </tbody>\n",
       "</table>\n",
       "</div>"
      ],
      "text/plain": [
       "   rank  yrs.since.phd  yrs.service  salary\n",
       "0     2             19           18  139750\n",
       "1     2             20           16  173200\n",
       "2     1              4            3   79750\n",
       "3     2             45           39  115000\n",
       "4     2             40           41  141500"
      ]
     },
     "execution_count": 30,
     "metadata": {},
     "output_type": "execute_result"
    }
   ],
   "source": [
    "# removing Sex column as we can see it is having NAN values\n",
    "df_new.drop(columns='discipline',axis=1,inplace=True)\n",
    "df_new.head()"
   ]
  },
  {
   "cell_type": "code",
   "execution_count": 31,
   "id": "99088bb0",
   "metadata": {},
   "outputs": [
    {
     "data": {
      "image/png": "[encoded data removed]",
      "text/plain": [
       "<Figure size 720x720 with 2 Axes>"
      ]
     },
     "metadata": {
      "needs_background": "light"
     },
     "output_type": "display_data"
    }
   ],
   "source": [
    "df_corr=df_new.corr()\n",
    "plt.figure(figsize=(10,10))\n",
    "sns.heatmap(df_corr,annot=True,annot_kws={'size':10})\n",
    "plt.show()"
   ]
  },
  {
   "cell_type": "markdown",
   "id": "cd49e062",
   "metadata": {},
   "source": [
    "# Checking ISNULL values"
   ]
  },
  {
   "cell_type": "code",
   "execution_count": 32,
   "id": "fa8660e1",
   "metadata": {},
   "outputs": [
    {
     "data": {
      "text/plain": [
       "rank             0\n",
       "yrs.since.phd    0\n",
       "yrs.service      0\n",
       "salary           0\n",
       "dtype: int64"
      ]
     },
     "execution_count": 32,
     "metadata": {},
     "output_type": "execute_result"
    }
   ],
   "source": [
    "df_new.isnull().sum()"
   ]
  },
  {
   "cell_type": "code",
   "execution_count": 33,
   "id": "3a971469",
   "metadata": {},
   "outputs": [
    {
     "data": {
      "text/plain": [
       "<AxesSubplot:>"
      ]
     },
     "execution_count": 33,
     "metadata": {},
     "output_type": "execute_result"
    },
    {
     "data": {
      "image/png": "[encoded data removed]",
      "text/plain": [
       "<Figure size 432x288 with 2 Axes>"
      ]
     },
     "metadata": {
      "needs_background": "light"
     },
     "output_type": "display_data"
    }
   ],
   "source": [
    "sns.heatmap(df_new.isnull()) "
   ]
  },
  {
   "cell_type": "markdown",
   "id": "53a2b711",
   "metadata": {},
   "source": [
    "# Remove Skewness"
   ]
  },
  {
   "cell_type": "code",
   "execution_count": 34,
   "id": "2f15a991",
   "metadata": {},
   "outputs": [
    {
     "data": {
      "text/plain": [
       "<AxesSubplot:ylabel='Frequency'>"
      ]
     },
     "execution_count": 34,
     "metadata": {},
     "output_type": "execute_result"
    },
    {
     "data": {
      "image/png": "[encoded data removed]",
      "text/plain": [
       "<Figure size 432x288 with 1 Axes>"
      ]
     },
     "metadata": {
      "needs_background": "light"
     },
     "output_type": "display_data"
    }
   ],
   "source": [
    "df_new['yrs.since.phd'].plot.hist()"
   ]
  },
  {
   "cell_type": "code",
   "execution_count": 35,
   "id": "c30193a4",
   "metadata": {},
   "outputs": [],
   "source": [
    "from scipy.stats import boxcox\n",
    "df_new['yrs.since.phd']= boxcox(df_new['yrs.since.phd'],0)"
   ]
  },
  {
   "cell_type": "code",
   "execution_count": 36,
   "id": "27935ff3",
   "metadata": {},
   "outputs": [
    {
     "data": {
      "text/plain": [
       "<AxesSubplot:ylabel='Frequency'>"
      ]
     },
     "execution_count": 36,
     "metadata": {},
     "output_type": "execute_result"
    },
    {
     "data": {
      "image/png": "[encoded data removed]",
      "text/plain": [
       "<Figure size 432x288 with 1 Axes>"
      ]
     },
     "metadata": {
      "needs_background": "light"
     },
     "output_type": "display_data"
    }
   ],
   "source": [
    "df_new['yrs.since.phd'].plot.hist()"
   ]
  },
  {
   "cell_type": "markdown",
   "id": "563d1206",
   "metadata": {},
   "source": [
    "# Testing and Training"
   ]
  },
  {
   "cell_type": "code",
   "execution_count": 37,
   "id": "940a33f8",
   "metadata": {},
   "outputs": [],
   "source": [
    "x=df_new.drop(\"salary\",axis=1)"
   ]
  },
  {
   "cell_type": "code",
   "execution_count": 38,
   "id": "9b7aabea",
   "metadata": {},
   "outputs": [
    {
     "data": {
      "text/html": [
       "<div>\n",
       "<style scoped>\n",
       "    .dataframe tbody tr th:only-of-type {\n",
       "        vertical-align: middle;\n",
       "    }\n",
       "\n",
       "    .dataframe tbody tr th {\n",
       "        vertical-align: top;\n",
       "    }\n",
       "\n",
       "    .dataframe thead th {\n",
       "        text-align: right;\n",
       "    }\n",
       "</style>\n",
       "<table border=\"1\" class=\"dataframe\">\n",
       "  <thead>\n",
       "    <tr style=\"text-align: right;\">\n",
       "      <th></th>\n",
       "      <th>rank</th>\n",
       "      <th>yrs.since.phd</th>\n",
       "      <th>yrs.service</th>\n",
       "    </tr>\n",
       "  </thead>\n",
       "  <tbody>\n",
       "    <tr>\n",
       "      <th>0</th>\n",
       "      <td>2</td>\n",
       "      <td>2.944439</td>\n",
       "      <td>18</td>\n",
       "    </tr>\n",
       "    <tr>\n",
       "      <th>1</th>\n",
       "      <td>2</td>\n",
       "      <td>2.995732</td>\n",
       "      <td>16</td>\n",
       "    </tr>\n",
       "    <tr>\n",
       "      <th>2</th>\n",
       "      <td>1</td>\n",
       "      <td>1.386294</td>\n",
       "      <td>3</td>\n",
       "    </tr>\n",
       "    <tr>\n",
       "      <th>3</th>\n",
       "      <td>2</td>\n",
       "      <td>3.806662</td>\n",
       "      <td>39</td>\n",
       "    </tr>\n",
       "    <tr>\n",
       "      <th>4</th>\n",
       "      <td>2</td>\n",
       "      <td>3.688879</td>\n",
       "      <td>41</td>\n",
       "    </tr>\n",
       "  </tbody>\n",
       "</table>\n",
       "</div>"
      ],
      "text/plain": [
       "   rank  yrs.since.phd  yrs.service\n",
       "0     2       2.944439           18\n",
       "1     2       2.995732           16\n",
       "2     1       1.386294            3\n",
       "3     2       3.806662           39\n",
       "4     2       3.688879           41"
      ]
     },
     "execution_count": 38,
     "metadata": {},
     "output_type": "execute_result"
    }
   ],
   "source": [
    "x.head()"
   ]
  },
  {
   "cell_type": "code",
   "execution_count": 39,
   "id": "94721563",
   "metadata": {},
   "outputs": [],
   "source": [
    "y=df_new['salary']"
   ]
  },
  {
   "cell_type": "code",
   "execution_count": 40,
   "id": "b3ab35b9",
   "metadata": {},
   "outputs": [
    {
     "data": {
      "text/plain": [
       "0    139750\n",
       "1    173200\n",
       "2     79750\n",
       "3    115000\n",
       "4    141500\n",
       "Name: salary, dtype: int64"
      ]
     },
     "execution_count": 40,
     "metadata": {},
     "output_type": "execute_result"
    }
   ],
   "source": [
    "y.head()"
   ]
  },
  {
   "cell_type": "markdown",
   "id": "134168f8",
   "metadata": {},
   "source": [
    "# Accuracy checking with For loop for Test Size and  random_state For Linear Regression"
   ]
  },
  {
   "cell_type": "code",
   "execution_count": 137,
   "id": "fb733dac",
   "metadata": {},
   "outputs": [
    {
     "name": "stdout",
     "output_type": "stream",
     "text": [
      "Best accuracy is 83.5079245656724 on Random state 2\n"
     ]
    }
   ],
   "source": [
    "x=df_new.drop(\"salary\",axis=1)\n",
    "y=df_new['salary']\n",
    "\n",
    "from sklearn.linear_model import LinearRegression\n",
    "\n",
    "maxAcc = 0\n",
    "maxRs=0\n",
    "\n",
    "for i in range(1,40):\n",
    "    i1 = i*0.01\n",
    "    x_train, x_test, y_train, y_test= train_test_split(x,y,test_size=i)#=.10,random_state=i) #10====TS=0.02\n",
    "    lm=LinearRegression()\n",
    "    lm.fit(x_train,y_train)\n",
    "    pred=lm.predict(x_test)\n",
    "    acc=lm.score(x_test,y_test)\n",
    "    #print('accuracy',acc,'Random state',i)\n",
    "    \n",
    "    if acc>maxAcc:\n",
    "        maxAcc=acc\n",
    "        maxRs=i\n",
    "        #print('accuracy',maxAcc,'Random state',i)\n",
    "        \n",
    "print(\"Best accuracy is\",maxAcc*100,\"on Random state\",maxRs) #45 45=="
   ]
  },
  {
   "cell_type": "code",
   "execution_count": 141,
   "id": "f78612ad",
   "metadata": {},
   "outputs": [
    {
     "name": "stdout",
     "output_type": "stream",
     "text": [
      "Best accuracy is 73.01946965151865 on Random state 252\n"
     ]
    }
   ],
   "source": [
    "x=df_new.drop(\"salary\",axis=1)\n",
    "y=df_new['salary']\n",
    "\n",
    "from sklearn.linear_model import LinearRegression\n",
    "\n",
    "maxAcc = 0\n",
    "maxRs=0\n",
    "\n",
    "for i in range(1,300):\n",
    "    x_train, x_test, y_train, y_test= train_test_split(x,y,test_size=0.02,random_state=i) #10/RS=252\n",
    "    lm=LinearRegression()\n",
    "    lm.fit(x_train,y_train)\n",
    "    pred=lm.predict(x_test)\n",
    "    acc=lm.score(x_test,y_test)\n",
    "    #print('accuracy',acc,'Random state',i)\n",
    "    \n",
    "    if acc>maxAcc:\n",
    "        maxAcc=acc\n",
    "        maxRs=i\n",
    "        #print('accuracy',maxAcc,'Random state',i)\n",
    "        \n",
    "print(\"Best accuracy is\",maxAcc*100,\"on Random state\",maxRs) #45 45"
   ]
  },
  {
   "cell_type": "markdown",
   "id": "3c104a7d",
   "metadata": {},
   "source": [
    "# Checking Accuracy for Linear Regression"
   ]
  },
  {
   "cell_type": "code",
   "execution_count": 142,
   "id": "06cd21da",
   "metadata": {},
   "outputs": [],
   "source": [
    "from sklearn.metrics import r2_score\n",
    "from sklearn.metrics import mean_squared_error,mean_absolute_error"
   ]
  },
  {
   "cell_type": "code",
   "execution_count": 143,
   "id": "a912c274",
   "metadata": {},
   "outputs": [
    {
     "name": "stdout",
     "output_type": "stream",
     "text": [
      "predicted values [121389.8146216  123634.23965939 122211.03454342  95884.17592671\n",
      "  92318.00210871  89386.59778999  88116.91575471 121161.08626767]\n",
      "predicted values 81     135585\n",
      "353    138000\n",
      "97     129676\n",
      "55      83900\n",
      "27      82379\n",
      "379    104121\n",
      "149     95079\n",
      "296    126300\n",
      "Name: salary, dtype: int64\n"
     ]
    },
    {
     "data": {
      "text/plain": [
       "(73.48930466159847, 10598.061174828577, 11169.097785805607)"
      ]
     },
     "execution_count": 143,
     "metadata": {},
     "output_type": "execute_result"
    }
   ],
   "source": [
    "x=df_new.drop(\"salary\",axis=1)\n",
    "y=df_new['salary']\n",
    "x_train, x_test, y_train, y_test= train_test_split(x,y,test_size=.02,random_state=252)\n",
    "pred=lm.predict(x_test)\n",
    "print(\"predicted values\",pred)\n",
    "print(\"predicted values\",y_test)\n",
    "r2_score(y_test, pred)*100, mean_absolute_error(y_test, pred), np.sqrt(mean_squared_error(y_test, pred))\n"
   ]
  },
  {
   "cell_type": "code",
   "execution_count": 144,
   "id": "c6a44890",
   "metadata": {},
   "outputs": [
    {
     "data": {
      "text/plain": [
       "0.7348930466159846"
      ]
     },
     "execution_count": 144,
     "metadata": {},
     "output_type": "execute_result"
    }
   ],
   "source": [
    "lm.score(x_test,y_test)"
   ]
  },
  {
   "cell_type": "code",
   "execution_count": 145,
   "id": "8f2c9e96",
   "metadata": {},
   "outputs": [
    {
     "data": {
      "text/plain": [
       "array([14513.45864277, 18826.83290311,  -652.42013015])"
      ]
     },
     "execution_count": 145,
     "metadata": {},
     "output_type": "execute_result"
    }
   ],
   "source": [
    "lm.coef_"
   ]
  },
  {
   "cell_type": "markdown",
   "id": "eade0173",
   "metadata": {},
   "source": [
    "# Regularization"
   ]
  },
  {
   "cell_type": "markdown",
   "id": "4a2f8be8",
   "metadata": {},
   "source": [
    "as we can see the model is not predicting well might can be because of over or under fitting Data\n",
    "hence will use regualrization to check the prediction improvement"
   ]
  },
  {
   "cell_type": "code",
   "execution_count": 146,
   "id": "a21e7f14",
   "metadata": {},
   "outputs": [],
   "source": [
    "from sklearn.linear_model import Lasso,Ridge"
   ]
  },
  {
   "cell_type": "code",
   "execution_count": 147,
   "id": "a6bba38d",
   "metadata": {},
   "outputs": [
    {
     "data": {
      "text/plain": [
       "73.48930466159847"
      ]
     },
     "execution_count": 147,
     "metadata": {},
     "output_type": "execute_result"
    }
   ],
   "source": [
    "ls=Ridge(alpha=0.001)\n",
    "ls.fit(x_train,y_train)\n",
    "r2_score(y_test, pred)*100"
   ]
  },
  {
   "cell_type": "code",
   "execution_count": 148,
   "id": "26060a8d",
   "metadata": {},
   "outputs": [
    {
     "data": {
      "text/plain": [
       "array([13603.49639544, 16263.78418496,  -516.38898627])"
      ]
     },
     "execution_count": 148,
     "metadata": {},
     "output_type": "execute_result"
    }
   ],
   "source": [
    "from sklearn.linear_model import ElasticNet\n",
    "enr=ElasticNet(alpha=0.1)\n",
    "enr.fit(x_train,y_train)\n",
    "enrpred=enr.predict(x_test)\n",
    "r2_score(y_test, pred)*100\n",
    "enr.coef_"
   ]
  },
  {
   "cell_type": "markdown",
   "id": "85b82320",
   "metadata": {},
   "source": [
    "checking with classifier algorithm in Regression as SVR, DTR, Knr"
   ]
  },
  {
   "cell_type": "markdown",
   "id": "cb4fbab8",
   "metadata": {},
   "source": [
    "Checked with SVR and Decision Tree algorith but not getting expected Accuracy so going to neglate this"
   ]
  },
  {
   "cell_type": "code",
   "execution_count": 149,
   "id": "51aa6d3e",
   "metadata": {},
   "outputs": [],
   "source": [
    "#from sklearn.svm import SVR\n",
    "\n",
    "\n",
    "#sv=SVR(kernel='linear')\n",
    "#sv.fit(x_train,y_train)\n",
    "#print(\"linear:\",sv.score(x_train,y_train)*100)\n",
    "\n",
    "#sv=SVR(kernel='poly')\n",
    "#sv.fit(x_train,y_train)\n",
    "#print(\"poly:\",sv.score(x_train,y_train)*100)\n",
    "\n",
    "#sv=SVR(kernel='rbf')\n",
    "#sv.fit(x_train,y_train)\n",
    "#print(\"rbf:\",sv.score(x_train,y_train)*100)\n",
    "\n"
   ]
  },
  {
   "cell_type": "code",
   "execution_count": 118,
   "id": "909e5c6b",
   "metadata": {},
   "outputs": [],
   "source": [
    "# poly and rbf are getting 0\n",
    "\n",
    "#x=df_new.drop(\"salary\",axis=1)\n",
    "#y=df_new['salary']\n",
    "\n",
    "#maxAcc = 0\n",
    "#maxRs=0\n",
    "\n",
    "#from sklearn.svm import SVR\n",
    "\n",
    "\n",
    "#for i in range(1,40):\n",
    "#    i1=i*0.01\n",
    "#    x_train, x_test, y_train, y_test= train_test_split(x,y,test_size=i1)\n",
    " #   sv=SVR(kernel='linear')\n",
    " #   sv.fit(x_train,y_train)\n",
    " #   pred=sv.predict(x_test)\n",
    " #   acc=sv.score(x_train,y_train)\n",
    " #   #print('accuracy',acc,'Random state',i)\n",
    "    \n",
    "  #  if acc>maxAcc:\n",
    " #       maxAcc=acc\n",
    " #       maxRs=i\n",
    " #       #print('accuracy',maxAcc,'Random state',i)\n",
    "\n",
    "#print(\"Best accuracy is\",maxAcc*100,\"on Random state\",maxRs) #45 45"
   ]
  },
  {
   "cell_type": "code",
   "execution_count": 119,
   "id": "7a5be502",
   "metadata": {},
   "outputs": [],
   "source": [
    "# poly and rbf are getting 0\n",
    "\n",
    "#x=df_new.drop(\"salary\",axis=1)\n",
    "#y=df_new['salary']\n",
    "\n",
    "#maxAcc = 0\n",
    "#maxRs=0\n",
    "\n",
    "#from sklearn.svm import SVR\n",
    "\n",
    "\n",
    "#for i in range(1,350):\n",
    "#    x_train, x_test, y_train, y_test= train_test_split(x,y,test_size=.26,random_state=i)\n",
    " #   sv=SVR(kernel='linear')\n",
    " #   sv.fit(x_train,y_train)\n",
    "#    pred=sv.predict(x_test)\n",
    " #   acc=sv.score(x_train,y_train)\n",
    "#    #print('accuracy',acc,'Random state',i)\n",
    "    \n",
    " #   if acc>maxAcc:\n",
    " #       maxAcc=acc\n",
    " #       maxRs=i\n",
    " #       #print('accuracy',maxAcc,'Random state',i)\n",
    "#\n",
    "#print(\"Best accuracy is\",maxAcc*100,\"on Random state\",maxRs) #45 45"
   ]
  },
  {
   "cell_type": "markdown",
   "id": "9b325f6a",
   "metadata": {},
   "source": [
    "# checking with DecisionTreeRegressor algorithm "
   ]
  },
  {
   "cell_type": "code",
   "execution_count": 120,
   "id": "712c7c67",
   "metadata": {},
   "outputs": [],
   "source": [
    "#x=df_new.drop(\"salary\",axis=1)\n",
    "#y=df_new['salary']\n",
    "#x_train, x_test, y_train, y_test= train_test_split(x,y,test_size=0.2) #19/50\n",
    "##pred=lm.predict(x_test)\n",
    "#print(x_train.shape)\n",
    "#print(y_train.shape)\n",
    "#print(x_test.shape)\n",
    "#print(y_test.shape)"
   ]
  },
  {
   "cell_type": "code",
   "execution_count": 121,
   "id": "19f2776e",
   "metadata": {},
   "outputs": [],
   "source": [
    "#from sklearn.tree import DecisionTreeRegressor \n",
    "  \n",
    "#regressor = DecisionTreeRegressor(random_state = 0) \n",
    "#regressor.fit(x_train,y_train)\n",
    "#print(\"regressor:\",regressor.score(x_train,y_train)*100)\n",
    "#print(\"regressor:\",regressor.score(x_test,y_test)*100)"
   ]
  },
  {
   "cell_type": "code",
   "execution_count": 122,
   "id": "5201ef85",
   "metadata": {},
   "outputs": [],
   "source": [
    "# poly and rbf are getting 0\n",
    "\n",
    "#x=df_new.drop(\"salary\",axis=1)\n",
    "#y=df_new['salary']\n",
    "\n",
    "#maxAcc = 0\n",
    "#maxRs=0\n",
    "\n",
    "#from sklearn.tree import DecisionTreeRegressor \n",
    "\n",
    "\n",
    "#for i in range(1,350):\n",
    "#    x_train, x_test, y_train, y_test= train_test_split(x,y,test_size=.20)\n",
    "#    DT=DecisionTreeRegressor(random_state = i) \n",
    " #   DT.fit(x_train,y_train)\n",
    " #   pred=DT.predict(x_test)\n",
    " #   acc=DT.score(x_test,y_test)\n",
    "    #print('accuracy',acc,'Random state',i)\n",
    "    \n",
    "  #  if acc>maxAcc:\n",
    "  #      maxAcc=acc\n",
    "  #      maxRs=i\n",
    "  #      #print('accuracy',maxAcc,'Random state',i)\n",
    "\n",
    "#print(\"Best accuracy is\",maxAcc*100,\"on Random state\",maxRs) #45 45"
   ]
  },
  {
   "cell_type": "code",
   "execution_count": 123,
   "id": "f07d0397",
   "metadata": {},
   "outputs": [],
   "source": [
    "# poly and rbf are getting 0\n",
    "\n",
    "#x=df_new.drop(\"salary\",axis=1)\n",
    "#y=df_new['salary']\n",
    "\n",
    "#maxAcc = 0\n",
    "#maxRs=0\n",
    "\n",
    "#from sklearn.tree import DecisionTreeRegressor \n",
    "\n",
    "\n",
    "#for i in range(1,50):\n",
    "#    i1=i*0.01\n",
    "#    x_train, x_test, y_train, y_test= train_test_split(x,y,test_size=i1)\n",
    " #   DT=DecisionTreeRegressor() \n",
    "#    DT.fit(x_train,y_train)\n",
    " #   pred=DT.predict(x_test)\n",
    " #   acc=DT.score(x_test,y_test)\n",
    " #   #print('accuracy',acc,'Random state',i)\n",
    "    \n",
    "  #  if acc>maxAcc:\n",
    " #       maxAcc=acc\n",
    "  #      maxRs=i\n",
    "  #      #print('accuracy',maxAcc,'Random state',i)\n",
    "\n",
    "#print(\"Best accuracy is\",maxAcc*100,\"on Random state\",maxRs) #45 45"
   ]
  },
  {
   "cell_type": "code",
   "execution_count": 124,
   "id": "f5bf0055",
   "metadata": {},
   "outputs": [],
   "source": [
    "#regressor.score(x_test,y_test)"
   ]
  },
  {
   "cell_type": "markdown",
   "id": "996a1897",
   "metadata": {},
   "source": [
    "# checking with K Nearest Regressor algorithm "
   ]
  },
  {
   "cell_type": "code",
   "execution_count": 125,
   "id": "e2d3df12",
   "metadata": {},
   "outputs": [],
   "source": [
    "#\n",
    "#x=df_new.drop(\"salary\",axis=1)\n",
    "#y=df_new['salary']\n",
    "#x_train, x_test, y_train, y_test= train_test_split(x,y,test_size=.35,random_state=20)  # 35/20=84.14  50/20=84.19\n",
    "\n",
    "#print(x_train.shape)\n",
    "#print(y_train.shape)\n",
    "#print(x_test.shape)\n",
    "#print(y_test.shape)\n",
    "#"
   ]
  },
  {
   "cell_type": "code",
   "execution_count": 126,
   "id": "3c801b95",
   "metadata": {},
   "outputs": [],
   "source": [
    "#from sklearn.neighbors import KNeighborsRegressor\n",
    "#KNR = KNeighborsRegressor(n_neighbors=19)\n",
    "#KNR.fit(x_train, y_train)\n",
    "#pred=KNR.predict(x_test)\n",
    "#print(\"KNR:\",KNR.score(x_train,y_train)*100)\n",
    "#print(\"KNR:\",KNR.score(x_test,y_test)*100)\n",
    "#print(\"KNR:\",regressor.score(pred,y_test))"
   ]
  },
  {
   "cell_type": "code",
   "execution_count": 127,
   "id": "e9bfae70",
   "metadata": {},
   "outputs": [],
   "source": [
    "#print(\"predicted values\",pred)\n",
    "#print(\"predicted values\",y_test)"
   ]
  },
  {
   "cell_type": "code",
   "execution_count": 128,
   "id": "93c9266d",
   "metadata": {},
   "outputs": [],
   "source": [
    "# poly and rbf are getting 0\n",
    "\n",
    "#x=df_new.drop(\"salary\",axis=1)\n",
    "#y=df_new['salary']\n",
    "#\n",
    "#maxAcc = 0\n",
    "#maxRs=0\n",
    "\n",
    "#from sklearn.neighbors import KNeighborsRegressor \n",
    "\n",
    "\n",
    "#for i in range(1,350):\n",
    "#   x_train, x_test, y_train, y_test= train_test_split(x,y,test_size=i1,random_state=i)\n",
    " #   DT=KNeighborsRegressor() \n",
    "  #  DT.fit(x_train,y_train)\n",
    "   # pred=DT.predict(x_test)\n",
    "   # acc=DT.score(x_test,y_test)\n",
    "   # #print('accuracy',acc,'Random state',i)\n",
    "    \n",
    " #   if acc>maxAcc:\n",
    " #       maxAcc=acc\n",
    " #       maxRs=i\n",
    " #       #print('accuracy',maxAcc,'Random state',i)#\n",
    "\n",
    "#print(\"Best accuracy is\",maxAcc*100,\"on Random state\",maxRs) #45 45"
   ]
  },
  {
   "cell_type": "code",
   "execution_count": 129,
   "id": "3b014f9b",
   "metadata": {},
   "outputs": [],
   "source": [
    "# poly and rbf are getting 0\n",
    "\n",
    "#x=df_new.drop(\"salary\",axis=1)\n",
    "#y=df_new['salary']\n",
    "\n",
    "#maxAcc = 0\n",
    "#maxRs=0\n",
    "\n",
    "#from sklearn.neighbors import KNeighborsRegressor \n",
    "\n",
    "\n",
    "#for i in range(1,50):\n",
    "#    x_train, x_test, y_train, y_test= train_test_split(x,y,test_size=0.6,random_state=i)\n",
    "#    DT=KNeighborsRegressor() \n",
    "#    DT.fit(x_train,y_train)\n",
    " #   pred=DT.predict(x_test)\n",
    "#    acc=DT.score(x_test,y_test)\n",
    "#    #print('accuracy',acc,'Random state',i)\n",
    "    \n",
    " #   if acc>maxAcc:\n",
    " #       maxAcc=acc\n",
    " #       maxRs=i\n",
    "        #print('accuracy',maxAcc,'Random state',i)\n",
    "\n",
    "#print(\"Best accuracy is\",maxAcc*100,\"on Random state\",maxRs) #45 45"
   ]
  },
  {
   "cell_type": "markdown",
   "id": "b928d54f",
   "metadata": {},
   "source": [
    "# RandomForestRegressor"
   ]
  },
  {
   "cell_type": "code",
   "execution_count": null,
   "id": "2bbc8655",
   "metadata": {},
   "outputs": [],
   "source": []
  },
  {
   "cell_type": "code",
   "execution_count": 130,
   "id": "fa58474b",
   "metadata": {},
   "outputs": [],
   "source": [
    "# poly and rbf are getting 0\n",
    "#from sklearn.ensemble import RandomForestRegressor\n",
    "    \n",
    "#x=df_new.drop(\"salary\",axis=1)\n",
    "#y=df_new['salary']\n",
    "\n",
    "#maxAcc = 0\n",
    "#maxRs=0\n",
    "\n",
    "#from sklearn.tree import RandomForestRegressor \n",
    "\n",
    "\n",
    "#for i in range(1,350):\n",
    "#    x_train, x_test, y_train, y_test= train_test_split(x,y,test_size=0.2,random_state=i)\n",
    "#    DT=RandomForestRegressor()\n",
    "#    DT.fit(x_train,y_train)\n",
    "#    pred=DT.predict(x_test)\n",
    "#    acc=DT.score(x_test,y_test)\n",
    "#    #print('accuracy',acc,'Random state',i)\n",
    "    \n",
    "#    if acc>maxAcc:\n",
    "#        maxAcc=acc\n",
    "#        maxRs=i\n",
    "        #print('accuracy',maxAcc,'Random state',i)\n",
    "#\n",
    "#print(\"Best accuracy is\",maxAcc*100,\"on Random state\",maxRs) #45 45"
   ]
  },
  {
   "cell_type": "markdown",
   "id": "ec435089",
   "metadata": {},
   "source": [
    "# Hyper Parameter Tunning"
   ]
  },
  {
   "cell_type": "code",
   "execution_count": 251,
   "id": "129edf8f",
   "metadata": {},
   "outputs": [],
   "source": [
    "from sklearn.model_selection import GridSearchCV\n",
    "from sklearn.ensemble import RandomForestRegressor\n",
    "from sklearn.decomposition import PCA\n",
    "from sklearn.linear_model import LogisticRegression\n",
    "from sklearn.pipeline import Pipeline\n",
    "from sklearn.model_selection import GridSearchCV\n",
    "from sklearn.linear_model import LinearRegression\n",
    "\n",
    "from sklearn.preprocessing import StandardScaler\n",
    "\n",
    "parameters={'max_features':['auto','sqrt','log2'],\n",
    "            'max_depth': [4,5,6,7,8],\n",
    "            'criterion':['mse','entropy']}"
   ]
  },
  {
   "cell_type": "code",
   "execution_count": 252,
   "id": "e46c0aec",
   "metadata": {},
   "outputs": [
    {
     "data": {
      "text/plain": [
       "{'criterion': 'mse', 'max_depth': 4, 'max_features': 'auto'}"
      ]
     },
     "execution_count": 252,
     "metadata": {},
     "output_type": "execute_result"
    }
   ],
   "source": [
    "#GCV=GridSearchCV(RandomForestClassifier(),parameters,cv=5,scoring=\"accuracy\")\n",
    "GCV=GridSearchCV(RandomForestRegressor(),parameters,cv=5,scoring=\"accuracy\")\n",
    "\n",
    "GCV.fit(x_train,y_train)\n",
    "GCV.best_params_"
   ]
  },
  {
   "cell_type": "code",
   "execution_count": 253,
   "id": "85abf073",
   "metadata": {},
   "outputs": [
    {
     "data": {
      "text/plain": [
       "RandomForestRegressor(max_depth=4)"
      ]
     },
     "execution_count": 253,
     "metadata": {},
     "output_type": "execute_result"
    }
   ],
   "source": [
    "GCV=RandomForestRegressor(criterion= 'mse', max_depth= 4, max_features= 'auto')\n",
    "GCV.fit(x_train,y_train)"
   ]
  },
  {
   "cell_type": "code",
   "execution_count": 254,
   "id": "007804f7",
   "metadata": {},
   "outputs": [
    {
     "data": {
      "text/plain": [
       "array([127028.62798071, 128670.41784387, 119940.84757005,  97853.50136369,\n",
       "        79460.06319085,  95768.12582522,  81081.4453889 , 127429.9665941 ])"
      ]
     },
     "execution_count": 254,
     "metadata": {},
     "output_type": "execute_result"
    }
   ],
   "source": [
    "y_pred=GCV.predict(x_test)\n",
    "y_pred"
   ]
  },
  {
   "cell_type": "code",
   "execution_count": 256,
   "id": "71bbd1d5",
   "metadata": {},
   "outputs": [
    {
     "data": {
      "text/plain": [
       "0.8073505620423078"
      ]
     },
     "execution_count": 256,
     "metadata": {},
     "output_type": "execute_result"
    }
   ],
   "source": [
    "r2_score(y_test, y_pred)"
   ]
  },
  {
   "cell_type": "code",
   "execution_count": null,
   "id": "3bb14d1e",
   "metadata": {},
   "outputs": [],
   "source": []
  },
  {
   "cell_type": "code",
   "execution_count": null,
   "id": "c33da77e",
   "metadata": {},
   "outputs": [],
   "source": []
  },
  {
   "cell_type": "markdown",
   "id": "61384068",
   "metadata": {},
   "source": [
    "# Testing the one sample Data with KNR"
   ]
  },
  {
   "cell_type": "code",
   "execution_count": 257,
   "id": "3205c23a",
   "metadata": {},
   "outputs": [],
   "source": [
    "#2\t19\t18\t139750"
   ]
  },
  {
   "cell_type": "code",
   "execution_count": 258,
   "id": "64d6b5d0",
   "metadata": {},
   "outputs": [],
   "source": [
    "t=np.array([2,19,18])"
   ]
  },
  {
   "cell_type": "code",
   "execution_count": 259,
   "id": "35683ce4",
   "metadata": {},
   "outputs": [
    {
     "data": {
      "text/plain": [
       "(3,)"
      ]
     },
     "execution_count": 259,
     "metadata": {},
     "output_type": "execute_result"
    }
   ],
   "source": [
    "t.shape"
   ]
  },
  {
   "cell_type": "code",
   "execution_count": 260,
   "id": "4a97e1bb",
   "metadata": {},
   "outputs": [
    {
     "data": {
      "text/plain": [
       "(1, 3)"
      ]
     },
     "execution_count": 260,
     "metadata": {},
     "output_type": "execute_result"
    }
   ],
   "source": [
    "t=t.reshape(1,-1)\n",
    "t.shape"
   ]
  },
  {
   "cell_type": "code",
   "execution_count": 261,
   "id": "5fe931eb",
   "metadata": {},
   "outputs": [
    {
     "data": {
      "text/plain": [
       "array([424454.36531303])"
      ]
     },
     "execution_count": 261,
     "metadata": {},
     "output_type": "execute_result"
    }
   ],
   "source": [
    "lm.predict(t)"
   ]
  },
  {
   "cell_type": "code",
   "execution_count": null,
   "id": "e91852de",
   "metadata": {},
   "outputs": [],
   "source": []
  }
 ],
 "metadata": {
  "kernelspec": {
   "display_name": "Python 3 (ipykernel)",
   "language": "python",
   "name": "python3"
  },
  "language_info": {
   "codemirror_mode": {
    "name": "ipython",
    "version": 3
   },
   "file_extension": ".py",
   "mimetype": "text/x-python",
   "name": "python",
   "nbconvert_exporter": "python",
   "pygments_lexer": "ipython3",
   "version": "3.9.7"
  }
 },
 "nbformat": 4,
 "nbformat_minor": 5
}
