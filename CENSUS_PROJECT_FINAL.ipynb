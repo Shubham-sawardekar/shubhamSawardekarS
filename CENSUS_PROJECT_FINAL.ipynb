{
 "cells": [
  {
   "cell_type": "code",
   "execution_count": 10,
   "id": "f204bfbb",
   "metadata": {},
   "outputs": [],
   "source": [
    "#importing necessary libraries\n",
    "import numpy as np\n",
    "import pandas as pd\n",
    "import matplotlib.pyplot as plt\n",
    "import seaborn as sns\n",
    "\n",
    "import warnings\n",
    "\n",
    "warnings.filterwarnings('ignore')\n",
    "\n",
    "#for presenting maximum columns\n",
    "pd.set_option('display.max_columns',None)"
   ]
  },
  {
   "cell_type": "code",
   "execution_count": 11,
   "id": "dc1b1793",
   "metadata": {},
   "outputs": [],
   "source": [
    "#loading dataset\n",
    "df=pd.read_csv('https://raw.githubusercontent.com/dsrscientist/dataset1/master/census_income.csv')"
   ]
  },
  {
   "cell_type": "code",
   "execution_count": 12,
   "id": "6768d769",
   "metadata": {},
   "outputs": [
    {
     "data": {
      "text/html": [
       "<div>\n",
       "<style scoped>\n",
       "    .dataframe tbody tr th:only-of-type {\n",
       "        vertical-align: middle;\n",
       "    }\n",
       "\n",
       "    .dataframe tbody tr th {\n",
       "        vertical-align: top;\n",
       "    }\n",
       "\n",
       "    .dataframe thead th {\n",
       "        text-align: right;\n",
       "    }\n",
       "</style>\n",
       "<table border=\"1\" class=\"dataframe\">\n",
       "  <thead>\n",
       "    <tr style=\"text-align: right;\">\n",
       "      <th></th>\n",
       "      <th>Age</th>\n",
       "      <th>Workclass</th>\n",
       "      <th>Fnlwgt</th>\n",
       "      <th>Education</th>\n",
       "      <th>Education_num</th>\n",
       "      <th>Marital_status</th>\n",
       "      <th>Occupation</th>\n",
       "      <th>Relationship</th>\n",
       "      <th>Race</th>\n",
       "      <th>Sex</th>\n",
       "      <th>Capital_gain</th>\n",
       "      <th>Capital_loss</th>\n",
       "      <th>Hours_per_week</th>\n",
       "      <th>Native_country</th>\n",
       "      <th>Income</th>\n",
       "    </tr>\n",
       "  </thead>\n",
       "  <tbody>\n",
       "    <tr>\n",
       "      <th>0</th>\n",
       "      <td>50</td>\n",
       "      <td>Self-emp-not-inc</td>\n",
       "      <td>83311</td>\n",
       "      <td>Bachelors</td>\n",
       "      <td>13</td>\n",
       "      <td>Married-civ-spouse</td>\n",
       "      <td>Exec-managerial</td>\n",
       "      <td>Husband</td>\n",
       "      <td>White</td>\n",
       "      <td>Male</td>\n",
       "      <td>0</td>\n",
       "      <td>0</td>\n",
       "      <td>13</td>\n",
       "      <td>United-States</td>\n",
       "      <td>&lt;=50K</td>\n",
       "    </tr>\n",
       "    <tr>\n",
       "      <th>1</th>\n",
       "      <td>38</td>\n",
       "      <td>Private</td>\n",
       "      <td>215646</td>\n",
       "      <td>HS-grad</td>\n",
       "      <td>9</td>\n",
       "      <td>Divorced</td>\n",
       "      <td>Handlers-cleaners</td>\n",
       "      <td>Not-in-family</td>\n",
       "      <td>White</td>\n",
       "      <td>Male</td>\n",
       "      <td>0</td>\n",
       "      <td>0</td>\n",
       "      <td>40</td>\n",
       "      <td>United-States</td>\n",
       "      <td>&lt;=50K</td>\n",
       "    </tr>\n",
       "    <tr>\n",
       "      <th>2</th>\n",
       "      <td>53</td>\n",
       "      <td>Private</td>\n",
       "      <td>234721</td>\n",
       "      <td>11th</td>\n",
       "      <td>7</td>\n",
       "      <td>Married-civ-spouse</td>\n",
       "      <td>Handlers-cleaners</td>\n",
       "      <td>Husband</td>\n",
       "      <td>Black</td>\n",
       "      <td>Male</td>\n",
       "      <td>0</td>\n",
       "      <td>0</td>\n",
       "      <td>40</td>\n",
       "      <td>United-States</td>\n",
       "      <td>&lt;=50K</td>\n",
       "    </tr>\n",
       "    <tr>\n",
       "      <th>3</th>\n",
       "      <td>28</td>\n",
       "      <td>Private</td>\n",
       "      <td>338409</td>\n",
       "      <td>Bachelors</td>\n",
       "      <td>13</td>\n",
       "      <td>Married-civ-spouse</td>\n",
       "      <td>Prof-specialty</td>\n",
       "      <td>Wife</td>\n",
       "      <td>Black</td>\n",
       "      <td>Female</td>\n",
       "      <td>0</td>\n",
       "      <td>0</td>\n",
       "      <td>40</td>\n",
       "      <td>Cuba</td>\n",
       "      <td>&lt;=50K</td>\n",
       "    </tr>\n",
       "    <tr>\n",
       "      <th>4</th>\n",
       "      <td>37</td>\n",
       "      <td>Private</td>\n",
       "      <td>284582</td>\n",
       "      <td>Masters</td>\n",
       "      <td>14</td>\n",
       "      <td>Married-civ-spouse</td>\n",
       "      <td>Exec-managerial</td>\n",
       "      <td>Wife</td>\n",
       "      <td>White</td>\n",
       "      <td>Female</td>\n",
       "      <td>0</td>\n",
       "      <td>0</td>\n",
       "      <td>40</td>\n",
       "      <td>United-States</td>\n",
       "      <td>&lt;=50K</td>\n",
       "    </tr>\n",
       "    <tr>\n",
       "      <th>...</th>\n",
       "      <td>...</td>\n",
       "      <td>...</td>\n",
       "      <td>...</td>\n",
       "      <td>...</td>\n",
       "      <td>...</td>\n",
       "      <td>...</td>\n",
       "      <td>...</td>\n",
       "      <td>...</td>\n",
       "      <td>...</td>\n",
       "      <td>...</td>\n",
       "      <td>...</td>\n",
       "      <td>...</td>\n",
       "      <td>...</td>\n",
       "      <td>...</td>\n",
       "      <td>...</td>\n",
       "    </tr>\n",
       "    <tr>\n",
       "      <th>32555</th>\n",
       "      <td>27</td>\n",
       "      <td>Private</td>\n",
       "      <td>257302</td>\n",
       "      <td>Assoc-acdm</td>\n",
       "      <td>12</td>\n",
       "      <td>Married-civ-spouse</td>\n",
       "      <td>Tech-support</td>\n",
       "      <td>Wife</td>\n",
       "      <td>White</td>\n",
       "      <td>Female</td>\n",
       "      <td>0</td>\n",
       "      <td>0</td>\n",
       "      <td>38</td>\n",
       "      <td>United-States</td>\n",
       "      <td>&lt;=50K</td>\n",
       "    </tr>\n",
       "    <tr>\n",
       "      <th>32556</th>\n",
       "      <td>40</td>\n",
       "      <td>Private</td>\n",
       "      <td>154374</td>\n",
       "      <td>HS-grad</td>\n",
       "      <td>9</td>\n",
       "      <td>Married-civ-spouse</td>\n",
       "      <td>Machine-op-inspct</td>\n",
       "      <td>Husband</td>\n",
       "      <td>White</td>\n",
       "      <td>Male</td>\n",
       "      <td>0</td>\n",
       "      <td>0</td>\n",
       "      <td>40</td>\n",
       "      <td>United-States</td>\n",
       "      <td>&gt;50K</td>\n",
       "    </tr>\n",
       "    <tr>\n",
       "      <th>32557</th>\n",
       "      <td>58</td>\n",
       "      <td>Private</td>\n",
       "      <td>151910</td>\n",
       "      <td>HS-grad</td>\n",
       "      <td>9</td>\n",
       "      <td>Widowed</td>\n",
       "      <td>Adm-clerical</td>\n",
       "      <td>Unmarried</td>\n",
       "      <td>White</td>\n",
       "      <td>Female</td>\n",
       "      <td>0</td>\n",
       "      <td>0</td>\n",
       "      <td>40</td>\n",
       "      <td>United-States</td>\n",
       "      <td>&lt;=50K</td>\n",
       "    </tr>\n",
       "    <tr>\n",
       "      <th>32558</th>\n",
       "      <td>22</td>\n",
       "      <td>Private</td>\n",
       "      <td>201490</td>\n",
       "      <td>HS-grad</td>\n",
       "      <td>9</td>\n",
       "      <td>Never-married</td>\n",
       "      <td>Adm-clerical</td>\n",
       "      <td>Own-child</td>\n",
       "      <td>White</td>\n",
       "      <td>Male</td>\n",
       "      <td>0</td>\n",
       "      <td>0</td>\n",
       "      <td>20</td>\n",
       "      <td>United-States</td>\n",
       "      <td>&lt;=50K</td>\n",
       "    </tr>\n",
       "    <tr>\n",
       "      <th>32559</th>\n",
       "      <td>52</td>\n",
       "      <td>Self-emp-inc</td>\n",
       "      <td>287927</td>\n",
       "      <td>HS-grad</td>\n",
       "      <td>9</td>\n",
       "      <td>Married-civ-spouse</td>\n",
       "      <td>Exec-managerial</td>\n",
       "      <td>Wife</td>\n",
       "      <td>White</td>\n",
       "      <td>Female</td>\n",
       "      <td>15024</td>\n",
       "      <td>0</td>\n",
       "      <td>40</td>\n",
       "      <td>United-States</td>\n",
       "      <td>&gt;50K</td>\n",
       "    </tr>\n",
       "  </tbody>\n",
       "</table>\n",
       "<p>32560 rows × 15 columns</p>\n",
       "</div>"
      ],
      "text/plain": [
       "       Age          Workclass  Fnlwgt    Education  Education_num  \\\n",
       "0       50   Self-emp-not-inc   83311    Bachelors             13   \n",
       "1       38            Private  215646      HS-grad              9   \n",
       "2       53            Private  234721         11th              7   \n",
       "3       28            Private  338409    Bachelors             13   \n",
       "4       37            Private  284582      Masters             14   \n",
       "...    ...                ...     ...          ...            ...   \n",
       "32555   27            Private  257302   Assoc-acdm             12   \n",
       "32556   40            Private  154374      HS-grad              9   \n",
       "32557   58            Private  151910      HS-grad              9   \n",
       "32558   22            Private  201490      HS-grad              9   \n",
       "32559   52       Self-emp-inc  287927      HS-grad              9   \n",
       "\n",
       "            Marital_status          Occupation    Relationship    Race  \\\n",
       "0       Married-civ-spouse     Exec-managerial         Husband   White   \n",
       "1                 Divorced   Handlers-cleaners   Not-in-family   White   \n",
       "2       Married-civ-spouse   Handlers-cleaners         Husband   Black   \n",
       "3       Married-civ-spouse      Prof-specialty            Wife   Black   \n",
       "4       Married-civ-spouse     Exec-managerial            Wife   White   \n",
       "...                    ...                 ...             ...     ...   \n",
       "32555   Married-civ-spouse        Tech-support            Wife   White   \n",
       "32556   Married-civ-spouse   Machine-op-inspct         Husband   White   \n",
       "32557              Widowed        Adm-clerical       Unmarried   White   \n",
       "32558        Never-married        Adm-clerical       Own-child   White   \n",
       "32559   Married-civ-spouse     Exec-managerial            Wife   White   \n",
       "\n",
       "           Sex  Capital_gain  Capital_loss  Hours_per_week  Native_country  \\\n",
       "0         Male             0             0              13   United-States   \n",
       "1         Male             0             0              40   United-States   \n",
       "2         Male             0             0              40   United-States   \n",
       "3       Female             0             0              40            Cuba   \n",
       "4       Female             0             0              40   United-States   \n",
       "...        ...           ...           ...             ...             ...   \n",
       "32555   Female             0             0              38   United-States   \n",
       "32556     Male             0             0              40   United-States   \n",
       "32557   Female             0             0              40   United-States   \n",
       "32558     Male             0             0              20   United-States   \n",
       "32559   Female         15024             0              40   United-States   \n",
       "\n",
       "       Income  \n",
       "0       <=50K  \n",
       "1       <=50K  \n",
       "2       <=50K  \n",
       "3       <=50K  \n",
       "4       <=50K  \n",
       "...       ...  \n",
       "32555   <=50K  \n",
       "32556    >50K  \n",
       "32557   <=50K  \n",
       "32558   <=50K  \n",
       "32559    >50K  \n",
       "\n",
       "[32560 rows x 15 columns]"
      ]
     },
     "execution_count": 12,
     "metadata": {},
     "output_type": "execute_result"
    }
   ],
   "source": [
    "df"
   ]
  },
  {
   "cell_type": "code",
   "execution_count": 13,
   "id": "f92a4bda",
   "metadata": {},
   "outputs": [
    {
     "data": {
      "text/plain": [
       "(32560, 15)"
      ]
     },
     "execution_count": 13,
     "metadata": {},
     "output_type": "execute_result"
    }
   ],
   "source": [
    "#checking shape of the dataset\n",
    "df.shape"
   ]
  },
  {
   "cell_type": "code",
   "execution_count": 14,
   "id": "b0c58f1f",
   "metadata": {},
   "outputs": [
    {
     "name": "stdout",
     "output_type": "stream",
     "text": [
      "<class 'pandas.core.frame.DataFrame'>\n",
      "RangeIndex: 32560 entries, 0 to 32559\n",
      "Data columns (total 15 columns):\n",
      " #   Column          Non-Null Count  Dtype \n",
      "---  ------          --------------  ----- \n",
      " 0   Age             32560 non-null  int64 \n",
      " 1   Workclass       32560 non-null  object\n",
      " 2   Fnlwgt          32560 non-null  int64 \n",
      " 3   Education       32560 non-null  object\n",
      " 4   Education_num   32560 non-null  int64 \n",
      " 5   Marital_status  32560 non-null  object\n",
      " 6   Occupation      32560 non-null  object\n",
      " 7   Relationship    32560 non-null  object\n",
      " 8   Race            32560 non-null  object\n",
      " 9   Sex             32560 non-null  object\n",
      " 10  Capital_gain    32560 non-null  int64 \n",
      " 11  Capital_loss    32560 non-null  int64 \n",
      " 12  Hours_per_week  32560 non-null  int64 \n",
      " 13  Native_country  32560 non-null  object\n",
      " 14  Income          32560 non-null  object\n",
      "dtypes: int64(6), object(9)\n",
      "memory usage: 3.7+ MB\n"
     ]
    }
   ],
   "source": [
    "#checking the dtype of the data\n",
    "df.info()"
   ]
  },
  {
   "cell_type": "markdown",
   "id": "f13c17da",
   "metadata": {},
   "source": [
    "# checking value counts and unique value in each columns¶"
   ]
  },
  {
   "cell_type": "code",
   "execution_count": 15,
   "id": "24b2e89d",
   "metadata": {},
   "outputs": [
    {
     "name": "stdout",
     "output_type": "stream",
     "text": [
      "1.Age:[50 38 53 28 37 49 52 31 42 30 23 32 40 34 25 43 54 35 59 56 19 39 20 45\n",
      " 22 48 21 24 57 44 41 29 18 47 46 36 79 27 67 33 76 17 55 61 70 64 71 68\n",
      " 66 51 58 26 60 90 75 65 77 62 63 80 72 74 69 73 81 78 88 82 83 84 85 86\n",
      " 87]\n",
      "36    898\n",
      "31    888\n",
      "34    886\n",
      "23    877\n",
      "35    876\n",
      "     ... \n",
      "83      6\n",
      "88      3\n",
      "85      3\n",
      "86      1\n",
      "87      1\n",
      "Name: Age, Length: 73, dtype: int64\n",
      "\n",
      "\n",
      "2.Workclass:[' Self-emp-not-inc' ' Private' ' State-gov' ' Federal-gov' ' Local-gov'\n",
      " ' ?' ' Self-emp-inc' ' Without-pay' ' Never-worked']\n",
      " Private             22696\n",
      " Self-emp-not-inc     2541\n",
      " Local-gov            2093\n",
      " ?                    1836\n",
      " State-gov            1297\n",
      " Self-emp-inc         1116\n",
      " Federal-gov           960\n",
      " Without-pay            14\n",
      " Never-worked            7\n",
      "Name: Workclass, dtype: int64\n",
      "\n",
      "\n",
      "3.Fnlwgt:[ 83311 215646 234721 ...  34066  84661 257302]\n",
      "164190    13\n",
      "203488    13\n",
      "123011    13\n",
      "148995    12\n",
      "126675    12\n",
      "          ..\n",
      "325573     1\n",
      "140176     1\n",
      "318264     1\n",
      "329205     1\n",
      "257302     1\n",
      "Name: Fnlwgt, Length: 21647, dtype: int64\n",
      "\n",
      "\n",
      "4.Education:[' Bachelors' ' HS-grad' ' 11th' ' Masters' ' 9th' ' Some-college'\n",
      " ' Assoc-acdm' ' Assoc-voc' ' 7th-8th' ' Doctorate' ' Prof-school'\n",
      " ' 5th-6th' ' 10th' ' 1st-4th' ' Preschool' ' 12th']\n",
      " HS-grad         10501\n",
      " Some-college     7291\n",
      " Bachelors        5354\n",
      " Masters          1723\n",
      " Assoc-voc        1382\n",
      " 11th             1175\n",
      " Assoc-acdm       1067\n",
      " 10th              933\n",
      " 7th-8th           646\n",
      " Prof-school       576\n",
      " 9th               514\n",
      " 12th              433\n",
      " Doctorate         413\n",
      " 5th-6th           333\n",
      " 1st-4th           168\n",
      " Preschool          51\n",
      "Name: Education, dtype: int64\n",
      "\n",
      "\n",
      "5.Education_num:[13  9  7 14  5 10 12 11  4 16 15  3  6  2  1  8]\n",
      "9     10501\n",
      "10     7291\n",
      "13     5354\n",
      "14     1723\n",
      "11     1382\n",
      "7      1175\n",
      "12     1067\n",
      "6       933\n",
      "4       646\n",
      "15      576\n",
      "5       514\n",
      "8       433\n",
      "16      413\n",
      "3       333\n",
      "2       168\n",
      "1        51\n",
      "Name: Education_num, dtype: int64\n",
      "\n",
      "\n",
      "6.Marital_status:[' Married-civ-spouse' ' Divorced' ' Married-spouse-absent'\n",
      " ' Never-married' ' Separated' ' Married-AF-spouse' ' Widowed']\n",
      " Married-civ-spouse       14976\n",
      " Never-married            10682\n",
      " Divorced                  4443\n",
      " Separated                 1025\n",
      " Widowed                    993\n",
      " Married-spouse-absent      418\n",
      " Married-AF-spouse           23\n",
      "Name: Marital_status, dtype: int64\n",
      "\n",
      "\n",
      "7.Occupation:[' Exec-managerial' ' Handlers-cleaners' ' Prof-specialty'\n",
      " ' Other-service' ' Adm-clerical' ' Sales' ' Craft-repair'\n",
      " ' Transport-moving' ' Farming-fishing' ' Machine-op-inspct'\n",
      " ' Tech-support' ' ?' ' Protective-serv' ' Armed-Forces'\n",
      " ' Priv-house-serv']\n",
      " Prof-specialty       4140\n",
      " Craft-repair         4099\n",
      " Exec-managerial      4066\n",
      " Adm-clerical         3769\n",
      " Sales                3650\n",
      " Other-service        3295\n",
      " Machine-op-inspct    2002\n",
      " ?                    1843\n",
      " Transport-moving     1597\n",
      " Handlers-cleaners    1370\n",
      " Farming-fishing       994\n",
      " Tech-support          928\n",
      " Protective-serv       649\n",
      " Priv-house-serv       149\n",
      " Armed-Forces            9\n",
      "Name: Occupation, dtype: int64\n",
      "\n",
      "\n",
      "8.Relationship:[' Husband' ' Not-in-family' ' Wife' ' Own-child' ' Unmarried'\n",
      " ' Other-relative']\n",
      " Husband           13193\n",
      " Not-in-family      8304\n",
      " Own-child          5068\n",
      " Unmarried          3446\n",
      " Wife               1568\n",
      " Other-relative      981\n",
      "Name: Relationship, dtype: int64\n",
      "\n",
      "\n",
      "9.Race:[' White' ' Black' ' Asian-Pac-Islander' ' Amer-Indian-Eskimo' ' Other']\n",
      " White                 27815\n",
      " Black                  3124\n",
      " Asian-Pac-Islander     1039\n",
      " Amer-Indian-Eskimo      311\n",
      " Other                   271\n",
      "Name: Race, dtype: int64\n",
      "\n",
      "\n",
      "10.Sex:[' Male' ' Female']\n",
      " Male      21789\n",
      " Female    10771\n",
      "Name: Sex, dtype: int64\n",
      "\n",
      "\n",
      "11.Capital_gain:[    0 14084  5178  5013  2407 14344 15024  7688 34095  4064  4386  7298\n",
      "  1409  3674  1055  3464  2050  2176  2174   594 20051  6849  4101  1111\n",
      "  8614  3411  2597 25236  4650  9386  2463  3103 10605  2964  3325  2580\n",
      "  3471  4865 99999  6514  1471  2329  2105  2885 25124 10520  2202  2961\n",
      " 27828  6767  2228  1506 13550  2635  5556  4787  3781  3137  3818  3942\n",
      "   914   401  2829  2977  4934  2062  2354  5455 15020  1424  3273 22040\n",
      "  4416  3908 10566   991  4931  1086  7430  6497   114  7896  2346  3418\n",
      "  3432  2907  1151  2414  2290 15831 41310  4508  2538  3456  6418  1848\n",
      "  3887  5721  9562  1455  2036  1831 11678  2936  2993  7443  6360  1797\n",
      "  1173  4687  6723  2009  6097  2653  1639 18481  7978  2387  5060]\n",
      "0        29849\n",
      "15024      347\n",
      "7688       284\n",
      "7298       246\n",
      "99999      159\n",
      "         ...  \n",
      "1111         1\n",
      "2538         1\n",
      "22040        1\n",
      "4931         1\n",
      "5060         1\n",
      "Name: Capital_gain, Length: 119, dtype: int64\n",
      "\n",
      "\n",
      "12.Capital_loss:[   0 2042 1408 1902 1573 1887 1719 1762 1564 2179 1816 1980 1977 1876\n",
      " 1340 2206 1741 1485 2339 2415 1380 1721 2051 2377 1669 2352 1672  653\n",
      " 2392 1504 2001 1590 1651 1628 1848 1740 2002 1579 2258 1602  419 2547\n",
      " 2174 2205 1726 2444 1138 2238  625  213 1539  880 1668 1092 1594 3004\n",
      " 2231 1844  810 2824 2559 2057 1974  974 2149 1825 1735 1258 2129 2603\n",
      " 2282  323 4356 2246 1617 1648 2489 3770 1755 3683 2267 2080 2457  155\n",
      " 3900 2201 1944 2467 2163 2754 2472 1411]\n",
      "0       31041\n",
      "1902      202\n",
      "1977      168\n",
      "1887      159\n",
      "1848       51\n",
      "        ...  \n",
      "2080        1\n",
      "1539        1\n",
      "1844        1\n",
      "2489        1\n",
      "1411        1\n",
      "Name: Capital_loss, Length: 92, dtype: int64\n",
      "\n",
      "\n",
      "13.Hours_per_week:[13 40 16 45 50 80 30 35 60 20 52 44 15 25 38 43 55 48 58 32 70  2 22 56\n",
      " 41 28 36 24 46 42 12 65  1 10 34 75 98 33 54  8  6 64 19 18 72  5  9 47\n",
      " 37 21 26 14  4 59  7 99 53 39 62 57 78 90 66 11 49 84  3 17 68 27 85 31\n",
      " 51 77 63 23 87 88 73 89 97 94 29 96 67 82 86 91 81 76 92 61 74 95]\n",
      "40    15216\n",
      "50     2819\n",
      "45     1824\n",
      "60     1475\n",
      "35     1297\n",
      "      ...  \n",
      "82        1\n",
      "94        1\n",
      "92        1\n",
      "74        1\n",
      "87        1\n",
      "Name: Hours_per_week, Length: 94, dtype: int64\n",
      "\n",
      "\n",
      "14.Native_country:[' United-States' ' Cuba' ' Jamaica' ' India' ' ?' ' Mexico' ' South'\n",
      " ' Puerto-Rico' ' Honduras' ' England' ' Canada' ' Germany' ' Iran'\n",
      " ' Philippines' ' Italy' ' Poland' ' Columbia' ' Cambodia' ' Thailand'\n",
      " ' Ecuador' ' Laos' ' Taiwan' ' Haiti' ' Portugal' ' Dominican-Republic'\n",
      " ' El-Salvador' ' France' ' Guatemala' ' China' ' Japan' ' Yugoslavia'\n",
      " ' Peru' ' Outlying-US(Guam-USVI-etc)' ' Scotland' ' Trinadad&Tobago'\n",
      " ' Greece' ' Nicaragua' ' Vietnam' ' Hong' ' Ireland' ' Hungary'\n",
      " ' Holand-Netherlands']\n",
      " United-States                 29169\n",
      " Mexico                          643\n",
      " ?                               583\n",
      " Philippines                     198\n",
      " Germany                         137\n",
      " Canada                          121\n",
      " Puerto-Rico                     114\n",
      " El-Salvador                     106\n",
      " India                           100\n",
      " Cuba                             95\n",
      " England                          90\n",
      " Jamaica                          81\n",
      " South                            80\n",
      " China                            75\n",
      " Italy                            73\n",
      " Dominican-Republic               70\n",
      " Vietnam                          67\n",
      " Guatemala                        64\n",
      " Japan                            62\n",
      " Poland                           60\n",
      " Columbia                         59\n",
      " Taiwan                           51\n",
      " Haiti                            44\n",
      " Iran                             43\n",
      " Portugal                         37\n",
      " Nicaragua                        34\n",
      " Peru                             31\n",
      " France                           29\n",
      " Greece                           29\n",
      " Ecuador                          28\n",
      " Ireland                          24\n",
      " Hong                             20\n",
      " Cambodia                         19\n",
      " Trinadad&Tobago                  19\n",
      " Laos                             18\n",
      " Thailand                         18\n",
      " Yugoslavia                       16\n",
      " Outlying-US(Guam-USVI-etc)       14\n",
      " Honduras                         13\n",
      " Hungary                          13\n",
      " Scotland                         12\n",
      " Holand-Netherlands                1\n",
      "Name: Native_country, dtype: int64\n",
      "\n",
      "\n",
      "15.Income:[' <=50K' ' >50K']\n",
      " <=50K    24719\n",
      " >50K      7841\n",
      "Name: Income, dtype: int64\n",
      "\n",
      "\n"
     ]
    }
   ],
   "source": [
    "#checking value count and unique value in each column\n",
    "count=1\n",
    "for x in df:\n",
    "    print(f'{count}.{x}:{df[x].unique()}')\n",
    "    print(f'{df[x].value_counts()}',end='\\n\\n\\n')\n",
    "    count+=1"
   ]
  },
  {
   "cell_type": "code",
   "execution_count": 16,
   "id": "51713978",
   "metadata": {},
   "outputs": [
    {
     "data": {
      "text/html": [
       "<div>\n",
       "<style scoped>\n",
       "    .dataframe tbody tr th:only-of-type {\n",
       "        vertical-align: middle;\n",
       "    }\n",
       "\n",
       "    .dataframe tbody tr th {\n",
       "        vertical-align: top;\n",
       "    }\n",
       "\n",
       "    .dataframe thead th {\n",
       "        text-align: right;\n",
       "    }\n",
       "</style>\n",
       "<table border=\"1\" class=\"dataframe\">\n",
       "  <thead>\n",
       "    <tr style=\"text-align: right;\">\n",
       "      <th></th>\n",
       "      <th>Age</th>\n",
       "      <th>Fnlwgt</th>\n",
       "      <th>Education_num</th>\n",
       "      <th>Capital_gain</th>\n",
       "      <th>Capital_loss</th>\n",
       "      <th>Hours_per_week</th>\n",
       "    </tr>\n",
       "  </thead>\n",
       "  <tbody>\n",
       "    <tr>\n",
       "      <th>count</th>\n",
       "      <td>32560.000000</td>\n",
       "      <td>3.256000e+04</td>\n",
       "      <td>32560.000000</td>\n",
       "      <td>32560.000000</td>\n",
       "      <td>32560.000000</td>\n",
       "      <td>32560.000000</td>\n",
       "    </tr>\n",
       "    <tr>\n",
       "      <th>mean</th>\n",
       "      <td>38.581634</td>\n",
       "      <td>1.897818e+05</td>\n",
       "      <td>10.080590</td>\n",
       "      <td>1077.615172</td>\n",
       "      <td>87.306511</td>\n",
       "      <td>40.437469</td>\n",
       "    </tr>\n",
       "    <tr>\n",
       "      <th>std</th>\n",
       "      <td>13.640642</td>\n",
       "      <td>1.055498e+05</td>\n",
       "      <td>2.572709</td>\n",
       "      <td>7385.402999</td>\n",
       "      <td>402.966116</td>\n",
       "      <td>12.347618</td>\n",
       "    </tr>\n",
       "    <tr>\n",
       "      <th>min</th>\n",
       "      <td>17.000000</td>\n",
       "      <td>1.228500e+04</td>\n",
       "      <td>1.000000</td>\n",
       "      <td>0.000000</td>\n",
       "      <td>0.000000</td>\n",
       "      <td>1.000000</td>\n",
       "    </tr>\n",
       "    <tr>\n",
       "      <th>25%</th>\n",
       "      <td>28.000000</td>\n",
       "      <td>1.178315e+05</td>\n",
       "      <td>9.000000</td>\n",
       "      <td>0.000000</td>\n",
       "      <td>0.000000</td>\n",
       "      <td>40.000000</td>\n",
       "    </tr>\n",
       "    <tr>\n",
       "      <th>50%</th>\n",
       "      <td>37.000000</td>\n",
       "      <td>1.783630e+05</td>\n",
       "      <td>10.000000</td>\n",
       "      <td>0.000000</td>\n",
       "      <td>0.000000</td>\n",
       "      <td>40.000000</td>\n",
       "    </tr>\n",
       "    <tr>\n",
       "      <th>75%</th>\n",
       "      <td>48.000000</td>\n",
       "      <td>2.370545e+05</td>\n",
       "      <td>12.000000</td>\n",
       "      <td>0.000000</td>\n",
       "      <td>0.000000</td>\n",
       "      <td>45.000000</td>\n",
       "    </tr>\n",
       "    <tr>\n",
       "      <th>max</th>\n",
       "      <td>90.000000</td>\n",
       "      <td>1.484705e+06</td>\n",
       "      <td>16.000000</td>\n",
       "      <td>99999.000000</td>\n",
       "      <td>4356.000000</td>\n",
       "      <td>99.000000</td>\n",
       "    </tr>\n",
       "  </tbody>\n",
       "</table>\n",
       "</div>"
      ],
      "text/plain": [
       "                Age        Fnlwgt  Education_num  Capital_gain  Capital_loss  \\\n",
       "count  32560.000000  3.256000e+04   32560.000000  32560.000000  32560.000000   \n",
       "mean      38.581634  1.897818e+05      10.080590   1077.615172     87.306511   \n",
       "std       13.640642  1.055498e+05       2.572709   7385.402999    402.966116   \n",
       "min       17.000000  1.228500e+04       1.000000      0.000000      0.000000   \n",
       "25%       28.000000  1.178315e+05       9.000000      0.000000      0.000000   \n",
       "50%       37.000000  1.783630e+05      10.000000      0.000000      0.000000   \n",
       "75%       48.000000  2.370545e+05      12.000000      0.000000      0.000000   \n",
       "max       90.000000  1.484705e+06      16.000000  99999.000000   4356.000000   \n",
       "\n",
       "       Hours_per_week  \n",
       "count    32560.000000  \n",
       "mean        40.437469  \n",
       "std         12.347618  \n",
       "min          1.000000  \n",
       "25%         40.000000  \n",
       "50%         40.000000  \n",
       "75%         45.000000  \n",
       "max         99.000000  "
      ]
     },
     "execution_count": 16,
     "metadata": {},
     "output_type": "execute_result"
    }
   ],
   "source": [
    "#describing the data to check std dev and outliers\n",
    "df.describe()"
   ]
  },
  {
   "cell_type": "markdown",
   "id": "6db3a107",
   "metadata": {},
   "source": [
    "Documentation :\n",
    "    \n",
    "    - the data is having no mising value \n",
    "    \n",
    "    -in the fnlwgt column the data is in exponential form \n",
    "    \n",
    "    -and in age capotal_gain,capital_loss,and hours_per_week  skewness is too high so we removed them with power transform method\n",
    "    \n",
    "    -outliers is also present in the column so we can remove that by zscore or outlier detection formula "
   ]
  },
  {
   "cell_type": "markdown",
   "id": "5afc2799",
   "metadata": {},
   "source": [
    "# checking null values"
   ]
  },
  {
   "cell_type": "code",
   "execution_count": 17,
   "id": "f1e87589",
   "metadata": {},
   "outputs": [
    {
     "data": {
      "text/plain": [
       "Age               0\n",
       "Workclass         0\n",
       "Fnlwgt            0\n",
       "Education         0\n",
       "Education_num     0\n",
       "Marital_status    0\n",
       "Occupation        0\n",
       "Relationship      0\n",
       "Race              0\n",
       "Sex               0\n",
       "Capital_gain      0\n",
       "Capital_loss      0\n",
       "Hours_per_week    0\n",
       "Native_country    0\n",
       "Income            0\n",
       "dtype: int64"
      ]
     },
     "execution_count": 17,
     "metadata": {},
     "output_type": "execute_result"
    }
   ],
   "source": [
    "df.isnull().sum()"
   ]
  },
  {
   "cell_type": "code",
   "execution_count": 18,
   "id": "fbfadd9a",
   "metadata": {},
   "outputs": [
    {
     "data": {
      "text/plain": [
       "False"
      ]
     },
     "execution_count": 18,
     "metadata": {},
     "output_type": "execute_result"
    }
   ],
   "source": [
    "df.isnull().values.any()"
   ]
  },
  {
   "cell_type": "code",
   "execution_count": 19,
   "id": "5640dd2e",
   "metadata": {},
   "outputs": [
    {
     "data": {
      "text/plain": [
       "<AxesSubplot:>"
      ]
     },
     "execution_count": 19,
     "metadata": {},
     "output_type": "execute_result"
    },
    {
     "data": {
      "image/png": "[encoded data removed]",
      "text/plain": [
       "<Figure size 432x288 with 2 Axes>"
      ]
     },
     "metadata": {
      "needs_background": "light"
     },
     "output_type": "display_data"
    }
   ],
   "source": [
    "sns.heatmap(df.isnull())"
   ]
  },
  {
   "cell_type": "markdown",
   "id": "47c37d53",
   "metadata": {},
   "source": [
    "No null values are present in the dataset"
   ]
  },
  {
   "cell_type": "markdown",
   "id": "121f5910",
   "metadata": {},
   "source": [
    "# checking target variable"
   ]
  },
  {
   "cell_type": "code",
   "execution_count": 20,
   "id": "bf805e90",
   "metadata": {},
   "outputs": [
    {
     "data": {
      "image/png": "[encoded data removed]",
      "text/plain": [
       "<Figure size 432x288 with 1 Axes>"
      ]
     },
     "metadata": {
      "needs_background": "light"
     },
     "output_type": "display_data"
    }
   ],
   "source": [
    "df['Income'].hist(grid=False)\n",
    "plt.title(' <=50K vs  >50K')\n",
    "plt.show()"
   ]
  },
  {
   "cell_type": "code",
   "execution_count": 21,
   "id": "7e7ce24d",
   "metadata": {},
   "outputs": [
    {
     "data": {
      "text/plain": [
       " <=50K    24719\n",
       " >50K      7841\n",
       "Name: Income, dtype: int64"
      ]
     },
     "execution_count": 21,
     "metadata": {},
     "output_type": "execute_result"
    }
   ],
   "source": [
    "df.Income.value_counts()"
   ]
  },
  {
   "cell_type": "markdown",
   "id": "d1284bd8",
   "metadata": {},
   "source": [
    "its seems that data is imbalanved so we use SMOTE technique to balanced the data"
   ]
  },
  {
   "cell_type": "code",
   "execution_count": 22,
   "id": "082565d9",
   "metadata": {},
   "outputs": [
    {
     "data": {
      "text/plain": [
       "Index(['Age', 'Workclass', 'Fnlwgt', 'Education', 'Education_num',\n",
       "       'Marital_status', 'Occupation', 'Relationship', 'Race', 'Sex',\n",
       "       'Capital_gain', 'Capital_loss', 'Hours_per_week', 'Native_country',\n",
       "       'Income'],\n",
       "      dtype='object')"
      ]
     },
     "execution_count": 22,
     "metadata": {},
     "output_type": "execute_result"
    }
   ],
   "source": [
    "df.columns"
   ]
  },
  {
   "cell_type": "markdown",
   "id": "91cc65b4",
   "metadata": {},
   "source": [
    "# Univariate Analysis"
   ]
  },
  {
   "cell_type": "code",
   "execution_count": 24,
   "id": "c939357f",
   "metadata": {},
   "outputs": [
    {
     "data": {
      "text/plain": [
       "<AxesSubplot:xlabel='Age', ylabel='count'>"
      ]
     },
     "execution_count": 24,
     "metadata": {},
     "output_type": "execute_result"
    },
    {
     "data": {
      "image/png": "[encoded data removed]",
      "text/plain": [
       "<Figure size 432x288 with 1 Axes>"
      ]
     },
     "metadata": {
      "needs_background": "light"
     },
     "output_type": "display_data"
    }
   ],
   "source": [
    "sns.countplot('Age',data=df)"
   ]
  },
  {
   "cell_type": "code",
   "execution_count": 26,
   "id": "d9cb36f7",
   "metadata": {},
   "outputs": [
    {
     "data": {
      "text/plain": [
       "<AxesSubplot:xlabel='Education', ylabel='count'>"
      ]
     },
     "execution_count": 26,
     "metadata": {},
     "output_type": "execute_result"
    },
    {
     "data": {
      "image/png": "[encoded data removed]",
      "text/plain": [
       "<Figure size 432x288 with 1 Axes>"
      ]
     },
     "metadata": {
      "needs_background": "light"
     },
     "output_type": "display_data"
    }
   ],
   "source": [
    "sns.countplot('Education',data=df)"
   ]
  },
  {
   "cell_type": "code",
   "execution_count": 28,
   "id": "c80317ad",
   "metadata": {},
   "outputs": [
    {
     "data": {
      "text/plain": [
       "<AxesSubplot:xlabel='Education_num', ylabel='count'>"
      ]
     },
     "execution_count": 28,
     "metadata": {},
     "output_type": "execute_result"
    },
    {
     "data": {
      "image/png": "[encoded data removed]",
      "text/plain": [
       "<Figure size 432x288 with 1 Axes>"
      ]
     },
     "metadata": {
      "needs_background": "light"
     },
     "output_type": "display_data"
    }
   ],
   "source": [
    "sns.countplot('Education_num',data=df)"
   ]
  },
  {
   "cell_type": "markdown",
   "id": "f4e72d9b",
   "metadata": {},
   "source": [
    "we can see education and education_num columns are  having same data so we delete education column"
   ]
  },
  {
   "cell_type": "code",
   "execution_count": 29,
   "id": "76dcb6ee",
   "metadata": {},
   "outputs": [
    {
     "data": {
      "text/plain": [
       "<AxesSubplot:xlabel='Marital_status', ylabel='count'>"
      ]
     },
     "execution_count": 29,
     "metadata": {},
     "output_type": "execute_result"
    },
    {
     "data": {
      "image/png": "[encoded data removed]",
      "text/plain": [
       "<Figure size 432x288 with 1 Axes>"
      ]
     },
     "metadata": {
      "needs_background": "light"
     },
     "output_type": "display_data"
    }
   ],
   "source": [
    "sns.countplot('Marital_status',data=df)"
   ]
  },
  {
   "cell_type": "code",
   "execution_count": 31,
   "id": "b0d0a272",
   "metadata": {},
   "outputs": [
    {
     "data": {
      "text/plain": [
       "<AxesSubplot:xlabel='Occupation', ylabel='count'>"
      ]
     },
     "execution_count": 31,
     "metadata": {},
     "output_type": "execute_result"
    },
    {
     "data": {
      "image/png": "[encoded data removed]",
      "text/plain": [
       "<Figure size 432x288 with 1 Axes>"
      ]
     },
     "metadata": {
      "needs_background": "light"
     },
     "output_type": "display_data"
    }
   ],
   "source": [
    "sns.countplot('Occupation',data=df)"
   ]
  },
  {
   "cell_type": "code",
   "execution_count": 32,
   "id": "c246c239",
   "metadata": {},
   "outputs": [
    {
     "data": {
      "text/plain": [
       "<AxesSubplot:xlabel='Relationship', ylabel='count'>"
      ]
     },
     "execution_count": 32,
     "metadata": {},
     "output_type": "execute_result"
    },
    {
     "data": {
      "image/png": "[encoded data removed]",
      "text/plain": [
       "<Figure size 432x288 with 1 Axes>"
      ]
     },
     "metadata": {
      "needs_background": "light"
     },
     "output_type": "display_data"
    }
   ],
   "source": [
    "sns.countplot('Relationship',data=df)"
   ]
  },
  {
   "cell_type": "code",
   "execution_count": 33,
   "id": "61c30a96",
   "metadata": {},
   "outputs": [
    {
     "data": {
      "text/plain": [
       "<AxesSubplot:xlabel='Race', ylabel='count'>"
      ]
     },
     "execution_count": 33,
     "metadata": {},
     "output_type": "execute_result"
    },
    {
     "data": {
      "image/png": "[encoded data removed]",
      "text/plain": [
       "<Figure size 432x288 with 1 Axes>"
      ]
     },
     "metadata": {
      "needs_background": "light"
     },
     "output_type": "display_data"
    }
   ],
   "source": [
    "sns.countplot('Race',data=df)"
   ]
  },
  {
   "cell_type": "code",
   "execution_count": 34,
   "id": "ee5042d7",
   "metadata": {},
   "outputs": [
    {
     "data": {
      "text/plain": [
       "<AxesSubplot:xlabel='Sex', ylabel='count'>"
      ]
     },
     "execution_count": 34,
     "metadata": {},
     "output_type": "execute_result"
    },
    {
     "data": {
      "image/png": "[encoded data removed]",
      "text/plain": [
       "<Figure size 432x288 with 1 Axes>"
      ]
     },
     "metadata": {
      "needs_background": "light"
     },
     "output_type": "display_data"
    }
   ],
   "source": [
    "sns.countplot('Sex',data=df)"
   ]
  },
  {
   "cell_type": "markdown",
   "id": "63d3957d",
   "metadata": {},
   "source": [
    "# dropping unwantd columns"
   ]
  },
  {
   "cell_type": "code",
   "execution_count": 40,
   "id": "0a052ac6",
   "metadata": {},
   "outputs": [],
   "source": [
    "df.drop(columns=['Education'],axis=1,inplace=True)"
   ]
  },
  {
   "cell_type": "code",
   "execution_count": 41,
   "id": "be4175e4",
   "metadata": {},
   "outputs": [
    {
     "data": {
      "text/html": [
       "<div>\n",
       "<style scoped>\n",
       "    .dataframe tbody tr th:only-of-type {\n",
       "        vertical-align: middle;\n",
       "    }\n",
       "\n",
       "    .dataframe tbody tr th {\n",
       "        vertical-align: top;\n",
       "    }\n",
       "\n",
       "    .dataframe thead th {\n",
       "        text-align: right;\n",
       "    }\n",
       "</style>\n",
       "<table border=\"1\" class=\"dataframe\">\n",
       "  <thead>\n",
       "    <tr style=\"text-align: right;\">\n",
       "      <th></th>\n",
       "      <th>Age</th>\n",
       "      <th>Workclass</th>\n",
       "      <th>Fnlwgt</th>\n",
       "      <th>Education_num</th>\n",
       "      <th>Marital_status</th>\n",
       "      <th>Occupation</th>\n",
       "      <th>Relationship</th>\n",
       "      <th>Race</th>\n",
       "      <th>Sex</th>\n",
       "      <th>Capital_gain</th>\n",
       "      <th>Capital_loss</th>\n",
       "      <th>Hours_per_week</th>\n",
       "      <th>Native_country</th>\n",
       "      <th>Income</th>\n",
       "    </tr>\n",
       "  </thead>\n",
       "  <tbody>\n",
       "    <tr>\n",
       "      <th>0</th>\n",
       "      <td>50</td>\n",
       "      <td>Self-emp-not-inc</td>\n",
       "      <td>83311</td>\n",
       "      <td>13</td>\n",
       "      <td>Married-civ-spouse</td>\n",
       "      <td>Exec-managerial</td>\n",
       "      <td>Husband</td>\n",
       "      <td>White</td>\n",
       "      <td>Male</td>\n",
       "      <td>0</td>\n",
       "      <td>0</td>\n",
       "      <td>13</td>\n",
       "      <td>United-States</td>\n",
       "      <td>&lt;=50K</td>\n",
       "    </tr>\n",
       "    <tr>\n",
       "      <th>1</th>\n",
       "      <td>38</td>\n",
       "      <td>Private</td>\n",
       "      <td>215646</td>\n",
       "      <td>9</td>\n",
       "      <td>Divorced</td>\n",
       "      <td>Handlers-cleaners</td>\n",
       "      <td>Not-in-family</td>\n",
       "      <td>White</td>\n",
       "      <td>Male</td>\n",
       "      <td>0</td>\n",
       "      <td>0</td>\n",
       "      <td>40</td>\n",
       "      <td>United-States</td>\n",
       "      <td>&lt;=50K</td>\n",
       "    </tr>\n",
       "    <tr>\n",
       "      <th>2</th>\n",
       "      <td>53</td>\n",
       "      <td>Private</td>\n",
       "      <td>234721</td>\n",
       "      <td>7</td>\n",
       "      <td>Married-civ-spouse</td>\n",
       "      <td>Handlers-cleaners</td>\n",
       "      <td>Husband</td>\n",
       "      <td>Black</td>\n",
       "      <td>Male</td>\n",
       "      <td>0</td>\n",
       "      <td>0</td>\n",
       "      <td>40</td>\n",
       "      <td>United-States</td>\n",
       "      <td>&lt;=50K</td>\n",
       "    </tr>\n",
       "    <tr>\n",
       "      <th>3</th>\n",
       "      <td>28</td>\n",
       "      <td>Private</td>\n",
       "      <td>338409</td>\n",
       "      <td>13</td>\n",
       "      <td>Married-civ-spouse</td>\n",
       "      <td>Prof-specialty</td>\n",
       "      <td>Wife</td>\n",
       "      <td>Black</td>\n",
       "      <td>Female</td>\n",
       "      <td>0</td>\n",
       "      <td>0</td>\n",
       "      <td>40</td>\n",
       "      <td>Cuba</td>\n",
       "      <td>&lt;=50K</td>\n",
       "    </tr>\n",
       "    <tr>\n",
       "      <th>4</th>\n",
       "      <td>37</td>\n",
       "      <td>Private</td>\n",
       "      <td>284582</td>\n",
       "      <td>14</td>\n",
       "      <td>Married-civ-spouse</td>\n",
       "      <td>Exec-managerial</td>\n",
       "      <td>Wife</td>\n",
       "      <td>White</td>\n",
       "      <td>Female</td>\n",
       "      <td>0</td>\n",
       "      <td>0</td>\n",
       "      <td>40</td>\n",
       "      <td>United-States</td>\n",
       "      <td>&lt;=50K</td>\n",
       "    </tr>\n",
       "    <tr>\n",
       "      <th>...</th>\n",
       "      <td>...</td>\n",
       "      <td>...</td>\n",
       "      <td>...</td>\n",
       "      <td>...</td>\n",
       "      <td>...</td>\n",
       "      <td>...</td>\n",
       "      <td>...</td>\n",
       "      <td>...</td>\n",
       "      <td>...</td>\n",
       "      <td>...</td>\n",
       "      <td>...</td>\n",
       "      <td>...</td>\n",
       "      <td>...</td>\n",
       "      <td>...</td>\n",
       "    </tr>\n",
       "    <tr>\n",
       "      <th>32555</th>\n",
       "      <td>27</td>\n",
       "      <td>Private</td>\n",
       "      <td>257302</td>\n",
       "      <td>12</td>\n",
       "      <td>Married-civ-spouse</td>\n",
       "      <td>Tech-support</td>\n",
       "      <td>Wife</td>\n",
       "      <td>White</td>\n",
       "      <td>Female</td>\n",
       "      <td>0</td>\n",
       "      <td>0</td>\n",
       "      <td>38</td>\n",
       "      <td>United-States</td>\n",
       "      <td>&lt;=50K</td>\n",
       "    </tr>\n",
       "    <tr>\n",
       "      <th>32556</th>\n",
       "      <td>40</td>\n",
       "      <td>Private</td>\n",
       "      <td>154374</td>\n",
       "      <td>9</td>\n",
       "      <td>Married-civ-spouse</td>\n",
       "      <td>Machine-op-inspct</td>\n",
       "      <td>Husband</td>\n",
       "      <td>White</td>\n",
       "      <td>Male</td>\n",
       "      <td>0</td>\n",
       "      <td>0</td>\n",
       "      <td>40</td>\n",
       "      <td>United-States</td>\n",
       "      <td>&gt;50K</td>\n",
       "    </tr>\n",
       "    <tr>\n",
       "      <th>32557</th>\n",
       "      <td>58</td>\n",
       "      <td>Private</td>\n",
       "      <td>151910</td>\n",
       "      <td>9</td>\n",
       "      <td>Widowed</td>\n",
       "      <td>Adm-clerical</td>\n",
       "      <td>Unmarried</td>\n",
       "      <td>White</td>\n",
       "      <td>Female</td>\n",
       "      <td>0</td>\n",
       "      <td>0</td>\n",
       "      <td>40</td>\n",
       "      <td>United-States</td>\n",
       "      <td>&lt;=50K</td>\n",
       "    </tr>\n",
       "    <tr>\n",
       "      <th>32558</th>\n",
       "      <td>22</td>\n",
       "      <td>Private</td>\n",
       "      <td>201490</td>\n",
       "      <td>9</td>\n",
       "      <td>Never-married</td>\n",
       "      <td>Adm-clerical</td>\n",
       "      <td>Own-child</td>\n",
       "      <td>White</td>\n",
       "      <td>Male</td>\n",
       "      <td>0</td>\n",
       "      <td>0</td>\n",
       "      <td>20</td>\n",
       "      <td>United-States</td>\n",
       "      <td>&lt;=50K</td>\n",
       "    </tr>\n",
       "    <tr>\n",
       "      <th>32559</th>\n",
       "      <td>52</td>\n",
       "      <td>Self-emp-inc</td>\n",
       "      <td>287927</td>\n",
       "      <td>9</td>\n",
       "      <td>Married-civ-spouse</td>\n",
       "      <td>Exec-managerial</td>\n",
       "      <td>Wife</td>\n",
       "      <td>White</td>\n",
       "      <td>Female</td>\n",
       "      <td>15024</td>\n",
       "      <td>0</td>\n",
       "      <td>40</td>\n",
       "      <td>United-States</td>\n",
       "      <td>&gt;50K</td>\n",
       "    </tr>\n",
       "  </tbody>\n",
       "</table>\n",
       "<p>32560 rows × 14 columns</p>\n",
       "</div>"
      ],
      "text/plain": [
       "       Age          Workclass  Fnlwgt  Education_num       Marital_status  \\\n",
       "0       50   Self-emp-not-inc   83311             13   Married-civ-spouse   \n",
       "1       38            Private  215646              9             Divorced   \n",
       "2       53            Private  234721              7   Married-civ-spouse   \n",
       "3       28            Private  338409             13   Married-civ-spouse   \n",
       "4       37            Private  284582             14   Married-civ-spouse   \n",
       "...    ...                ...     ...            ...                  ...   \n",
       "32555   27            Private  257302             12   Married-civ-spouse   \n",
       "32556   40            Private  154374              9   Married-civ-spouse   \n",
       "32557   58            Private  151910              9              Widowed   \n",
       "32558   22            Private  201490              9        Never-married   \n",
       "32559   52       Self-emp-inc  287927              9   Married-civ-spouse   \n",
       "\n",
       "               Occupation    Relationship    Race      Sex  Capital_gain  \\\n",
       "0         Exec-managerial         Husband   White     Male             0   \n",
       "1       Handlers-cleaners   Not-in-family   White     Male             0   \n",
       "2       Handlers-cleaners         Husband   Black     Male             0   \n",
       "3          Prof-specialty            Wife   Black   Female             0   \n",
       "4         Exec-managerial            Wife   White   Female             0   \n",
       "...                   ...             ...     ...      ...           ...   \n",
       "32555        Tech-support            Wife   White   Female             0   \n",
       "32556   Machine-op-inspct         Husband   White     Male             0   \n",
       "32557        Adm-clerical       Unmarried   White   Female             0   \n",
       "32558        Adm-clerical       Own-child   White     Male             0   \n",
       "32559     Exec-managerial            Wife   White   Female         15024   \n",
       "\n",
       "       Capital_loss  Hours_per_week  Native_country  Income  \n",
       "0                 0              13   United-States   <=50K  \n",
       "1                 0              40   United-States   <=50K  \n",
       "2                 0              40   United-States   <=50K  \n",
       "3                 0              40            Cuba   <=50K  \n",
       "4                 0              40   United-States   <=50K  \n",
       "...             ...             ...             ...     ...  \n",
       "32555             0              38   United-States   <=50K  \n",
       "32556             0              40   United-States    >50K  \n",
       "32557             0              40   United-States   <=50K  \n",
       "32558             0              20   United-States   <=50K  \n",
       "32559             0              40   United-States    >50K  \n",
       "\n",
       "[32560 rows x 14 columns]"
      ]
     },
     "execution_count": 41,
     "metadata": {},
     "output_type": "execute_result"
    }
   ],
   "source": [
    "df"
   ]
  },
  {
   "cell_type": "code",
   "execution_count": 42,
   "id": "17607727",
   "metadata": {},
   "outputs": [
    {
     "data": {
      "text/plain": [
       "(32560, 14)"
      ]
     },
     "execution_count": 42,
     "metadata": {},
     "output_type": "execute_result"
    }
   ],
   "source": [
    "df.shape"
   ]
  },
  {
   "cell_type": "markdown",
   "id": "455e1855",
   "metadata": {},
   "source": [
    "# Transformation technique to encode the text columns "
   ]
  },
  {
   "cell_type": "code",
   "execution_count": 43,
   "id": "17d666a0",
   "metadata": {},
   "outputs": [],
   "source": [
    "from sklearn.preprocessing  import LabelEncoder\n",
    "count=1\n",
    "for col in df:\n",
    "    if df[col].dtype==np.number:\n",
    "        continue\n",
    "    df[col]=LabelEncoder().fit_transform(df[col])\n",
    "    \n",
    "    "
   ]
  },
  {
   "cell_type": "code",
   "execution_count": 44,
   "id": "4cff5951",
   "metadata": {},
   "outputs": [
    {
     "data": {
      "text/html": [
       "<div>\n",
       "<style scoped>\n",
       "    .dataframe tbody tr th:only-of-type {\n",
       "        vertical-align: middle;\n",
       "    }\n",
       "\n",
       "    .dataframe tbody tr th {\n",
       "        vertical-align: top;\n",
       "    }\n",
       "\n",
       "    .dataframe thead th {\n",
       "        text-align: right;\n",
       "    }\n",
       "</style>\n",
       "<table border=\"1\" class=\"dataframe\">\n",
       "  <thead>\n",
       "    <tr style=\"text-align: right;\">\n",
       "      <th></th>\n",
       "      <th>Age</th>\n",
       "      <th>Workclass</th>\n",
       "      <th>Fnlwgt</th>\n",
       "      <th>Education_num</th>\n",
       "      <th>Marital_status</th>\n",
       "      <th>Occupation</th>\n",
       "      <th>Relationship</th>\n",
       "      <th>Race</th>\n",
       "      <th>Sex</th>\n",
       "      <th>Capital_gain</th>\n",
       "      <th>Capital_loss</th>\n",
       "      <th>Hours_per_week</th>\n",
       "      <th>Native_country</th>\n",
       "      <th>Income</th>\n",
       "    </tr>\n",
       "  </thead>\n",
       "  <tbody>\n",
       "    <tr>\n",
       "      <th>0</th>\n",
       "      <td>33</td>\n",
       "      <td>6</td>\n",
       "      <td>2925</td>\n",
       "      <td>12</td>\n",
       "      <td>2</td>\n",
       "      <td>4</td>\n",
       "      <td>0</td>\n",
       "      <td>4</td>\n",
       "      <td>1</td>\n",
       "      <td>0</td>\n",
       "      <td>0</td>\n",
       "      <td>12</td>\n",
       "      <td>39</td>\n",
       "      <td>0</td>\n",
       "    </tr>\n",
       "    <tr>\n",
       "      <th>1</th>\n",
       "      <td>21</td>\n",
       "      <td>4</td>\n",
       "      <td>14085</td>\n",
       "      <td>8</td>\n",
       "      <td>0</td>\n",
       "      <td>6</td>\n",
       "      <td>1</td>\n",
       "      <td>4</td>\n",
       "      <td>1</td>\n",
       "      <td>0</td>\n",
       "      <td>0</td>\n",
       "      <td>39</td>\n",
       "      <td>39</td>\n",
       "      <td>0</td>\n",
       "    </tr>\n",
       "    <tr>\n",
       "      <th>2</th>\n",
       "      <td>36</td>\n",
       "      <td>4</td>\n",
       "      <td>15335</td>\n",
       "      <td>6</td>\n",
       "      <td>2</td>\n",
       "      <td>6</td>\n",
       "      <td>0</td>\n",
       "      <td>2</td>\n",
       "      <td>1</td>\n",
       "      <td>0</td>\n",
       "      <td>0</td>\n",
       "      <td>39</td>\n",
       "      <td>39</td>\n",
       "      <td>0</td>\n",
       "    </tr>\n",
       "    <tr>\n",
       "      <th>3</th>\n",
       "      <td>11</td>\n",
       "      <td>4</td>\n",
       "      <td>19354</td>\n",
       "      <td>12</td>\n",
       "      <td>2</td>\n",
       "      <td>10</td>\n",
       "      <td>5</td>\n",
       "      <td>2</td>\n",
       "      <td>0</td>\n",
       "      <td>0</td>\n",
       "      <td>0</td>\n",
       "      <td>39</td>\n",
       "      <td>5</td>\n",
       "      <td>0</td>\n",
       "    </tr>\n",
       "    <tr>\n",
       "      <th>4</th>\n",
       "      <td>20</td>\n",
       "      <td>4</td>\n",
       "      <td>17699</td>\n",
       "      <td>13</td>\n",
       "      <td>2</td>\n",
       "      <td>4</td>\n",
       "      <td>5</td>\n",
       "      <td>4</td>\n",
       "      <td>0</td>\n",
       "      <td>0</td>\n",
       "      <td>0</td>\n",
       "      <td>39</td>\n",
       "      <td>39</td>\n",
       "      <td>0</td>\n",
       "    </tr>\n",
       "    <tr>\n",
       "      <th>...</th>\n",
       "      <td>...</td>\n",
       "      <td>...</td>\n",
       "      <td>...</td>\n",
       "      <td>...</td>\n",
       "      <td>...</td>\n",
       "      <td>...</td>\n",
       "      <td>...</td>\n",
       "      <td>...</td>\n",
       "      <td>...</td>\n",
       "      <td>...</td>\n",
       "      <td>...</td>\n",
       "      <td>...</td>\n",
       "      <td>...</td>\n",
       "      <td>...</td>\n",
       "    </tr>\n",
       "    <tr>\n",
       "      <th>32555</th>\n",
       "      <td>10</td>\n",
       "      <td>4</td>\n",
       "      <td>16527</td>\n",
       "      <td>11</td>\n",
       "      <td>2</td>\n",
       "      <td>13</td>\n",
       "      <td>5</td>\n",
       "      <td>4</td>\n",
       "      <td>0</td>\n",
       "      <td>0</td>\n",
       "      <td>0</td>\n",
       "      <td>37</td>\n",
       "      <td>39</td>\n",
       "      <td>0</td>\n",
       "    </tr>\n",
       "    <tr>\n",
       "      <th>32556</th>\n",
       "      <td>23</td>\n",
       "      <td>4</td>\n",
       "      <td>8079</td>\n",
       "      <td>8</td>\n",
       "      <td>2</td>\n",
       "      <td>7</td>\n",
       "      <td>0</td>\n",
       "      <td>4</td>\n",
       "      <td>1</td>\n",
       "      <td>0</td>\n",
       "      <td>0</td>\n",
       "      <td>39</td>\n",
       "      <td>39</td>\n",
       "      <td>1</td>\n",
       "    </tr>\n",
       "    <tr>\n",
       "      <th>32557</th>\n",
       "      <td>41</td>\n",
       "      <td>4</td>\n",
       "      <td>7882</td>\n",
       "      <td>8</td>\n",
       "      <td>6</td>\n",
       "      <td>1</td>\n",
       "      <td>4</td>\n",
       "      <td>4</td>\n",
       "      <td>0</td>\n",
       "      <td>0</td>\n",
       "      <td>0</td>\n",
       "      <td>39</td>\n",
       "      <td>39</td>\n",
       "      <td>0</td>\n",
       "    </tr>\n",
       "    <tr>\n",
       "      <th>32558</th>\n",
       "      <td>5</td>\n",
       "      <td>4</td>\n",
       "      <td>12880</td>\n",
       "      <td>8</td>\n",
       "      <td>4</td>\n",
       "      <td>1</td>\n",
       "      <td>3</td>\n",
       "      <td>4</td>\n",
       "      <td>1</td>\n",
       "      <td>0</td>\n",
       "      <td>0</td>\n",
       "      <td>19</td>\n",
       "      <td>39</td>\n",
       "      <td>0</td>\n",
       "    </tr>\n",
       "    <tr>\n",
       "      <th>32559</th>\n",
       "      <td>35</td>\n",
       "      <td>5</td>\n",
       "      <td>17824</td>\n",
       "      <td>8</td>\n",
       "      <td>2</td>\n",
       "      <td>4</td>\n",
       "      <td>5</td>\n",
       "      <td>4</td>\n",
       "      <td>0</td>\n",
       "      <td>108</td>\n",
       "      <td>0</td>\n",
       "      <td>39</td>\n",
       "      <td>39</td>\n",
       "      <td>1</td>\n",
       "    </tr>\n",
       "  </tbody>\n",
       "</table>\n",
       "<p>32560 rows × 14 columns</p>\n",
       "</div>"
      ],
      "text/plain": [
       "       Age  Workclass  Fnlwgt  Education_num  Marital_status  Occupation  \\\n",
       "0       33          6    2925             12               2           4   \n",
       "1       21          4   14085              8               0           6   \n",
       "2       36          4   15335              6               2           6   \n",
       "3       11          4   19354             12               2          10   \n",
       "4       20          4   17699             13               2           4   \n",
       "...    ...        ...     ...            ...             ...         ...   \n",
       "32555   10          4   16527             11               2          13   \n",
       "32556   23          4    8079              8               2           7   \n",
       "32557   41          4    7882              8               6           1   \n",
       "32558    5          4   12880              8               4           1   \n",
       "32559   35          5   17824              8               2           4   \n",
       "\n",
       "       Relationship  Race  Sex  Capital_gain  Capital_loss  Hours_per_week  \\\n",
       "0                 0     4    1             0             0              12   \n",
       "1                 1     4    1             0             0              39   \n",
       "2                 0     2    1             0             0              39   \n",
       "3                 5     2    0             0             0              39   \n",
       "4                 5     4    0             0             0              39   \n",
       "...             ...   ...  ...           ...           ...             ...   \n",
       "32555             5     4    0             0             0              37   \n",
       "32556             0     4    1             0             0              39   \n",
       "32557             4     4    0             0             0              39   \n",
       "32558             3     4    1             0             0              19   \n",
       "32559             5     4    0           108             0              39   \n",
       "\n",
       "       Native_country  Income  \n",
       "0                  39       0  \n",
       "1                  39       0  \n",
       "2                  39       0  \n",
       "3                   5       0  \n",
       "4                  39       0  \n",
       "...               ...     ...  \n",
       "32555              39       0  \n",
       "32556              39       1  \n",
       "32557              39       0  \n",
       "32558              39       0  \n",
       "32559              39       1  \n",
       "\n",
       "[32560 rows x 14 columns]"
      ]
     },
     "execution_count": 44,
     "metadata": {},
     "output_type": "execute_result"
    }
   ],
   "source": [
    "df"
   ]
  },
  {
   "cell_type": "code",
   "execution_count": 45,
   "id": "15349f32",
   "metadata": {},
   "outputs": [
    {
     "data": {
      "text/html": [
       "<div>\n",
       "<style scoped>\n",
       "    .dataframe tbody tr th:only-of-type {\n",
       "        vertical-align: middle;\n",
       "    }\n",
       "\n",
       "    .dataframe tbody tr th {\n",
       "        vertical-align: top;\n",
       "    }\n",
       "\n",
       "    .dataframe thead th {\n",
       "        text-align: right;\n",
       "    }\n",
       "</style>\n",
       "<table border=\"1\" class=\"dataframe\">\n",
       "  <thead>\n",
       "    <tr style=\"text-align: right;\">\n",
       "      <th></th>\n",
       "      <th>Age</th>\n",
       "      <th>Workclass</th>\n",
       "      <th>Fnlwgt</th>\n",
       "      <th>Education_num</th>\n",
       "      <th>Marital_status</th>\n",
       "      <th>Occupation</th>\n",
       "      <th>Relationship</th>\n",
       "      <th>Race</th>\n",
       "      <th>Sex</th>\n",
       "      <th>Capital_gain</th>\n",
       "      <th>Capital_loss</th>\n",
       "      <th>Hours_per_week</th>\n",
       "      <th>Native_country</th>\n",
       "      <th>Income</th>\n",
       "    </tr>\n",
       "  </thead>\n",
       "  <tbody>\n",
       "    <tr>\n",
       "      <th>count</th>\n",
       "      <td>32560.000000</td>\n",
       "      <td>32560.000000</td>\n",
       "      <td>32560.000000</td>\n",
       "      <td>32560.000000</td>\n",
       "      <td>32560.000000</td>\n",
       "      <td>32560.000000</td>\n",
       "      <td>32560.000000</td>\n",
       "      <td>32560.000000</td>\n",
       "      <td>32560.000000</td>\n",
       "      <td>32560.000000</td>\n",
       "      <td>32560.000000</td>\n",
       "      <td>32560.000000</td>\n",
       "      <td>32560.000000</td>\n",
       "      <td>32560.000000</td>\n",
       "    </tr>\n",
       "    <tr>\n",
       "      <th>mean</th>\n",
       "      <td>21.580313</td>\n",
       "      <td>3.868796</td>\n",
       "      <td>10498.253256</td>\n",
       "      <td>9.080590</td>\n",
       "      <td>2.611794</td>\n",
       "      <td>6.572912</td>\n",
       "      <td>1.446376</td>\n",
       "      <td>3.665848</td>\n",
       "      <td>0.669195</td>\n",
       "      <td>6.500645</td>\n",
       "      <td>2.053348</td>\n",
       "      <td>39.377948</td>\n",
       "      <td>36.718796</td>\n",
       "      <td>0.240817</td>\n",
       "    </tr>\n",
       "    <tr>\n",
       "      <th>std</th>\n",
       "      <td>13.635711</td>\n",
       "      <td>1.455879</td>\n",
       "      <td>6048.727241</td>\n",
       "      <td>2.572709</td>\n",
       "      <td>1.506225</td>\n",
       "      <td>4.228809</td>\n",
       "      <td>1.606794</td>\n",
       "      <td>0.848817</td>\n",
       "      <td>0.470510</td>\n",
       "      <td>23.300419</td>\n",
       "      <td>10.056712</td>\n",
       "      <td>12.144192</td>\n",
       "      <td>7.823892</td>\n",
       "      <td>0.427586</td>\n",
       "    </tr>\n",
       "    <tr>\n",
       "      <th>min</th>\n",
       "      <td>0.000000</td>\n",
       "      <td>0.000000</td>\n",
       "      <td>0.000000</td>\n",
       "      <td>0.000000</td>\n",
       "      <td>0.000000</td>\n",
       "      <td>0.000000</td>\n",
       "      <td>0.000000</td>\n",
       "      <td>0.000000</td>\n",
       "      <td>0.000000</td>\n",
       "      <td>0.000000</td>\n",
       "      <td>0.000000</td>\n",
       "      <td>0.000000</td>\n",
       "      <td>0.000000</td>\n",
       "      <td>0.000000</td>\n",
       "    </tr>\n",
       "    <tr>\n",
       "      <th>25%</th>\n",
       "      <td>11.000000</td>\n",
       "      <td>4.000000</td>\n",
       "      <td>5395.750000</td>\n",
       "      <td>8.000000</td>\n",
       "      <td>2.000000</td>\n",
       "      <td>3.000000</td>\n",
       "      <td>0.000000</td>\n",
       "      <td>4.000000</td>\n",
       "      <td>0.000000</td>\n",
       "      <td>0.000000</td>\n",
       "      <td>0.000000</td>\n",
       "      <td>39.000000</td>\n",
       "      <td>39.000000</td>\n",
       "      <td>0.000000</td>\n",
       "    </tr>\n",
       "    <tr>\n",
       "      <th>50%</th>\n",
       "      <td>20.000000</td>\n",
       "      <td>4.000000</td>\n",
       "      <td>10347.500000</td>\n",
       "      <td>9.000000</td>\n",
       "      <td>2.000000</td>\n",
       "      <td>7.000000</td>\n",
       "      <td>1.000000</td>\n",
       "      <td>4.000000</td>\n",
       "      <td>1.000000</td>\n",
       "      <td>0.000000</td>\n",
       "      <td>0.000000</td>\n",
       "      <td>39.000000</td>\n",
       "      <td>39.000000</td>\n",
       "      <td>0.000000</td>\n",
       "    </tr>\n",
       "    <tr>\n",
       "      <th>75%</th>\n",
       "      <td>31.000000</td>\n",
       "      <td>4.000000</td>\n",
       "      <td>15486.250000</td>\n",
       "      <td>11.000000</td>\n",
       "      <td>4.000000</td>\n",
       "      <td>10.000000</td>\n",
       "      <td>3.000000</td>\n",
       "      <td>4.000000</td>\n",
       "      <td>1.000000</td>\n",
       "      <td>0.000000</td>\n",
       "      <td>0.000000</td>\n",
       "      <td>44.000000</td>\n",
       "      <td>39.000000</td>\n",
       "      <td>0.000000</td>\n",
       "    </tr>\n",
       "    <tr>\n",
       "      <th>max</th>\n",
       "      <td>72.000000</td>\n",
       "      <td>8.000000</td>\n",
       "      <td>21646.000000</td>\n",
       "      <td>15.000000</td>\n",
       "      <td>6.000000</td>\n",
       "      <td>14.000000</td>\n",
       "      <td>5.000000</td>\n",
       "      <td>4.000000</td>\n",
       "      <td>1.000000</td>\n",
       "      <td>118.000000</td>\n",
       "      <td>91.000000</td>\n",
       "      <td>93.000000</td>\n",
       "      <td>41.000000</td>\n",
       "      <td>1.000000</td>\n",
       "    </tr>\n",
       "  </tbody>\n",
       "</table>\n",
       "</div>"
      ],
      "text/plain": [
       "                Age     Workclass        Fnlwgt  Education_num  \\\n",
       "count  32560.000000  32560.000000  32560.000000   32560.000000   \n",
       "mean      21.580313      3.868796  10498.253256       9.080590   \n",
       "std       13.635711      1.455879   6048.727241       2.572709   \n",
       "min        0.000000      0.000000      0.000000       0.000000   \n",
       "25%       11.000000      4.000000   5395.750000       8.000000   \n",
       "50%       20.000000      4.000000  10347.500000       9.000000   \n",
       "75%       31.000000      4.000000  15486.250000      11.000000   \n",
       "max       72.000000      8.000000  21646.000000      15.000000   \n",
       "\n",
       "       Marital_status    Occupation  Relationship          Race           Sex  \\\n",
       "count    32560.000000  32560.000000  32560.000000  32560.000000  32560.000000   \n",
       "mean         2.611794      6.572912      1.446376      3.665848      0.669195   \n",
       "std          1.506225      4.228809      1.606794      0.848817      0.470510   \n",
       "min          0.000000      0.000000      0.000000      0.000000      0.000000   \n",
       "25%          2.000000      3.000000      0.000000      4.000000      0.000000   \n",
       "50%          2.000000      7.000000      1.000000      4.000000      1.000000   \n",
       "75%          4.000000     10.000000      3.000000      4.000000      1.000000   \n",
       "max          6.000000     14.000000      5.000000      4.000000      1.000000   \n",
       "\n",
       "       Capital_gain  Capital_loss  Hours_per_week  Native_country  \\\n",
       "count  32560.000000  32560.000000    32560.000000    32560.000000   \n",
       "mean       6.500645      2.053348       39.377948       36.718796   \n",
       "std       23.300419     10.056712       12.144192        7.823892   \n",
       "min        0.000000      0.000000        0.000000        0.000000   \n",
       "25%        0.000000      0.000000       39.000000       39.000000   \n",
       "50%        0.000000      0.000000       39.000000       39.000000   \n",
       "75%        0.000000      0.000000       44.000000       39.000000   \n",
       "max      118.000000     91.000000       93.000000       41.000000   \n",
       "\n",
       "             Income  \n",
       "count  32560.000000  \n",
       "mean       0.240817  \n",
       "std        0.427586  \n",
       "min        0.000000  \n",
       "25%        0.000000  \n",
       "50%        0.000000  \n",
       "75%        0.000000  \n",
       "max        1.000000  "
      ]
     },
     "execution_count": 45,
     "metadata": {},
     "output_type": "execute_result"
    }
   ],
   "source": [
    "df.describe()"
   ]
  },
  {
   "cell_type": "markdown",
   "id": "85ab65f9",
   "metadata": {},
   "source": [
    "now all the text columns are encoded "
   ]
  },
  {
   "cell_type": "markdown",
   "id": "dd0fa94e",
   "metadata": {},
   "source": [
    "# checking correlation"
   ]
  },
  {
   "cell_type": "code",
   "execution_count": 46,
   "id": "6291cae5",
   "metadata": {},
   "outputs": [
    {
     "data": {
      "image/png": "[encoded data removed]",
      "text/plain": [
       "<Figure size 1440x1080 with 2 Axes>"
      ]
     },
     "metadata": {
      "needs_background": "light"
     },
     "output_type": "display_data"
    }
   ],
   "source": [
    "corr_mat=df.corr()\n",
    "plt.figure(figsize=(20,15))\n",
    "sns.heatmap(corr_mat,annot=True,cmap='Blues')\n",
    "plt.show()"
   ]
  },
  {
   "cell_type": "code",
   "execution_count": 47,
   "id": "53e01efd",
   "metadata": {},
   "outputs": [
    {
     "data": {
      "text/plain": [
       "Income            1.000000\n",
       "Capital_gain      0.340034\n",
       "Education_num     0.335182\n",
       "Age               0.234136\n",
       "Hours_per_week    0.232394\n",
       "Sex               0.215995\n",
       "Capital_loss      0.162511\n",
       "Occupation        0.075448\n",
       "Race              0.071853\n",
       "Workclass         0.051645\n",
       "Native_country    0.015845\n",
       "Fnlwgt           -0.010573\n",
       "Marital_status   -0.199295\n",
       "Relationship     -0.250924\n",
       "Name: Income, dtype: float64"
      ]
     },
     "execution_count": 47,
     "metadata": {},
     "output_type": "execute_result"
    }
   ],
   "source": [
    "corr_mat['Income'].sort_values(ascending=False)"
   ]
  },
  {
   "cell_type": "markdown",
   "id": "80acdfb1",
   "metadata": {},
   "source": [
    "Documentation :\n",
    "    \n",
    "    - marital status and relationship i negatively correlated so we can drop this columns"
   ]
  },
  {
   "cell_type": "code",
   "execution_count": 48,
   "id": "500a54d2",
   "metadata": {},
   "outputs": [
    {
     "data": {
      "text/html": [
       "<div>\n",
       "<style scoped>\n",
       "    .dataframe tbody tr th:only-of-type {\n",
       "        vertical-align: middle;\n",
       "    }\n",
       "\n",
       "    .dataframe tbody tr th {\n",
       "        vertical-align: top;\n",
       "    }\n",
       "\n",
       "    .dataframe thead th {\n",
       "        text-align: right;\n",
       "    }\n",
       "</style>\n",
       "<table border=\"1\" class=\"dataframe\">\n",
       "  <thead>\n",
       "    <tr style=\"text-align: right;\">\n",
       "      <th></th>\n",
       "      <th>Age</th>\n",
       "      <th>Workclass</th>\n",
       "      <th>Fnlwgt</th>\n",
       "      <th>Education_num</th>\n",
       "      <th>Marital_status</th>\n",
       "      <th>Occupation</th>\n",
       "      <th>Relationship</th>\n",
       "      <th>Race</th>\n",
       "      <th>Sex</th>\n",
       "      <th>Capital_gain</th>\n",
       "      <th>Capital_loss</th>\n",
       "      <th>Hours_per_week</th>\n",
       "      <th>Native_country</th>\n",
       "      <th>Income</th>\n",
       "    </tr>\n",
       "  </thead>\n",
       "  <tbody>\n",
       "    <tr>\n",
       "      <th>0</th>\n",
       "      <td>33</td>\n",
       "      <td>6</td>\n",
       "      <td>2925</td>\n",
       "      <td>12</td>\n",
       "      <td>2</td>\n",
       "      <td>4</td>\n",
       "      <td>0</td>\n",
       "      <td>4</td>\n",
       "      <td>1</td>\n",
       "      <td>0</td>\n",
       "      <td>0</td>\n",
       "      <td>12</td>\n",
       "      <td>39</td>\n",
       "      <td>0</td>\n",
       "    </tr>\n",
       "    <tr>\n",
       "      <th>1</th>\n",
       "      <td>21</td>\n",
       "      <td>4</td>\n",
       "      <td>14085</td>\n",
       "      <td>8</td>\n",
       "      <td>0</td>\n",
       "      <td>6</td>\n",
       "      <td>1</td>\n",
       "      <td>4</td>\n",
       "      <td>1</td>\n",
       "      <td>0</td>\n",
       "      <td>0</td>\n",
       "      <td>39</td>\n",
       "      <td>39</td>\n",
       "      <td>0</td>\n",
       "    </tr>\n",
       "    <tr>\n",
       "      <th>2</th>\n",
       "      <td>36</td>\n",
       "      <td>4</td>\n",
       "      <td>15335</td>\n",
       "      <td>6</td>\n",
       "      <td>2</td>\n",
       "      <td>6</td>\n",
       "      <td>0</td>\n",
       "      <td>2</td>\n",
       "      <td>1</td>\n",
       "      <td>0</td>\n",
       "      <td>0</td>\n",
       "      <td>39</td>\n",
       "      <td>39</td>\n",
       "      <td>0</td>\n",
       "    </tr>\n",
       "    <tr>\n",
       "      <th>3</th>\n",
       "      <td>11</td>\n",
       "      <td>4</td>\n",
       "      <td>19354</td>\n",
       "      <td>12</td>\n",
       "      <td>2</td>\n",
       "      <td>10</td>\n",
       "      <td>5</td>\n",
       "      <td>2</td>\n",
       "      <td>0</td>\n",
       "      <td>0</td>\n",
       "      <td>0</td>\n",
       "      <td>39</td>\n",
       "      <td>5</td>\n",
       "      <td>0</td>\n",
       "    </tr>\n",
       "    <tr>\n",
       "      <th>4</th>\n",
       "      <td>20</td>\n",
       "      <td>4</td>\n",
       "      <td>17699</td>\n",
       "      <td>13</td>\n",
       "      <td>2</td>\n",
       "      <td>4</td>\n",
       "      <td>5</td>\n",
       "      <td>4</td>\n",
       "      <td>0</td>\n",
       "      <td>0</td>\n",
       "      <td>0</td>\n",
       "      <td>39</td>\n",
       "      <td>39</td>\n",
       "      <td>0</td>\n",
       "    </tr>\n",
       "    <tr>\n",
       "      <th>...</th>\n",
       "      <td>...</td>\n",
       "      <td>...</td>\n",
       "      <td>...</td>\n",
       "      <td>...</td>\n",
       "      <td>...</td>\n",
       "      <td>...</td>\n",
       "      <td>...</td>\n",
       "      <td>...</td>\n",
       "      <td>...</td>\n",
       "      <td>...</td>\n",
       "      <td>...</td>\n",
       "      <td>...</td>\n",
       "      <td>...</td>\n",
       "      <td>...</td>\n",
       "    </tr>\n",
       "    <tr>\n",
       "      <th>32555</th>\n",
       "      <td>10</td>\n",
       "      <td>4</td>\n",
       "      <td>16527</td>\n",
       "      <td>11</td>\n",
       "      <td>2</td>\n",
       "      <td>13</td>\n",
       "      <td>5</td>\n",
       "      <td>4</td>\n",
       "      <td>0</td>\n",
       "      <td>0</td>\n",
       "      <td>0</td>\n",
       "      <td>37</td>\n",
       "      <td>39</td>\n",
       "      <td>0</td>\n",
       "    </tr>\n",
       "    <tr>\n",
       "      <th>32556</th>\n",
       "      <td>23</td>\n",
       "      <td>4</td>\n",
       "      <td>8079</td>\n",
       "      <td>8</td>\n",
       "      <td>2</td>\n",
       "      <td>7</td>\n",
       "      <td>0</td>\n",
       "      <td>4</td>\n",
       "      <td>1</td>\n",
       "      <td>0</td>\n",
       "      <td>0</td>\n",
       "      <td>39</td>\n",
       "      <td>39</td>\n",
       "      <td>1</td>\n",
       "    </tr>\n",
       "    <tr>\n",
       "      <th>32557</th>\n",
       "      <td>41</td>\n",
       "      <td>4</td>\n",
       "      <td>7882</td>\n",
       "      <td>8</td>\n",
       "      <td>6</td>\n",
       "      <td>1</td>\n",
       "      <td>4</td>\n",
       "      <td>4</td>\n",
       "      <td>0</td>\n",
       "      <td>0</td>\n",
       "      <td>0</td>\n",
       "      <td>39</td>\n",
       "      <td>39</td>\n",
       "      <td>0</td>\n",
       "    </tr>\n",
       "    <tr>\n",
       "      <th>32558</th>\n",
       "      <td>5</td>\n",
       "      <td>4</td>\n",
       "      <td>12880</td>\n",
       "      <td>8</td>\n",
       "      <td>4</td>\n",
       "      <td>1</td>\n",
       "      <td>3</td>\n",
       "      <td>4</td>\n",
       "      <td>1</td>\n",
       "      <td>0</td>\n",
       "      <td>0</td>\n",
       "      <td>19</td>\n",
       "      <td>39</td>\n",
       "      <td>0</td>\n",
       "    </tr>\n",
       "    <tr>\n",
       "      <th>32559</th>\n",
       "      <td>35</td>\n",
       "      <td>5</td>\n",
       "      <td>17824</td>\n",
       "      <td>8</td>\n",
       "      <td>2</td>\n",
       "      <td>4</td>\n",
       "      <td>5</td>\n",
       "      <td>4</td>\n",
       "      <td>0</td>\n",
       "      <td>108</td>\n",
       "      <td>0</td>\n",
       "      <td>39</td>\n",
       "      <td>39</td>\n",
       "      <td>1</td>\n",
       "    </tr>\n",
       "  </tbody>\n",
       "</table>\n",
       "<p>32560 rows × 14 columns</p>\n",
       "</div>"
      ],
      "text/plain": [
       "       Age  Workclass  Fnlwgt  Education_num  Marital_status  Occupation  \\\n",
       "0       33          6    2925             12               2           4   \n",
       "1       21          4   14085              8               0           6   \n",
       "2       36          4   15335              6               2           6   \n",
       "3       11          4   19354             12               2          10   \n",
       "4       20          4   17699             13               2           4   \n",
       "...    ...        ...     ...            ...             ...         ...   \n",
       "32555   10          4   16527             11               2          13   \n",
       "32556   23          4    8079              8               2           7   \n",
       "32557   41          4    7882              8               6           1   \n",
       "32558    5          4   12880              8               4           1   \n",
       "32559   35          5   17824              8               2           4   \n",
       "\n",
       "       Relationship  Race  Sex  Capital_gain  Capital_loss  Hours_per_week  \\\n",
       "0                 0     4    1             0             0              12   \n",
       "1                 1     4    1             0             0              39   \n",
       "2                 0     2    1             0             0              39   \n",
       "3                 5     2    0             0             0              39   \n",
       "4                 5     4    0             0             0              39   \n",
       "...             ...   ...  ...           ...           ...             ...   \n",
       "32555             5     4    0             0             0              37   \n",
       "32556             0     4    1             0             0              39   \n",
       "32557             4     4    0             0             0              39   \n",
       "32558             3     4    1             0             0              19   \n",
       "32559             5     4    0           108             0              39   \n",
       "\n",
       "       Native_country  Income  \n",
       "0                  39       0  \n",
       "1                  39       0  \n",
       "2                  39       0  \n",
       "3                   5       0  \n",
       "4                  39       0  \n",
       "...               ...     ...  \n",
       "32555              39       0  \n",
       "32556              39       1  \n",
       "32557              39       0  \n",
       "32558              39       0  \n",
       "32559              39       1  \n",
       "\n",
       "[32560 rows x 14 columns]"
      ]
     },
     "execution_count": 48,
     "metadata": {},
     "output_type": "execute_result"
    }
   ],
   "source": [
    "df"
   ]
  },
  {
   "cell_type": "markdown",
   "id": "e26aa087",
   "metadata": {},
   "source": [
    "# data preprocessing: "
   ]
  },
  {
   "cell_type": "markdown",
   "id": "33dfe79d",
   "metadata": {},
   "source": [
    "# plotting distribution plot to check the data is normally distributed or not"
   ]
  },
  {
   "cell_type": "code",
   "execution_count": 49,
   "id": "227dcfd6",
   "metadata": {},
   "outputs": [
    {
     "data": {
      "image/png": "[encoded data removed]",
      "text/plain": [
       "<Figure size 1440x1080 with 12 Axes>"
      ]
     },
     "metadata": {},
     "output_type": "display_data"
    }
   ],
   "source": [
    "# checking wether te data is normally distributed or not!!!!!!!!!!!!\n",
    "plt.figure(figsize=(20,15),facecolor='gray')\n",
    "plotnumber=1\n",
    "\n",
    "for column in df:\n",
    "    if plotnumber<=12:\n",
    "        ax = plt.subplot(2,6,plotnumber)\n",
    "        sns.distplot(df[column])\n",
    "        plt.xlabel(column,fontsize=8)\n",
    "    \n",
    "    \n",
    "    plotnumber+=1\n",
    "plt.tight_layout()"
   ]
  },
  {
   "cell_type": "markdown",
   "id": "cbb8e924",
   "metadata": {},
   "source": [
    "this shows data is not normally distributed ,data is skewed and outliers is present "
   ]
  },
  {
   "cell_type": "markdown",
   "id": "54ad763d",
   "metadata": {},
   "source": [
    "# checking outliers by boxplot "
   ]
  },
  {
   "cell_type": "code",
   "execution_count": 50,
   "id": "257e8a16",
   "metadata": {},
   "outputs": [
    {
     "data": {
      "image/png": "[encoded data removed]",
      "text/plain": [
       "<Figure size 1440x1080 with 12 Axes>"
      ]
     },
     "metadata": {},
     "output_type": "display_data"
    }
   ],
   "source": [
    "plt.figure(figsize=(20,15),facecolor='gray')\n",
    "plotnumber=1\n",
    "\n",
    "for column in df:\n",
    "    if plotnumber<=12:\n",
    "        ax = plt.subplot(2,6,plotnumber)\n",
    "        plt.boxplot(df[column])\n",
    "        plt.xlabel(column,fontsize=8)\n",
    "    \n",
    "    \n",
    "    plotnumber+=1\n",
    "plt.tight_layout()"
   ]
  },
  {
   "cell_type": "markdown",
   "id": "9acb1b68",
   "metadata": {},
   "source": [
    "documentation :\n",
    "    \n",
    "    outliers is present in almost in all the columns except sex ,fnlwgt and occupation columns"
   ]
  },
  {
   "cell_type": "markdown",
   "id": "57d88dc7",
   "metadata": {},
   "source": [
    "# removing outliers by zscore method"
   ]
  },
  {
   "cell_type": "code",
   "execution_count": 51,
   "id": "56a24e28",
   "metadata": {},
   "outputs": [],
   "source": [
    "from scipy.stats import zscore"
   ]
  },
  {
   "cell_type": "code",
   "execution_count": 52,
   "id": "c4928206",
   "metadata": {},
   "outputs": [
    {
     "data": {
      "text/html": [
       "<div>\n",
       "<style scoped>\n",
       "    .dataframe tbody tr th:only-of-type {\n",
       "        vertical-align: middle;\n",
       "    }\n",
       "\n",
       "    .dataframe tbody tr th {\n",
       "        vertical-align: top;\n",
       "    }\n",
       "\n",
       "    .dataframe thead th {\n",
       "        text-align: right;\n",
       "    }\n",
       "</style>\n",
       "<table border=\"1\" class=\"dataframe\">\n",
       "  <thead>\n",
       "    <tr style=\"text-align: right;\">\n",
       "      <th></th>\n",
       "      <th>Age</th>\n",
       "      <th>Workclass</th>\n",
       "      <th>Fnlwgt</th>\n",
       "      <th>Education_num</th>\n",
       "      <th>Marital_status</th>\n",
       "      <th>Occupation</th>\n",
       "      <th>Relationship</th>\n",
       "      <th>Race</th>\n",
       "      <th>Sex</th>\n",
       "      <th>Capital_gain</th>\n",
       "      <th>Capital_loss</th>\n",
       "      <th>Hours_per_week</th>\n",
       "      <th>Native_country</th>\n",
       "      <th>Income</th>\n",
       "    </tr>\n",
       "  </thead>\n",
       "  <tbody>\n",
       "    <tr>\n",
       "      <th>0</th>\n",
       "      <td>0.837497</td>\n",
       "      <td>1.463883</td>\n",
       "      <td>1.252060</td>\n",
       "      <td>1.134779</td>\n",
       "      <td>0.406183</td>\n",
       "      <td>0.608434</td>\n",
       "      <td>0.900177</td>\n",
       "      <td>0.393675</td>\n",
       "      <td>0.703087</td>\n",
       "      <td>0.278997</td>\n",
       "      <td>0.20418</td>\n",
       "      <td>2.254441</td>\n",
       "      <td>0.291573</td>\n",
       "      <td>0.563210</td>\n",
       "    </tr>\n",
       "    <tr>\n",
       "      <th>1</th>\n",
       "      <td>0.042559</td>\n",
       "      <td>0.090121</td>\n",
       "      <td>0.592985</td>\n",
       "      <td>0.420027</td>\n",
       "      <td>1.734026</td>\n",
       "      <td>0.135480</td>\n",
       "      <td>0.277810</td>\n",
       "      <td>0.393675</td>\n",
       "      <td>0.703087</td>\n",
       "      <td>0.278997</td>\n",
       "      <td>0.20418</td>\n",
       "      <td>0.031122</td>\n",
       "      <td>0.291573</td>\n",
       "      <td>0.563210</td>\n",
       "    </tr>\n",
       "    <tr>\n",
       "      <th>2</th>\n",
       "      <td>1.057511</td>\n",
       "      <td>0.090121</td>\n",
       "      <td>0.799643</td>\n",
       "      <td>1.197429</td>\n",
       "      <td>0.406183</td>\n",
       "      <td>0.135480</td>\n",
       "      <td>0.900177</td>\n",
       "      <td>1.962583</td>\n",
       "      <td>0.703087</td>\n",
       "      <td>0.278997</td>\n",
       "      <td>0.20418</td>\n",
       "      <td>0.031122</td>\n",
       "      <td>0.291573</td>\n",
       "      <td>0.563210</td>\n",
       "    </tr>\n",
       "    <tr>\n",
       "      <th>3</th>\n",
       "      <td>0.775939</td>\n",
       "      <td>0.090121</td>\n",
       "      <td>1.464090</td>\n",
       "      <td>1.134779</td>\n",
       "      <td>0.406183</td>\n",
       "      <td>0.810427</td>\n",
       "      <td>2.211658</td>\n",
       "      <td>1.962583</td>\n",
       "      <td>1.422298</td>\n",
       "      <td>0.278997</td>\n",
       "      <td>0.20418</td>\n",
       "      <td>0.031122</td>\n",
       "      <td>4.054157</td>\n",
       "      <td>0.563210</td>\n",
       "    </tr>\n",
       "    <tr>\n",
       "      <th>4</th>\n",
       "      <td>0.115897</td>\n",
       "      <td>0.090121</td>\n",
       "      <td>1.190475</td>\n",
       "      <td>1.523480</td>\n",
       "      <td>0.406183</td>\n",
       "      <td>0.608434</td>\n",
       "      <td>2.211658</td>\n",
       "      <td>0.393675</td>\n",
       "      <td>1.422298</td>\n",
       "      <td>0.278997</td>\n",
       "      <td>0.20418</td>\n",
       "      <td>0.031122</td>\n",
       "      <td>0.291573</td>\n",
       "      <td>0.563210</td>\n",
       "    </tr>\n",
       "    <tr>\n",
       "      <th>...</th>\n",
       "      <td>...</td>\n",
       "      <td>...</td>\n",
       "      <td>...</td>\n",
       "      <td>...</td>\n",
       "      <td>...</td>\n",
       "      <td>...</td>\n",
       "      <td>...</td>\n",
       "      <td>...</td>\n",
       "      <td>...</td>\n",
       "      <td>...</td>\n",
       "      <td>...</td>\n",
       "      <td>...</td>\n",
       "      <td>...</td>\n",
       "      <td>...</td>\n",
       "    </tr>\n",
       "    <tr>\n",
       "      <th>32555</th>\n",
       "      <td>0.849277</td>\n",
       "      <td>0.090121</td>\n",
       "      <td>0.996712</td>\n",
       "      <td>0.746077</td>\n",
       "      <td>0.406183</td>\n",
       "      <td>1.519858</td>\n",
       "      <td>2.211658</td>\n",
       "      <td>0.393675</td>\n",
       "      <td>1.422298</td>\n",
       "      <td>0.278997</td>\n",
       "      <td>0.20418</td>\n",
       "      <td>0.195813</td>\n",
       "      <td>0.291573</td>\n",
       "      <td>0.563210</td>\n",
       "    </tr>\n",
       "    <tr>\n",
       "      <th>32556</th>\n",
       "      <td>0.104117</td>\n",
       "      <td>0.090121</td>\n",
       "      <td>0.399967</td>\n",
       "      <td>0.420027</td>\n",
       "      <td>0.406183</td>\n",
       "      <td>0.100997</td>\n",
       "      <td>0.900177</td>\n",
       "      <td>0.393675</td>\n",
       "      <td>0.703087</td>\n",
       "      <td>0.278997</td>\n",
       "      <td>0.20418</td>\n",
       "      <td>0.031122</td>\n",
       "      <td>0.291573</td>\n",
       "      <td>1.775537</td>\n",
       "    </tr>\n",
       "    <tr>\n",
       "      <th>32557</th>\n",
       "      <td>1.424200</td>\n",
       "      <td>0.090121</td>\n",
       "      <td>0.432536</td>\n",
       "      <td>0.420027</td>\n",
       "      <td>2.249503</td>\n",
       "      <td>1.317864</td>\n",
       "      <td>1.589291</td>\n",
       "      <td>0.393675</td>\n",
       "      <td>1.422298</td>\n",
       "      <td>0.278997</td>\n",
       "      <td>0.20418</td>\n",
       "      <td>0.031122</td>\n",
       "      <td>0.291573</td>\n",
       "      <td>0.563210</td>\n",
       "    </tr>\n",
       "    <tr>\n",
       "      <th>32558</th>\n",
       "      <td>1.215967</td>\n",
       "      <td>0.090121</td>\n",
       "      <td>0.393766</td>\n",
       "      <td>0.420027</td>\n",
       "      <td>0.921660</td>\n",
       "      <td>1.317864</td>\n",
       "      <td>0.966924</td>\n",
       "      <td>0.393675</td>\n",
       "      <td>0.703087</td>\n",
       "      <td>0.278997</td>\n",
       "      <td>0.20418</td>\n",
       "      <td>1.678025</td>\n",
       "      <td>0.291573</td>\n",
       "      <td>0.563210</td>\n",
       "    </tr>\n",
       "    <tr>\n",
       "      <th>32559</th>\n",
       "      <td>0.984173</td>\n",
       "      <td>0.777002</td>\n",
       "      <td>1.211141</td>\n",
       "      <td>0.420027</td>\n",
       "      <td>0.406183</td>\n",
       "      <td>0.608434</td>\n",
       "      <td>2.211658</td>\n",
       "      <td>0.393675</td>\n",
       "      <td>1.422298</td>\n",
       "      <td>4.356184</td>\n",
       "      <td>0.20418</td>\n",
       "      <td>0.031122</td>\n",
       "      <td>0.291573</td>\n",
       "      <td>1.775537</td>\n",
       "    </tr>\n",
       "  </tbody>\n",
       "</table>\n",
       "<p>32560 rows × 14 columns</p>\n",
       "</div>"
      ],
      "text/plain": [
       "            Age  Workclass    Fnlwgt  Education_num  Marital_status  \\\n",
       "0      0.837497   1.463883  1.252060       1.134779        0.406183   \n",
       "1      0.042559   0.090121  0.592985       0.420027        1.734026   \n",
       "2      1.057511   0.090121  0.799643       1.197429        0.406183   \n",
       "3      0.775939   0.090121  1.464090       1.134779        0.406183   \n",
       "4      0.115897   0.090121  1.190475       1.523480        0.406183   \n",
       "...         ...        ...       ...            ...             ...   \n",
       "32555  0.849277   0.090121  0.996712       0.746077        0.406183   \n",
       "32556  0.104117   0.090121  0.399967       0.420027        0.406183   \n",
       "32557  1.424200   0.090121  0.432536       0.420027        2.249503   \n",
       "32558  1.215967   0.090121  0.393766       0.420027        0.921660   \n",
       "32559  0.984173   0.777002  1.211141       0.420027        0.406183   \n",
       "\n",
       "       Occupation  Relationship      Race       Sex  Capital_gain  \\\n",
       "0        0.608434      0.900177  0.393675  0.703087      0.278997   \n",
       "1        0.135480      0.277810  0.393675  0.703087      0.278997   \n",
       "2        0.135480      0.900177  1.962583  0.703087      0.278997   \n",
       "3        0.810427      2.211658  1.962583  1.422298      0.278997   \n",
       "4        0.608434      2.211658  0.393675  1.422298      0.278997   \n",
       "...           ...           ...       ...       ...           ...   \n",
       "32555    1.519858      2.211658  0.393675  1.422298      0.278997   \n",
       "32556    0.100997      0.900177  0.393675  0.703087      0.278997   \n",
       "32557    1.317864      1.589291  0.393675  1.422298      0.278997   \n",
       "32558    1.317864      0.966924  0.393675  0.703087      0.278997   \n",
       "32559    0.608434      2.211658  0.393675  1.422298      4.356184   \n",
       "\n",
       "       Capital_loss  Hours_per_week  Native_country    Income  \n",
       "0           0.20418        2.254441        0.291573  0.563210  \n",
       "1           0.20418        0.031122        0.291573  0.563210  \n",
       "2           0.20418        0.031122        0.291573  0.563210  \n",
       "3           0.20418        0.031122        4.054157  0.563210  \n",
       "4           0.20418        0.031122        0.291573  0.563210  \n",
       "...             ...             ...             ...       ...  \n",
       "32555       0.20418        0.195813        0.291573  0.563210  \n",
       "32556       0.20418        0.031122        0.291573  1.775537  \n",
       "32557       0.20418        0.031122        0.291573  0.563210  \n",
       "32558       0.20418        1.678025        0.291573  0.563210  \n",
       "32559       0.20418        0.031122        0.291573  1.775537  \n",
       "\n",
       "[32560 rows x 14 columns]"
      ]
     },
     "execution_count": 52,
     "metadata": {},
     "output_type": "execute_result"
    }
   ],
   "source": [
    "z=np.abs(zscore(df))\n",
    "z"
   ]
  },
  {
   "cell_type": "code",
   "execution_count": 53,
   "id": "6cc8b9cd",
   "metadata": {},
   "outputs": [
    {
     "name": "stdout",
     "output_type": "stream",
     "text": [
      "(array([    3,     7,     8, ..., 32550, 32552, 32559], dtype=int64), array([12,  9,  9, ...,  7,  7,  9], dtype=int64))\n"
     ]
    }
   ],
   "source": [
    "threshold=3\n",
    "print(np.where(z>3))"
   ]
  },
  {
   "cell_type": "code",
   "execution_count": 54,
   "id": "0e8190fd",
   "metadata": {},
   "outputs": [
    {
     "data": {
      "text/html": [
       "<div>\n",
       "<style scoped>\n",
       "    .dataframe tbody tr th:only-of-type {\n",
       "        vertical-align: middle;\n",
       "    }\n",
       "\n",
       "    .dataframe tbody tr th {\n",
       "        vertical-align: top;\n",
       "    }\n",
       "\n",
       "    .dataframe thead th {\n",
       "        text-align: right;\n",
       "    }\n",
       "</style>\n",
       "<table border=\"1\" class=\"dataframe\">\n",
       "  <thead>\n",
       "    <tr style=\"text-align: right;\">\n",
       "      <th></th>\n",
       "      <th>Age</th>\n",
       "      <th>Workclass</th>\n",
       "      <th>Fnlwgt</th>\n",
       "      <th>Education_num</th>\n",
       "      <th>Marital_status</th>\n",
       "      <th>Occupation</th>\n",
       "      <th>Relationship</th>\n",
       "      <th>Race</th>\n",
       "      <th>Sex</th>\n",
       "      <th>Capital_gain</th>\n",
       "      <th>Capital_loss</th>\n",
       "      <th>Hours_per_week</th>\n",
       "      <th>Native_country</th>\n",
       "      <th>Income</th>\n",
       "    </tr>\n",
       "  </thead>\n",
       "  <tbody>\n",
       "    <tr>\n",
       "      <th>0</th>\n",
       "      <td>33</td>\n",
       "      <td>6</td>\n",
       "      <td>2925</td>\n",
       "      <td>12</td>\n",
       "      <td>2</td>\n",
       "      <td>4</td>\n",
       "      <td>0</td>\n",
       "      <td>4</td>\n",
       "      <td>1</td>\n",
       "      <td>0</td>\n",
       "      <td>0</td>\n",
       "      <td>12</td>\n",
       "      <td>39</td>\n",
       "      <td>0</td>\n",
       "    </tr>\n",
       "    <tr>\n",
       "      <th>1</th>\n",
       "      <td>21</td>\n",
       "      <td>4</td>\n",
       "      <td>14085</td>\n",
       "      <td>8</td>\n",
       "      <td>0</td>\n",
       "      <td>6</td>\n",
       "      <td>1</td>\n",
       "      <td>4</td>\n",
       "      <td>1</td>\n",
       "      <td>0</td>\n",
       "      <td>0</td>\n",
       "      <td>39</td>\n",
       "      <td>39</td>\n",
       "      <td>0</td>\n",
       "    </tr>\n",
       "    <tr>\n",
       "      <th>2</th>\n",
       "      <td>36</td>\n",
       "      <td>4</td>\n",
       "      <td>15335</td>\n",
       "      <td>6</td>\n",
       "      <td>2</td>\n",
       "      <td>6</td>\n",
       "      <td>0</td>\n",
       "      <td>2</td>\n",
       "      <td>1</td>\n",
       "      <td>0</td>\n",
       "      <td>0</td>\n",
       "      <td>39</td>\n",
       "      <td>39</td>\n",
       "      <td>0</td>\n",
       "    </tr>\n",
       "    <tr>\n",
       "      <th>4</th>\n",
       "      <td>20</td>\n",
       "      <td>4</td>\n",
       "      <td>17699</td>\n",
       "      <td>13</td>\n",
       "      <td>2</td>\n",
       "      <td>4</td>\n",
       "      <td>5</td>\n",
       "      <td>4</td>\n",
       "      <td>0</td>\n",
       "      <td>0</td>\n",
       "      <td>0</td>\n",
       "      <td>39</td>\n",
       "      <td>39</td>\n",
       "      <td>0</td>\n",
       "    </tr>\n",
       "    <tr>\n",
       "      <th>5</th>\n",
       "      <td>32</td>\n",
       "      <td>4</td>\n",
       "      <td>8535</td>\n",
       "      <td>4</td>\n",
       "      <td>3</td>\n",
       "      <td>8</td>\n",
       "      <td>1</td>\n",
       "      <td>2</td>\n",
       "      <td>0</td>\n",
       "      <td>0</td>\n",
       "      <td>0</td>\n",
       "      <td>15</td>\n",
       "      <td>23</td>\n",
       "      <td>0</td>\n",
       "    </tr>\n",
       "    <tr>\n",
       "      <th>...</th>\n",
       "      <td>...</td>\n",
       "      <td>...</td>\n",
       "      <td>...</td>\n",
       "      <td>...</td>\n",
       "      <td>...</td>\n",
       "      <td>...</td>\n",
       "      <td>...</td>\n",
       "      <td>...</td>\n",
       "      <td>...</td>\n",
       "      <td>...</td>\n",
       "      <td>...</td>\n",
       "      <td>...</td>\n",
       "      <td>...</td>\n",
       "      <td>...</td>\n",
       "    </tr>\n",
       "    <tr>\n",
       "      <th>32554</th>\n",
       "      <td>5</td>\n",
       "      <td>4</td>\n",
       "      <td>18559</td>\n",
       "      <td>9</td>\n",
       "      <td>4</td>\n",
       "      <td>11</td>\n",
       "      <td>1</td>\n",
       "      <td>4</td>\n",
       "      <td>1</td>\n",
       "      <td>0</td>\n",
       "      <td>0</td>\n",
       "      <td>39</td>\n",
       "      <td>39</td>\n",
       "      <td>0</td>\n",
       "    </tr>\n",
       "    <tr>\n",
       "      <th>32555</th>\n",
       "      <td>10</td>\n",
       "      <td>4</td>\n",
       "      <td>16527</td>\n",
       "      <td>11</td>\n",
       "      <td>2</td>\n",
       "      <td>13</td>\n",
       "      <td>5</td>\n",
       "      <td>4</td>\n",
       "      <td>0</td>\n",
       "      <td>0</td>\n",
       "      <td>0</td>\n",
       "      <td>37</td>\n",
       "      <td>39</td>\n",
       "      <td>0</td>\n",
       "    </tr>\n",
       "    <tr>\n",
       "      <th>32556</th>\n",
       "      <td>23</td>\n",
       "      <td>4</td>\n",
       "      <td>8079</td>\n",
       "      <td>8</td>\n",
       "      <td>2</td>\n",
       "      <td>7</td>\n",
       "      <td>0</td>\n",
       "      <td>4</td>\n",
       "      <td>1</td>\n",
       "      <td>0</td>\n",
       "      <td>0</td>\n",
       "      <td>39</td>\n",
       "      <td>39</td>\n",
       "      <td>1</td>\n",
       "    </tr>\n",
       "    <tr>\n",
       "      <th>32557</th>\n",
       "      <td>41</td>\n",
       "      <td>4</td>\n",
       "      <td>7882</td>\n",
       "      <td>8</td>\n",
       "      <td>6</td>\n",
       "      <td>1</td>\n",
       "      <td>4</td>\n",
       "      <td>4</td>\n",
       "      <td>0</td>\n",
       "      <td>0</td>\n",
       "      <td>0</td>\n",
       "      <td>39</td>\n",
       "      <td>39</td>\n",
       "      <td>0</td>\n",
       "    </tr>\n",
       "    <tr>\n",
       "      <th>32558</th>\n",
       "      <td>5</td>\n",
       "      <td>4</td>\n",
       "      <td>12880</td>\n",
       "      <td>8</td>\n",
       "      <td>4</td>\n",
       "      <td>1</td>\n",
       "      <td>3</td>\n",
       "      <td>4</td>\n",
       "      <td>1</td>\n",
       "      <td>0</td>\n",
       "      <td>0</td>\n",
       "      <td>19</td>\n",
       "      <td>39</td>\n",
       "      <td>0</td>\n",
       "    </tr>\n",
       "  </tbody>\n",
       "</table>\n",
       "<p>26735 rows × 14 columns</p>\n",
       "</div>"
      ],
      "text/plain": [
       "       Age  Workclass  Fnlwgt  Education_num  Marital_status  Occupation  \\\n",
       "0       33          6    2925             12               2           4   \n",
       "1       21          4   14085              8               0           6   \n",
       "2       36          4   15335              6               2           6   \n",
       "4       20          4   17699             13               2           4   \n",
       "5       32          4    8535              4               3           8   \n",
       "...    ...        ...     ...            ...             ...         ...   \n",
       "32554    5          4   18559              9               4          11   \n",
       "32555   10          4   16527             11               2          13   \n",
       "32556   23          4    8079              8               2           7   \n",
       "32557   41          4    7882              8               6           1   \n",
       "32558    5          4   12880              8               4           1   \n",
       "\n",
       "       Relationship  Race  Sex  Capital_gain  Capital_loss  Hours_per_week  \\\n",
       "0                 0     4    1             0             0              12   \n",
       "1                 1     4    1             0             0              39   \n",
       "2                 0     2    1             0             0              39   \n",
       "4                 5     4    0             0             0              39   \n",
       "5                 1     2    0             0             0              15   \n",
       "...             ...   ...  ...           ...           ...             ...   \n",
       "32554             1     4    1             0             0              39   \n",
       "32555             5     4    0             0             0              37   \n",
       "32556             0     4    1             0             0              39   \n",
       "32557             4     4    0             0             0              39   \n",
       "32558             3     4    1             0             0              19   \n",
       "\n",
       "       Native_country  Income  \n",
       "0                  39       0  \n",
       "1                  39       0  \n",
       "2                  39       0  \n",
       "4                  39       0  \n",
       "5                  23       0  \n",
       "...               ...     ...  \n",
       "32554              39       0  \n",
       "32555              39       0  \n",
       "32556              39       1  \n",
       "32557              39       0  \n",
       "32558              39       0  \n",
       "\n",
       "[26735 rows x 14 columns]"
      ]
     },
     "execution_count": 54,
     "metadata": {},
     "output_type": "execute_result"
    }
   ],
   "source": [
    "df1=df[(z<3).all(axis=1)]\n",
    "df1"
   ]
  },
  {
   "cell_type": "code",
   "execution_count": 55,
   "id": "7f5a6e27",
   "metadata": {},
   "outputs": [
    {
     "data": {
      "text/html": [
       "<div>\n",
       "<style scoped>\n",
       "    .dataframe tbody tr th:only-of-type {\n",
       "        vertical-align: middle;\n",
       "    }\n",
       "\n",
       "    .dataframe tbody tr th {\n",
       "        vertical-align: top;\n",
       "    }\n",
       "\n",
       "    .dataframe thead th {\n",
       "        text-align: right;\n",
       "    }\n",
       "</style>\n",
       "<table border=\"1\" class=\"dataframe\">\n",
       "  <thead>\n",
       "    <tr style=\"text-align: right;\">\n",
       "      <th></th>\n",
       "      <th>Age</th>\n",
       "      <th>Workclass</th>\n",
       "      <th>Fnlwgt</th>\n",
       "      <th>Education_num</th>\n",
       "      <th>Marital_status</th>\n",
       "      <th>Occupation</th>\n",
       "      <th>Relationship</th>\n",
       "      <th>Race</th>\n",
       "      <th>Sex</th>\n",
       "      <th>Capital_gain</th>\n",
       "      <th>Capital_loss</th>\n",
       "      <th>Hours_per_week</th>\n",
       "      <th>Native_country</th>\n",
       "      <th>Income</th>\n",
       "    </tr>\n",
       "  </thead>\n",
       "  <tbody>\n",
       "    <tr>\n",
       "      <th>count</th>\n",
       "      <td>26735.000000</td>\n",
       "      <td>26735.000000</td>\n",
       "      <td>26735.000000</td>\n",
       "      <td>26735.000000</td>\n",
       "      <td>26735.000000</td>\n",
       "      <td>26735.000000</td>\n",
       "      <td>26735.000000</td>\n",
       "      <td>26735.000000</td>\n",
       "      <td>26735.000000</td>\n",
       "      <td>26735.000000</td>\n",
       "      <td>26735.000000</td>\n",
       "      <td>26735.000000</td>\n",
       "      <td>26735.000000</td>\n",
       "      <td>26735.000000</td>\n",
       "    </tr>\n",
       "    <tr>\n",
       "      <th>mean</th>\n",
       "      <td>20.769815</td>\n",
       "      <td>3.857528</td>\n",
       "      <td>10585.974864</td>\n",
       "      <td>8.973667</td>\n",
       "      <td>2.637629</td>\n",
       "      <td>6.523509</td>\n",
       "      <td>1.501066</td>\n",
       "      <td>3.783841</td>\n",
       "      <td>0.654348</td>\n",
       "      <td>1.617767</td>\n",
       "      <td>0.274023</td>\n",
       "      <td>38.670095</td>\n",
       "      <td>38.449635</td>\n",
       "      <td>0.190350</td>\n",
       "    </tr>\n",
       "    <tr>\n",
       "      <th>std</th>\n",
       "      <td>13.394953</td>\n",
       "      <td>1.448298</td>\n",
       "      <td>6051.187283</td>\n",
       "      <td>2.385474</td>\n",
       "      <td>1.537143</td>\n",
       "      <td>4.252288</td>\n",
       "      <td>1.598277</td>\n",
       "      <td>0.615193</td>\n",
       "      <td>0.475589</td>\n",
       "      <td>9.303481</td>\n",
       "      <td>2.526678</td>\n",
       "      <td>11.138166</td>\n",
       "      <td>2.779831</td>\n",
       "      <td>0.392584</td>\n",
       "    </tr>\n",
       "    <tr>\n",
       "      <th>min</th>\n",
       "      <td>0.000000</td>\n",
       "      <td>0.000000</td>\n",
       "      <td>3.000000</td>\n",
       "      <td>2.000000</td>\n",
       "      <td>0.000000</td>\n",
       "      <td>0.000000</td>\n",
       "      <td>0.000000</td>\n",
       "      <td>2.000000</td>\n",
       "      <td>0.000000</td>\n",
       "      <td>0.000000</td>\n",
       "      <td>0.000000</td>\n",
       "      <td>3.000000</td>\n",
       "      <td>14.000000</td>\n",
       "      <td>0.000000</td>\n",
       "    </tr>\n",
       "    <tr>\n",
       "      <th>25%</th>\n",
       "      <td>10.000000</td>\n",
       "      <td>4.000000</td>\n",
       "      <td>5475.000000</td>\n",
       "      <td>8.000000</td>\n",
       "      <td>2.000000</td>\n",
       "      <td>3.000000</td>\n",
       "      <td>0.000000</td>\n",
       "      <td>4.000000</td>\n",
       "      <td>0.000000</td>\n",
       "      <td>0.000000</td>\n",
       "      <td>0.000000</td>\n",
       "      <td>39.000000</td>\n",
       "      <td>39.000000</td>\n",
       "      <td>0.000000</td>\n",
       "    </tr>\n",
       "    <tr>\n",
       "      <th>50%</th>\n",
       "      <td>19.000000</td>\n",
       "      <td>4.000000</td>\n",
       "      <td>10518.000000</td>\n",
       "      <td>9.000000</td>\n",
       "      <td>2.000000</td>\n",
       "      <td>6.000000</td>\n",
       "      <td>1.000000</td>\n",
       "      <td>4.000000</td>\n",
       "      <td>1.000000</td>\n",
       "      <td>0.000000</td>\n",
       "      <td>0.000000</td>\n",
       "      <td>39.000000</td>\n",
       "      <td>39.000000</td>\n",
       "      <td>0.000000</td>\n",
       "    </tr>\n",
       "    <tr>\n",
       "      <th>75%</th>\n",
       "      <td>30.000000</td>\n",
       "      <td>4.000000</td>\n",
       "      <td>15561.500000</td>\n",
       "      <td>10.000000</td>\n",
       "      <td>4.000000</td>\n",
       "      <td>10.000000</td>\n",
       "      <td>3.000000</td>\n",
       "      <td>4.000000</td>\n",
       "      <td>1.000000</td>\n",
       "      <td>0.000000</td>\n",
       "      <td>0.000000</td>\n",
       "      <td>44.000000</td>\n",
       "      <td>39.000000</td>\n",
       "      <td>0.000000</td>\n",
       "    </tr>\n",
       "    <tr>\n",
       "      <th>max</th>\n",
       "      <td>62.000000</td>\n",
       "      <td>8.000000</td>\n",
       "      <td>21646.000000</td>\n",
       "      <td>15.000000</td>\n",
       "      <td>6.000000</td>\n",
       "      <td>14.000000</td>\n",
       "      <td>5.000000</td>\n",
       "      <td>4.000000</td>\n",
       "      <td>1.000000</td>\n",
       "      <td>76.000000</td>\n",
       "      <td>32.000000</td>\n",
       "      <td>75.000000</td>\n",
       "      <td>41.000000</td>\n",
       "      <td>1.000000</td>\n",
       "    </tr>\n",
       "  </tbody>\n",
       "</table>\n",
       "</div>"
      ],
      "text/plain": [
       "                Age     Workclass        Fnlwgt  Education_num  \\\n",
       "count  26735.000000  26735.000000  26735.000000   26735.000000   \n",
       "mean      20.769815      3.857528  10585.974864       8.973667   \n",
       "std       13.394953      1.448298   6051.187283       2.385474   \n",
       "min        0.000000      0.000000      3.000000       2.000000   \n",
       "25%       10.000000      4.000000   5475.000000       8.000000   \n",
       "50%       19.000000      4.000000  10518.000000       9.000000   \n",
       "75%       30.000000      4.000000  15561.500000      10.000000   \n",
       "max       62.000000      8.000000  21646.000000      15.000000   \n",
       "\n",
       "       Marital_status    Occupation  Relationship          Race           Sex  \\\n",
       "count    26735.000000  26735.000000  26735.000000  26735.000000  26735.000000   \n",
       "mean         2.637629      6.523509      1.501066      3.783841      0.654348   \n",
       "std          1.537143      4.252288      1.598277      0.615193      0.475589   \n",
       "min          0.000000      0.000000      0.000000      2.000000      0.000000   \n",
       "25%          2.000000      3.000000      0.000000      4.000000      0.000000   \n",
       "50%          2.000000      6.000000      1.000000      4.000000      1.000000   \n",
       "75%          4.000000     10.000000      3.000000      4.000000      1.000000   \n",
       "max          6.000000     14.000000      5.000000      4.000000      1.000000   \n",
       "\n",
       "       Capital_gain  Capital_loss  Hours_per_week  Native_country  \\\n",
       "count  26735.000000  26735.000000    26735.000000    26735.000000   \n",
       "mean       1.617767      0.274023       38.670095       38.449635   \n",
       "std        9.303481      2.526678       11.138166        2.779831   \n",
       "min        0.000000      0.000000        3.000000       14.000000   \n",
       "25%        0.000000      0.000000       39.000000       39.000000   \n",
       "50%        0.000000      0.000000       39.000000       39.000000   \n",
       "75%        0.000000      0.000000       44.000000       39.000000   \n",
       "max       76.000000     32.000000       75.000000       41.000000   \n",
       "\n",
       "             Income  \n",
       "count  26735.000000  \n",
       "mean       0.190350  \n",
       "std        0.392584  \n",
       "min        0.000000  \n",
       "25%        0.000000  \n",
       "50%        0.000000  \n",
       "75%        0.000000  \n",
       "max        1.000000  "
      ]
     },
     "execution_count": 55,
     "metadata": {},
     "output_type": "execute_result"
    }
   ],
   "source": [
    "df1.describe()"
   ]
  },
  {
   "cell_type": "code",
   "execution_count": 56,
   "id": "47af43fc",
   "metadata": {},
   "outputs": [
    {
     "data": {
      "image/png": "[encoded data removed]",
      "text/plain": [
       "<Figure size 1440x1080 with 12 Axes>"
      ]
     },
     "metadata": {},
     "output_type": "display_data"
    }
   ],
   "source": [
    "plt.figure(figsize=(20,15),facecolor='gray')\n",
    "plotnumber=1\n",
    "\n",
    "for column in df1:\n",
    "    if plotnumber<=12:\n",
    "        ax = plt.subplot(2,6,plotnumber)\n",
    "        plt.boxplot(df1[column])\n",
    "        plt.xlabel(column,fontsize=8)\n",
    "    \n",
    "    \n",
    "    plotnumber+=1\n",
    "plt.tight_layout()"
   ]
  },
  {
   "cell_type": "markdown",
   "id": "7b7c1187",
   "metadata": {},
   "source": [
    " here we used zscore method to remove the outliers but the outliers is present "
   ]
  },
  {
   "cell_type": "markdown",
   "id": "e234859f",
   "metadata": {},
   "source": [
    "still some outliers is present in some columns."
   ]
  },
  {
   "cell_type": "markdown",
   "id": "d88e28bf",
   "metadata": {},
   "source": [
    "=============================================================================================================================="
   ]
  },
  {
   "cell_type": "markdown",
   "id": "ece51668",
   "metadata": {},
   "source": [
    "# Create independent and dependent variable"
   ]
  },
  {
   "cell_type": "code",
   "execution_count": 58,
   "id": "c389a1aa",
   "metadata": {},
   "outputs": [],
   "source": [
    "X=df1.drop('Income',axis=1)\n",
    "y=df1.Income"
   ]
  },
  {
   "cell_type": "code",
   "execution_count": 65,
   "id": "12cd4a0f",
   "metadata": {},
   "outputs": [
    {
     "data": {
      "text/plain": [
       "(26735, 13)"
      ]
     },
     "execution_count": 65,
     "metadata": {},
     "output_type": "execute_result"
    }
   ],
   "source": [
    "X.shape"
   ]
  },
  {
   "cell_type": "code",
   "execution_count": 66,
   "id": "44567292",
   "metadata": {},
   "outputs": [
    {
     "data": {
      "text/plain": [
       "(26735, 14)"
      ]
     },
     "execution_count": 66,
     "metadata": {},
     "output_type": "execute_result"
    }
   ],
   "source": [
    "df1.shape"
   ]
  },
  {
   "cell_type": "markdown",
   "id": "64534959",
   "metadata": {},
   "source": [
    "# checking skewness"
   ]
  },
  {
   "cell_type": "code",
   "execution_count": 67,
   "id": "3bff385d",
   "metadata": {},
   "outputs": [
    {
     "data": {
      "text/plain": [
       "Capital_loss      9.786982\n",
       "Capital_gain      6.044493\n",
       "Relationship      0.709768\n",
       "Age               0.512903\n",
       "Occupation        0.136047\n",
       "Fnlwgt            0.042344\n",
       "Marital_status   -0.086741\n",
       "Education_num    -0.150206\n",
       "Hours_per_week   -0.382335\n",
       "Sex              -0.649131\n",
       "Workclass        -0.746686\n",
       "Race             -2.524414\n",
       "Native_country   -5.338005\n",
       "dtype: float64"
      ]
     },
     "execution_count": 67,
     "metadata": {},
     "output_type": "execute_result"
    }
   ],
   "source": [
    "X.skew().sort_values(ascending=False)"
   ]
  },
  {
   "cell_type": "markdown",
   "id": "a7995b77",
   "metadata": {},
   "source": [
    "the skewness is very high so we can remove it by power transform method"
   ]
  },
  {
   "cell_type": "markdown",
   "id": "a0985e73",
   "metadata": {},
   "source": [
    "# Using power_tranform method "
   ]
  },
  {
   "cell_type": "code",
   "execution_count": 68,
   "id": "737cb6a4",
   "metadata": {},
   "outputs": [],
   "source": [
    "from sklearn.preprocessing import power_transform"
   ]
  },
  {
   "cell_type": "code",
   "execution_count": 69,
   "id": "345cf68e",
   "metadata": {},
   "outputs": [],
   "source": [
    "x_new=power_transform(X)"
   ]
  },
  {
   "cell_type": "code",
   "execution_count": 70,
   "id": "b7e6cd16",
   "metadata": {},
   "outputs": [
    {
     "data": {
      "text/plain": [
       "10    8.542437\n",
       "9     5.024051\n",
       "12    0.548532\n",
       "11    0.089866\n",
       "6     0.085967\n",
       "1     0.075043\n",
       "3     0.034609\n",
       "0    -0.116734\n",
       "4    -0.144903\n",
       "5    -0.182820\n",
       "2    -0.266659\n",
       "8    -0.649131\n",
       "7    -2.466435\n",
       "dtype: float64"
      ]
     },
     "execution_count": 70,
     "metadata": {},
     "output_type": "execute_result"
    }
   ],
   "source": [
    "pd.DataFrame(x_new).skew().sort_values(ascending=False)"
   ]
  },
  {
   "cell_type": "code",
   "execution_count": 71,
   "id": "d1d3e8eb",
   "metadata": {},
   "outputs": [
    {
     "data": {
      "text/plain": [
       "Capital_loss      8.542437\n",
       "Capital_gain      5.024051\n",
       "Native_country    0.548532\n",
       "Hours_per_week    0.089866\n",
       "Relationship      0.085967\n",
       "Workclass         0.075043\n",
       "Education_num     0.034609\n",
       "Age              -0.116734\n",
       "Marital_status   -0.144903\n",
       "Occupation       -0.182820\n",
       "Fnlwgt           -0.266659\n",
       "Sex              -0.649131\n",
       "Race             -2.466435\n",
       "dtype: float64"
      ]
     },
     "execution_count": 71,
     "metadata": {},
     "output_type": "execute_result"
    }
   ],
   "source": [
    "pd.DataFrame(x_new,columns=X.columns).skew().sort_values(ascending=False)"
   ]
  },
  {
   "cell_type": "code",
   "execution_count": 72,
   "id": "04e2b99a",
   "metadata": {},
   "outputs": [
    {
     "data": {
      "text/plain": [
       "Capital_loss      8.542437\n",
       "Capital_gain      5.024051\n",
       "Native_country    0.548532\n",
       "Hours_per_week    0.089866\n",
       "Relationship      0.085967\n",
       "Workclass         0.075043\n",
       "Education_num     0.034609\n",
       "Age              -0.116734\n",
       "Marital_status   -0.144903\n",
       "Occupation       -0.182820\n",
       "Fnlwgt           -0.266659\n",
       "Sex              -0.649131\n",
       "Race             -2.466435\n",
       "dtype: float64"
      ]
     },
     "execution_count": 72,
     "metadata": {},
     "output_type": "execute_result"
    }
   ],
   "source": [
    "pd.DataFrame(x_new,columns=X.columns).skew().sort_values(ascending=False)"
   ]
  },
  {
   "cell_type": "code",
   "execution_count": 73,
   "id": "fae0f288",
   "metadata": {},
   "outputs": [],
   "source": [
    "x=pd.DataFrame(x_new,columns=X.columns)"
   ]
  },
  {
   "cell_type": "code",
   "execution_count": 74,
   "id": "02f5f69d",
   "metadata": {},
   "outputs": [
    {
     "data": {
      "text/plain": [
       "Capital_loss      8.542437\n",
       "Capital_gain      5.024051\n",
       "Native_country    0.548532\n",
       "Hours_per_week    0.089866\n",
       "Relationship      0.085967\n",
       "Workclass         0.075043\n",
       "Education_num     0.034609\n",
       "Age              -0.116734\n",
       "Marital_status   -0.144903\n",
       "Occupation       -0.182820\n",
       "Fnlwgt           -0.266659\n",
       "Sex              -0.649131\n",
       "Race             -2.466435\n",
       "dtype: float64"
      ]
     },
     "execution_count": 74,
     "metadata": {},
     "output_type": "execute_result"
    }
   ],
   "source": [
    "x.skew().sort_values(ascending=False)"
   ]
  },
  {
   "cell_type": "code",
   "execution_count": 75,
   "id": "4fb62004",
   "metadata": {},
   "outputs": [],
   "source": [
    "sk=x.skew()"
   ]
  },
  {
   "cell_type": "code",
   "execution_count": 76,
   "id": "8c126cf2",
   "metadata": {},
   "outputs": [
    {
     "data": {
      "text/plain": [
       "Race             -2.466435\n",
       "Sex              -0.649131\n",
       "Capital_gain      5.024051\n",
       "Capital_loss      8.542437\n",
       "Native_country    0.548532\n",
       "dtype: float64"
      ]
     },
     "execution_count": 76,
     "metadata": {},
     "output_type": "execute_result"
    }
   ],
   "source": [
    "sk[np.abs(sk)>0.5]"
   ]
  },
  {
   "cell_type": "code",
   "execution_count": 77,
   "id": "4097c0ca",
   "metadata": {},
   "outputs": [
    {
     "data": {
      "text/plain": [
       "True"
      ]
     },
     "execution_count": 77,
     "metadata": {},
     "output_type": "execute_result"
    }
   ],
   "source": [
    "x.skew()[np.abs(x.skew())<0.5].all()"
   ]
  },
  {
   "cell_type": "markdown",
   "id": "be9d3fa8",
   "metadata": {},
   "source": [
    "we can see the skewness is still  present in the 5 columns so we can check with boccox method"
   ]
  },
  {
   "cell_type": "markdown",
   "id": "67fb6536",
   "metadata": {},
   "source": [
    "# Boxcox Method"
   ]
  },
  {
   "cell_type": "code",
   "execution_count": 79,
   "id": "5b5aaa19",
   "metadata": {},
   "outputs": [
    {
     "data": {
      "text/plain": [
       "[]"
      ]
     },
     "execution_count": 79,
     "metadata": {},
     "output_type": "execute_result"
    },
    {
     "data": {
      "image/png": "[encoded data removed]",
      "text/plain": [
       "<Figure size 432x288 with 1 Axes>"
      ]
     },
     "metadata": {
      "needs_background": "light"
     },
     "output_type": "display_data"
    }
   ],
   "source": [
    "x['Capital_loss'].hist().plot()"
   ]
  },
  {
   "cell_type": "code",
   "execution_count": 80,
   "id": "9c7c5fb5",
   "metadata": {},
   "outputs": [],
   "source": [
    "from scipy.stats import boxcox"
   ]
  },
  {
   "cell_type": "code",
   "execution_count": null,
   "id": "54043fcb",
   "metadata": {},
   "outputs": [],
   "source": [
    "x['Capital_loss']=boxcox(x['Capital_loss'],0)"
   ]
  },
  {
   "cell_type": "markdown",
   "id": "72e24265",
   "metadata": {},
   "source": [
    "Here we can see the BoxCOx requires the positive data and from graph we can see some of the part is in negative side"
   ]
  },
  {
   "cell_type": "code",
   "execution_count": 81,
   "id": "c5a07cd0",
   "metadata": {},
   "outputs": [
    {
     "data": {
      "text/plain": [
       "[]"
      ]
     },
     "execution_count": 81,
     "metadata": {},
     "output_type": "execute_result"
    },
    {
     "data": {
      "image/png": "[encoded data removed]",
      "text/plain": [
       "<Figure size 432x288 with 1 Axes>"
      ]
     },
     "metadata": {
      "needs_background": "light"
     },
     "output_type": "display_data"
    }
   ],
   "source": [
    "x['Capital_gain'].hist().plot()"
   ]
  },
  {
   "cell_type": "markdown",
   "id": "c3a09436",
   "metadata": {},
   "source": [
    "Here we can see the BoxCOx requires the positive data and from graph we can see most of the part is in negative side"
   ]
  },
  {
   "cell_type": "code",
   "execution_count": null,
   "id": "962fb9d2",
   "metadata": {},
   "outputs": [],
   "source": [
    "x['Capital_gain']=boxcox(x['Capital_gain'],0)"
   ]
  },
  {
   "cell_type": "code",
   "execution_count": 83,
   "id": "61e6d162",
   "metadata": {},
   "outputs": [
    {
     "data": {
      "text/plain": [
       "[]"
      ]
     },
     "execution_count": 83,
     "metadata": {},
     "output_type": "execute_result"
    },
    {
     "data": {
      "image/png": "[encoded data removed]",
      "text/plain": [
       "<Figure size 432x288 with 1 Axes>"
      ]
     },
     "metadata": {
      "needs_background": "light"
     },
     "output_type": "display_data"
    }
   ],
   "source": [
    "x['Race'].hist().plot()"
   ]
  },
  {
   "cell_type": "code",
   "execution_count": null,
   "id": "487697ea",
   "metadata": {},
   "outputs": [],
   "source": [
    "x['Race']=boxcox(x['Race'],0)"
   ]
  },
  {
   "cell_type": "markdown",
   "id": "76150bf9",
   "metadata": {},
   "source": [
    "Here we can see the BoxCOx requires the positive data and from graph we can see most of the part is in negative side"
   ]
  },
  {
   "cell_type": "code",
   "execution_count": 84,
   "id": "13503ed1",
   "metadata": {},
   "outputs": [
    {
     "data": {
      "text/plain": [
       "[]"
      ]
     },
     "execution_count": 84,
     "metadata": {},
     "output_type": "execute_result"
    },
    {
     "data": {
      "image/png": "[encoded data removed]",
      "text/plain": [
       "<Figure size 432x288 with 1 Axes>"
      ]
     },
     "metadata": {
      "needs_background": "light"
     },
     "output_type": "display_data"
    }
   ],
   "source": [
    "x['Native_country'].hist().plot()"
   ]
  },
  {
   "cell_type": "code",
   "execution_count": null,
   "id": "628ba07d",
   "metadata": {},
   "outputs": [],
   "source": [
    "x['Native_country']=boxcox(x['Native_country'],0)"
   ]
  },
  {
   "cell_type": "markdown",
   "id": "17a87843",
   "metadata": {},
   "source": [
    "The skewness was removed by powertransform so we used Boxcox but the skewness is not removed "
   ]
  },
  {
   "cell_type": "markdown",
   "id": "2ba51ba8",
   "metadata": {},
   "source": [
    "# standardscaler(): to scaled the data in one form"
   ]
  },
  {
   "cell_type": "code",
   "execution_count": 85,
   "id": "9862e48f",
   "metadata": {},
   "outputs": [],
   "source": [
    "from sklearn.preprocessing import StandardScaler\n",
    "from statsmodels.stats.outliers_influence import variance_inflation_factor\n",
    "scaler=StandardScaler()\n",
    "x_scaled=scaler.fit_transform(x)"
   ]
  },
  {
   "cell_type": "markdown",
   "id": "b0591714",
   "metadata": {},
   "source": [
    "# USing Variance inflation Factor"
   ]
  },
  {
   "cell_type": "code",
   "execution_count": 86,
   "id": "1f4c2aa9",
   "metadata": {},
   "outputs": [
    {
     "data": {
      "text/html": [
       "<div>\n",
       "<style scoped>\n",
       "    .dataframe tbody tr th:only-of-type {\n",
       "        vertical-align: middle;\n",
       "    }\n",
       "\n",
       "    .dataframe tbody tr th {\n",
       "        vertical-align: top;\n",
       "    }\n",
       "\n",
       "    .dataframe thead th {\n",
       "        text-align: right;\n",
       "    }\n",
       "</style>\n",
       "<table border=\"1\" class=\"dataframe\">\n",
       "  <thead>\n",
       "    <tr style=\"text-align: right;\">\n",
       "      <th></th>\n",
       "      <th>vif</th>\n",
       "      <th>feature</th>\n",
       "    </tr>\n",
       "  </thead>\n",
       "  <tbody>\n",
       "    <tr>\n",
       "      <th>6</th>\n",
       "      <td>1.877666</td>\n",
       "      <td>Relationship</td>\n",
       "    </tr>\n",
       "    <tr>\n",
       "      <th>8</th>\n",
       "      <td>1.609273</td>\n",
       "      <td>Sex</td>\n",
       "    </tr>\n",
       "    <tr>\n",
       "      <th>0</th>\n",
       "      <td>1.283159</td>\n",
       "      <td>Age</td>\n",
       "    </tr>\n",
       "    <tr>\n",
       "      <th>4</th>\n",
       "      <td>1.178894</td>\n",
       "      <td>Marital_status</td>\n",
       "    </tr>\n",
       "    <tr>\n",
       "      <th>11</th>\n",
       "      <td>1.147906</td>\n",
       "      <td>Hours_per_week</td>\n",
       "    </tr>\n",
       "    <tr>\n",
       "      <th>5</th>\n",
       "      <td>1.091990</td>\n",
       "      <td>Occupation</td>\n",
       "    </tr>\n",
       "    <tr>\n",
       "      <th>1</th>\n",
       "      <td>1.089731</td>\n",
       "      <td>Workclass</td>\n",
       "    </tr>\n",
       "    <tr>\n",
       "      <th>3</th>\n",
       "      <td>1.068675</td>\n",
       "      <td>Education_num</td>\n",
       "    </tr>\n",
       "    <tr>\n",
       "      <th>7</th>\n",
       "      <td>1.052490</td>\n",
       "      <td>Race</td>\n",
       "    </tr>\n",
       "    <tr>\n",
       "      <th>2</th>\n",
       "      <td>1.028213</td>\n",
       "      <td>Fnlwgt</td>\n",
       "    </tr>\n",
       "    <tr>\n",
       "      <th>12</th>\n",
       "      <td>1.028213</td>\n",
       "      <td>Native_country</td>\n",
       "    </tr>\n",
       "    <tr>\n",
       "      <th>9</th>\n",
       "      <td>1.003597</td>\n",
       "      <td>Capital_gain</td>\n",
       "    </tr>\n",
       "    <tr>\n",
       "      <th>10</th>\n",
       "      <td>1.001127</td>\n",
       "      <td>Capital_loss</td>\n",
       "    </tr>\n",
       "  </tbody>\n",
       "</table>\n",
       "</div>"
      ],
      "text/plain": [
       "         vif         feature\n",
       "6   1.877666    Relationship\n",
       "8   1.609273             Sex\n",
       "0   1.283159             Age\n",
       "4   1.178894  Marital_status\n",
       "11  1.147906  Hours_per_week\n",
       "5   1.091990      Occupation\n",
       "1   1.089731       Workclass\n",
       "3   1.068675   Education_num\n",
       "7   1.052490            Race\n",
       "2   1.028213          Fnlwgt\n",
       "12  1.028213  Native_country\n",
       "9   1.003597    Capital_gain\n",
       "10  1.001127    Capital_loss"
      ]
     },
     "execution_count": 86,
     "metadata": {},
     "output_type": "execute_result"
    }
   ],
   "source": [
    "from statsmodels.stats.outliers_influence import variance_inflation_factor\n",
    "vif=pd.DataFrame()\n",
    "vif['vif']=[variance_inflation_factor(x_scaled,i)for i in range(x_scaled.shape[1])]\n",
    "vif['feature']=x.columns\n",
    "vif.sort_values(by='vif',ascending=False)"
   ]
  },
  {
   "cell_type": "markdown",
   "id": "4dc676bd",
   "metadata": {},
   "source": [
    "there is no multicollinearity exist so we cannot drop any column "
   ]
  },
  {
   "cell_type": "markdown",
   "id": "1734b61f",
   "metadata": {},
   "source": [
    "# checking unbalanced data"
   ]
  },
  {
   "cell_type": "code",
   "execution_count": 87,
   "id": "6e02436f",
   "metadata": {},
   "outputs": [
    {
     "data": {
      "text/plain": [
       "0    21646\n",
       "1     5089\n",
       "Name: Income, dtype: int64"
      ]
     },
     "execution_count": 87,
     "metadata": {},
     "output_type": "execute_result"
    }
   ],
   "source": [
    "df1.Income.value_counts()"
   ]
  },
  {
   "cell_type": "markdown",
   "id": "42a0b5b9",
   "metadata": {},
   "source": [
    "data is imbalanced so we used SMOTE technique"
   ]
  },
  {
   "cell_type": "markdown",
   "id": "456b1228",
   "metadata": {},
   "source": [
    "# SMOTE technique"
   ]
  },
  {
   "cell_type": "code",
   "execution_count": 88,
   "id": "e989fbbb",
   "metadata": {},
   "outputs": [],
   "source": [
    "from imblearn.over_sampling import SMOTE"
   ]
  },
  {
   "cell_type": "code",
   "execution_count": 89,
   "id": "ce74858b",
   "metadata": {},
   "outputs": [],
   "source": [
    "smt=SMOTE()"
   ]
  },
  {
   "cell_type": "code",
   "execution_count": 90,
   "id": "aacfcca9",
   "metadata": {},
   "outputs": [],
   "source": [
    "trainx,trainy=smt.fit_resample(x,y)"
   ]
  },
  {
   "cell_type": "code",
   "execution_count": 91,
   "id": "4f9f2d3d",
   "metadata": {},
   "outputs": [
    {
     "data": {
      "text/plain": [
       "Age        Workclass  Fnlwgt     Education_num  Marital_status  Occupation  Relationship  Race       Sex        Capital_gain  Capital_loss  Hours_per_week  Native_country\n",
       " 0.447404  0.022040    0.482583  -0.012984      -0.400318        0.837887   -1.134474      0.354516   0.726800  -0.191736     -0.115507     -0.018301       0.17674           3\n",
       " 0.247463  0.022040   -0.515874   1.290414      -0.400318       -0.752557   -1.134474      0.354516   0.726800  -0.191736     -0.115507     -0.018301       0.17674           2\n",
       " 0.874611  0.022040   -1.969092  -2.371727      -0.400318       -0.752557   -1.134474      0.354516   0.726800  -0.191736     -0.115507     -0.018301       0.17674           2\n",
       "-1.737960  0.022040   -0.405588  -0.012984       0.885537       -0.480194    1.053153     -2.824259   0.726800  -0.191736     -0.115507     -0.905947       0.17674           2\n",
       " 0.874611  1.660919   -1.722570  -0.012984      -0.400318       -0.752557   -1.134474      0.354516   0.726800  -0.191736     -0.115507     -0.018301       0.17674           2\n",
       "                                                                                                                                                                             ..\n",
       "-0.116067  0.022040   -0.647530  -0.012984      -0.400318       -0.480194   -1.134474      0.354516   0.726800  -0.191736     -0.115507     -0.018301       0.17674           1\n",
       "                      -0.643338   1.290414       0.885537        0.837887    1.053153      0.354516  -1.375894  -0.191736     -0.115507     -2.060005       0.17674           1\n",
       "                      -0.636785  -0.431938      -1.743420        0.440708    1.337415      0.354516  -1.375894  -0.191736     -0.115507     -0.382940       0.17674           1\n",
       "                      -0.593736  -0.431938       0.885537        0.440708    1.053153      0.354516  -1.375894  -0.191736     -0.115507     -0.018301       0.17674           1\n",
       " 2.338551  1.660919   -0.257645  -0.431938       2.140182        0.440708    0.057462      0.354516  -1.375894  -0.191736     -0.115507     -1.396745       0.17674           1\n",
       "Length: 43271, dtype: int64"
      ]
     },
     "execution_count": 91,
     "metadata": {},
     "output_type": "execute_result"
    }
   ],
   "source": [
    "trainx.value_counts()"
   ]
  },
  {
   "cell_type": "code",
   "execution_count": 92,
   "id": "5c128e37",
   "metadata": {},
   "outputs": [
    {
     "data": {
      "text/plain": [
       "0    21646\n",
       "1    21646\n",
       "Name: Income, dtype: int64"
      ]
     },
     "execution_count": 92,
     "metadata": {},
     "output_type": "execute_result"
    }
   ],
   "source": [
    "trainy.value_counts()"
   ]
  },
  {
   "cell_type": "code",
   "execution_count": 93,
   "id": "66510f6c",
   "metadata": {},
   "outputs": [],
   "source": [
    "X=trainx\n",
    "y=trainy"
   ]
  },
  {
   "cell_type": "code",
   "execution_count": 94,
   "id": "4de5d2ec",
   "metadata": {},
   "outputs": [
    {
     "data": {
      "text/plain": [
       "(43292, 13)"
      ]
     },
     "execution_count": 94,
     "metadata": {},
     "output_type": "execute_result"
    }
   ],
   "source": [
    "X.shape"
   ]
  },
  {
   "cell_type": "code",
   "execution_count": 95,
   "id": "b6732177",
   "metadata": {},
   "outputs": [
    {
     "data": {
      "text/plain": [
       "(43292,)"
      ]
     },
     "execution_count": 95,
     "metadata": {},
     "output_type": "execute_result"
    }
   ],
   "source": [
    "y.shape"
   ]
  },
  {
   "cell_type": "markdown",
   "id": "75e6c1c8",
   "metadata": {},
   "source": [
    "now the data is balanced so we can proceed ahead"
   ]
  },
  {
   "cell_type": "markdown",
   "id": "c9c4488a",
   "metadata": {},
   "source": [
    "# Model selection "
   ]
  },
  {
   "cell_type": "code",
   "execution_count": 96,
   "id": "09acfe56",
   "metadata": {},
   "outputs": [],
   "source": [
    "from sklearn.preprocessing import MinMaxScaler\n",
    "mms=MinMaxScaler()\n",
    "from sklearn.linear_model import LogisticRegression\n",
    "from sklearn.tree import DecisionTreeClassifier\n",
    "from sklearn.ensemble import RandomForestClassifier\n",
    "from sklearn.naive_bayes import MultinomialNB\n",
    "from sklearn.metrics import accuracy_score\n",
    "from sklearn.metrics import confusion_matrix,classification_report\n",
    "from sklearn.metrics import mean_squared_error,mean_absolute_error\n",
    "from sklearn.model_selection import train_test_split\n",
    "from sklearn.svm import SVC\n",
    "from sklearn.neighbors import KNeighborsClassifier\n",
    "from sklearn.naive_bayes import MultinomialNB\n",
    "#clf = MultinomialNB()\n",
    "from sklearn.preprocessing import StandardScaler\n",
    "\n",
    "from sklearn.metrics import r2_score\n",
    "from sklearn.metrics import mean_squared_error,mean_absolute_error\n",
    "from sklearn.model_selection import train_test_split\n",
    "from sklearn.metrics import accuracy_score\n",
    "from sklearn.metrics import confusion_matrix,classification_report"
   ]
  },
  {
   "cell_type": "markdown",
   "id": "6a5398ed",
   "metadata": {},
   "source": [
    "# Using LOGISTIC REGRESSION"
   ]
  },
  {
   "cell_type": "markdown",
   "id": "82d94113",
   "metadata": {},
   "source": [
    "# to calculate the best test _size for logistic regression"
   ]
  },
  {
   "cell_type": "code",
   "execution_count": 97,
   "id": "5200c9b8",
   "metadata": {},
   "outputs": [
    {
     "name": "stdout",
     "output_type": "stream",
     "text": [
      "accuracy 0.7777777777777778 random_state 9\n",
      "accuracy 1.0 random_state 10\n",
      "best_accuracy is  100.0 random_state 10\n"
     ]
    }
   ],
   "source": [
    "# to calculate the best test_size\n",
    "maxAcc=0\n",
    "maxRS=0\n",
    "\n",
    "for i in range(9,40):\n",
    "    i1=i*0.01\n",
    "    x_train,x_test,y_train,y_test=train_test_split(X,y,test_size=i)\n",
    "    lr=LogisticRegression()\n",
    "    lr.fit(x_train,y_train)\n",
    "    pred=lr.predict(x_test)\n",
    "    acc=lr.score(x_test,y_test)\n",
    "    \n",
    "    if acc>maxAcc:\n",
    "        maxAcc=acc\n",
    "        maxRS=i\n",
    "        print('accuracy',maxAcc,'random_state',i)\n",
    "print(\"best_accuracy is \",maxAcc*100,'random_state',maxRS)      "
   ]
  },
  {
   "cell_type": "code",
   "execution_count": 98,
   "id": "4746ba67",
   "metadata": {},
   "outputs": [
    {
     "name": "stdout",
     "output_type": "stream",
     "text": [
      "accuracy 0.7505773672055427 Random state 1\n",
      "accuracy 0.7672055427251732 Random state 2\n",
      "accuracy 0.7702078521939953 Random state 21\n",
      "accuracy 0.7706697459584295 Random state 23\n",
      "accuracy 0.7759815242494227 Random state 25\n",
      "accuracy 0.7799076212471132 Random state 207\n",
      "Best accuracy is 77.99076212471132 on Random state 207\n"
     ]
    }
   ],
   "source": [
    "# finding the best random state \n",
    "maxAcc = 0\n",
    "maxRs=0\n",
    "\n",
    "for i in range(1,500):\n",
    "    x_train, x_test, y_train, y_test= train_test_split(X,y,test_size=0.10,random_state=i)\n",
    "    lr=LogisticRegression()\n",
    "    lr.fit(x_train,y_train)\n",
    "    pred=lr.predict(x_test)\n",
    "    acc=lr.score(x_test,y_test)\n",
    "    #print('accuracy',acc,'Random state',i)\n",
    "    \n",
    "    if acc>maxAcc:\n",
    "        maxAcc=acc\n",
    "        maxRs=i\n",
    "        print('accuracy',maxAcc,'Random state',i)\n",
    "print(\"Best accuracy is\",maxAcc*100,\"on Random state\",maxRs)"
   ]
  },
  {
   "cell_type": "code",
   "execution_count": 99,
   "id": "a632d35e",
   "metadata": {},
   "outputs": [
    {
     "name": "stdout",
     "output_type": "stream",
     "text": [
      "Accuracy 77.99076212471132\n",
      "[[157900  52800]\n",
      " [ 42500 179800]]\n"
     ]
    }
   ],
   "source": [
    "x_train, x_test, y_train, y_test= train_test_split(X,y,test_size=0.10,random_state=207)\n",
    "lr=LogisticRegression()\n",
    "lr.fit(x_train,y_train)\n",
    "pred=lr.predict(x_test)\n",
    "acc=lr.score(x_test,y_test)\n",
    "\n",
    "print(\"Accuracy\",accuracy_score(y_test,pred)*100)\n",
    "print(confusion_matrix(y_test,pred)*100)\n",
    "#print(classification_report(y_test,predrf)*100)"
   ]
  },
  {
   "cell_type": "markdown",
   "id": "abc270a2",
   "metadata": {},
   "source": [
    "#Logistic regression giving 78% accuracy "
   ]
  },
  {
   "cell_type": "markdown",
   "id": "b1e9344b",
   "metadata": {},
   "source": [
    "==============================================================================================================================="
   ]
  },
  {
   "cell_type": "markdown",
   "id": "5e63a0d2",
   "metadata": {},
   "source": [
    "# DecisionTreeClassifier algorithm"
   ]
  },
  {
   "cell_type": "code",
   "execution_count": 100,
   "id": "e1fcda35",
   "metadata": {},
   "outputs": [
    {
     "name": "stdout",
     "output_type": "stream",
     "text": [
      "accuracy 0.7777777777777778 random_state 9\n",
      "accuracy 0.9090909090909091 random_state 11\n",
      "accuracy 0.9166666666666666 random_state 12\n",
      "accuracy 0.9230769230769231 random_state 13\n",
      "accuracy 0.9285714285714286 random_state 14\n",
      "accuracy 0.9333333333333333 random_state 15\n",
      "accuracy 0.9411764705882353 random_state 17\n",
      "accuracy 1.0 random_state 18\n",
      "best_accuracy is  100.0 random_state 18\n"
     ]
    }
   ],
   "source": [
    "# to calculate the best test_size\n",
    "maxAcc=0\n",
    "maxRS=0\n",
    "\n",
    "for i in range(9,40):\n",
    "    i1=i*0.01\n",
    "    x_train,x_test,y_train,y_test=train_test_split(X,y,test_size=i)\n",
    "    dt=DecisionTreeClassifier()\n",
    "    dt.fit(x_train,y_train)\n",
    "    pred=dt.predict(x_test)\n",
    "    acc=dt.score(x_test,y_test)\n",
    "    \n",
    "    if acc>maxAcc:\n",
    "        maxAcc=acc\n",
    "        maxRS=i\n",
    "        print('accuracy',maxAcc,'random_state',i)\n",
    "print(\"best_accuracy is \",maxAcc*100,'random_state',maxRS)      "
   ]
  },
  {
   "cell_type": "code",
   "execution_count": 101,
   "id": "50c5e7b9",
   "metadata": {},
   "outputs": [
    {
     "name": "stdout",
     "output_type": "stream",
     "text": [
      "accuracy 0.8543564737585012 Random state 1\n",
      "accuracy 0.8628256127293725 Random state 2\n",
      "accuracy 0.8652636981906839 Random state 12\n",
      "accuracy 0.8662902604901835 Random state 26\n",
      "accuracy 0.867573463364558 Random state 30\n",
      "accuracy 0.8679584242268703 Random state 145\n",
      "accuracy 0.86847170537662 Random state 146\n",
      "accuracy 0.8691133068138073 Random state 197\n",
      "accuracy 0.8696265879635571 Random state 301\n",
      "Best accuracy is 86.96265879635571 on Random state 301\n"
     ]
    }
   ],
   "source": [
    "# finding the best random state \n",
    "maxAcc = 0\n",
    "maxRs=0\n",
    "\n",
    "for i in range(1,500):\n",
    "    x_train, x_test, y_train, y_test= train_test_split(X,y,test_size=0.18,random_state=i)\n",
    "    dt=DecisionTreeClassifier()\n",
    "    dt.fit(x_train,y_train)\n",
    "    pred=dt.predict(x_test)\n",
    "    acc=dt.score(x_test,y_test)\n",
    "    #print('accuracy',acc,'Random state',i)\n",
    "    \n",
    "    if acc>maxAcc:\n",
    "        maxAcc=acc\n",
    "        maxRs=i\n",
    "        print('accuracy',maxAcc,'Random state',i)\n",
    "print(\"Best accuracy is\",maxAcc*100,\"on Random state\",maxRs)"
   ]
  },
  {
   "cell_type": "code",
   "execution_count": 102,
   "id": "8922b408",
   "metadata": {},
   "outputs": [
    {
     "name": "stdout",
     "output_type": "stream",
     "text": [
      "Accuracy 86.98832285384319\n",
      "[[333700  51300]\n",
      " [ 50100 344200]]\n"
     ]
    }
   ],
   "source": [
    "x_train, x_test, y_train, y_test= train_test_split(X,y,test_size=0.18,random_state=301)\n",
    "dt=DecisionTreeClassifier()\n",
    "dt.fit(x_train,y_train)\n",
    "pred=dt.predict(x_test)\n",
    "acc=dt.score(x_test,y_test)\n",
    "\n",
    "print(\"Accuracy\",accuracy_score(y_test,pred)*100)\n",
    "print(confusion_matrix(y_test,pred)*100)\n",
    "#print(classification_report(y_test,predrf)*100) "
   ]
  },
  {
   "cell_type": "markdown",
   "id": "0916a751",
   "metadata": {},
   "source": [
    "DecisionTreeClassifier algorithm is giving 86.98% accuracy"
   ]
  },
  {
   "cell_type": "markdown",
   "id": "376c65c5",
   "metadata": {},
   "source": [
    "============================================================================================================================="
   ]
  },
  {
   "cell_type": "markdown",
   "id": "66e98306",
   "metadata": {},
   "source": [
    "# Random Forest classifier algorithm"
   ]
  },
  {
   "cell_type": "code",
   "execution_count": 103,
   "id": "cf7a06ff",
   "metadata": {},
   "outputs": [
    {
     "name": "stdout",
     "output_type": "stream",
     "text": [
      "accuracy 0.8888888888888888 random_state 9\n",
      "accuracy 0.9 random_state 10\n",
      "accuracy 0.9090909090909091 random_state 11\n",
      "accuracy 1.0 random_state 12\n",
      "best_accuracy is  100.0 random_state 12\n"
     ]
    }
   ],
   "source": [
    "# to calculate the best test_size\n",
    "maxAcc=0\n",
    "maxRS=0\n",
    "\n",
    "for i in range(9,40):\n",
    "    i1=i*0.01\n",
    "    x_train,x_test,y_train,y_test=train_test_split(X,y,test_size=i)\n",
    "    rf=RandomForestClassifier()\n",
    "    rf.fit(x_train,y_train)\n",
    "    pred=rf.predict(x_test)\n",
    "    acc=rf.score(x_test,y_test)\n",
    "    \n",
    "    if acc>maxAcc:\n",
    "        maxAcc=acc\n",
    "        maxRS=i\n",
    "        print('accuracy',maxAcc,'random_state',i)\n",
    "print(\"best_accuracy is \",maxAcc*100,'random_state',maxRS)      "
   ]
  },
  {
   "cell_type": "code",
   "execution_count": 104,
   "id": "dc248b53",
   "metadata": {},
   "outputs": [
    {
     "name": "stdout",
     "output_type": "stream",
     "text": [
      "accuracy 0.8997305619707467 Random state 1\n",
      "accuracy 0.9114703618167821 Random state 2\n",
      "accuracy 0.9164742109314857 Random state 12\n",
      "accuracy 0.9182063125481139 Random state 40\n",
      "Best accuracy is 91.82063125481139 on Random state 40\n"
     ]
    }
   ],
   "source": [
    "# finding the best random state \n",
    "maxAcc = 0\n",
    "maxRs=0\n",
    "\n",
    "for i in range(1,50):\n",
    "    x_train, x_test, y_train, y_test= train_test_split(X,y,test_size=0.12,random_state=i)\n",
    "    rf=RandomForestClassifier()\n",
    "    rf.fit(x_train,y_train)\n",
    "    pred=rf.predict(x_test)\n",
    "    acc=rf.score(x_test,y_test)\n",
    "    #print('accuracy',acc,'Random state',i)\n",
    "    \n",
    "    if acc>maxAcc:\n",
    "        maxAcc=acc\n",
    "        maxRs=i\n",
    "        print('accuracy',maxAcc,'Random state',i)\n",
    "print(\"Best accuracy is\",maxAcc*100,\"on Random state\",maxRs)"
   ]
  },
  {
   "cell_type": "code",
   "execution_count": 105,
   "id": "066d4951",
   "metadata": {},
   "outputs": [
    {
     "name": "stdout",
     "output_type": "stream",
     "text": [
      "Accuracy 91.85912240184757\n",
      "[[233400  26500]\n",
      " [ 15800 243900]]\n"
     ]
    }
   ],
   "source": [
    "x_train, x_test, y_train, y_test= train_test_split(X,y,test_size=0.12,random_state=40)\n",
    "rf=RandomForestClassifier()\n",
    "rf.fit(x_train,y_train)\n",
    "pred=rf.predict(x_test)\n",
    "acc=rf.score(x_test,y_test)\n",
    "\n",
    "print(\"Accuracy\",accuracy_score(y_test,pred)*100)\n",
    "print(confusion_matrix(y_test,pred)*100)\n",
    "#print(classification_report(y_test,predrf)*100) "
   ]
  },
  {
   "cell_type": "markdown",
   "id": "5d36c7c4",
   "metadata": {},
   "source": [
    " Random forest is giving 91.85% accuracy"
   ]
  },
  {
   "cell_type": "markdown",
   "id": "cf80841b",
   "metadata": {},
   "source": [
    "=============================================================================================================================="
   ]
  },
  {
   "cell_type": "markdown",
   "id": "c751a863",
   "metadata": {},
   "source": [
    "# KNeighborsClassifier algorithm"
   ]
  },
  {
   "cell_type": "code",
   "execution_count": 106,
   "id": "b465ddd6",
   "metadata": {},
   "outputs": [
    {
     "name": "stdout",
     "output_type": "stream",
     "text": [
      "accuracy 0.8888888888888888 random_state 9\n",
      "accuracy 0.9 random_state 10\n",
      "accuracy 0.9090909090909091 random_state 11\n",
      "accuracy 0.9166666666666666 random_state 12\n",
      "accuracy 1.0 random_state 16\n",
      "best_accuracy is  100.0 random_state 16\n"
     ]
    }
   ],
   "source": [
    "# to calculate the best test_size\n",
    "maxAcc=0\n",
    "maxRS=0\n",
    "\n",
    "for i in range(9,40):\n",
    "    i1=i*0.01\n",
    "    x_train,x_test,y_train,y_test=train_test_split(X,y,test_size=i)\n",
    "    knc=KNeighborsClassifier()\n",
    "    knc.fit(x_train,y_train)\n",
    "    pred=knc.predict(x_test)\n",
    "    acc=knc.score(x_test,y_test)\n",
    "    \n",
    "    if acc>maxAcc:\n",
    "        maxAcc=acc\n",
    "        maxRS=i\n",
    "        print('accuracy',maxAcc,'random_state',i)\n",
    "print(\"best_accuracy is \",maxAcc*100,'random_state',maxRS)      "
   ]
  },
  {
   "cell_type": "code",
   "execution_count": null,
   "id": "ff00bf8a",
   "metadata": {},
   "outputs": [],
   "source": [
    "# finding the best random state \n",
    "maxAcc = 0\n",
    "maxRs=0\n",
    "\n",
    "for i in range(1,100):\n",
    "    x_train, x_test, y_train, y_test= train_test_split(X,y,test_size=0.16,random_state=i)\n",
    "    knc=KNeighborsClassifier()\n",
    "    knc.fit(x_train,y_train)\n",
    "    pred=knc.predict(x_test)\n",
    "    acc=knc.score(x_test,y_test)\n",
    "    #print('accuracy',acc,'Random state',i)\n",
    "    \n",
    "    if acc>maxAcc:\n",
    "        maxAcc=acc\n",
    "        maxRs=i\n",
    "        print('accuracy',maxAcc,'Random state',i)\n",
    "print(\"Best accuracy is\",maxAcc*100,\"on Random state\",maxRs)"
   ]
  },
  {
   "cell_type": "code",
   "execution_count": 108,
   "id": "2687b827",
   "metadata": {},
   "outputs": [
    {
     "name": "stdout",
     "output_type": "stream",
     "text": [
      "Accuracy 87.05067128627111\n",
      "[[264800  75400]\n",
      " [ 14300 338200]]\n"
     ]
    }
   ],
   "source": [
    "x_train, x_test, y_train, y_test= train_test_split(X,y,test_size=0.16,random_state=15)\n",
    "knc=KNeighborsClassifier()\n",
    "knc.fit(x_train,y_train)\n",
    "pred=knc.predict(x_test)\n",
    "acc=knc.score(x_test,y_test)\n",
    "\n",
    "print(\"Accuracy\",accuracy_score(y_test,pred)*100)\n",
    "print(confusion_matrix(y_test,pred)*100)\n",
    "#print(classification_report(y_test,predrf)*100) "
   ]
  },
  {
   "cell_type": "markdown",
   "id": "8b0d55a2",
   "metadata": {},
   "source": [
    "# knn is giving 87.05%accuracy"
   ]
  },
  {
   "cell_type": "markdown",
   "id": "d8e20f10",
   "metadata": {},
   "source": [
    "=========================================================================================================================="
   ]
  },
  {
   "cell_type": "markdown",
   "id": "c1349a4e",
   "metadata": {},
   "source": [
    "# random forest clssirief is giving better accuracy among all algorithms"
   ]
  },
  {
   "cell_type": "markdown",
   "id": "d5b30b1e",
   "metadata": {},
   "source": [
    "# Using  cross validation score :"
   ]
  },
  {
   "cell_type": "code",
   "execution_count": 109,
   "id": "13118774",
   "metadata": {},
   "outputs": [
    {
     "name": "stdout",
     "output_type": "stream",
     "text": [
      "cross vaidation score 0.7626353004687685\n"
     ]
    }
   ],
   "source": [
    "from sklearn.model_selection import cross_val_score\n",
    "scr=cross_val_score(lr,X,y,cv=5)\n",
    "print('cross vaidation score',scr.mean())"
   ]
  },
  {
   "cell_type": "code",
   "execution_count": 110,
   "id": "2ce26385",
   "metadata": {},
   "outputs": [
    {
     "name": "stdout",
     "output_type": "stream",
     "text": [
      "cross vaidation score 0.8534164464641425\n"
     ]
    }
   ],
   "source": [
    "#checking for desicionTereeClassifier\n",
    "from sklearn.model_selection import cross_val_score\n",
    "scr=cross_val_score(dt,X,y,cv=5)\n",
    "print('cross vaidation score',scr.mean())"
   ]
  },
  {
   "cell_type": "code",
   "execution_count": 111,
   "id": "cbed6ae3",
   "metadata": {},
   "outputs": [
    {
     "name": "stdout",
     "output_type": "stream",
     "text": [
      "cross vaidation score 0.9015540774635358\n"
     ]
    }
   ],
   "source": [
    "#checking for randomforest\n",
    "from sklearn.model_selection import cross_val_score\n",
    "scr=cross_val_score(rf,X,y,cv=5)\n",
    "print('cross vaidation score',scr.mean())"
   ]
  },
  {
   "cell_type": "code",
   "execution_count": 112,
   "id": "90623491",
   "metadata": {},
   "outputs": [
    {
     "name": "stdout",
     "output_type": "stream",
     "text": [
      "cross vaidation score 0.8621919208823007\n"
     ]
    }
   ],
   "source": [
    "#checking for knc\n",
    "from sklearn.model_selection import cross_val_score\n",
    "scr=cross_val_score(knc,X,y,cv=5)\n",
    "print('cross vaidation score',scr.mean())"
   ]
  },
  {
   "cell_type": "markdown",
   "id": "3d8b7bef",
   "metadata": {},
   "source": [
    "# so random forest is giving highest validation score so we use Random FC to trained the model"
   ]
  },
  {
   "cell_type": "markdown",
   "id": "d1fde41c",
   "metadata": {},
   "source": [
    "# Using Hyperparameter tunning"
   ]
  },
  {
   "cell_type": "code",
   "execution_count": 113,
   "id": "5b1e5faa",
   "metadata": {},
   "outputs": [
    {
     "name": "stdout",
     "output_type": "stream",
     "text": [
      "best_params: {'criterion': 'gini', 'max_depth': 15, 'max_features': 'log2'}\n",
      "[[2813  589]\n",
      " [ 233 3292]]\n",
      "0.8813339107838891\n"
     ]
    }
   ],
   "source": [
    "from sklearn.model_selection import GridSearchCV\n",
    "clf = RandomForestClassifier()\n",
    "\n",
    "params={'max_features':['auto','sqrt','log2'],\n",
    "       'max_depth':[10,15],\n",
    "       'criterion':['gini','entropy']\n",
    "       }\n",
    "\n",
    "grd=GridSearchCV(clf,param_grid=params,cv=5,scoring='accuracy')\n",
    "\n",
    "grd.fit(x_train,y_train)\n",
    "\n",
    "print('best_params:',grd.best_params_)\n",
    "\n",
    "clf=grd.best_estimator_\n",
    "\n",
    "clf.fit(x_train,y_train)\n",
    "\n",
    "y_pred=clf.predict(x_test)\n",
    "\n",
    "rf_conf_mat=confusion_matrix(y_test,y_pred)\n",
    "\n",
    "print(rf_conf_mat)\n",
    "\n",
    "print(accuracy_score(y_test,y_pred))\n"
   ]
  },
  {
   "cell_type": "code",
   "execution_count": 114,
   "id": "ed22781d",
   "metadata": {},
   "outputs": [
    {
     "name": "stdout",
     "output_type": "stream",
     "text": [
      "Accuracy 89.22247882986913\n",
      "[[217100  42800]\n",
      " [ 13200 246500]]\n",
      "              precision    recall  f1-score   support\n",
      "\n",
      "           0       0.94      0.84      0.89      2599\n",
      "           1       0.85      0.95      0.90      2597\n",
      "\n",
      "    accuracy                           0.89      5196\n",
      "   macro avg       0.90      0.89      0.89      5196\n",
      "weighted avg       0.90      0.89      0.89      5196\n",
      "              precision    recall  f1-score   support\n",
      "\n",
      "           0       0.94      0.84      0.89      2599\n",
      "           1       0.85      0.95      0.90      2597\n",
      "\n",
      "    accuracy                           0.89      5196\n",
      "   macro avg       0.90      0.89      0.89      5196\n",
      "weighted avg       0.90      0.89      0.89      5196\n",
      "              precision    recall  f1-score   support\n",
      "\n",
      "           0       0.94      0.84      0.89      2599\n",
      "           1       0.85      0.95      0.90      2597\n",
      "\n",
      "    accuracy                           0.89      5196\n",
      "   macro avg       0.90      0.89      0.89      5196\n",
      "weighted avg       0.90      0.89      0.89      5196\n",
      "              precision    recall  f1-score   support\n",
      "\n",
      "           0       0.94      0.84      0.89      2599\n",
      "           1       0.85      0.95      0.90      2597\n",
      "\n",
      "    accuracy                           0.89      5196\n",
      "   macro avg       0.90      0.89      0.89      5196\n",
      "weighted avg       0.90      0.89      0.89      5196\n",
      "              precision    recall  f1-score   support\n",
      "\n",
      "           0       0.94      0.84      0.89      2599\n",
      "           1       0.85      0.95      0.90      2597\n",
      "\n",
      "    accuracy                           0.89      5196\n",
      "   macro avg       0.90      0.89      0.89      5196\n",
      "weighted avg       0.90      0.89      0.89      5196\n",
      "              precision    recall  f1-score   support\n",
      "\n",
      "           0       0.94      0.84      0.89      2599\n",
      "           1       0.85      0.95      0.90      2597\n",
      "\n",
      "    accuracy                           0.89      5196\n",
      "   macro avg       0.90      0.89      0.89      5196\n",
      "weighted avg       0.90      0.89      0.89      5196\n",
      "              precision    recall  f1-score   support\n",
      "\n",
      "           0       0.94      0.84      0.89      2599\n",
      "           1       0.85      0.95      0.90      2597\n",
      "\n",
      "    accuracy                           0.89      5196\n",
      "   macro avg       0.90      0.89      0.89      5196\n",
      "weighted avg       0.90      0.89      0.89      5196\n",
      "              precision    recall  f1-score   support\n",
      "\n",
      "           0       0.94      0.84      0.89      2599\n",
      "           1       0.85      0.95      0.90      2597\n",
      "\n",
      "    accuracy                           0.89      5196\n",
      "   macro avg       0.90      0.89      0.89      5196\n",
      "weighted avg       0.90      0.89      0.89      5196\n",
      "              precision    recall  f1-score   support\n",
      "\n",
      "           0       0.94      0.84      0.89      2599\n",
      "           1       0.85      0.95      0.90      2597\n",
      "\n",
      "    accuracy                           0.89      5196\n",
      "   macro avg       0.90      0.89      0.89      5196\n",
      "weighted avg       0.90      0.89      0.89      5196\n",
      "              precision    recall  f1-score   support\n",
      "\n",
      "           0       0.94      0.84      0.89      2599\n",
      "           1       0.85      0.95      0.90      2597\n",
      "\n",
      "    accuracy                           0.89      5196\n",
      "   macro avg       0.90      0.89      0.89      5196\n",
      "weighted avg       0.90      0.89      0.89      5196\n",
      "              precision    recall  f1-score   support\n",
      "\n",
      "           0       0.94      0.84      0.89      2599\n",
      "           1       0.85      0.95      0.90      2597\n",
      "\n",
      "    accuracy                           0.89      5196\n",
      "   macro avg       0.90      0.89      0.89      5196\n",
      "weighted avg       0.90      0.89      0.89      5196\n",
      "              precision    recall  f1-score   support\n",
      "\n",
      "           0       0.94      0.84      0.89      2599\n",
      "           1       0.85      0.95      0.90      2597\n",
      "\n",
      "    accuracy                           0.89      5196\n",
      "   macro avg       0.90      0.89      0.89      5196\n",
      "weighted avg       0.90      0.89      0.89      5196\n",
      "              precision    recall  f1-score   support\n",
      "\n",
      "           0       0.94      0.84      0.89      2599\n",
      "           1       0.85      0.95      0.90      2597\n",
      "\n",
      "    accuracy                           0.89      5196\n",
      "   macro avg       0.90      0.89      0.89      5196\n",
      "weighted avg       0.90      0.89      0.89      5196\n",
      "              precision    recall  f1-score   support\n",
      "\n",
      "           0       0.94      0.84      0.89      2599\n",
      "           1       0.85      0.95      0.90      2597\n",
      "\n",
      "    accuracy                           0.89      5196\n",
      "   macro avg       0.90      0.89      0.89      5196\n",
      "weighted avg       0.90      0.89      0.89      5196\n",
      "              precision    recall  f1-score   support\n",
      "\n",
      "           0       0.94      0.84      0.89      2599\n",
      "           1       0.85      0.95      0.90      2597\n",
      "\n",
      "    accuracy                           0.89      5196\n",
      "   macro avg       0.90      0.89      0.89      5196\n",
      "weighted avg       0.90      0.89      0.89      5196\n",
      "              precision    recall  f1-score   support\n",
      "\n",
      "           0       0.94      0.84      0.89      2599\n",
      "           1       0.85      0.95      0.90      2597\n",
      "\n",
      "    accuracy                           0.89      5196\n",
      "   macro avg       0.90      0.89      0.89      5196\n",
      "weighted avg       0.90      0.89      0.89      5196\n",
      "              precision    recall  f1-score   support\n",
      "\n",
      "           0       0.94      0.84      0.89      2599\n",
      "           1       0.85      0.95      0.90      2597\n",
      "\n",
      "    accuracy                           0.89      5196\n",
      "   macro avg       0.90      0.89      0.89      5196\n",
      "weighted avg       0.90      0.89      0.89      5196\n",
      "              precision    recall  f1-score   support\n",
      "\n",
      "           0       0.94      0.84      0.89      2599\n",
      "           1       0.85      0.95      0.90      2597\n",
      "\n",
      "    accuracy                           0.89      5196\n",
      "   macro avg       0.90      0.89      0.89      5196\n",
      "weighted avg       0.90      0.89      0.89      5196\n",
      "              precision    recall  f1-score   support\n",
      "\n",
      "           0       0.94      0.84      0.89      2599\n",
      "           1       0.85      0.95      0.90      2597\n",
      "\n",
      "    accuracy                           0.89      5196\n",
      "   macro avg       0.90      0.89      0.89      5196\n",
      "weighted avg       0.90      0.89      0.89      5196\n",
      "              precision    recall  f1-score   support\n",
      "\n",
      "           0       0.94      0.84      0.89      2599\n",
      "           1       0.85      0.95      0.90      2597\n",
      "\n",
      "    accuracy                           0.89      5196\n",
      "   macro avg       0.90      0.89      0.89      5196\n",
      "weighted avg       0.90      0.89      0.89      5196\n",
      "              precision    recall  f1-score   support\n",
      "\n",
      "           0       0.94      0.84      0.89      2599\n",
      "           1       0.85      0.95      0.90      2597\n",
      "\n",
      "    accuracy                           0.89      5196\n",
      "   macro avg       0.90      0.89      0.89      5196\n",
      "weighted avg       0.90      0.89      0.89      5196\n",
      "              precision    recall  f1-score   support\n",
      "\n",
      "           0       0.94      0.84      0.89      2599\n",
      "           1       0.85      0.95      0.90      2597\n",
      "\n",
      "    accuracy                           0.89      5196\n",
      "   macro avg       0.90      0.89      0.89      5196\n",
      "weighted avg       0.90      0.89      0.89      5196\n",
      "              precision    recall  f1-score   support\n",
      "\n",
      "           0       0.94      0.84      0.89      2599\n",
      "           1       0.85      0.95      0.90      2597\n",
      "\n",
      "    accuracy                           0.89      5196\n",
      "   macro avg       0.90      0.89      0.89      5196\n",
      "weighted avg       0.90      0.89      0.89      5196\n",
      "              precision    recall  f1-score   support\n",
      "\n",
      "           0       0.94      0.84      0.89      2599\n",
      "           1       0.85      0.95      0.90      2597\n",
      "\n",
      "    accuracy                           0.89      5196\n",
      "   macro avg       0.90      0.89      0.89      5196\n",
      "weighted avg       0.90      0.89      0.89      5196\n",
      "              precision    recall  f1-score   support\n",
      "\n",
      "           0       0.94      0.84      0.89      2599\n",
      "           1       0.85      0.95      0.90      2597\n",
      "\n",
      "    accuracy                           0.89      5196\n",
      "   macro avg       0.90      0.89      0.89      5196\n",
      "weighted avg       0.90      0.89      0.89      5196\n",
      "              precision    recall  f1-score   support\n",
      "\n",
      "           0       0.94      0.84      0.89      2599\n",
      "           1       0.85      0.95      0.90      2597\n",
      "\n",
      "    accuracy                           0.89      5196\n",
      "   macro avg       0.90      0.89      0.89      5196\n",
      "weighted avg       0.90      0.89      0.89      5196\n",
      "              precision    recall  f1-score   support\n",
      "\n",
      "           0       0.94      0.84      0.89      2599\n",
      "           1       0.85      0.95      0.90      2597\n",
      "\n",
      "    accuracy                           0.89      5196\n",
      "   macro avg       0.90      0.89      0.89      5196\n",
      "weighted avg       0.90      0.89      0.89      5196\n",
      "              precision    recall  f1-score   support\n",
      "\n",
      "           0       0.94      0.84      0.89      2599\n",
      "           1       0.85      0.95      0.90      2597\n",
      "\n",
      "    accuracy                           0.89      5196\n",
      "   macro avg       0.90      0.89      0.89      5196\n",
      "weighted avg       0.90      0.89      0.89      5196\n",
      "              precision    recall  f1-score   support\n",
      "\n",
      "           0       0.94      0.84      0.89      2599\n",
      "           1       0.85      0.95      0.90      2597\n",
      "\n",
      "    accuracy                           0.89      5196\n",
      "   macro avg       0.90      0.89      0.89      5196\n",
      "weighted avg       0.90      0.89      0.89      5196\n",
      "              precision    recall  f1-score   support\n",
      "\n",
      "           0       0.94      0.84      0.89      2599\n",
      "           1       0.85      0.95      0.90      2597\n",
      "\n",
      "    accuracy                           0.89      5196\n",
      "   macro avg       0.90      0.89      0.89      5196\n",
      "weighted avg       0.90      0.89      0.89      5196\n",
      "              precision    recall  f1-score   support\n",
      "\n",
      "           0       0.94      0.84      0.89      2599\n",
      "           1       0.85      0.95      0.90      2597\n",
      "\n",
      "    accuracy                           0.89      5196\n",
      "   macro avg       0.90      0.89      0.89      5196\n",
      "weighted avg       0.90      0.89      0.89      5196\n",
      "              precision    recall  f1-score   support\n",
      "\n",
      "           0       0.94      0.84      0.89      2599\n",
      "           1       0.85      0.95      0.90      2597\n",
      "\n",
      "    accuracy                           0.89      5196\n",
      "   macro avg       0.90      0.89      0.89      5196\n",
      "weighted avg       0.90      0.89      0.89      5196\n",
      "              precision    recall  f1-score   support\n",
      "\n",
      "           0       0.94      0.84      0.89      2599\n",
      "           1       0.85      0.95      0.90      2597\n",
      "\n",
      "    accuracy                           0.89      5196\n",
      "   macro avg       0.90      0.89      0.89      5196\n",
      "weighted avg       0.90      0.89      0.89      5196\n",
      "              precision    recall  f1-score   support\n",
      "\n",
      "           0       0.94      0.84      0.89      2599\n",
      "           1       0.85      0.95      0.90      2597\n",
      "\n",
      "    accuracy                           0.89      5196\n",
      "   macro avg       0.90      0.89      0.89      5196\n",
      "weighted avg       0.90      0.89      0.89      5196\n",
      "              precision    recall  f1-score   support\n",
      "\n",
      "           0       0.94      0.84      0.89      2599\n",
      "           1       0.85      0.95      0.90      2597\n",
      "\n",
      "    accuracy                           0.89      5196\n",
      "   macro avg       0.90      0.89      0.89      5196\n",
      "weighted avg       0.90      0.89      0.89      5196\n",
      "              precision    recall  f1-score   support\n",
      "\n",
      "           0       0.94      0.84      0.89      2599\n",
      "           1       0.85      0.95      0.90      2597\n",
      "\n",
      "    accuracy                           0.89      5196\n",
      "   macro avg       0.90      0.89      0.89      5196\n",
      "weighted avg       0.90      0.89      0.89      5196\n",
      "              precision    recall  f1-score   support\n",
      "\n",
      "           0       0.94      0.84      0.89      2599\n",
      "           1       0.85      0.95      0.90      2597\n",
      "\n",
      "    accuracy                           0.89      5196\n",
      "   macro avg       0.90      0.89      0.89      5196\n",
      "weighted avg       0.90      0.89      0.89      5196\n",
      "              precision    recall  f1-score   support\n",
      "\n",
      "           0       0.94      0.84      0.89      2599\n",
      "           1       0.85      0.95      0.90      2597\n",
      "\n",
      "    accuracy                           0.89      5196\n",
      "   macro avg       0.90      0.89      0.89      5196\n",
      "weighted avg       0.90      0.89      0.89      5196\n",
      "              precision    recall  f1-score   support\n",
      "\n",
      "           0       0.94      0.84      0.89      2599\n",
      "           1       0.85      0.95      0.90      2597\n",
      "\n",
      "    accuracy                           0.89      5196\n",
      "   macro avg       0.90      0.89      0.89      5196\n",
      "weighted avg       0.90      0.89      0.89      5196\n",
      "              precision    recall  f1-score   support\n",
      "\n",
      "           0       0.94      0.84      0.89      2599\n",
      "           1       0.85      0.95      0.90      2597\n",
      "\n",
      "    accuracy                           0.89      5196\n",
      "   macro avg       0.90      0.89      0.89      5196\n",
      "weighted avg       0.90      0.89      0.89      5196\n",
      "              precision    recall  f1-score   support\n",
      "\n",
      "           0       0.94      0.84      0.89      2599\n",
      "           1       0.85      0.95      0.90      2597\n",
      "\n",
      "    accuracy                           0.89      5196\n",
      "   macro avg       0.90      0.89      0.89      5196\n",
      "weighted avg       0.90      0.89      0.89      5196\n",
      "              precision    recall  f1-score   support\n",
      "\n",
      "           0       0.94      0.84      0.89      2599\n",
      "           1       0.85      0.95      0.90      2597\n",
      "\n",
      "    accuracy                           0.89      5196\n",
      "   macro avg       0.90      0.89      0.89      5196\n",
      "weighted avg       0.90      0.89      0.89      5196\n",
      "              precision    recall  f1-score   support\n",
      "\n",
      "           0       0.94      0.84      0.89      2599\n",
      "           1       0.85      0.95      0.90      2597\n",
      "\n",
      "    accuracy                           0.89      5196\n",
      "   macro avg       0.90      0.89      0.89      5196\n",
      "weighted avg       0.90      0.89      0.89      5196\n",
      "              precision    recall  f1-score   support\n",
      "\n",
      "           0       0.94      0.84      0.89      2599\n",
      "           1       0.85      0.95      0.90      2597\n",
      "\n",
      "    accuracy                           0.89      5196\n",
      "   macro avg       0.90      0.89      0.89      5196\n",
      "weighted avg       0.90      0.89      0.89      5196\n",
      "              precision    recall  f1-score   support\n",
      "\n",
      "           0       0.94      0.84      0.89      2599\n",
      "           1       0.85      0.95      0.90      2597\n",
      "\n",
      "    accuracy                           0.89      5196\n",
      "   macro avg       0.90      0.89      0.89      5196\n",
      "weighted avg       0.90      0.89      0.89      5196\n",
      "              precision    recall  f1-score   support\n",
      "\n",
      "           0       0.94      0.84      0.89      2599\n",
      "           1       0.85      0.95      0.90      2597\n",
      "\n",
      "    accuracy                           0.89      5196\n",
      "   macro avg       0.90      0.89      0.89      5196\n",
      "weighted avg       0.90      0.89      0.89      5196\n",
      "              precision    recall  f1-score   support\n",
      "\n",
      "           0       0.94      0.84      0.89      2599\n",
      "           1       0.85      0.95      0.90      2597\n",
      "\n",
      "    accuracy                           0.89      5196\n",
      "   macro avg       0.90      0.89      0.89      5196\n",
      "weighted avg       0.90      0.89      0.89      5196\n",
      "              precision    recall  f1-score   support\n",
      "\n",
      "           0       0.94      0.84      0.89      2599\n",
      "           1       0.85      0.95      0.90      2597\n",
      "\n",
      "    accuracy                           0.89      5196\n",
      "   macro avg       0.90      0.89      0.89      5196\n",
      "weighted avg       0.90      0.89      0.89      5196\n",
      "              precision    recall  f1-score   support\n",
      "\n",
      "           0       0.94      0.84      0.89      2599\n",
      "           1       0.85      0.95      0.90      2597\n",
      "\n",
      "    accuracy                           0.89      5196\n",
      "   macro avg       0.90      0.89      0.89      5196\n",
      "weighted avg       0.90      0.89      0.89      5196\n",
      "              precision    recall  f1-score   support\n",
      "\n",
      "           0       0.94      0.84      0.89      2599\n",
      "           1       0.85      0.95      0.90      2597\n",
      "\n",
      "    accuracy                           0.89      5196\n",
      "   macro avg       0.90      0.89      0.89      5196\n",
      "weighted avg       0.90      0.89      0.89      5196\n",
      "              precision    recall  f1-score   support\n",
      "\n",
      "           0       0.94      0.84      0.89      2599\n",
      "           1       0.85      0.95      0.90      2597\n",
      "\n",
      "    accuracy                           0.89      5196\n",
      "   macro avg       0.90      0.89      0.89      5196\n",
      "weighted avg       0.90      0.89      0.89      5196\n",
      "              precision    recall  f1-score   support\n",
      "\n",
      "           0       0.94      0.84      0.89      2599\n",
      "           1       0.85      0.95      0.90      2597\n",
      "\n",
      "    accuracy                           0.89      5196\n",
      "   macro avg       0.90      0.89      0.89      5196\n",
      "weighted avg       0.90      0.89      0.89      5196\n",
      "              precision    recall  f1-score   support\n",
      "\n",
      "           0       0.94      0.84      0.89      2599\n",
      "           1       0.85      0.95      0.90      2597\n",
      "\n",
      "    accuracy                           0.89      5196\n",
      "   macro avg       0.90      0.89      0.89      5196\n",
      "weighted avg       0.90      0.89      0.89      5196\n",
      "              precision    recall  f1-score   support\n",
      "\n",
      "           0       0.94      0.84      0.89      2599\n",
      "           1       0.85      0.95      0.90      2597\n",
      "\n",
      "    accuracy                           0.89      5196\n",
      "   macro avg       0.90      0.89      0.89      5196\n",
      "weighted avg       0.90      0.89      0.89      5196\n",
      "              precision    recall  f1-score   support\n",
      "\n",
      "           0       0.94      0.84      0.89      2599\n",
      "           1       0.85      0.95      0.90      2597\n",
      "\n",
      "    accuracy                           0.89      5196\n",
      "   macro avg       0.90      0.89      0.89      5196\n",
      "weighted avg       0.90      0.89      0.89      5196\n",
      "              precision    recall  f1-score   support\n",
      "\n",
      "           0       0.94      0.84      0.89      2599\n",
      "           1       0.85      0.95      0.90      2597\n",
      "\n",
      "    accuracy                           0.89      5196\n",
      "   macro avg       0.90      0.89      0.89      5196\n",
      "weighted avg       0.90      0.89      0.89      5196\n",
      "              precision    recall  f1-score   support\n",
      "\n",
      "           0       0.94      0.84      0.89      2599\n",
      "           1       0.85      0.95      0.90      2597\n",
      "\n",
      "    accuracy                           0.89      5196\n",
      "   macro avg       0.90      0.89      0.89      5196\n",
      "weighted avg       0.90      0.89      0.89      5196\n",
      "              precision    recall  f1-score   support\n",
      "\n",
      "           0       0.94      0.84      0.89      2599\n",
      "           1       0.85      0.95      0.90      2597\n",
      "\n",
      "    accuracy                           0.89      5196\n",
      "   macro avg       0.90      0.89      0.89      5196\n",
      "weighted avg       0.90      0.89      0.89      5196\n",
      "              precision    recall  f1-score   support\n",
      "\n",
      "           0       0.94      0.84      0.89      2599\n",
      "           1       0.85      0.95      0.90      2597\n",
      "\n",
      "    accuracy                           0.89      5196\n",
      "   macro avg       0.90      0.89      0.89      5196\n",
      "weighted avg       0.90      0.89      0.89      5196\n",
      "              precision    recall  f1-score   support\n",
      "\n",
      "           0       0.94      0.84      0.89      2599\n",
      "           1       0.85      0.95      0.90      2597\n",
      "\n",
      "    accuracy                           0.89      5196\n",
      "   macro avg       0.90      0.89      0.89      5196\n",
      "weighted avg       0.90      0.89      0.89      5196\n",
      "              precision    recall  f1-score   support\n",
      "\n",
      "           0       0.94      0.84      0.89      2599\n",
      "           1       0.85      0.95      0.90      2597\n",
      "\n",
      "    accuracy                           0.89      5196\n",
      "   macro avg       0.90      0.89      0.89      5196\n",
      "weighted avg       0.90      0.89      0.89      5196\n",
      "              precision    recall  f1-score   support\n",
      "\n",
      "           0       0.94      0.84      0.89      2599\n",
      "           1       0.85      0.95      0.90      2597\n",
      "\n",
      "    accuracy                           0.89      5196\n",
      "   macro avg       0.90      0.89      0.89      5196\n",
      "weighted avg       0.90      0.89      0.89      5196\n",
      "              precision    recall  f1-score   support\n",
      "\n",
      "           0       0.94      0.84      0.89      2599\n",
      "           1       0.85      0.95      0.90      2597\n",
      "\n",
      "    accuracy                           0.89      5196\n",
      "   macro avg       0.90      0.89      0.89      5196\n",
      "weighted avg       0.90      0.89      0.89      5196\n",
      "              precision    recall  f1-score   support\n",
      "\n",
      "           0       0.94      0.84      0.89      2599\n",
      "           1       0.85      0.95      0.90      2597\n",
      "\n",
      "    accuracy                           0.89      5196\n",
      "   macro avg       0.90      0.89      0.89      5196\n",
      "weighted avg       0.90      0.89      0.89      5196\n",
      "              precision    recall  f1-score   support\n",
      "\n",
      "           0       0.94      0.84      0.89      2599\n",
      "           1       0.85      0.95      0.90      2597\n",
      "\n",
      "    accuracy                           0.89      5196\n",
      "   macro avg       0.90      0.89      0.89      5196\n",
      "weighted avg       0.90      0.89      0.89      5196\n",
      "              precision    recall  f1-score   support\n",
      "\n",
      "           0       0.94      0.84      0.89      2599\n",
      "           1       0.85      0.95      0.90      2597\n",
      "\n",
      "    accuracy                           0.89      5196\n",
      "   macro avg       0.90      0.89      0.89      5196\n",
      "weighted avg       0.90      0.89      0.89      5196\n",
      "              precision    recall  f1-score   support\n",
      "\n",
      "           0       0.94      0.84      0.89      2599\n",
      "           1       0.85      0.95      0.90      2597\n",
      "\n",
      "    accuracy                           0.89      5196\n",
      "   macro avg       0.90      0.89      0.89      5196\n",
      "weighted avg       0.90      0.89      0.89      5196\n",
      "              precision    recall  f1-score   support\n",
      "\n",
      "           0       0.94      0.84      0.89      2599\n",
      "           1       0.85      0.95      0.90      2597\n",
      "\n",
      "    accuracy                           0.89      5196\n",
      "   macro avg       0.90      0.89      0.89      5196\n",
      "weighted avg       0.90      0.89      0.89      5196\n",
      "              precision    recall  f1-score   support\n",
      "\n",
      "           0       0.94      0.84      0.89      2599\n",
      "           1       0.85      0.95      0.90      2597\n",
      "\n",
      "    accuracy                           0.89      5196\n",
      "   macro avg       0.90      0.89      0.89      5196\n",
      "weighted avg       0.90      0.89      0.89      5196\n",
      "              precision    recall  f1-score   support\n",
      "\n",
      "           0       0.94      0.84      0.89      2599\n",
      "           1       0.85      0.95      0.90      2597\n",
      "\n",
      "    accuracy                           0.89      5196\n",
      "   macro avg       0.90      0.89      0.89      5196\n",
      "weighted avg       0.90      0.89      0.89      5196\n",
      "              precision    recall  f1-score   support\n",
      "\n",
      "           0       0.94      0.84      0.89      2599\n",
      "           1       0.85      0.95      0.90      2597\n",
      "\n",
      "    accuracy                           0.89      5196\n",
      "   macro avg       0.90      0.89      0.89      5196\n",
      "weighted avg       0.90      0.89      0.89      5196\n",
      "              precision    recall  f1-score   support\n",
      "\n",
      "           0       0.94      0.84      0.89      2599\n",
      "           1       0.85      0.95      0.90      2597\n",
      "\n",
      "    accuracy                           0.89      5196\n",
      "   macro avg       0.90      0.89      0.89      5196\n",
      "weighted avg       0.90      0.89      0.89      5196\n",
      "              precision    recall  f1-score   support\n",
      "\n",
      "           0       0.94      0.84      0.89      2599\n",
      "           1       0.85      0.95      0.90      2597\n",
      "\n",
      "    accuracy                           0.89      5196\n",
      "   macro avg       0.90      0.89      0.89      5196\n",
      "weighted avg       0.90      0.89      0.89      5196\n",
      "              precision    recall  f1-score   support\n",
      "\n",
      "           0       0.94      0.84      0.89      2599\n",
      "           1       0.85      0.95      0.90      2597\n",
      "\n",
      "    accuracy                           0.89      5196\n",
      "   macro avg       0.90      0.89      0.89      5196\n",
      "weighted avg       0.90      0.89      0.89      5196\n",
      "              precision    recall  f1-score   support\n",
      "\n",
      "           0       0.94      0.84      0.89      2599\n",
      "           1       0.85      0.95      0.90      2597\n",
      "\n",
      "    accuracy                           0.89      5196\n",
      "   macro avg       0.90      0.89      0.89      5196\n",
      "weighted avg       0.90      0.89      0.89      5196\n",
      "              precision    recall  f1-score   support\n",
      "\n",
      "           0       0.94      0.84      0.89      2599\n",
      "           1       0.85      0.95      0.90      2597\n",
      "\n",
      "    accuracy                           0.89      5196\n",
      "   macro avg       0.90      0.89      0.89      5196\n",
      "weighted avg       0.90      0.89      0.89      5196\n",
      "              precision    recall  f1-score   support\n",
      "\n",
      "           0       0.94      0.84      0.89      2599\n",
      "           1       0.85      0.95      0.90      2597\n",
      "\n",
      "    accuracy                           0.89      5196\n",
      "   macro avg       0.90      0.89      0.89      5196\n",
      "weighted avg       0.90      0.89      0.89      5196\n",
      "              precision    recall  f1-score   support\n",
      "\n",
      "           0       0.94      0.84      0.89      2599\n",
      "           1       0.85      0.95      0.90      2597\n",
      "\n",
      "    accuracy                           0.89      5196\n",
      "   macro avg       0.90      0.89      0.89      5196\n",
      "weighted avg       0.90      0.89      0.89      5196\n",
      "              precision    recall  f1-score   support\n",
      "\n",
      "           0       0.94      0.84      0.89      2599\n",
      "           1       0.85      0.95      0.90      2597\n",
      "\n",
      "    accuracy                           0.89      5196\n",
      "   macro avg       0.90      0.89      0.89      5196\n",
      "weighted avg       0.90      0.89      0.89      5196\n",
      "              precision    recall  f1-score   support\n",
      "\n",
      "           0       0.94      0.84      0.89      2599\n",
      "           1       0.85      0.95      0.90      2597\n",
      "\n",
      "    accuracy                           0.89      5196\n",
      "   macro avg       0.90      0.89      0.89      5196\n",
      "weighted avg       0.90      0.89      0.89      5196\n",
      "              precision    recall  f1-score   support\n",
      "\n",
      "           0       0.94      0.84      0.89      2599\n",
      "           1       0.85      0.95      0.90      2597\n",
      "\n",
      "    accuracy                           0.89      5196\n",
      "   macro avg       0.90      0.89      0.89      5196\n",
      "weighted avg       0.90      0.89      0.89      5196\n",
      "              precision    recall  f1-score   support\n",
      "\n",
      "           0       0.94      0.84      0.89      2599\n",
      "           1       0.85      0.95      0.90      2597\n",
      "\n",
      "    accuracy                           0.89      5196\n",
      "   macro avg       0.90      0.89      0.89      5196\n",
      "weighted avg       0.90      0.89      0.89      5196\n",
      "              precision    recall  f1-score   support\n",
      "\n",
      "           0       0.94      0.84      0.89      2599\n",
      "           1       0.85      0.95      0.90      2597\n",
      "\n",
      "    accuracy                           0.89      5196\n",
      "   macro avg       0.90      0.89      0.89      5196\n",
      "weighted avg       0.90      0.89      0.89      5196\n",
      "              precision    recall  f1-score   support\n",
      "\n",
      "           0       0.94      0.84      0.89      2599\n",
      "           1       0.85      0.95      0.90      2597\n",
      "\n",
      "    accuracy                           0.89      5196\n",
      "   macro avg       0.90      0.89      0.89      5196\n",
      "weighted avg       0.90      0.89      0.89      5196\n",
      "              precision    recall  f1-score   support\n",
      "\n",
      "           0       0.94      0.84      0.89      2599\n",
      "           1       0.85      0.95      0.90      2597\n",
      "\n",
      "    accuracy                           0.89      5196\n",
      "   macro avg       0.90      0.89      0.89      5196\n",
      "weighted avg       0.90      0.89      0.89      5196\n",
      "              precision    recall  f1-score   support\n",
      "\n",
      "           0       0.94      0.84      0.89      2599\n",
      "           1       0.85      0.95      0.90      2597\n",
      "\n",
      "    accuracy                           0.89      5196\n",
      "   macro avg       0.90      0.89      0.89      5196\n",
      "weighted avg       0.90      0.89      0.89      5196\n",
      "              precision    recall  f1-score   support\n",
      "\n",
      "           0       0.94      0.84      0.89      2599\n",
      "           1       0.85      0.95      0.90      2597\n",
      "\n",
      "    accuracy                           0.89      5196\n",
      "   macro avg       0.90      0.89      0.89      5196\n",
      "weighted avg       0.90      0.89      0.89      5196\n",
      "              precision    recall  f1-score   support\n",
      "\n",
      "           0       0.94      0.84      0.89      2599\n",
      "           1       0.85      0.95      0.90      2597\n",
      "\n",
      "    accuracy                           0.89      5196\n",
      "   macro avg       0.90      0.89      0.89      5196\n",
      "weighted avg       0.90      0.89      0.89      5196\n",
      "              precision    recall  f1-score   support\n",
      "\n",
      "           0       0.94      0.84      0.89      2599\n",
      "           1       0.85      0.95      0.90      2597\n",
      "\n",
      "    accuracy                           0.89      5196\n",
      "   macro avg       0.90      0.89      0.89      5196\n",
      "weighted avg       0.90      0.89      0.89      5196\n",
      "              precision    recall  f1-score   support\n",
      "\n",
      "           0       0.94      0.84      0.89      2599\n",
      "           1       0.85      0.95      0.90      2597\n",
      "\n",
      "    accuracy                           0.89      5196\n",
      "   macro avg       0.90      0.89      0.89      5196\n",
      "weighted avg       0.90      0.89      0.89      5196\n",
      "              precision    recall  f1-score   support\n",
      "\n",
      "           0       0.94      0.84      0.89      2599\n",
      "           1       0.85      0.95      0.90      2597\n",
      "\n",
      "    accuracy                           0.89      5196\n",
      "   macro avg       0.90      0.89      0.89      5196\n",
      "weighted avg       0.90      0.89      0.89      5196\n",
      "              precision    recall  f1-score   support\n",
      "\n",
      "           0       0.94      0.84      0.89      2599\n",
      "           1       0.85      0.95      0.90      2597\n",
      "\n",
      "    accuracy                           0.89      5196\n",
      "   macro avg       0.90      0.89      0.89      5196\n",
      "weighted avg       0.90      0.89      0.89      5196\n",
      "              precision    recall  f1-score   support\n",
      "\n",
      "           0       0.94      0.84      0.89      2599\n",
      "           1       0.85      0.95      0.90      2597\n",
      "\n",
      "    accuracy                           0.89      5196\n",
      "   macro avg       0.90      0.89      0.89      5196\n",
      "weighted avg       0.90      0.89      0.89      5196\n",
      "              precision    recall  f1-score   support\n",
      "\n",
      "           0       0.94      0.84      0.89      2599\n",
      "           1       0.85      0.95      0.90      2597\n",
      "\n",
      "    accuracy                           0.89      5196\n",
      "   macro avg       0.90      0.89      0.89      5196\n",
      "weighted avg       0.90      0.89      0.89      5196\n",
      "              precision    recall  f1-score   support\n",
      "\n",
      "           0       0.94      0.84      0.89      2599\n",
      "           1       0.85      0.95      0.90      2597\n",
      "\n",
      "    accuracy                           0.89      5196\n",
      "   macro avg       0.90      0.89      0.89      5196\n",
      "weighted avg       0.90      0.89      0.89      5196\n",
      "              precision    recall  f1-score   support\n",
      "\n",
      "           0       0.94      0.84      0.89      2599\n",
      "           1       0.85      0.95      0.90      2597\n",
      "\n",
      "    accuracy                           0.89      5196\n",
      "   macro avg       0.90      0.89      0.89      5196\n",
      "weighted avg       0.90      0.89      0.89      5196\n",
      "              precision    recall  f1-score   support\n",
      "\n",
      "           0       0.94      0.84      0.89      2599\n",
      "           1       0.85      0.95      0.90      2597\n",
      "\n",
      "    accuracy                           0.89      5196\n",
      "   macro avg       0.90      0.89      0.89      5196\n",
      "weighted avg       0.90      0.89      0.89      5196\n",
      "              precision    recall  f1-score   support\n",
      "\n",
      "           0       0.94      0.84      0.89      2599\n",
      "           1       0.85      0.95      0.90      2597\n",
      "\n",
      "    accuracy                           0.89      5196\n",
      "   macro avg       0.90      0.89      0.89      5196\n",
      "weighted avg       0.90      0.89      0.89      5196\n",
      "              precision    recall  f1-score   support\n",
      "\n",
      "           0       0.94      0.84      0.89      2599\n",
      "           1       0.85      0.95      0.90      2597\n",
      "\n",
      "    accuracy                           0.89      5196\n",
      "   macro avg       0.90      0.89      0.89      5196\n",
      "weighted avg       0.90      0.89      0.89      5196\n",
      "              precision    recall  f1-score   support\n",
      "\n",
      "           0       0.94      0.84      0.89      2599\n",
      "           1       0.85      0.95      0.90      2597\n",
      "\n",
      "    accuracy                           0.89      5196\n",
      "   macro avg       0.90      0.89      0.89      5196\n",
      "weighted avg       0.90      0.89      0.89      5196\n",
      "\n"
     ]
    }
   ],
   "source": [
    "x_train, x_test, y_train, y_test= train_test_split(X,y,test_size=0.12,random_state=40) \n",
    "rf_final=RandomForestClassifier(criterion= 'gini', max_depth= 15, max_features= 'log2')\n",
    "rf_final.fit(x_train,y_train)\n",
    "pred=rf_final.predict(x_test)\n",
    "acc=rf_final.score(x_test,y_test)\n",
    "\n",
    "print(\"Accuracy\",accuracy_score(y_test,pred)*100)\n",
    "print(confusion_matrix(y_test,pred)*100)\n",
    "print(classification_report(y_test,pred)*100)"
   ]
  },
  {
   "cell_type": "markdown",
   "id": "930d59a6",
   "metadata": {},
   "source": [
    "by using hyperparamter tunning the accuracy is89.22%"
   ]
  },
  {
   "cell_type": "markdown",
   "id": "917a51bb",
   "metadata": {},
   "source": [
    "# plot the ROC corve"
   ]
  },
  {
   "cell_type": "code",
   "execution_count": 117,
   "id": "238f36c6",
   "metadata": {},
   "outputs": [],
   "source": [
    "y_pred=rf.predict(x_test)"
   ]
  },
  {
   "cell_type": "code",
   "execution_count": 118,
   "id": "17a4aea7",
   "metadata": {},
   "outputs": [],
   "source": [
    "from sklearn.metrics import accuracy_score,confusion_matrix,roc_curve,roc_auc_score\n",
    "tpr,fpr,thresholds=roc_curve(y_test,y_pred)"
   ]
  },
  {
   "cell_type": "code",
   "execution_count": 119,
   "id": "15957657",
   "metadata": {},
   "outputs": [
    {
     "data": {
      "text/plain": [
       "(array([0.        , 0.93916057, 1.        ]),\n",
       " array([0.        , 0.10196229, 1.        ]),\n",
       " array([2, 1, 0]))"
      ]
     },
     "execution_count": 119,
     "metadata": {},
     "output_type": "execute_result"
    }
   ],
   "source": [
    "fpr,tpr,thresholds"
   ]
  },
  {
   "cell_type": "code",
   "execution_count": 120,
   "id": "0c9343af",
   "metadata": {},
   "outputs": [
    {
     "name": "stdout",
     "output_type": "stream",
     "text": [
      "threshold [2 1 0]\n",
      "False positive rate [0.         0.93916057 1.        ]\n",
      "True positive rate [0.         0.10196229 1.        ]\n"
     ]
    }
   ],
   "source": [
    "print(\"threshold\",thresholds)\n",
    "print(\"False positive rate\",fpr)\n",
    "print('True positive rate',tpr)"
   ]
  },
  {
   "cell_type": "code",
   "execution_count": 121,
   "id": "0bbaf867",
   "metadata": {},
   "outputs": [
    {
     "data": {
      "image/png": "[encoded data removed]",
      "text/plain": [
       "<Figure size 432x288 with 1 Axes>"
      ]
     },
     "metadata": {
      "needs_background": "light"
     },
     "output_type": "display_data"
    }
   ],
   "source": [
    "plt.plot(fpr,tpr,color='orange',label='ROC')\n",
    "plt.plot([0,1],[0,1],color='darkblue',linestyle='--')\n",
    "plt.xlabel('False positive rate')\n",
    "plt.ylabel('True positive rate')\n",
    "plt.title('Reciever operating characteristics(ROC) curve')\n",
    "plt.legend()\n",
    "plt.show()"
   ]
  },
  {
   "cell_type": "markdown",
   "id": "afd5ef91",
   "metadata": {},
   "source": [
    "# AUC score"
   ]
  },
  {
   "cell_type": "code",
   "execution_count": 122,
   "id": "094116b1",
   "metadata": {},
   "outputs": [
    {
     "name": "stdout",
     "output_type": "stream",
     "text": [
      "91.85991383493223\n"
     ]
    }
   ],
   "source": [
    "auc_score=roc_auc_score(y_test,y_pred)\n",
    "print(auc_score*100)"
   ]
  },
  {
   "cell_type": "markdown",
   "id": "d7830015",
   "metadata": {},
   "source": [
    "# Classification Report"
   ]
  },
  {
   "cell_type": "code",
   "execution_count": 124,
   "id": "d856a14a",
   "metadata": {},
   "outputs": [
    {
     "name": "stdout",
     "output_type": "stream",
     "text": [
      "              precision    recall  f1-score   support\n",
      "\n",
      "           0       0.94      0.90      0.92      2599\n",
      "           1       0.90      0.94      0.92      2597\n",
      "\n",
      "    accuracy                           0.92      5196\n",
      "   macro avg       0.92      0.92      0.92      5196\n",
      "weighted avg       0.92      0.92      0.92      5196\n",
      "\n"
     ]
    }
   ],
   "source": [
    "from sklearn.metrics import classification_report\n",
    "print(classification_report(y_test,y_pred))"
   ]
  },
  {
   "cell_type": "markdown",
   "id": "9ac4e004",
   "metadata": {},
   "source": [
    "# saving the model in pickel format"
   ]
  },
  {
   "cell_type": "code",
   "execution_count": 125,
   "id": "e80f4223",
   "metadata": {},
   "outputs": [
    {
     "data": {
      "text/plain": [
       "['census']"
      ]
     },
     "execution_count": 125,
     "metadata": {},
     "output_type": "execute_result"
    }
   ],
   "source": [
    "import joblib\n",
    "joblib.dump(accuracy_score(y_test, pred)*100,\"census\")"
   ]
  },
  {
   "cell_type": "markdown",
   "id": "e2d261e0",
   "metadata": {},
   "source": [
    "# Testing Model with Future Data for output"
   ]
  },
  {
   "cell_type": "code",
   "execution_count": 126,
   "id": "10cd487f",
   "metadata": {},
   "outputs": [
    {
     "data": {
      "text/plain": [
       "Age               0.931927\n",
       "Workclass         1.660919\n",
       "Fnlwgt           -1.292296\n",
       "Education_num     1.290414\n",
       "Marital_status   -0.400318\n",
       "Occupation       -0.480194\n",
       "Relationship     -1.134474\n",
       "Race              0.354516\n",
       "Sex               0.726800\n",
       "Capital_gain     -0.191736\n",
       "Capital_loss     -0.115507\n",
       "Hours_per_week   -2.192978\n",
       "Native_country    0.176740\n",
       "Name: 0, dtype: float64"
      ]
     },
     "execution_count": 126,
     "metadata": {},
     "output_type": "execute_result"
    }
   ],
   "source": [
    "X.iloc[0]"
   ]
  },
  {
   "cell_type": "code",
   "execution_count": 127,
   "id": "bf6ab74a",
   "metadata": {},
   "outputs": [
    {
     "data": {
      "text/plain": [
       "0"
      ]
     },
     "execution_count": 127,
     "metadata": {},
     "output_type": "execute_result"
    }
   ],
   "source": [
    "y.iloc[0]"
   ]
  },
  {
   "cell_type": "markdown",
   "id": "573bee65",
   "metadata": {},
   "source": [
    "we will take exist data as sample data to compare predict output"
   ]
  },
  {
   "cell_type": "code",
   "execution_count": 129,
   "id": "059cc6b3",
   "metadata": {},
   "outputs": [],
   "source": [
    "t=np.array([0.931927,1.660919,-1.292296,1.290414,-0.400318,-0.480194,-1.134474,0.354516,0.726800,-0.191736,-0.115507,-2.192978,0.176740])"
   ]
  },
  {
   "cell_type": "code",
   "execution_count": 130,
   "id": "1a6f6e19",
   "metadata": {},
   "outputs": [
    {
     "data": {
      "text/plain": [
       "(13,)"
      ]
     },
     "execution_count": 130,
     "metadata": {},
     "output_type": "execute_result"
    }
   ],
   "source": [
    "t.shape"
   ]
  },
  {
   "cell_type": "code",
   "execution_count": 131,
   "id": "f59d2451",
   "metadata": {},
   "outputs": [
    {
     "data": {
      "text/plain": [
       "(38096, 13)"
      ]
     },
     "execution_count": 131,
     "metadata": {},
     "output_type": "execute_result"
    }
   ],
   "source": [
    "x_train.shape"
   ]
  },
  {
   "cell_type": "code",
   "execution_count": 132,
   "id": "2c20704a",
   "metadata": {},
   "outputs": [
    {
     "data": {
      "text/plain": [
       "(1, 13)"
      ]
     },
     "execution_count": 132,
     "metadata": {},
     "output_type": "execute_result"
    }
   ],
   "source": [
    "t=t.reshape(1,-1)\n",
    "t.shape"
   ]
  },
  {
   "cell_type": "code",
   "execution_count": 133,
   "id": "cb00956c",
   "metadata": {},
   "outputs": [
    {
     "data": {
      "text/plain": [
       "array([0])"
      ]
     },
     "execution_count": 133,
     "metadata": {},
     "output_type": "execute_result"
    }
   ],
   "source": [
    "rf.predict(t)"
   ]
  },
  {
   "cell_type": "markdown",
   "id": "2a1196af",
   "metadata": {},
   "source": [
    "The predicted Output for Income is matching with Actual otput and predicted output\n",
    "\n",
    "​"
   ]
  },
  {
   "cell_type": "markdown",
   "id": "4f8b1d84",
   "metadata": {},
   "source": [
    "=============================================================================================================================="
   ]
  }
 ],
 "metadata": {
  "kernelspec": {
   "display_name": "Python 3 (ipykernel)",
   "language": "python",
   "name": "python3"
  },
  "language_info": {
   "codemirror_mode": {
    "name": "ipython",
    "version": 3
   },
   "file_extension": ".py",
   "mimetype": "text/x-python",
   "name": "python",
   "nbconvert_exporter": "python",
   "pygments_lexer": "ipython3",
   "version": "3.9.7"
  }
 },
 "nbformat": 4,
 "nbformat_minor": 5
}
