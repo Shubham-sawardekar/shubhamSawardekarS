{
 "cells": [
  {
   "cell_type": "code",
   "execution_count": 545,
   "id": "d785642f",
   "metadata": {},
   "outputs": [],
   "source": [
    "#importing necessary libraries\n",
    "import numpy as np\n",
    "import pandas as pd\n",
    "import matplotlib.pyplot as plt\n",
    "import seaborn as sns\n",
    "import sklearn\n",
    "from sklearn import preprocessing\n",
    "from sklearn.model_selection import train_test_split\n",
    "\n",
    "import warnings\n",
    "warnings.filterwarnings('ignore')\n",
    "#for presenting maximum columns\n",
    "pd.set_option('display.max_columns',None)"
   ]
  },
  {
   "cell_type": "code",
   "execution_count": 546,
   "id": "8c2aab7c",
   "metadata": {},
   "outputs": [
    {
     "data": {
      "text/html": [
       "<div>\n",
       "<style scoped>\n",
       "    .dataframe tbody tr th:only-of-type {\n",
       "        vertical-align: middle;\n",
       "    }\n",
       "\n",
       "    .dataframe tbody tr th {\n",
       "        vertical-align: top;\n",
       "    }\n",
       "\n",
       "    .dataframe thead th {\n",
       "        text-align: right;\n",
       "    }\n",
       "</style>\n",
       "<table border=\"1\" class=\"dataframe\">\n",
       "  <thead>\n",
       "    <tr style=\"text-align: right;\">\n",
       "      <th></th>\n",
       "      <th>Airline</th>\n",
       "      <th>Date_of_Journey</th>\n",
       "      <th>Source</th>\n",
       "      <th>Destination</th>\n",
       "      <th>Route</th>\n",
       "      <th>Dep_Time</th>\n",
       "      <th>Arrival_Time</th>\n",
       "      <th>Duration</th>\n",
       "      <th>Total_Stops</th>\n",
       "      <th>Additional_Info</th>\n",
       "      <th>Price</th>\n",
       "    </tr>\n",
       "  </thead>\n",
       "  <tbody>\n",
       "    <tr>\n",
       "      <th>0</th>\n",
       "      <td>IndiGo</td>\n",
       "      <td>24/03/2019</td>\n",
       "      <td>Banglore</td>\n",
       "      <td>New Delhi</td>\n",
       "      <td>BLR ? DEL</td>\n",
       "      <td>22:20</td>\n",
       "      <td>01:10 22 Mar</td>\n",
       "      <td>2h 50m</td>\n",
       "      <td>non-stop</td>\n",
       "      <td>No info</td>\n",
       "      <td>3897</td>\n",
       "    </tr>\n",
       "    <tr>\n",
       "      <th>1</th>\n",
       "      <td>Air India</td>\n",
       "      <td>1/05/2019</td>\n",
       "      <td>Kolkata</td>\n",
       "      <td>Banglore</td>\n",
       "      <td>CCU ? IXR ? BBI ? BLR</td>\n",
       "      <td>05:50</td>\n",
       "      <td>13:15</td>\n",
       "      <td>7h 25m</td>\n",
       "      <td>2 stops</td>\n",
       "      <td>No info</td>\n",
       "      <td>7662</td>\n",
       "    </tr>\n",
       "    <tr>\n",
       "      <th>2</th>\n",
       "      <td>Jet Airways</td>\n",
       "      <td>9/06/2019</td>\n",
       "      <td>Delhi</td>\n",
       "      <td>Cochin</td>\n",
       "      <td>DEL ? LKO ? BOM ? COK</td>\n",
       "      <td>09:25</td>\n",
       "      <td>04:25 10 Jun</td>\n",
       "      <td>19h</td>\n",
       "      <td>2 stops</td>\n",
       "      <td>No info</td>\n",
       "      <td>13882</td>\n",
       "    </tr>\n",
       "    <tr>\n",
       "      <th>3</th>\n",
       "      <td>IndiGo</td>\n",
       "      <td>12/05/2019</td>\n",
       "      <td>Kolkata</td>\n",
       "      <td>Banglore</td>\n",
       "      <td>CCU ? NAG ? BLR</td>\n",
       "      <td>18:05</td>\n",
       "      <td>23:30</td>\n",
       "      <td>5h 25m</td>\n",
       "      <td>1 stop</td>\n",
       "      <td>No info</td>\n",
       "      <td>6218</td>\n",
       "    </tr>\n",
       "    <tr>\n",
       "      <th>4</th>\n",
       "      <td>IndiGo</td>\n",
       "      <td>01/03/2019</td>\n",
       "      <td>Banglore</td>\n",
       "      <td>New Delhi</td>\n",
       "      <td>BLR ? NAG ? DEL</td>\n",
       "      <td>16:50</td>\n",
       "      <td>21:35</td>\n",
       "      <td>4h 45m</td>\n",
       "      <td>1 stop</td>\n",
       "      <td>No info</td>\n",
       "      <td>13302</td>\n",
       "    </tr>\n",
       "  </tbody>\n",
       "</table>\n",
       "</div>"
      ],
      "text/plain": [
       "       Airline Date_of_Journey    Source Destination                  Route  \\\n",
       "0       IndiGo      24/03/2019  Banglore   New Delhi              BLR ? DEL   \n",
       "1    Air India       1/05/2019   Kolkata    Banglore  CCU ? IXR ? BBI ? BLR   \n",
       "2  Jet Airways       9/06/2019     Delhi      Cochin  DEL ? LKO ? BOM ? COK   \n",
       "3       IndiGo      12/05/2019   Kolkata    Banglore        CCU ? NAG ? BLR   \n",
       "4       IndiGo      01/03/2019  Banglore   New Delhi        BLR ? NAG ? DEL   \n",
       "\n",
       "  Dep_Time  Arrival_Time Duration Total_Stops Additional_Info  Price  \n",
       "0    22:20  01:10 22 Mar   2h 50m    non-stop         No info   3897  \n",
       "1    05:50         13:15   7h 25m     2 stops         No info   7662  \n",
       "2    09:25  04:25 10 Jun      19h     2 stops         No info  13882  \n",
       "3    18:05         23:30   5h 25m      1 stop         No info   6218  \n",
       "4    16:50         21:35   4h 45m      1 stop         No info  13302  "
      ]
     },
     "execution_count": 546,
     "metadata": {},
     "output_type": "execute_result"
    }
   ],
   "source": [
    "#loading dataset\n",
    "df=pd.read_csv('Data_Train.csv')\n",
    "df.head(5)"
   ]
  },
  {
   "cell_type": "code",
   "execution_count": 547,
   "id": "ed3d7278",
   "metadata": {},
   "outputs": [
    {
     "data": {
      "text/plain": [
       "(10683, 11)"
      ]
     },
     "execution_count": 547,
     "metadata": {},
     "output_type": "execute_result"
    }
   ],
   "source": [
    "#cheking shape of the dataset\n",
    "df.shape"
   ]
  },
  {
   "cell_type": "markdown",
   "id": "20b964be",
   "metadata": {},
   "source": [
    "The dataset contains 10683 rows and 11 columns."
   ]
  },
  {
   "cell_type": "code",
   "execution_count": 548,
   "id": "7dd58243",
   "metadata": {},
   "outputs": [
    {
     "name": "stdout",
     "output_type": "stream",
     "text": [
      "<class 'pandas.core.frame.DataFrame'>\n",
      "RangeIndex: 10683 entries, 0 to 10682\n",
      "Data columns (total 11 columns):\n",
      " #   Column           Non-Null Count  Dtype \n",
      "---  ------           --------------  ----- \n",
      " 0   Airline          10683 non-null  object\n",
      " 1   Date_of_Journey  10683 non-null  object\n",
      " 2   Source           10683 non-null  object\n",
      " 3   Destination      10683 non-null  object\n",
      " 4   Route            10682 non-null  object\n",
      " 5   Dep_Time         10683 non-null  object\n",
      " 6   Arrival_Time     10683 non-null  object\n",
      " 7   Duration         10683 non-null  object\n",
      " 8   Total_Stops      10682 non-null  object\n",
      " 9   Additional_Info  10683 non-null  object\n",
      " 10  Price            10683 non-null  int64 \n",
      "dtypes: int64(1), object(10)\n",
      "memory usage: 918.2+ KB\n"
     ]
    }
   ],
   "source": [
    "#chechking type of the each columns and null values\n",
    "df.info()"
   ]
  },
  {
   "cell_type": "markdown",
   "id": "e13f9320",
   "metadata": {},
   "source": [
    "Observation: \n",
    "\n",
    "           we can see we have all object columns except output column which needs to be first converted into numeric after removing Null values"
   ]
  },
  {
   "cell_type": "code",
   "execution_count": 549,
   "id": "4edaf9ff",
   "metadata": {},
   "outputs": [
    {
     "data": {
      "text/plain": [
       "Airline              12\n",
       "Date_of_Journey      44\n",
       "Source                5\n",
       "Destination           6\n",
       "Route               128\n",
       "Dep_Time            222\n",
       "Arrival_Time       1343\n",
       "Duration            368\n",
       "Total_Stops           5\n",
       "Additional_Info      10\n",
       "Price              1870\n",
       "dtype: int64"
      ]
     },
     "execution_count": 549,
     "metadata": {},
     "output_type": "execute_result"
    }
   ],
   "source": [
    "#checking unique values\n",
    "df.nunique()"
   ]
  },
  {
   "cell_type": "markdown",
   "id": "7ecaef1a",
   "metadata": {},
   "source": [
    "# Univariate Analysis:-"
   ]
  },
  {
   "cell_type": "code",
   "execution_count": 550,
   "id": "1e7b8925",
   "metadata": {},
   "outputs": [
    {
     "name": "stdout",
     "output_type": "stream",
     "text": [
      "Delhi       4537\n",
      "Kolkata     2871\n",
      "Banglore    2197\n",
      "Mumbai       697\n",
      "Chennai      381\n",
      "Name: Source, dtype: int64\n"
     ]
    },
    {
     "data": {
      "image/png": "[encoded data removed]",
      "text/plain": [
       "<Figure size 432x288 with 1 Axes>"
      ]
     },
     "metadata": {
      "needs_background": "light"
     },
     "output_type": "display_data"
    }
   ],
   "source": [
    "import seaborn as sns\n",
    "ax=sns.countplot(x=\"Source\",data=df)\n",
    "print(df[\"Source\"].value_counts())"
   ]
  },
  {
   "cell_type": "markdown",
   "id": "3e70fbaa",
   "metadata": {},
   "source": [
    "the source column is having Delhi 4537,Kolkata  2871,Banglore 2197,Mumbai 697,Chennai 381 data"
   ]
  },
  {
   "cell_type": "code",
   "execution_count": 551,
   "id": "468b2258",
   "metadata": {},
   "outputs": [
    {
     "name": "stdout",
     "output_type": "stream",
     "text": [
      "Cochin       4537\n",
      "Banglore     2871\n",
      "Delhi        1265\n",
      "New Delhi     932\n",
      "Hyderabad     697\n",
      "Kolkata       381\n",
      "Name: Destination, dtype: int64\n"
     ]
    },
    {
     "data": {
      "image/png": "[encoded data removed]",
      "text/plain": [
       "<Figure size 432x288 with 1 Axes>"
      ]
     },
     "metadata": {
      "needs_background": "light"
     },
     "output_type": "display_data"
    }
   ],
   "source": [
    "import seaborn as sns\n",
    "ax=sns.countplot(x=\"Destination\",data=df)\n",
    "print(df[\"Destination\"].value_counts())"
   ]
  },
  {
   "cell_type": "markdown",
   "id": "0484ee8d",
   "metadata": {},
   "source": [
    "the destination column is having Cochin 4537,Banglore  2871,Delhi 1265,New Delhi 932,Hyderabad 697,Kolkata 381 data"
   ]
  },
  {
   "cell_type": "code",
   "execution_count": 552,
   "id": "e5fc272c",
   "metadata": {},
   "outputs": [
    {
     "name": "stdout",
     "output_type": "stream",
     "text": [
      "1 stop      5625\n",
      "non-stop    3491\n",
      "2 stops     1520\n",
      "3 stops       45\n",
      "4 stops        1\n",
      "Name: Total_Stops, dtype: int64\n"
     ]
    },
    {
     "data": {
      "image/png": "[encoded data removed]",
      "text/plain": [
       "<Figure size 432x288 with 1 Axes>"
      ]
     },
     "metadata": {
      "needs_background": "light"
     },
     "output_type": "display_data"
    }
   ],
   "source": [
    "import seaborn as sns\n",
    "ax=sns.countplot(x=\"Total_Stops\",data=df)\n",
    "print(df[\"Total_Stops\"].value_counts())"
   ]
  },
  {
   "cell_type": "markdown",
   "id": "fe2f4186",
   "metadata": {},
   "source": [
    "The Total_stops column is having 1 stop 5625,non-stop 3491,2 stops 1520 ,3 stops 45,but only 4 stop is 1 data point"
   ]
  },
  {
   "cell_type": "markdown",
   "id": "7371e0cc",
   "metadata": {},
   "source": [
    "# checking null values with graph"
   ]
  },
  {
   "cell_type": "code",
   "execution_count": 553,
   "id": "451d5980",
   "metadata": {},
   "outputs": [
    {
     "data": {
      "text/plain": [
       "Airline            0\n",
       "Date_of_Journey    0\n",
       "Source             0\n",
       "Destination        0\n",
       "Route              1\n",
       "Dep_Time           0\n",
       "Arrival_Time       0\n",
       "Duration           0\n",
       "Total_Stops        1\n",
       "Additional_Info    0\n",
       "Price              0\n",
       "dtype: int64"
      ]
     },
     "execution_count": 553,
     "metadata": {},
     "output_type": "execute_result"
    }
   ],
   "source": [
    "df.isnull().sum()"
   ]
  },
  {
   "cell_type": "markdown",
   "id": "0e5b3d4a",
   "metadata": {},
   "source": [
    "Observations :\n",
    "    \n",
    "    Route columns is having only 1 missing value \n",
    "    \n",
    "    Total_stops columns is having one missing value"
   ]
  },
  {
   "cell_type": "code",
   "execution_count": 554,
   "id": "371909e6",
   "metadata": {},
   "outputs": [
    {
     "data": {
      "text/plain": [
       "<AxesSubplot:>"
      ]
     },
     "execution_count": 554,
     "metadata": {},
     "output_type": "execute_result"
    },
    {
     "data": {
      "image/png": "[encoded data removed]",
      "text/plain": [
       "<Figure size 432x288 with 2 Axes>"
      ]
     },
     "metadata": {
      "needs_background": "light"
     },
     "output_type": "display_data"
    }
   ],
   "source": [
    "sns.heatmap(df.isnull())"
   ]
  },
  {
   "cell_type": "markdown",
   "id": "37e48daa",
   "metadata": {},
   "source": [
    "Updating Null Values with fillna"
   ]
  },
  {
   "cell_type": "code",
   "execution_count": 555,
   "id": "757629e4",
   "metadata": {},
   "outputs": [],
   "source": [
    "#filling null values wit fillna method\n",
    "df['Route']=df['Route'].fillna(df['Route'].mode()[0])\n",
    "df['Total_Stops']=df['Total_Stops'].fillna(df['Total_Stops'].mode()[0])"
   ]
  },
  {
   "cell_type": "code",
   "execution_count": 556,
   "id": "811376bd",
   "metadata": {},
   "outputs": [
    {
     "data": {
      "text/plain": [
       "Airline            0\n",
       "Date_of_Journey    0\n",
       "Source             0\n",
       "Destination        0\n",
       "Route              0\n",
       "Dep_Time           0\n",
       "Arrival_Time       0\n",
       "Duration           0\n",
       "Total_Stops        0\n",
       "Additional_Info    0\n",
       "Price              0\n",
       "dtype: int64"
      ]
     },
     "execution_count": 556,
     "metadata": {},
     "output_type": "execute_result"
    }
   ],
   "source": [
    "df.isnull().sum()"
   ]
  },
  {
   "cell_type": "markdown",
   "id": "bedc4cbf",
   "metadata": {},
   "source": [
    "Null values are filled by fillna method"
   ]
  },
  {
   "cell_type": "markdown",
   "id": "e9dfc593",
   "metadata": {},
   "source": [
    "# Data conversion using Label Encoder "
   ]
  },
  {
   "cell_type": "code",
   "execution_count": 557,
   "id": "b9477df7",
   "metadata": {},
   "outputs": [],
   "source": [
    "from sklearn.preprocessing import LabelEncoder"
   ]
  },
  {
   "cell_type": "code",
   "execution_count": 558,
   "id": "7e9db85c",
   "metadata": {},
   "outputs": [],
   "source": [
    "#by using for loop here we encoded the object columns\n",
    "le =LabelEncoder()\n",
    "\n",
    "list1=['Airline','Date_of_Journey','Source','Destination','Route','Dep_Time','Arrival_Time','Duration','Total_Stops','Additional_Info']\n",
    "for val in list1:\n",
    "    df[val]=le.fit_transform(df[val].astype(str))"
   ]
  },
  {
   "cell_type": "code",
   "execution_count": 559,
   "id": "2758721b",
   "metadata": {},
   "outputs": [
    {
     "data": {
      "text/html": [
       "<div>\n",
       "<style scoped>\n",
       "    .dataframe tbody tr th:only-of-type {\n",
       "        vertical-align: middle;\n",
       "    }\n",
       "\n",
       "    .dataframe tbody tr th {\n",
       "        vertical-align: top;\n",
       "    }\n",
       "\n",
       "    .dataframe thead th {\n",
       "        text-align: right;\n",
       "    }\n",
       "</style>\n",
       "<table border=\"1\" class=\"dataframe\">\n",
       "  <thead>\n",
       "    <tr style=\"text-align: right;\">\n",
       "      <th></th>\n",
       "      <th>Airline</th>\n",
       "      <th>Date_of_Journey</th>\n",
       "      <th>Source</th>\n",
       "      <th>Destination</th>\n",
       "      <th>Route</th>\n",
       "      <th>Dep_Time</th>\n",
       "      <th>Arrival_Time</th>\n",
       "      <th>Duration</th>\n",
       "      <th>Total_Stops</th>\n",
       "      <th>Additional_Info</th>\n",
       "      <th>Price</th>\n",
       "    </tr>\n",
       "  </thead>\n",
       "  <tbody>\n",
       "    <tr>\n",
       "      <th>0</th>\n",
       "      <td>3</td>\n",
       "      <td>24</td>\n",
       "      <td>0</td>\n",
       "      <td>5</td>\n",
       "      <td>18</td>\n",
       "      <td>211</td>\n",
       "      <td>233</td>\n",
       "      <td>240</td>\n",
       "      <td>4</td>\n",
       "      <td>8</td>\n",
       "      <td>3897</td>\n",
       "    </tr>\n",
       "    <tr>\n",
       "      <th>1</th>\n",
       "      <td>1</td>\n",
       "      <td>6</td>\n",
       "      <td>3</td>\n",
       "      <td>0</td>\n",
       "      <td>84</td>\n",
       "      <td>31</td>\n",
       "      <td>906</td>\n",
       "      <td>336</td>\n",
       "      <td>1</td>\n",
       "      <td>8</td>\n",
       "      <td>7662</td>\n",
       "    </tr>\n",
       "    <tr>\n",
       "      <th>2</th>\n",
       "      <td>4</td>\n",
       "      <td>43</td>\n",
       "      <td>2</td>\n",
       "      <td>1</td>\n",
       "      <td>118</td>\n",
       "      <td>70</td>\n",
       "      <td>413</td>\n",
       "      <td>106</td>\n",
       "      <td>1</td>\n",
       "      <td>8</td>\n",
       "      <td>13882</td>\n",
       "    </tr>\n",
       "    <tr>\n",
       "      <th>3</th>\n",
       "      <td>3</td>\n",
       "      <td>10</td>\n",
       "      <td>3</td>\n",
       "      <td>0</td>\n",
       "      <td>91</td>\n",
       "      <td>164</td>\n",
       "      <td>1324</td>\n",
       "      <td>311</td>\n",
       "      <td>0</td>\n",
       "      <td>8</td>\n",
       "      <td>6218</td>\n",
       "    </tr>\n",
       "    <tr>\n",
       "      <th>4</th>\n",
       "      <td>3</td>\n",
       "      <td>0</td>\n",
       "      <td>0</td>\n",
       "      <td>5</td>\n",
       "      <td>29</td>\n",
       "      <td>149</td>\n",
       "      <td>1237</td>\n",
       "      <td>303</td>\n",
       "      <td>0</td>\n",
       "      <td>8</td>\n",
       "      <td>13302</td>\n",
       "    </tr>\n",
       "    <tr>\n",
       "      <th>5</th>\n",
       "      <td>8</td>\n",
       "      <td>27</td>\n",
       "      <td>3</td>\n",
       "      <td>0</td>\n",
       "      <td>64</td>\n",
       "      <td>66</td>\n",
       "      <td>830</td>\n",
       "      <td>235</td>\n",
       "      <td>4</td>\n",
       "      <td>8</td>\n",
       "      <td>3873</td>\n",
       "    </tr>\n",
       "    <tr>\n",
       "      <th>6</th>\n",
       "      <td>4</td>\n",
       "      <td>8</td>\n",
       "      <td>0</td>\n",
       "      <td>5</td>\n",
       "      <td>5</td>\n",
       "      <td>172</td>\n",
       "      <td>742</td>\n",
       "      <td>65</td>\n",
       "      <td>0</td>\n",
       "      <td>5</td>\n",
       "      <td>11087</td>\n",
       "    </tr>\n",
       "    <tr>\n",
       "      <th>7</th>\n",
       "      <td>4</td>\n",
       "      <td>0</td>\n",
       "      <td>0</td>\n",
       "      <td>5</td>\n",
       "      <td>5</td>\n",
       "      <td>55</td>\n",
       "      <td>463</td>\n",
       "      <td>145</td>\n",
       "      <td>0</td>\n",
       "      <td>8</td>\n",
       "      <td>22270</td>\n",
       "    </tr>\n",
       "    <tr>\n",
       "      <th>8</th>\n",
       "      <td>4</td>\n",
       "      <td>8</td>\n",
       "      <td>0</td>\n",
       "      <td>5</td>\n",
       "      <td>5</td>\n",
       "      <td>65</td>\n",
       "      <td>742</td>\n",
       "      <td>185</td>\n",
       "      <td>0</td>\n",
       "      <td>5</td>\n",
       "      <td>11087</td>\n",
       "    </tr>\n",
       "    <tr>\n",
       "      <th>9</th>\n",
       "      <td>6</td>\n",
       "      <td>30</td>\n",
       "      <td>2</td>\n",
       "      <td>1</td>\n",
       "      <td>104</td>\n",
       "      <td>91</td>\n",
       "      <td>1124</td>\n",
       "      <td>341</td>\n",
       "      <td>0</td>\n",
       "      <td>8</td>\n",
       "      <td>8625</td>\n",
       "    </tr>\n",
       "  </tbody>\n",
       "</table>\n",
       "</div>"
      ],
      "text/plain": [
       "   Airline  Date_of_Journey  Source  Destination  Route  Dep_Time  \\\n",
       "0        3               24       0            5     18       211   \n",
       "1        1                6       3            0     84        31   \n",
       "2        4               43       2            1    118        70   \n",
       "3        3               10       3            0     91       164   \n",
       "4        3                0       0            5     29       149   \n",
       "5        8               27       3            0     64        66   \n",
       "6        4                8       0            5      5       172   \n",
       "7        4                0       0            5      5        55   \n",
       "8        4                8       0            5      5        65   \n",
       "9        6               30       2            1    104        91   \n",
       "\n",
       "   Arrival_Time  Duration  Total_Stops  Additional_Info  Price  \n",
       "0           233       240            4                8   3897  \n",
       "1           906       336            1                8   7662  \n",
       "2           413       106            1                8  13882  \n",
       "3          1324       311            0                8   6218  \n",
       "4          1237       303            0                8  13302  \n",
       "5           830       235            4                8   3873  \n",
       "6           742        65            0                5  11087  \n",
       "7           463       145            0                8  22270  \n",
       "8           742       185            0                5  11087  \n",
       "9          1124       341            0                8   8625  "
      ]
     },
     "execution_count": 559,
     "metadata": {},
     "output_type": "execute_result"
    }
   ],
   "source": [
    "df.head(10)"
   ]
  },
  {
   "cell_type": "markdown",
   "id": "b80d0bcf",
   "metadata": {},
   "source": [
    "Here we have converted object columns in Numeric "
   ]
  },
  {
   "cell_type": "code",
   "execution_count": 560,
   "id": "6ac6b46e",
   "metadata": {},
   "outputs": [
    {
     "name": "stdout",
     "output_type": "stream",
     "text": [
      "<class 'pandas.core.frame.DataFrame'>\n",
      "RangeIndex: 10683 entries, 0 to 10682\n",
      "Data columns (total 11 columns):\n",
      " #   Column           Non-Null Count  Dtype\n",
      "---  ------           --------------  -----\n",
      " 0   Airline          10683 non-null  int32\n",
      " 1   Date_of_Journey  10683 non-null  int32\n",
      " 2   Source           10683 non-null  int32\n",
      " 3   Destination      10683 non-null  int32\n",
      " 4   Route            10683 non-null  int32\n",
      " 5   Dep_Time         10683 non-null  int32\n",
      " 6   Arrival_Time     10683 non-null  int32\n",
      " 7   Duration         10683 non-null  int32\n",
      " 8   Total_Stops      10683 non-null  int32\n",
      " 9   Additional_Info  10683 non-null  int32\n",
      " 10  Price            10683 non-null  int64\n",
      "dtypes: int32(10), int64(1)\n",
      "memory usage: 500.9 KB\n"
     ]
    }
   ],
   "source": [
    "#checking class of the columns \n",
    "df.info()"
   ]
  },
  {
   "cell_type": "markdown",
   "id": "4883ee77",
   "metadata": {},
   "source": [
    "# Describe the Data "
   ]
  },
  {
   "cell_type": "code",
   "execution_count": 561,
   "id": "437a5237",
   "metadata": {},
   "outputs": [
    {
     "data": {
      "text/html": [
       "<div>\n",
       "<style scoped>\n",
       "    .dataframe tbody tr th:only-of-type {\n",
       "        vertical-align: middle;\n",
       "    }\n",
       "\n",
       "    .dataframe tbody tr th {\n",
       "        vertical-align: top;\n",
       "    }\n",
       "\n",
       "    .dataframe thead th {\n",
       "        text-align: right;\n",
       "    }\n",
       "</style>\n",
       "<table border=\"1\" class=\"dataframe\">\n",
       "  <thead>\n",
       "    <tr style=\"text-align: right;\">\n",
       "      <th></th>\n",
       "      <th>Airline</th>\n",
       "      <th>Date_of_Journey</th>\n",
       "      <th>Source</th>\n",
       "      <th>Destination</th>\n",
       "      <th>Route</th>\n",
       "      <th>Dep_Time</th>\n",
       "      <th>Arrival_Time</th>\n",
       "      <th>Duration</th>\n",
       "      <th>Total_Stops</th>\n",
       "      <th>Additional_Info</th>\n",
       "      <th>Price</th>\n",
       "    </tr>\n",
       "  </thead>\n",
       "  <tbody>\n",
       "    <tr>\n",
       "      <th>count</th>\n",
       "      <td>10683.000000</td>\n",
       "      <td>10683.000000</td>\n",
       "      <td>10683.000000</td>\n",
       "      <td>10683.000000</td>\n",
       "      <td>10683.000000</td>\n",
       "      <td>10683.000000</td>\n",
       "      <td>10683.000000</td>\n",
       "      <td>10683.000000</td>\n",
       "      <td>10683.000000</td>\n",
       "      <td>10683.000000</td>\n",
       "      <td>10683.000000</td>\n",
       "    </tr>\n",
       "    <tr>\n",
       "      <th>mean</th>\n",
       "      <td>3.965927</td>\n",
       "      <td>23.735093</td>\n",
       "      <td>1.952261</td>\n",
       "      <td>1.436113</td>\n",
       "      <td>74.822896</td>\n",
       "      <td>107.980717</td>\n",
       "      <td>869.828419</td>\n",
       "      <td>194.069269</td>\n",
       "      <td>1.458111</td>\n",
       "      <td>7.393054</td>\n",
       "      <td>9087.064121</td>\n",
       "    </tr>\n",
       "    <tr>\n",
       "      <th>std</th>\n",
       "      <td>2.352155</td>\n",
       "      <td>12.337763</td>\n",
       "      <td>1.177221</td>\n",
       "      <td>1.474782</td>\n",
       "      <td>36.728405</td>\n",
       "      <td>61.085563</td>\n",
       "      <td>331.509504</td>\n",
       "      <td>108.620556</td>\n",
       "      <td>1.806290</td>\n",
       "      <td>1.214211</td>\n",
       "      <td>4611.359167</td>\n",
       "    </tr>\n",
       "    <tr>\n",
       "      <th>min</th>\n",
       "      <td>0.000000</td>\n",
       "      <td>0.000000</td>\n",
       "      <td>0.000000</td>\n",
       "      <td>0.000000</td>\n",
       "      <td>0.000000</td>\n",
       "      <td>0.000000</td>\n",
       "      <td>0.000000</td>\n",
       "      <td>0.000000</td>\n",
       "      <td>0.000000</td>\n",
       "      <td>0.000000</td>\n",
       "      <td>1759.000000</td>\n",
       "    </tr>\n",
       "    <tr>\n",
       "      <th>25%</th>\n",
       "      <td>3.000000</td>\n",
       "      <td>14.000000</td>\n",
       "      <td>2.000000</td>\n",
       "      <td>0.000000</td>\n",
       "      <td>48.000000</td>\n",
       "      <td>55.000000</td>\n",
       "      <td>603.000000</td>\n",
       "      <td>106.000000</td>\n",
       "      <td>0.000000</td>\n",
       "      <td>8.000000</td>\n",
       "      <td>5277.000000</td>\n",
       "    </tr>\n",
       "    <tr>\n",
       "      <th>50%</th>\n",
       "      <td>4.000000</td>\n",
       "      <td>24.000000</td>\n",
       "      <td>2.000000</td>\n",
       "      <td>1.000000</td>\n",
       "      <td>73.000000</td>\n",
       "      <td>96.000000</td>\n",
       "      <td>937.000000</td>\n",
       "      <td>233.000000</td>\n",
       "      <td>0.000000</td>\n",
       "      <td>8.000000</td>\n",
       "      <td>8372.000000</td>\n",
       "    </tr>\n",
       "    <tr>\n",
       "      <th>75%</th>\n",
       "      <td>4.000000</td>\n",
       "      <td>35.000000</td>\n",
       "      <td>3.000000</td>\n",
       "      <td>2.000000</td>\n",
       "      <td>104.000000</td>\n",
       "      <td>164.000000</td>\n",
       "      <td>1141.000000</td>\n",
       "      <td>280.000000</td>\n",
       "      <td>4.000000</td>\n",
       "      <td>8.000000</td>\n",
       "      <td>12373.000000</td>\n",
       "    </tr>\n",
       "    <tr>\n",
       "      <th>max</th>\n",
       "      <td>11.000000</td>\n",
       "      <td>43.000000</td>\n",
       "      <td>4.000000</td>\n",
       "      <td>5.000000</td>\n",
       "      <td>127.000000</td>\n",
       "      <td>221.000000</td>\n",
       "      <td>1342.000000</td>\n",
       "      <td>367.000000</td>\n",
       "      <td>4.000000</td>\n",
       "      <td>9.000000</td>\n",
       "      <td>79512.000000</td>\n",
       "    </tr>\n",
       "  </tbody>\n",
       "</table>\n",
       "</div>"
      ],
      "text/plain": [
       "            Airline  Date_of_Journey        Source   Destination  \\\n",
       "count  10683.000000     10683.000000  10683.000000  10683.000000   \n",
       "mean       3.965927        23.735093      1.952261      1.436113   \n",
       "std        2.352155        12.337763      1.177221      1.474782   \n",
       "min        0.000000         0.000000      0.000000      0.000000   \n",
       "25%        3.000000        14.000000      2.000000      0.000000   \n",
       "50%        4.000000        24.000000      2.000000      1.000000   \n",
       "75%        4.000000        35.000000      3.000000      2.000000   \n",
       "max       11.000000        43.000000      4.000000      5.000000   \n",
       "\n",
       "              Route      Dep_Time  Arrival_Time      Duration   Total_Stops  \\\n",
       "count  10683.000000  10683.000000  10683.000000  10683.000000  10683.000000   \n",
       "mean      74.822896    107.980717    869.828419    194.069269      1.458111   \n",
       "std       36.728405     61.085563    331.509504    108.620556      1.806290   \n",
       "min        0.000000      0.000000      0.000000      0.000000      0.000000   \n",
       "25%       48.000000     55.000000    603.000000    106.000000      0.000000   \n",
       "50%       73.000000     96.000000    937.000000    233.000000      0.000000   \n",
       "75%      104.000000    164.000000   1141.000000    280.000000      4.000000   \n",
       "max      127.000000    221.000000   1342.000000    367.000000      4.000000   \n",
       "\n",
       "       Additional_Info         Price  \n",
       "count     10683.000000  10683.000000  \n",
       "mean          7.393054   9087.064121  \n",
       "std           1.214211   4611.359167  \n",
       "min           0.000000   1759.000000  \n",
       "25%           8.000000   5277.000000  \n",
       "50%           8.000000   8372.000000  \n",
       "75%           8.000000  12373.000000  \n",
       "max           9.000000  79512.000000  "
      ]
     },
     "execution_count": 561,
     "metadata": {},
     "output_type": "execute_result"
    }
   ],
   "source": [
    "df.describe()"
   ]
  },
  {
   "cell_type": "markdown",
   "id": "43fa6bc7",
   "metadata": {},
   "source": [
    "Observation:\n",
    "\n",
    "we can see the Data is deviated by looking at std dev which is getting more than +-1.\n",
    "\n",
    "we can see in almost all the columns min value is zero.\n",
    "\n",
    "Comparison in Mean and 50%: Some of the column is having Mean value greater than 50% hence we can say that we have skewness prsent in Data which can be find by skew method and can be removed by Power transform or Boxcox method.\n",
    "\n",
    "Comparison in 75% and Max: Here we can see some columns are having big diff within 75% and Max data hence we can say that outliers can be present which we can see by percentile and can be removed by Z score method.\n",
    "\n",
    "If we have any irrelavant column by checking corelation so we can remove those columns\n"
   ]
  },
  {
   "cell_type": "markdown",
   "id": "19913785",
   "metadata": {},
   "source": [
    "# Checking correlation"
   ]
  },
  {
   "cell_type": "code",
   "execution_count": 562,
   "id": "5666741e",
   "metadata": {},
   "outputs": [
    {
     "data": {
      "image/png": "[encoded data removed]",
      "text/plain": [
       "<Figure size 1440x1080 with 2 Axes>"
      ]
     },
     "metadata": {
      "needs_background": "light"
     },
     "output_type": "display_data"
    }
   ],
   "source": [
    "corr_mat=df.corr()\n",
    "plt.figure(figsize=(20,15))\n",
    "sns.heatmap(corr_mat,annot=True,cmap='Blues')\n",
    "plt.show()"
   ]
  },
  {
   "cell_type": "markdown",
   "id": "9c334d2d",
   "metadata": {},
   "source": [
    "Observations:\n",
    "    \n",
    "    Airline columns is positively correlated with label columns \n",
    "    \n",
    "    Date_of_journey, Destination Route Arrival_time ,Total_stops ,Additinal_info column in negatively correlated with the price column\n",
    "    \n",
    "    Total_stops is highly  negatively correlated with the label so we drop the this columns "
   ]
  },
  {
   "cell_type": "markdown",
   "id": "055ba656",
   "metadata": {},
   "source": [
    "# Corlelation with Output columns"
   ]
  },
  {
   "cell_type": "code",
   "execution_count": 563,
   "id": "06e20b56",
   "metadata": {},
   "outputs": [
    {
     "data": {
      "text/plain": [
       "Price              1.000000\n",
       "Route              0.164118\n",
       "Arrival_Time       0.027377\n",
       "Source             0.015998\n",
       "Dep_Time           0.002949\n",
       "Date_of_Journey   -0.036942\n",
       "Airline           -0.039520\n",
       "Additional_Info   -0.065478\n",
       "Destination       -0.071112\n",
       "Duration          -0.144270\n",
       "Total_Stops       -0.571174\n",
       "Name: Price, dtype: float64"
      ]
     },
     "execution_count": 563,
     "metadata": {},
     "output_type": "execute_result"
    }
   ],
   "source": [
    "corr_mat['Price'].sort_values(ascending=False)"
   ]
  },
  {
   "cell_type": "markdown",
   "id": "28e0faf9",
   "metadata": {},
   "source": [
    "we can see the Dep _time is positively corelated with output column where Toatl_stops are negatively corelated.\n",
    "as it is not close to -1 hence we will drop this columns as our output is incremental and will use Linear regression as well."
   ]
  },
  {
   "cell_type": "markdown",
   "id": "15f215b5",
   "metadata": {},
   "source": [
    "# Dropping Unwanted columns :"
   ]
  },
  {
   "cell_type": "code",
   "execution_count": 564,
   "id": "7a8526de",
   "metadata": {},
   "outputs": [],
   "source": [
    "df.drop(columns=['Total_Stops'],axis=1,inplace=True)"
   ]
  },
  {
   "cell_type": "code",
   "execution_count": 565,
   "id": "97816949",
   "metadata": {},
   "outputs": [
    {
     "data": {
      "image/png": "[encoded data removed]",
      "text/plain": [
       "<Figure size 1440x1080 with 2 Axes>"
      ]
     },
     "metadata": {
      "needs_background": "light"
     },
     "output_type": "display_data"
    }
   ],
   "source": [
    "corr_mat=df.corr()\n",
    "plt.figure(figsize=(20,15))\n",
    "sns.heatmap(corr_mat,annot=True,cmap='Blues')\n",
    "plt.show()"
   ]
  },
  {
   "cell_type": "markdown",
   "id": "6903d321",
   "metadata": {},
   "source": [
    "The duration column is near to zero with negative corelation hence we will not drop this column"
   ]
  },
  {
   "cell_type": "markdown",
   "id": "9493d3a0",
   "metadata": {},
   "source": [
    "# checking data distribution by dist plot for Skewness"
   ]
  },
  {
   "cell_type": "markdown",
   "id": "d7cf8d13",
   "metadata": {},
   "source": [
    "checking normal distribution for skewness and outliers"
   ]
  },
  {
   "cell_type": "code",
   "execution_count": 566,
   "id": "dbd5908e",
   "metadata": {},
   "outputs": [
    {
     "data": {
      "image/png": "[encoded data removed]",
      "text/plain": [
       "<Figure size 1584x1080 with 10 Axes>"
      ]
     },
     "metadata": {},
     "output_type": "display_data"
    }
   ],
   "source": [
    "# checking wether te data is normally distributed or not!!!!!!!!!!!!\n",
    "plt.figure(figsize=(22,15),facecolor='gray')\n",
    "plotnumber=1\n",
    "\n",
    "for column in df:\n",
    "    if plotnumber<=12:\n",
    "        ax = plt.subplot(2,6,plotnumber)\n",
    "        sns.distplot(df[column])\n",
    "        plt.xlabel(column,fontsize=8)\n",
    "    \n",
    "    \n",
    "    plotnumber+=1\n",
    "plt.tight_layout()"
   ]
  },
  {
   "cell_type": "markdown",
   "id": "9f7e87c7",
   "metadata": {},
   "source": [
    "observations \n",
    "\n",
    "The data is skewed in columns.\n",
    "           \n",
    "The distribution is not normally distributedi all columns.so we convert the skewed data into a normal distribution              by Log transformer or power transformer method\n",
    "           "
   ]
  },
  {
   "cell_type": "markdown",
   "id": "a9e61e6b",
   "metadata": {},
   "source": [
    "# Checking and Handling Outliers"
   ]
  },
  {
   "cell_type": "code",
   "execution_count": 567,
   "id": "bd7f2811",
   "metadata": {},
   "outputs": [
    {
     "data": {
      "image/png": "[encoded data removed]",
      "text/plain": [
       "<Figure size 1440x360 with 10 Axes>"
      ]
     },
     "metadata": {},
     "output_type": "display_data"
    }
   ],
   "source": [
    "plt.figure(figsize=(20,5),facecolor='gray')\n",
    "plotnumber=1\n",
    "\n",
    "for column in df:\n",
    "    if plotnumber<=12:\n",
    "        ax = plt.subplot(2,6,plotnumber)\n",
    "        plt.boxplot(df[column])\n",
    "        plt.xlabel(column,fontsize=8)\n",
    "    \n",
    "    \n",
    "    plotnumber+=1\n",
    "plt.tight_layout()"
   ]
  },
  {
   "cell_type": "markdown",
   "id": "14596dc9",
   "metadata": {},
   "source": [
    "Observations:\n",
    "here we can see the airline,source, additional info columns are having outliers hence we will use Z score method to check and remove outliers"
   ]
  },
  {
   "cell_type": "code",
   "execution_count": 568,
   "id": "bc1430dd",
   "metadata": {},
   "outputs": [
    {
     "data": {
      "text/plain": [
       "Index(['Airline', 'Date_of_Journey', 'Source', 'Destination', 'Route',\n",
       "       'Dep_Time', 'Arrival_Time', 'Duration', 'Additional_Info', 'Price'],\n",
       "      dtype='object')"
      ]
     },
     "execution_count": 568,
     "metadata": {},
     "output_type": "execute_result"
    }
   ],
   "source": [
    "df.columns"
   ]
  },
  {
   "cell_type": "markdown",
   "id": "7cac71e2",
   "metadata": {},
   "source": [
    "# Removing outliers by zscore method"
   ]
  },
  {
   "cell_type": "code",
   "execution_count": 569,
   "id": "ddf377e6",
   "metadata": {},
   "outputs": [],
   "source": [
    "from scipy.stats import zscore"
   ]
  },
  {
   "cell_type": "code",
   "execution_count": 570,
   "id": "a9d06472",
   "metadata": {},
   "outputs": [
    {
     "data": {
      "text/html": [
       "<div>\n",
       "<style scoped>\n",
       "    .dataframe tbody tr th:only-of-type {\n",
       "        vertical-align: middle;\n",
       "    }\n",
       "\n",
       "    .dataframe tbody tr th {\n",
       "        vertical-align: top;\n",
       "    }\n",
       "\n",
       "    .dataframe thead th {\n",
       "        text-align: right;\n",
       "    }\n",
       "</style>\n",
       "<table border=\"1\" class=\"dataframe\">\n",
       "  <thead>\n",
       "    <tr style=\"text-align: right;\">\n",
       "      <th></th>\n",
       "      <th>Airline</th>\n",
       "      <th>Date_of_Journey</th>\n",
       "      <th>Source</th>\n",
       "      <th>Destination</th>\n",
       "      <th>Route</th>\n",
       "      <th>Dep_Time</th>\n",
       "      <th>Arrival_Time</th>\n",
       "      <th>Duration</th>\n",
       "      <th>Additional_Info</th>\n",
       "      <th>Price</th>\n",
       "    </tr>\n",
       "  </thead>\n",
       "  <tbody>\n",
       "    <tr>\n",
       "      <th>0</th>\n",
       "      <td>0.410675</td>\n",
       "      <td>0.021472</td>\n",
       "      <td>1.658441</td>\n",
       "      <td>2.416665</td>\n",
       "      <td>1.547183</td>\n",
       "      <td>1.686554</td>\n",
       "      <td>1.921086</td>\n",
       "      <td>0.422875</td>\n",
       "      <td>0.499892</td>\n",
       "      <td>1.125548</td>\n",
       "    </tr>\n",
       "    <tr>\n",
       "      <th>1</th>\n",
       "      <td>1.260999</td>\n",
       "      <td>1.437532</td>\n",
       "      <td>0.890052</td>\n",
       "      <td>0.973826</td>\n",
       "      <td>0.249876</td>\n",
       "      <td>1.260270</td>\n",
       "      <td>0.109117</td>\n",
       "      <td>1.306727</td>\n",
       "      <td>0.499892</td>\n",
       "      <td>0.309048</td>\n",
       "    </tr>\n",
       "    <tr>\n",
       "      <th>2</th>\n",
       "      <td>0.014486</td>\n",
       "      <td>1.561532</td>\n",
       "      <td>0.040555</td>\n",
       "      <td>0.295728</td>\n",
       "      <td>1.175633</td>\n",
       "      <td>0.621792</td>\n",
       "      <td>1.378090</td>\n",
       "      <td>0.810835</td>\n",
       "      <td>0.499892</td>\n",
       "      <td>1.039858</td>\n",
       "    </tr>\n",
       "    <tr>\n",
       "      <th>3</th>\n",
       "      <td>0.410675</td>\n",
       "      <td>1.113308</td>\n",
       "      <td>0.890052</td>\n",
       "      <td>0.973826</td>\n",
       "      <td>0.440473</td>\n",
       "      <td>0.917105</td>\n",
       "      <td>1.370075</td>\n",
       "      <td>1.076557</td>\n",
       "      <td>0.499892</td>\n",
       "      <td>0.622202</td>\n",
       "    </tr>\n",
       "    <tr>\n",
       "      <th>4</th>\n",
       "      <td>0.410675</td>\n",
       "      <td>1.923866</td>\n",
       "      <td>1.658441</td>\n",
       "      <td>2.416665</td>\n",
       "      <td>1.247673</td>\n",
       "      <td>0.671537</td>\n",
       "      <td>1.107627</td>\n",
       "      <td>1.002903</td>\n",
       "      <td>0.499892</td>\n",
       "      <td>0.914076</td>\n",
       "    </tr>\n",
       "    <tr>\n",
       "      <th>...</th>\n",
       "      <td>...</td>\n",
       "      <td>...</td>\n",
       "      <td>...</td>\n",
       "      <td>...</td>\n",
       "      <td>...</td>\n",
       "      <td>...</td>\n",
       "      <td>...</td>\n",
       "      <td>...</td>\n",
       "      <td>...</td>\n",
       "      <td>...</td>\n",
       "    </tr>\n",
       "    <tr>\n",
       "      <th>10678</th>\n",
       "      <td>1.686161</td>\n",
       "      <td>1.399420</td>\n",
       "      <td>0.890052</td>\n",
       "      <td>0.973826</td>\n",
       "      <td>0.294688</td>\n",
       "      <td>1.228159</td>\n",
       "      <td>1.173993</td>\n",
       "      <td>0.386047</td>\n",
       "      <td>0.499892</td>\n",
       "      <td>1.080006</td>\n",
       "    </tr>\n",
       "    <tr>\n",
       "      <th>10679</th>\n",
       "      <td>1.260999</td>\n",
       "      <td>0.426751</td>\n",
       "      <td>0.890052</td>\n",
       "      <td>0.973826</td>\n",
       "      <td>0.294688</td>\n",
       "      <td>1.391872</td>\n",
       "      <td>1.312759</td>\n",
       "      <td>0.395254</td>\n",
       "      <td>0.499892</td>\n",
       "      <td>1.071765</td>\n",
       "    </tr>\n",
       "    <tr>\n",
       "      <th>10680</th>\n",
       "      <td>0.014486</td>\n",
       "      <td>0.426751</td>\n",
       "      <td>1.658441</td>\n",
       "      <td>0.382370</td>\n",
       "      <td>1.547183</td>\n",
       "      <td>0.818247</td>\n",
       "      <td>0.138248</td>\n",
       "      <td>0.791146</td>\n",
       "      <td>0.499892</td>\n",
       "      <td>0.402951</td>\n",
       "    </tr>\n",
       "    <tr>\n",
       "      <th>10681</th>\n",
       "      <td>2.565458</td>\n",
       "      <td>1.923866</td>\n",
       "      <td>1.658441</td>\n",
       "      <td>2.416665</td>\n",
       "      <td>1.547183</td>\n",
       "      <td>0.261624</td>\n",
       "      <td>0.205650</td>\n",
       "      <td>0.404461</td>\n",
       "      <td>0.499892</td>\n",
       "      <td>0.772246</td>\n",
       "    </tr>\n",
       "    <tr>\n",
       "      <th>10682</th>\n",
       "      <td>1.260999</td>\n",
       "      <td>1.480476</td>\n",
       "      <td>0.040555</td>\n",
       "      <td>0.295728</td>\n",
       "      <td>0.903351</td>\n",
       "      <td>0.376223</td>\n",
       "      <td>0.766746</td>\n",
       "      <td>1.408001</td>\n",
       "      <td>0.499892</td>\n",
       "      <td>0.578151</td>\n",
       "    </tr>\n",
       "  </tbody>\n",
       "</table>\n",
       "<p>10683 rows × 10 columns</p>\n",
       "</div>"
      ],
      "text/plain": [
       "        Airline  Date_of_Journey    Source  Destination     Route  Dep_Time  \\\n",
       "0      0.410675         0.021472  1.658441     2.416665  1.547183  1.686554   \n",
       "1      1.260999         1.437532  0.890052     0.973826  0.249876  1.260270   \n",
       "2      0.014486         1.561532  0.040555     0.295728  1.175633  0.621792   \n",
       "3      0.410675         1.113308  0.890052     0.973826  0.440473  0.917105   \n",
       "4      0.410675         1.923866  1.658441     2.416665  1.247673  0.671537   \n",
       "...         ...              ...       ...          ...       ...       ...   \n",
       "10678  1.686161         1.399420  0.890052     0.973826  0.294688  1.228159   \n",
       "10679  1.260999         0.426751  0.890052     0.973826  0.294688  1.391872   \n",
       "10680  0.014486         0.426751  1.658441     0.382370  1.547183  0.818247   \n",
       "10681  2.565458         1.923866  1.658441     2.416665  1.547183  0.261624   \n",
       "10682  1.260999         1.480476  0.040555     0.295728  0.903351  0.376223   \n",
       "\n",
       "       Arrival_Time  Duration  Additional_Info     Price  \n",
       "0          1.921086  0.422875         0.499892  1.125548  \n",
       "1          0.109117  1.306727         0.499892  0.309048  \n",
       "2          1.378090  0.810835         0.499892  1.039858  \n",
       "3          1.370075  1.076557         0.499892  0.622202  \n",
       "4          1.107627  1.002903         0.499892  0.914076  \n",
       "...             ...       ...              ...       ...  \n",
       "10678      1.173993  0.386047         0.499892  1.080006  \n",
       "10679      1.312759  0.395254         0.499892  1.071765  \n",
       "10680      0.138248  0.791146         0.499892  0.402951  \n",
       "10681      0.205650  0.404461         0.499892  0.772246  \n",
       "10682      0.766746  1.408001         0.499892  0.578151  \n",
       "\n",
       "[10683 rows x 10 columns]"
      ]
     },
     "execution_count": 570,
     "metadata": {},
     "output_type": "execute_result"
    }
   ],
   "source": [
    "z=np.abs(zscore(df))\n",
    "z"
   ]
  },
  {
   "cell_type": "code",
   "execution_count": 571,
   "id": "0d7ab314",
   "metadata": {},
   "outputs": [
    {
     "name": "stdout",
     "output_type": "stream",
     "text": [
      "(array([  123,   396,   486,   510,   597,   628,   657,   785,   785,\n",
      "         826,   936,   946,   959,   975,  1043,  1196,  1246,  1341,\n",
      "        1424,  1466,  1478,  1629,  1654,  1785,  1918,  2055,  2079,\n",
      "        2099,  2108,  2405,  2481,  2495,  2495,  2556,  2556,  2618,\n",
      "        2635,  2693,  2924,  2924,  3032,  3032,  3111,  3111,  3257,\n",
      "        3400,  3535,  3700,  3700,  3788,  4012,  4521,  4521,  4676,\n",
      "        4829,  5013,  5013,  5136,  5372,  5372,  5439,  5628,  5662,\n",
      "        5701,  5710,  5719,  5738,  5745,  5856,  5986,  6024,  6314,\n",
      "        6336,  6407,  6576,  6576,  6588,  6605,  6991,  7351,  7356,\n",
      "        7377,  7537,  7554,  7617,  7713,  7724,  7724,  7756,  7902,\n",
      "        8020,  8080,  8451,  8470,  8536,  8598,  8856,  8940,  8957,\n",
      "        8957,  8990,  9019,  9019,  9193,  9239,  9632,  9657,  9715,\n",
      "        9974, 10052, 10113, 10160, 10182, 10189, 10353, 10364, 10364,\n",
      "       10383, 10439, 10511, 10511], dtype=int64), array([9, 9, 9, 9, 9, 9, 9, 8, 9, 9, 9, 9, 9, 9, 8, 9, 9, 9, 9, 9, 9, 9,\n",
      "       9, 9, 9, 9, 8, 9, 9, 8, 8, 8, 9, 8, 9, 9, 9, 9, 8, 9, 8, 9, 8, 9,\n",
      "       9, 9, 9, 8, 9, 8, 9, 8, 9, 9, 9, 8, 9, 9, 8, 9, 9, 8, 9, 9, 9, 9,\n",
      "       9, 9, 9, 9, 8, 9, 8, 9, 8, 9, 9, 9, 9, 9, 9, 9, 9, 9, 9, 9, 8, 9,\n",
      "       9, 9, 9, 9, 9, 9, 9, 9, 9, 9, 8, 9, 9, 8, 9, 9, 9, 9, 8, 9, 9, 9,\n",
      "       9, 9, 9, 9, 9, 8, 9, 9, 9, 8, 9], dtype=int64))\n"
     ]
    }
   ],
   "source": [
    "threshold=3\n",
    "print(np.where(z>3))"
   ]
  },
  {
   "cell_type": "code",
   "execution_count": 572,
   "id": "1623419d",
   "metadata": {},
   "outputs": [
    {
     "data": {
      "text/html": [
       "<div>\n",
       "<style scoped>\n",
       "    .dataframe tbody tr th:only-of-type {\n",
       "        vertical-align: middle;\n",
       "    }\n",
       "\n",
       "    .dataframe tbody tr th {\n",
       "        vertical-align: top;\n",
       "    }\n",
       "\n",
       "    .dataframe thead th {\n",
       "        text-align: right;\n",
       "    }\n",
       "</style>\n",
       "<table border=\"1\" class=\"dataframe\">\n",
       "  <thead>\n",
       "    <tr style=\"text-align: right;\">\n",
       "      <th></th>\n",
       "      <th>Airline</th>\n",
       "      <th>Date_of_Journey</th>\n",
       "      <th>Source</th>\n",
       "      <th>Destination</th>\n",
       "      <th>Route</th>\n",
       "      <th>Dep_Time</th>\n",
       "      <th>Arrival_Time</th>\n",
       "      <th>Duration</th>\n",
       "      <th>Additional_Info</th>\n",
       "      <th>Price</th>\n",
       "    </tr>\n",
       "  </thead>\n",
       "  <tbody>\n",
       "    <tr>\n",
       "      <th>0</th>\n",
       "      <td>3</td>\n",
       "      <td>24</td>\n",
       "      <td>0</td>\n",
       "      <td>5</td>\n",
       "      <td>18</td>\n",
       "      <td>211</td>\n",
       "      <td>233</td>\n",
       "      <td>240</td>\n",
       "      <td>8</td>\n",
       "      <td>3897</td>\n",
       "    </tr>\n",
       "    <tr>\n",
       "      <th>1</th>\n",
       "      <td>1</td>\n",
       "      <td>6</td>\n",
       "      <td>3</td>\n",
       "      <td>0</td>\n",
       "      <td>84</td>\n",
       "      <td>31</td>\n",
       "      <td>906</td>\n",
       "      <td>336</td>\n",
       "      <td>8</td>\n",
       "      <td>7662</td>\n",
       "    </tr>\n",
       "    <tr>\n",
       "      <th>2</th>\n",
       "      <td>4</td>\n",
       "      <td>43</td>\n",
       "      <td>2</td>\n",
       "      <td>1</td>\n",
       "      <td>118</td>\n",
       "      <td>70</td>\n",
       "      <td>413</td>\n",
       "      <td>106</td>\n",
       "      <td>8</td>\n",
       "      <td>13882</td>\n",
       "    </tr>\n",
       "    <tr>\n",
       "      <th>3</th>\n",
       "      <td>3</td>\n",
       "      <td>10</td>\n",
       "      <td>3</td>\n",
       "      <td>0</td>\n",
       "      <td>91</td>\n",
       "      <td>164</td>\n",
       "      <td>1324</td>\n",
       "      <td>311</td>\n",
       "      <td>8</td>\n",
       "      <td>6218</td>\n",
       "    </tr>\n",
       "    <tr>\n",
       "      <th>4</th>\n",
       "      <td>3</td>\n",
       "      <td>0</td>\n",
       "      <td>0</td>\n",
       "      <td>5</td>\n",
       "      <td>29</td>\n",
       "      <td>149</td>\n",
       "      <td>1237</td>\n",
       "      <td>303</td>\n",
       "      <td>8</td>\n",
       "      <td>13302</td>\n",
       "    </tr>\n",
       "    <tr>\n",
       "      <th>...</th>\n",
       "      <td>...</td>\n",
       "      <td>...</td>\n",
       "      <td>...</td>\n",
       "      <td>...</td>\n",
       "      <td>...</td>\n",
       "      <td>...</td>\n",
       "      <td>...</td>\n",
       "      <td>...</td>\n",
       "      <td>...</td>\n",
       "      <td>...</td>\n",
       "    </tr>\n",
       "    <tr>\n",
       "      <th>10678</th>\n",
       "      <td>0</td>\n",
       "      <td>41</td>\n",
       "      <td>3</td>\n",
       "      <td>0</td>\n",
       "      <td>64</td>\n",
       "      <td>183</td>\n",
       "      <td>1259</td>\n",
       "      <td>236</td>\n",
       "      <td>8</td>\n",
       "      <td>4107</td>\n",
       "    </tr>\n",
       "    <tr>\n",
       "      <th>10679</th>\n",
       "      <td>1</td>\n",
       "      <td>29</td>\n",
       "      <td>3</td>\n",
       "      <td>0</td>\n",
       "      <td>64</td>\n",
       "      <td>193</td>\n",
       "      <td>1305</td>\n",
       "      <td>237</td>\n",
       "      <td>8</td>\n",
       "      <td>4145</td>\n",
       "    </tr>\n",
       "    <tr>\n",
       "      <th>10680</th>\n",
       "      <td>4</td>\n",
       "      <td>29</td>\n",
       "      <td>0</td>\n",
       "      <td>2</td>\n",
       "      <td>18</td>\n",
       "      <td>58</td>\n",
       "      <td>824</td>\n",
       "      <td>280</td>\n",
       "      <td>8</td>\n",
       "      <td>7229</td>\n",
       "    </tr>\n",
       "    <tr>\n",
       "      <th>10681</th>\n",
       "      <td>10</td>\n",
       "      <td>0</td>\n",
       "      <td>0</td>\n",
       "      <td>5</td>\n",
       "      <td>18</td>\n",
       "      <td>92</td>\n",
       "      <td>938</td>\n",
       "      <td>238</td>\n",
       "      <td>8</td>\n",
       "      <td>12648</td>\n",
       "    </tr>\n",
       "    <tr>\n",
       "      <th>10682</th>\n",
       "      <td>1</td>\n",
       "      <td>42</td>\n",
       "      <td>2</td>\n",
       "      <td>1</td>\n",
       "      <td>108</td>\n",
       "      <td>85</td>\n",
       "      <td>1124</td>\n",
       "      <td>347</td>\n",
       "      <td>8</td>\n",
       "      <td>11753</td>\n",
       "    </tr>\n",
       "  </tbody>\n",
       "</table>\n",
       "<p>10578 rows × 10 columns</p>\n",
       "</div>"
      ],
      "text/plain": [
       "       Airline  Date_of_Journey  Source  Destination  Route  Dep_Time  \\\n",
       "0            3               24       0            5     18       211   \n",
       "1            1                6       3            0     84        31   \n",
       "2            4               43       2            1    118        70   \n",
       "3            3               10       3            0     91       164   \n",
       "4            3                0       0            5     29       149   \n",
       "...        ...              ...     ...          ...    ...       ...   \n",
       "10678        0               41       3            0     64       183   \n",
       "10679        1               29       3            0     64       193   \n",
       "10680        4               29       0            2     18        58   \n",
       "10681       10                0       0            5     18        92   \n",
       "10682        1               42       2            1    108        85   \n",
       "\n",
       "       Arrival_Time  Duration  Additional_Info  Price  \n",
       "0               233       240                8   3897  \n",
       "1               906       336                8   7662  \n",
       "2               413       106                8  13882  \n",
       "3              1324       311                8   6218  \n",
       "4              1237       303                8  13302  \n",
       "...             ...       ...              ...    ...  \n",
       "10678          1259       236                8   4107  \n",
       "10679          1305       237                8   4145  \n",
       "10680           824       280                8   7229  \n",
       "10681           938       238                8  12648  \n",
       "10682          1124       347                8  11753  \n",
       "\n",
       "[10578 rows x 10 columns]"
      ]
     },
     "execution_count": 572,
     "metadata": {},
     "output_type": "execute_result"
    }
   ],
   "source": [
    "df1=df[(z<3).all(axis=1)]\n",
    "df1"
   ]
  },
  {
   "cell_type": "code",
   "execution_count": 573,
   "id": "8a9bb1de",
   "metadata": {},
   "outputs": [
    {
     "data": {
      "image/png": "[encoded data removed]",
      "text/plain": [
       "<Figure size 1440x360 with 10 Axes>"
      ]
     },
     "metadata": {},
     "output_type": "display_data"
    }
   ],
   "source": [
    "\n",
    "plt.figure(figsize=(20,5),facecolor='pink')\n",
    "plotnumber=1\n",
    "\n",
    "for column in df:\n",
    "    if plotnumber<=12:\n",
    "        ax = plt.subplot(2,6,plotnumber)\n",
    "        plt.boxplot(df[column])\n",
    "        plt.xlabel(column,fontsize=8)\n",
    "    \n",
    "    \n",
    "    plotnumber+=1\n",
    "plt.tight_layout()"
   ]
  },
  {
   "cell_type": "markdown",
   "id": "d9bb2508",
   "metadata": {},
   "source": [
    "Observations: \n",
    "\n",
    "we can see outlier is still present but we cant use Z score twice as to avoid Data loss"
   ]
  },
  {
   "cell_type": "code",
   "execution_count": 574,
   "id": "e7b475bc",
   "metadata": {},
   "outputs": [
    {
     "data": {
      "text/html": [
       "<div>\n",
       "<style scoped>\n",
       "    .dataframe tbody tr th:only-of-type {\n",
       "        vertical-align: middle;\n",
       "    }\n",
       "\n",
       "    .dataframe tbody tr th {\n",
       "        vertical-align: top;\n",
       "    }\n",
       "\n",
       "    .dataframe thead th {\n",
       "        text-align: right;\n",
       "    }\n",
       "</style>\n",
       "<table border=\"1\" class=\"dataframe\">\n",
       "  <thead>\n",
       "    <tr style=\"text-align: right;\">\n",
       "      <th></th>\n",
       "      <th>Airline</th>\n",
       "      <th>Date_of_Journey</th>\n",
       "      <th>Source</th>\n",
       "      <th>Destination</th>\n",
       "      <th>Route</th>\n",
       "      <th>Dep_Time</th>\n",
       "      <th>Arrival_Time</th>\n",
       "      <th>Duration</th>\n",
       "      <th>Additional_Info</th>\n",
       "      <th>Price</th>\n",
       "    </tr>\n",
       "  </thead>\n",
       "  <tbody>\n",
       "    <tr>\n",
       "      <th>count</th>\n",
       "      <td>10578.000000</td>\n",
       "      <td>10578.000000</td>\n",
       "      <td>10578.000000</td>\n",
       "      <td>10578.000000</td>\n",
       "      <td>10578.000000</td>\n",
       "      <td>10578.000000</td>\n",
       "      <td>10578.000000</td>\n",
       "      <td>10578.000000</td>\n",
       "      <td>10578.000000</td>\n",
       "      <td>10578.000000</td>\n",
       "    </tr>\n",
       "    <tr>\n",
       "      <th>mean</th>\n",
       "      <td>3.968330</td>\n",
       "      <td>23.909435</td>\n",
       "      <td>1.965873</td>\n",
       "      <td>1.408773</td>\n",
       "      <td>75.304216</td>\n",
       "      <td>107.983551</td>\n",
       "      <td>870.172150</td>\n",
       "      <td>194.123464</td>\n",
       "      <td>7.404897</td>\n",
       "      <td>8890.134241</td>\n",
       "    </tr>\n",
       "    <tr>\n",
       "      <th>std</th>\n",
       "      <td>2.358492</td>\n",
       "      <td>12.210947</td>\n",
       "      <td>1.169508</td>\n",
       "      <td>1.447988</td>\n",
       "      <td>36.397147</td>\n",
       "      <td>61.045733</td>\n",
       "      <td>331.344284</td>\n",
       "      <td>108.405421</td>\n",
       "      <td>1.171695</td>\n",
       "      <td>4061.577272</td>\n",
       "    </tr>\n",
       "    <tr>\n",
       "      <th>min</th>\n",
       "      <td>0.000000</td>\n",
       "      <td>0.000000</td>\n",
       "      <td>0.000000</td>\n",
       "      <td>0.000000</td>\n",
       "      <td>0.000000</td>\n",
       "      <td>0.000000</td>\n",
       "      <td>0.000000</td>\n",
       "      <td>0.000000</td>\n",
       "      <td>4.000000</td>\n",
       "      <td>1759.000000</td>\n",
       "    </tr>\n",
       "    <tr>\n",
       "      <th>25%</th>\n",
       "      <td>3.000000</td>\n",
       "      <td>14.000000</td>\n",
       "      <td>2.000000</td>\n",
       "      <td>0.000000</td>\n",
       "      <td>48.000000</td>\n",
       "      <td>55.000000</td>\n",
       "      <td>603.000000</td>\n",
       "      <td>108.000000</td>\n",
       "      <td>8.000000</td>\n",
       "      <td>5228.000000</td>\n",
       "    </tr>\n",
       "    <tr>\n",
       "      <th>50%</th>\n",
       "      <td>4.000000</td>\n",
       "      <td>24.000000</td>\n",
       "      <td>2.000000</td>\n",
       "      <td>1.000000</td>\n",
       "      <td>74.000000</td>\n",
       "      <td>96.000000</td>\n",
       "      <td>937.000000</td>\n",
       "      <td>233.000000</td>\n",
       "      <td>8.000000</td>\n",
       "      <td>8353.500000</td>\n",
       "    </tr>\n",
       "    <tr>\n",
       "      <th>75%</th>\n",
       "      <td>4.000000</td>\n",
       "      <td>35.000000</td>\n",
       "      <td>3.000000</td>\n",
       "      <td>2.000000</td>\n",
       "      <td>104.000000</td>\n",
       "      <td>164.000000</td>\n",
       "      <td>1141.000000</td>\n",
       "      <td>280.000000</td>\n",
       "      <td>8.000000</td>\n",
       "      <td>12293.000000</td>\n",
       "    </tr>\n",
       "    <tr>\n",
       "      <th>max</th>\n",
       "      <td>11.000000</td>\n",
       "      <td>43.000000</td>\n",
       "      <td>4.000000</td>\n",
       "      <td>5.000000</td>\n",
       "      <td>127.000000</td>\n",
       "      <td>221.000000</td>\n",
       "      <td>1342.000000</td>\n",
       "      <td>367.000000</td>\n",
       "      <td>9.000000</td>\n",
       "      <td>22798.000000</td>\n",
       "    </tr>\n",
       "  </tbody>\n",
       "</table>\n",
       "</div>"
      ],
      "text/plain": [
       "            Airline  Date_of_Journey        Source   Destination  \\\n",
       "count  10578.000000     10578.000000  10578.000000  10578.000000   \n",
       "mean       3.968330        23.909435      1.965873      1.408773   \n",
       "std        2.358492        12.210947      1.169508      1.447988   \n",
       "min        0.000000         0.000000      0.000000      0.000000   \n",
       "25%        3.000000        14.000000      2.000000      0.000000   \n",
       "50%        4.000000        24.000000      2.000000      1.000000   \n",
       "75%        4.000000        35.000000      3.000000      2.000000   \n",
       "max       11.000000        43.000000      4.000000      5.000000   \n",
       "\n",
       "              Route      Dep_Time  Arrival_Time      Duration  \\\n",
       "count  10578.000000  10578.000000  10578.000000  10578.000000   \n",
       "mean      75.304216    107.983551    870.172150    194.123464   \n",
       "std       36.397147     61.045733    331.344284    108.405421   \n",
       "min        0.000000      0.000000      0.000000      0.000000   \n",
       "25%       48.000000     55.000000    603.000000    108.000000   \n",
       "50%       74.000000     96.000000    937.000000    233.000000   \n",
       "75%      104.000000    164.000000   1141.000000    280.000000   \n",
       "max      127.000000    221.000000   1342.000000    367.000000   \n",
       "\n",
       "       Additional_Info         Price  \n",
       "count     10578.000000  10578.000000  \n",
       "mean          7.404897   8890.134241  \n",
       "std           1.171695   4061.577272  \n",
       "min           4.000000   1759.000000  \n",
       "25%           8.000000   5228.000000  \n",
       "50%           8.000000   8353.500000  \n",
       "75%           8.000000  12293.000000  \n",
       "max           9.000000  22798.000000  "
      ]
     },
     "execution_count": 574,
     "metadata": {},
     "output_type": "execute_result"
    }
   ],
   "source": [
    "df1.describe()"
   ]
  },
  {
   "cell_type": "markdown",
   "id": "23294be7",
   "metadata": {},
   "source": [
    "Observation: Std dev is high in multiple columns hence possibilies are present for skwness in Data. Need to remove skwness from all columns with using Power transform technique. It also convert the data in same format hence we can further use standard scaler"
   ]
  },
  {
   "cell_type": "markdown",
   "id": "072693bf",
   "metadata": {},
   "source": [
    "# checking outliers with percentile technique"
   ]
  },
  {
   "cell_type": "code",
   "execution_count": 575,
   "id": "8bbb8f7b",
   "metadata": {},
   "outputs": [
    {
     "data": {
      "text/plain": [
       "Index(['Airline', 'Date_of_Journey', 'Source', 'Destination', 'Route',\n",
       "       'Dep_Time', 'Arrival_Time', 'Duration', 'Additional_Info', 'Price'],\n",
       "      dtype='object')"
      ]
     },
     "execution_count": 575,
     "metadata": {},
     "output_type": "execute_result"
    }
   ],
   "source": [
    "df1.columns"
   ]
  },
  {
   "cell_type": "code",
   "execution_count": 576,
   "id": "f9b6e878",
   "metadata": {},
   "outputs": [
    {
     "data": {
      "text/plain": [
       "0.0     0.0\n",
       "0.1     1.0\n",
       "0.2     2.0\n",
       "0.3     3.0\n",
       "0.4     3.0\n",
       "0.5     4.0\n",
       "0.6     4.0\n",
       "0.7     4.0\n",
       "0.8     6.0\n",
       "0.9     8.0\n",
       "1.0    11.0\n",
       "Name: Airline, dtype: float64"
      ]
     },
     "execution_count": 576,
     "metadata": {},
     "output_type": "execute_result"
    }
   ],
   "source": [
    "df1['Airline'].quantile([0,0.1,0.2,0.3,0.4,0.5,0.6,0.7,0.8,0.9,1])"
   ]
  },
  {
   "cell_type": "markdown",
   "id": "bb4290c1",
   "metadata": {},
   "source": [
    "here we can see the diff in each quantile is around 1 or 2 but 90th and 100th quantile is having diff of 3 hence some outlier is present."
   ]
  },
  {
   "cell_type": "code",
   "execution_count": 577,
   "id": "258acb0c",
   "metadata": {},
   "outputs": [
    {
     "data": {
      "text/plain": [
       "0.0     0.0\n",
       "0.1     7.0\n",
       "0.2    11.0\n",
       "0.3    15.0\n",
       "0.4    20.0\n",
       "0.5    24.0\n",
       "0.6    28.0\n",
       "0.7    32.0\n",
       "0.8    37.0\n",
       "0.9    41.0\n",
       "1.0    43.0\n",
       "Name: Date_of_Journey, dtype: float64"
      ]
     },
     "execution_count": 577,
     "metadata": {},
     "output_type": "execute_result"
    }
   ],
   "source": [
    "df1['Date_of_Journey'].quantile([0,0.1,0.2,0.3,0.4,0.5,0.6,0.7,0.8,0.9,1])"
   ]
  },
  {
   "cell_type": "markdown",
   "id": "47514a98",
   "metadata": {},
   "source": [
    "here we can see the diff in each quantile is almost same hence not outlier is present"
   ]
  },
  {
   "cell_type": "code",
   "execution_count": 578,
   "id": "44b1aca5",
   "metadata": {},
   "outputs": [
    {
     "data": {
      "text/plain": [
       "0.0    0.0\n",
       "0.1    0.0\n",
       "0.2    0.4\n",
       "0.3    2.0\n",
       "0.4    2.0\n",
       "0.5    2.0\n",
       "0.6    2.0\n",
       "0.7    3.0\n",
       "0.8    3.0\n",
       "0.9    3.0\n",
       "1.0    4.0\n",
       "Name: Source, dtype: float64"
      ]
     },
     "execution_count": 578,
     "metadata": {},
     "output_type": "execute_result"
    }
   ],
   "source": [
    "df1['Source'].quantile([0,0.1,0.2,0.3,0.4,0.5,0.6,0.7,0.8,0.9,1])"
   ]
  },
  {
   "cell_type": "markdown",
   "id": "cca24efc",
   "metadata": {},
   "source": [
    "herewe can see small amount of outlier is present on starting quatiles"
   ]
  },
  {
   "cell_type": "code",
   "execution_count": 579,
   "id": "917554ba",
   "metadata": {},
   "outputs": [
    {
     "data": {
      "text/plain": [
       "0.0    4.0\n",
       "0.1    5.0\n",
       "0.2    7.0\n",
       "0.3    8.0\n",
       "0.4    8.0\n",
       "0.5    8.0\n",
       "0.6    8.0\n",
       "0.7    8.0\n",
       "0.8    8.0\n",
       "0.9    8.0\n",
       "1.0    9.0\n",
       "Name: Additional_Info, dtype: float64"
      ]
     },
     "execution_count": 579,
     "metadata": {},
     "output_type": "execute_result"
    }
   ],
   "source": [
    "df1['Additional_Info'].quantile([0,0.1,0.2,0.3,0.4,0.5,0.6,0.7,0.8,0.9,1])"
   ]
  },
  {
   "cell_type": "markdown",
   "id": "608eef11",
   "metadata": {},
   "source": [
    "we can see on starting we have diff in 0th,1st and 2nd quatile hence small amount of outliers are present"
   ]
  },
  {
   "cell_type": "markdown",
   "id": "8ec64e19",
   "metadata": {},
   "source": [
    "# Creating feature and labels"
   ]
  },
  {
   "cell_type": "code",
   "execution_count": 580,
   "id": "73577425",
   "metadata": {},
   "outputs": [],
   "source": [
    "X=df1.drop('Price',axis=1)\n",
    "y=df1.Price"
   ]
  },
  {
   "cell_type": "code",
   "execution_count": 581,
   "id": "aee26cb0",
   "metadata": {},
   "outputs": [
    {
     "data": {
      "text/plain": [
       "(10578, 9)"
      ]
     },
     "execution_count": 581,
     "metadata": {},
     "output_type": "execute_result"
    }
   ],
   "source": [
    "X.shape"
   ]
  },
  {
   "cell_type": "code",
   "execution_count": 582,
   "id": "f2fa0bb2",
   "metadata": {},
   "outputs": [
    {
     "data": {
      "text/plain": [
       "(10578,)"
      ]
     },
     "execution_count": 582,
     "metadata": {},
     "output_type": "execute_result"
    }
   ],
   "source": [
    "y.shape"
   ]
  },
  {
   "cell_type": "markdown",
   "id": "6424f802",
   "metadata": {},
   "source": [
    "# checking and Handling skewness"
   ]
  },
  {
   "cell_type": "code",
   "execution_count": 583,
   "id": "ad696d80",
   "metadata": {},
   "outputs": [
    {
     "data": {
      "text/plain": [
       "Destination        1.269454\n",
       "Airline            0.731709\n",
       "Dep_Time           0.194141\n",
       "Date_of_Journey   -0.061918\n",
       "Duration          -0.216095\n",
       "Source            -0.439204\n",
       "Route             -0.511368\n",
       "Arrival_Time      -0.608273\n",
       "Additional_Info   -1.533587\n",
       "dtype: float64"
      ]
     },
     "execution_count": 583,
     "metadata": {},
     "output_type": "execute_result"
    }
   ],
   "source": [
    "X.skew().sort_values(ascending=False)"
   ]
  },
  {
   "cell_type": "markdown",
   "id": "f16698d5",
   "metadata": {},
   "source": [
    "we have some skewness present in Destination, Airline, Route, Arrival_time, Additional_Info as it is not in range of +-0.5"
   ]
  },
  {
   "cell_type": "markdown",
   "id": "f6b16bb9",
   "metadata": {},
   "source": [
    "# Using power_tranform method "
   ]
  },
  {
   "cell_type": "code",
   "execution_count": 584,
   "id": "1bc23098",
   "metadata": {},
   "outputs": [],
   "source": [
    "from sklearn.preprocessing import power_transform"
   ]
  },
  {
   "cell_type": "code",
   "execution_count": 585,
   "id": "f6804790",
   "metadata": {},
   "outputs": [],
   "source": [
    "x_new=power_transform(X)"
   ]
  },
  {
   "cell_type": "code",
   "execution_count": 586,
   "id": "7c219cd6",
   "metadata": {},
   "outputs": [
    {
     "data": {
      "text/plain": [
       "3    0.040863\n",
       "0   -0.015590\n",
       "5   -0.150696\n",
       "1   -0.214275\n",
       "2   -0.234422\n",
       "6   -0.382489\n",
       "7   -0.391174\n",
       "4   -0.437329\n",
       "8   -1.363711\n",
       "dtype: float64"
      ]
     },
     "execution_count": 586,
     "metadata": {},
     "output_type": "execute_result"
    }
   ],
   "source": [
    "pd.DataFrame(x_new).skew().sort_values(ascending=False)"
   ]
  },
  {
   "cell_type": "code",
   "execution_count": 587,
   "id": "7a4fbcdc",
   "metadata": {},
   "outputs": [
    {
     "data": {
      "text/plain": [
       "Destination        0.040863\n",
       "Airline           -0.015590\n",
       "Dep_Time          -0.150696\n",
       "Date_of_Journey   -0.214275\n",
       "Source            -0.234422\n",
       "Arrival_Time      -0.382489\n",
       "Duration          -0.391174\n",
       "Route             -0.437329\n",
       "Additional_Info   -1.363711\n",
       "dtype: float64"
      ]
     },
     "execution_count": 587,
     "metadata": {},
     "output_type": "execute_result"
    }
   ],
   "source": [
    "pd.DataFrame(x_new,columns=X.columns).skew().sort_values(ascending=False) # assigning columns from X"
   ]
  },
  {
   "cell_type": "code",
   "execution_count": 588,
   "id": "d8602674",
   "metadata": {},
   "outputs": [],
   "source": [
    "x=pd.DataFrame(x_new,columns=X.columns)"
   ]
  },
  {
   "cell_type": "code",
   "execution_count": 589,
   "id": "635e517d",
   "metadata": {},
   "outputs": [
    {
     "data": {
      "text/plain": [
       "Destination        0.040863\n",
       "Airline           -0.015590\n",
       "Dep_Time          -0.150696\n",
       "Date_of_Journey   -0.214275\n",
       "Source            -0.234422\n",
       "Arrival_Time      -0.382489\n",
       "Duration          -0.391174\n",
       "Route             -0.437329\n",
       "Additional_Info   -1.363711\n",
       "dtype: float64"
      ]
     },
     "execution_count": 589,
     "metadata": {},
     "output_type": "execute_result"
    }
   ],
   "source": [
    "x.skew().sort_values(ascending=False)"
   ]
  },
  {
   "cell_type": "markdown",
   "id": "7254c7cc",
   "metadata": {},
   "source": [
    "from All column Skwness got removed except Additional_Info .\n",
    "\n",
    "This \"Additional_Info \" column we cant handle by Boxcox method as well as it performs on positive Data."
   ]
  },
  {
   "cell_type": "markdown",
   "id": "34e8577e",
   "metadata": {},
   "source": [
    "# Using StandardScaler"
   ]
  },
  {
   "cell_type": "code",
   "execution_count": 596,
   "id": "4f083d5f",
   "metadata": {},
   "outputs": [],
   "source": [
    "from sklearn.preprocessing import StandardScaler\n",
    "from statsmodels.stats.outliers_influence import variance_inflation_factor\n",
    "scaler=StandardScaler()\n",
    "x_scaled=scaler.fit_transform(x)"
   ]
  },
  {
   "cell_type": "markdown",
   "id": "e51d2ec7",
   "metadata": {},
   "source": [
    "# USing VIF (Variance inflation Factor) to handle Multicolinearity"
   ]
  },
  {
   "cell_type": "code",
   "execution_count": 597,
   "id": "51f59b45",
   "metadata": {},
   "outputs": [
    {
     "data": {
      "text/html": [
       "<div>\n",
       "<style scoped>\n",
       "    .dataframe tbody tr th:only-of-type {\n",
       "        vertical-align: middle;\n",
       "    }\n",
       "\n",
       "    .dataframe tbody tr th {\n",
       "        vertical-align: top;\n",
       "    }\n",
       "\n",
       "    .dataframe thead th {\n",
       "        text-align: right;\n",
       "    }\n",
       "</style>\n",
       "<table border=\"1\" class=\"dataframe\">\n",
       "  <thead>\n",
       "    <tr style=\"text-align: right;\">\n",
       "      <th></th>\n",
       "      <th>vif</th>\n",
       "      <th>feature</th>\n",
       "    </tr>\n",
       "  </thead>\n",
       "  <tbody>\n",
       "    <tr>\n",
       "      <th>2</th>\n",
       "      <td>1.720346</td>\n",
       "      <td>Source</td>\n",
       "    </tr>\n",
       "    <tr>\n",
       "      <th>3</th>\n",
       "      <td>1.653160</td>\n",
       "      <td>Destination</td>\n",
       "    </tr>\n",
       "    <tr>\n",
       "      <th>4</th>\n",
       "      <td>1.202818</td>\n",
       "      <td>Route</td>\n",
       "    </tr>\n",
       "    <tr>\n",
       "      <th>1</th>\n",
       "      <td>1.084300</td>\n",
       "      <td>Date_of_Journey</td>\n",
       "    </tr>\n",
       "    <tr>\n",
       "      <th>7</th>\n",
       "      <td>1.061707</td>\n",
       "      <td>Duration</td>\n",
       "    </tr>\n",
       "    <tr>\n",
       "      <th>8</th>\n",
       "      <td>1.047857</td>\n",
       "      <td>Additional_Info</td>\n",
       "    </tr>\n",
       "    <tr>\n",
       "      <th>0</th>\n",
       "      <td>1.038650</td>\n",
       "      <td>Airline</td>\n",
       "    </tr>\n",
       "    <tr>\n",
       "      <th>5</th>\n",
       "      <td>1.034570</td>\n",
       "      <td>Dep_Time</td>\n",
       "    </tr>\n",
       "    <tr>\n",
       "      <th>6</th>\n",
       "      <td>1.008096</td>\n",
       "      <td>Arrival_Time</td>\n",
       "    </tr>\n",
       "  </tbody>\n",
       "</table>\n",
       "</div>"
      ],
      "text/plain": [
       "        vif          feature\n",
       "2  1.720346           Source\n",
       "3  1.653160      Destination\n",
       "4  1.202818            Route\n",
       "1  1.084300  Date_of_Journey\n",
       "7  1.061707         Duration\n",
       "8  1.047857  Additional_Info\n",
       "0  1.038650          Airline\n",
       "5  1.034570         Dep_Time\n",
       "6  1.008096     Arrival_Time"
      ]
     },
     "execution_count": 597,
     "metadata": {},
     "output_type": "execute_result"
    }
   ],
   "source": [
    "from statsmodels.stats.outliers_influence import variance_inflation_factor\n",
    "vif=pd.DataFrame()\n",
    "vif['vif']=[variance_inflation_factor(x_scaled,i)for i in range(x_scaled.shape[1])]\n",
    "vif['feature']=x.columns\n",
    "vif.sort_values(by='vif',ascending=False)"
   ]
  },
  {
   "cell_type": "markdown",
   "id": "beda0202",
   "metadata": {},
   "source": [
    "we can see all columns are in range of VIF i.e Not Greter tha 5 hence we will not drop any column"
   ]
  },
  {
   "cell_type": "code",
   "execution_count": 598,
   "id": "b4d58a0b",
   "metadata": {},
   "outputs": [
    {
     "data": {
      "text/plain": [
       "(10578, 9)"
      ]
     },
     "execution_count": 598,
     "metadata": {},
     "output_type": "execute_result"
    }
   ],
   "source": [
    "x.shape"
   ]
  },
  {
   "cell_type": "code",
   "execution_count": 599,
   "id": "63e4f038",
   "metadata": {},
   "outputs": [
    {
     "data": {
      "text/plain": [
       "(10578,)"
      ]
     },
     "execution_count": 599,
     "metadata": {},
     "output_type": "execute_result"
    }
   ],
   "source": [
    "y.shape"
   ]
  },
  {
   "cell_type": "code",
   "execution_count": null,
   "id": "b6c831f6",
   "metadata": {},
   "outputs": [],
   "source": []
  },
  {
   "cell_type": "markdown",
   "id": "24f06849",
   "metadata": {},
   "source": [
    "# Model Prediction"
   ]
  },
  {
   "cell_type": "markdown",
   "id": "550ad8d0",
   "metadata": {},
   "source": [
    "# Using Linear Regression algorithm:-"
   ]
  },
  {
   "cell_type": "code",
   "execution_count": 601,
   "id": "ea6131ba",
   "metadata": {},
   "outputs": [
    {
     "name": "stdout",
     "output_type": "stream",
     "text": [
      "accuracy 0.14895855243045053 Random state 0.1\n",
      "accuracy 0.1638831131000551 Random state 0.11\n",
      "Best accuracy is 16.38831131000551 on Random state 0.11\n"
     ]
    }
   ],
   "source": [
    "#To get best Test size number from 1 to 40%\n",
    "from sklearn.linear_model import LinearRegression\n",
    "from sklearn.ensemble import RandomForestRegressor \n",
    "from sklearn.neighbors import KNeighborsRegressor\n",
    "from sklearn.svm import SVR\n",
    "from sklearn.metrics import accuracy_score\n",
    "from sklearn.metrics import confusion_matrix,classification_report\n",
    "from sklearn.metrics import mean_squared_error,mean_absolute_error\n",
    "from sklearn.model_selection import train_test_split\n",
    "\n",
    "\n",
    "maxAcc = 0\n",
    "maxRs=0\n",
    "\n",
    "for i in range(10,41):\n",
    "    i1=i*0.010\n",
    "    x_train, x_test, y_train, y_test= train_test_split(x,y,test_size=i1)\n",
    "    lr=LinearRegression()\n",
    "    lr.fit(x_train,y_train)\n",
    "    pred=lr.predict(x_test)\n",
    "    acc=lr.score(x_test,y_test)\n",
    "    \n",
    "    \n",
    "    if acc>maxAcc:\n",
    "        maxAcc=acc\n",
    "        maxRs=i1\n",
    "        print('accuracy',maxAcc,'Random state',i1)\n",
    "print(\"Best accuracy is\",maxAcc*100,\"on Random state\",maxRs)"
   ]
  },
  {
   "cell_type": "code",
   "execution_count": 602,
   "id": "b7b78e82",
   "metadata": {},
   "outputs": [
    {
     "name": "stdout",
     "output_type": "stream",
     "text": [
      "accuracy 0.12510543184037382 Random state 1\n",
      "accuracy 0.19043048056724998 Random state 2\n",
      "accuracy 0.1945702158958189 Random state 217\n",
      "Best accuracy is 19.457021589581892 on Random state 217\n"
     ]
    }
   ],
   "source": [
    "maxAcc = 0\n",
    "maxRs=0\n",
    "\n",
    "for i in range(1,500):\n",
    "    x_train, x_test, y_train, y_test= train_test_split(x,y,test_size=0.11,random_state=i) \n",
    "    lr=LinearRegression()\n",
    "    lr.fit(x_train,y_train)\n",
    "    pred=lr.predict(x_test)\n",
    "    acc=lr.score(x_test,y_test)\n",
    "    \n",
    "    \n",
    "    if acc>maxAcc:\n",
    "        maxAcc=acc\n",
    "        maxRs=i\n",
    "        print('accuracy',maxAcc,'Random state',i)\n",
    "        \n",
    "print(\"Best accuracy is\",maxAcc*100,\"on Random state\",maxRs) "
   ]
  },
  {
   "cell_type": "code",
   "execution_count": 603,
   "id": "94a4c4e6",
   "metadata": {},
   "outputs": [
    {
     "data": {
      "text/plain": [
       "(19.457021589581892, 2969.680101347318, 3585.4478522138234)"
      ]
     },
     "execution_count": 603,
     "metadata": {},
     "output_type": "execute_result"
    }
   ],
   "source": [
    "from sklearn.metrics import r2_score\n",
    "from sklearn.metrics import mean_squared_error,mean_absolute_error\n",
    "from sklearn.model_selection import train_test_split\n",
    "from sklearn.metrics import accuracy_score\n",
    "from sklearn.metrics import confusion_matrix,classification_report\n",
    "\n",
    "x_train, x_test, y_train, y_test= train_test_split(x,y,test_size=0.11,random_state=217)\n",
    "lr=LinearRegression()\n",
    "lr.fit(x_train,y_train)\n",
    "pred=lr.predict(x_test)\n",
    "acc=lr.score(x_test,y_test)\n",
    "\n",
    "\n",
    "#print(\"predicted values\",pred)\n",
    "#print(\"predicted values\",y_test)\n",
    "r2_score(y_test, pred)*100, mean_absolute_error(y_test, pred), np.sqrt(mean_squared_error(y_test, pred))"
   ]
  },
  {
   "cell_type": "markdown",
   "id": "05713868",
   "metadata": {},
   "source": [
    "Linear Regression is having 19.45% accuracy which is not good"
   ]
  },
  {
   "cell_type": "markdown",
   "id": "2d89ab11",
   "metadata": {},
   "source": [
    "# Decision Tree Regressor"
   ]
  },
  {
   "cell_type": "code",
   "execution_count": 604,
   "id": "e37c3c17",
   "metadata": {},
   "outputs": [
    {
     "name": "stdout",
     "output_type": "stream",
     "text": [
      "accuracy 0.8619421070355603 Random state 0.1\n",
      "Best accuracy is 86.19421070355602 on Random state 0.1\n"
     ]
    }
   ],
   "source": [
    "#finding best testsize \n",
    "from sklearn.tree import DecisionTreeRegressor\n",
    "\n",
    "maxAcc = 0\n",
    "maxRs=0\n",
    "\n",
    "for i in range(10,41):\n",
    "    i1=i*0.010\n",
    "    x_train, x_test, y_train, y_test= train_test_split(x,y,test_size=i1)\n",
    "    dt=DecisionTreeRegressor()\n",
    "    dt.fit(x_train,y_train)\n",
    "    pred=dt.predict(x_test)\n",
    "    acc=dt.score(x_test,y_test)\n",
    "    \n",
    "    \n",
    "    if acc>maxAcc:\n",
    "        maxAcc=acc\n",
    "        maxRs=i1\n",
    "        print('accuracy',maxAcc,'Random state',i1)\n",
    "print(\"Best accuracy is\",maxAcc*100,\"on Random state\",maxRs)"
   ]
  },
  {
   "cell_type": "code",
   "execution_count": 605,
   "id": "c2fae12d",
   "metadata": {},
   "outputs": [
    {
     "name": "stdout",
     "output_type": "stream",
     "text": [
      "accuracy 0.8609525481584069 Random state 1\n",
      "accuracy 0.875517559879265 Random state 2\n",
      "accuracy 0.8797532180703175 Random state 12\n",
      "accuracy 0.8858956404414137 Random state 107\n",
      "Best accuracy is 88.58956404414137 on Random state 107\n"
     ]
    }
   ],
   "source": [
    "#finding best random state\n",
    "maxAcc = 0\n",
    "maxRs=0\n",
    "\n",
    "for i in range(1,500):\n",
    "    x_train, x_test, y_train, y_test= train_test_split(x,y,test_size=0.10,random_state=i) #12 - 77.41\n",
    "    dt=DecisionTreeRegressor()\n",
    "    dt.fit(x_train,y_train)\n",
    "    pred=dt.predict(x_test)\n",
    "    acc=dt.score(x_test,y_test)\n",
    "   \n",
    "    \n",
    "    if acc>maxAcc:\n",
    "        maxAcc=acc\n",
    "        maxRs=i\n",
    "        print('accuracy',maxAcc,'Random state',i)\n",
    "        \n",
    "print(\"Best accuracy is\",maxAcc*100,\"on Random state\",maxRs) "
   ]
  },
  {
   "cell_type": "code",
   "execution_count": 606,
   "id": "eea1e8cc",
   "metadata": {},
   "outputs": [
    {
     "data": {
      "text/plain": [
       "(87.96628060997061, 710.0625393824827, 1451.6883378034254)"
      ]
     },
     "execution_count": 606,
     "metadata": {},
     "output_type": "execute_result"
    }
   ],
   "source": [
    "from sklearn.metrics import r2_score\n",
    "from sklearn.metrics import mean_squared_error,mean_absolute_error\n",
    "from sklearn.model_selection import train_test_split\n",
    "from sklearn.metrics import accuracy_score\n",
    "from sklearn.metrics import confusion_matrix,classification_report\n",
    "\n",
    "x_train, x_test, y_train, y_test= train_test_split(x,y,test_size=0.10,random_state=107) \n",
    "dt=DecisionTreeRegressor()\n",
    "dt.fit(x_train,y_train)\n",
    "pred=dt.predict(x_test)\n",
    "acc=dt.score(x_test,y_test)\n",
    "\n",
    "\n",
    "#print(\"predicted values\",pred)\n",
    "#print(\"predicted values\",y_test)\n",
    "r2_score(y_test, pred)*100, mean_absolute_error(y_test, pred), np.sqrt(mean_squared_error(y_test, pred))"
   ]
  },
  {
   "cell_type": "markdown",
   "id": "fe9996ec",
   "metadata": {},
   "source": [
    "Accuracy for Decision Tree is 87.96% which is good"
   ]
  },
  {
   "cell_type": "markdown",
   "id": "25d1b196",
   "metadata": {},
   "source": [
    "# Random forest algorithm Algorithm"
   ]
  },
  {
   "cell_type": "code",
   "execution_count": 607,
   "id": "f954bb10",
   "metadata": {},
   "outputs": [
    {
     "name": "stdout",
     "output_type": "stream",
     "text": [
      "accuracy 0.8710491099719606 Random state 0.09\n",
      "accuracy 0.8852880305816889 Random state 0.1\n",
      "accuracy 0.8977409666123256 Random state 0.11\n",
      "accuracy 0.9032741849868807 Random state 0.16\n",
      "accuracy 0.903454536022293 Random state 0.19\n",
      "Best accuracy is 90.3454536022293 on Random state 0.19\n"
     ]
    }
   ],
   "source": [
    "from sklearn.metrics import r2_score\n",
    "from sklearn.metrics import mean_squared_error,mean_absolute_error\n",
    "from sklearn.model_selection import train_test_split\n",
    "from sklearn.metrics import accuracy_score\n",
    "from sklearn.metrics import confusion_matrix,classification_report\n",
    "\n",
    "#finding best testsize \n",
    "from sklearn.ensemble import RandomForestRegressor \n",
    "\n",
    "maxAcc = 0\n",
    "maxRs=0\n",
    "\n",
    "for i in range(9,41):\n",
    "    i1=i*0.01\n",
    "    x_train, x_test, y_train, y_test= train_test_split(x,y,test_size=i1)\n",
    "    rf=RandomForestRegressor()\n",
    "    rf.fit(x_train,y_train)\n",
    "    pred=rf.predict(x_test)\n",
    "    acc=rf.score(x_test,y_test)\n",
    "   \n",
    "    \n",
    "    if acc>maxAcc:\n",
    "        maxAcc=acc\n",
    "        maxRs=i1\n",
    "        print('accuracy',maxAcc,'Random state',i1)\n",
    "print(\"Best accuracy is\",maxAcc*100,\"on Random state\",maxRs)"
   ]
  },
  {
   "cell_type": "code",
   "execution_count": 608,
   "id": "4a9a7ad9",
   "metadata": {},
   "outputs": [
    {
     "name": "stdout",
     "output_type": "stream",
     "text": [
      "accuracy 0.8968868096152584 Random state 1\n",
      "accuracy 0.897037494563839 Random state 7\n",
      "accuracy 0.8988468921113975 Random state 8\n",
      "accuracy 0.901640073739983 Random state 10\n",
      "accuracy 0.902499797182704 Random state 12\n",
      "accuracy 0.9072110588322676 Random state 15\n",
      "accuracy 0.9092098550822083 Random state 49\n",
      "accuracy 0.9125572688423257 Random state 60\n",
      "Best accuracy is 91.25572688423257 on Random state 60\n"
     ]
    }
   ],
   "source": [
    "#finding best random state\n",
    "maxAcc = 0\n",
    "maxRs=0\n",
    "\n",
    "for i in range(1,100):\n",
    "    x_train, x_test, y_train, y_test= train_test_split(x,y,test_size=0.19,random_state=i)\n",
    "    rf=RandomForestRegressor()\n",
    "    rf.fit(x_train,y_train)\n",
    "    pred=rf.predict(x_test)\n",
    "    acc=rf.score(x_test,y_test)\n",
    "    \n",
    "    \n",
    "    if acc>maxAcc:\n",
    "        maxAcc=acc\n",
    "        maxRs=i\n",
    "        print('accuracy',maxAcc,'Random state',i)\n",
    "        \n",
    "print(\"Best accuracy is\",maxAcc*100,\"on Random state\",maxRs) "
   ]
  },
  {
   "cell_type": "code",
   "execution_count": 609,
   "id": "2dd9b204",
   "metadata": {},
   "outputs": [
    {
     "data": {
      "text/plain": [
       "(91.37919068474784, 691.841618413883, 1202.7661689550519)"
      ]
     },
     "execution_count": 609,
     "metadata": {},
     "output_type": "execute_result"
    }
   ],
   "source": [
    "from sklearn.metrics import r2_score\n",
    "from sklearn.metrics import mean_squared_error,mean_absolute_error\n",
    "from sklearn.model_selection import train_test_split\n",
    "from sklearn.metrics import accuracy_score\n",
    "from sklearn.metrics import confusion_matrix,classification_report\n",
    "\n",
    "x_train, x_test, y_train, y_test= train_test_split(x,y,test_size=0.19,random_state=60) #93.02\n",
    "rf=RandomForestRegressor()\n",
    "rf.fit(x_train,y_train)\n",
    "pred=rf.predict(x_test)\n",
    "acc=rf.score(x_test,y_test)\n",
    "pred_f=y_test\n",
    "\n",
    "\n",
    "#print(\"predicted values\",pred)\n",
    "#print(\"predicted values\",y_test)\n",
    "r2_score(y_test, pred)*100, mean_absolute_error(y_test, pred), np.sqrt(mean_squared_error(y_test, pred))"
   ]
  },
  {
   "cell_type": "markdown",
   "id": "60df39fe",
   "metadata": {},
   "source": [
    "The final accuracy for random forest is 91.37% whci is good"
   ]
  },
  {
   "cell_type": "markdown",
   "id": "d3c942de",
   "metadata": {},
   "source": [
    "# Knneighborsregressor"
   ]
  },
  {
   "cell_type": "code",
   "execution_count": 610,
   "id": "2628faaf",
   "metadata": {},
   "outputs": [
    {
     "name": "stdout",
     "output_type": "stream",
     "text": [
      "accuracy 0.7213275900645825 Random state 0.1\n",
      "accuracy 0.7444154007167931 Random state 0.11\n",
      "accuracy 0.7488991457357497 Random state 0.12\n",
      "accuracy 0.7611744147683521 Random state 0.14\n",
      "accuracy 0.7765925564874414 Random state 0.15\n",
      "Best accuracy is 77.65925564874414 on Random state 0.15\n"
     ]
    }
   ],
   "source": [
    "\n",
    "from sklearn.neighbors import KNeighborsRegressor\n",
    "\n",
    "maxAcc = 0\n",
    "maxRs=0\n",
    "\n",
    "for i in range(10,41):\n",
    "    i1=i*0.010\n",
    "    x_train, x_test, y_train, y_test= train_test_split(x,y,test_size=i1)\n",
    "    knr=KNeighborsRegressor()\n",
    "    knr.fit(x_train,y_train)\n",
    "    pred=knr.predict(x_test)\n",
    "    acc=knr.score(x_test,y_test)\n",
    "    #print('accuracy',acc,'Random state',i)\n",
    "    \n",
    "    if acc>maxAcc:\n",
    "        maxAcc=acc\n",
    "        maxRs=i1\n",
    "        print('accuracy',maxAcc,'Random state',i1)\n",
    "print(\"Best accuracy is\",maxAcc*100,\"on Random state\",maxRs)"
   ]
  },
  {
   "cell_type": "code",
   "execution_count": 611,
   "id": "38e9fb85",
   "metadata": {},
   "outputs": [
    {
     "name": "stdout",
     "output_type": "stream",
     "text": [
      "accuracy 0.7574898901197035 Random state 1\n",
      "accuracy 0.7703528127870234 Random state 2\n",
      "accuracy 0.7703547421046317 Random state 15\n",
      "accuracy 0.7734680968629108 Random state 104\n",
      "accuracy 0.7760519867350062 Random state 141\n",
      "accuracy 0.7775247035488047 Random state 211\n",
      "Best accuracy is 77.75247035488047 on Random state 211\n"
     ]
    }
   ],
   "source": [
    "#finding best random state\n",
    "maxAcc = 0\n",
    "maxRs=0\n",
    "\n",
    "for i in range(1,400):\n",
    "    x_train, x_test, y_train, y_test= train_test_split(x,y,test_size=0.15,random_state=i) \n",
    "    knr=KNeighborsRegressor()\n",
    "    knr.fit(x_train,y_train)\n",
    "    pred=knr.predict(x_test)\n",
    "    acc=knr.score(x_test,y_test)\n",
    "    #print('accuracy',acc,'Random state',i)\n",
    "    \n",
    "    if acc>maxAcc:\n",
    "        maxAcc=acc\n",
    "        maxRs=i\n",
    "        print('accuracy',maxAcc,'Random state',i)\n",
    "        \n",
    "print(\"Best accuracy is\",maxAcc*100,\"on Random state\",maxRs) "
   ]
  },
  {
   "cell_type": "code",
   "execution_count": 612,
   "id": "d06a6e4d",
   "metadata": {},
   "outputs": [
    {
     "data": {
      "text/plain": [
       "(77.75247035488047, 1267.0094517958412, 1954.1766987224742)"
      ]
     },
     "execution_count": 612,
     "metadata": {},
     "output_type": "execute_result"
    }
   ],
   "source": [
    "from sklearn.metrics import r2_score\n",
    "from sklearn.metrics import mean_squared_error,mean_absolute_error\n",
    "from sklearn.model_selection import train_test_split\n",
    "from sklearn.metrics import accuracy_score\n",
    "from sklearn.metrics import confusion_matrix,classification_report\n",
    "\n",
    "x_train, x_test, y_train, y_test= train_test_split(x,y,test_size=0.15,random_state=211) \n",
    "knr=KNeighborsRegressor()\n",
    "knr.fit(x_train,y_train)\n",
    "pred=knr.predict(x_test)\n",
    "acc=knr.score(x_test,y_test)\n",
    "pred_f=y_test\n",
    "\n",
    "\n",
    "#print(\"predicted values\",pred)\n",
    "#print(\"predicted values\",y_test)\n",
    "r2_score(y_test, pred)*100, mean_absolute_error(y_test, pred), np.sqrt(mean_squared_error(y_test, pred))"
   ]
  },
  {
   "cell_type": "markdown",
   "id": "7bccea9f",
   "metadata": {},
   "source": [
    "The accuracy for KNN is 77.75% which is ok "
   ]
  },
  {
   "cell_type": "markdown",
   "id": "cfc9c8a0",
   "metadata": {},
   "source": [
    "# Using Gradient Boosted Decision Tree algorithm"
   ]
  },
  {
   "cell_type": "code",
   "execution_count": 622,
   "id": "56f15ce0",
   "metadata": {},
   "outputs": [
    {
     "name": "stdout",
     "output_type": "stream",
     "text": [
      "accuracy 0.7889455653039993 Random state 0.09\n",
      "accuracy 0.8107412910630692 Random state 0.1\n",
      "Best accuracy is 81.07412910630693 on Random state 0.1\n"
     ]
    }
   ],
   "source": [
    "from sklearn.ensemble import GradientBoostingRegressor\n",
    "maxAcc = 0\n",
    "maxRs=0\n",
    "\n",
    "for i in range(9,41):\n",
    "    i1=i*0.01\n",
    "    x_train, x_test, y_train, y_test= train_test_split(x,y,test_size=i1)\n",
    "    gbdt=GradientBoostingRegressor()\n",
    "    gbdt.fit(x_train,y_train)\n",
    "    pred=gbdt.predict(x_test)\n",
    "    acc=gbdt.score(x_test,y_test)\n",
    "   \n",
    "    \n",
    "    if acc>maxAcc:\n",
    "        maxAcc=acc\n",
    "        maxRs=i1\n",
    "        print('accuracy',maxAcc,'Random state',i1)\n",
    "print(\"Best accuracy is\",maxAcc*100,\"on Random state\",maxRs)"
   ]
  },
  {
   "cell_type": "code",
   "execution_count": 623,
   "id": "95e691c3",
   "metadata": {},
   "outputs": [
    {
     "name": "stdout",
     "output_type": "stream",
     "text": [
      "accuracy 0.8195007175951395 Random state 1\n",
      "accuracy 0.8372032445091645 Random state 12\n",
      "Best accuracy is 83.72032445091645 on Random state 12\n"
     ]
    }
   ],
   "source": [
    "#finding best random state\n",
    "maxAcc = 0\n",
    "maxRs=0\n",
    "\n",
    "for i in range(1,400):\n",
    "    x_train, x_test, y_train, y_test= train_test_split(x,y,test_size=0.10,random_state=i) \n",
    "    gbdt=GradientBoostingRegressor()\n",
    "    gbdt.fit(x_train,y_train)\n",
    "    pred=gbdt.predict(x_test)\n",
    "    acc=gbdt.score(x_test,y_test)\n",
    "    #print('accuracy',acc,'Random state',i)\n",
    "    \n",
    "    if acc>maxAcc:\n",
    "        maxAcc=acc\n",
    "        maxRs=i\n",
    "        print('accuracy',maxAcc,'Random state',i)\n",
    "        \n",
    "print(\"Best accuracy is\",maxAcc*100,\"on Random state\",maxRs) "
   ]
  },
  {
   "cell_type": "code",
   "execution_count": 624,
   "id": "b16a33c3",
   "metadata": {},
   "outputs": [
    {
     "data": {
      "text/plain": [
       "(83.72032445091645, 1225.8850144127728, 1657.0887697421897)"
      ]
     },
     "execution_count": 624,
     "metadata": {},
     "output_type": "execute_result"
    }
   ],
   "source": [
    "x_train, x_test, y_train, y_test= train_test_split(x,y,test_size=0.10,random_state=12) \n",
    "gbdt=GradientBoostingRegressor()\n",
    "gbdt.fit(x_train,y_train)\n",
    "pred=gbdt.predict(x_test)\n",
    "acc=gbdt.score(x_test,y_test)\n",
    "pred_f=y_test\n",
    "\n",
    "\n",
    "#print(\"predicted values\",pred)\n",
    "#print(\"predicted values\",y_test)\n",
    "r2_score(y_test, pred)*100, mean_absolute_error(y_test, pred), np.sqrt(mean_squared_error(y_test, pred))"
   ]
  },
  {
   "cell_type": "markdown",
   "id": "db0f29c3",
   "metadata": {},
   "source": [
    "gbdt is giving 83.72%accuracy"
   ]
  },
  {
   "cell_type": "markdown",
   "id": "4d367ced",
   "metadata": {},
   "source": [
    "we have best accuracy for Ramdom Forest hence we will cross validate all model to select best prediction"
   ]
  },
  {
   "cell_type": "markdown",
   "id": "97ce9faa",
   "metadata": {},
   "source": [
    "# Checking cross validation for all algorithms"
   ]
  },
  {
   "cell_type": "code",
   "execution_count": 625,
   "id": "b2d44a5b",
   "metadata": {},
   "outputs": [],
   "source": [
    "from sklearn.model_selection import cross_val_score"
   ]
  },
  {
   "cell_type": "code",
   "execution_count": 626,
   "id": "6e442c62",
   "metadata": {},
   "outputs": [
    {
     "name": "stdout",
     "output_type": "stream",
     "text": [
      "cross validation score 0.132008652398098\n"
     ]
    }
   ],
   "source": [
    "#linear regression\n",
    "scr=cross_val_score(lr,x,y)\n",
    "print('cross validation score',scr.mean())"
   ]
  },
  {
   "cell_type": "code",
   "execution_count": 627,
   "id": "e1cd65f3",
   "metadata": {},
   "outputs": [
    {
     "name": "stdout",
     "output_type": "stream",
     "text": [
      "cross validation score 0.8315094353030045\n"
     ]
    }
   ],
   "source": [
    "#desicion treeregressor\n",
    "scr=cross_val_score(dt,x,y)\n",
    "print('cross validation score',scr.mean())"
   ]
  },
  {
   "cell_type": "code",
   "execution_count": 628,
   "id": "063ddc49",
   "metadata": {},
   "outputs": [
    {
     "name": "stdout",
     "output_type": "stream",
     "text": [
      "cross validation score 0.8922135085926785\n"
     ]
    }
   ],
   "source": [
    "#random forest regressor\n",
    "scr=cross_val_score(rf,x,y)\n",
    "print('cross validation score',scr.mean())"
   ]
  },
  {
   "cell_type": "code",
   "execution_count": 629,
   "id": "96ad83d4",
   "metadata": {},
   "outputs": [
    {
     "name": "stdout",
     "output_type": "stream",
     "text": [
      "cross validation score 0.7299679668812549\n"
     ]
    }
   ],
   "source": [
    "#Knregressor\n",
    "scr=cross_val_score(knr,x,y)\n",
    "print('cross validation score',scr.mean())"
   ]
  },
  {
   "cell_type": "code",
   "execution_count": 630,
   "id": "80d175b8",
   "metadata": {},
   "outputs": [
    {
     "name": "stdout",
     "output_type": "stream",
     "text": [
      "cross validation score 0.7960609429568131\n"
     ]
    }
   ],
   "source": [
    "#Gradient Boosted Decision\n",
    "scr=cross_val_score(gbdt,x,y)\n",
    "print('cross validation score',scr.mean())"
   ]
  },
  {
   "cell_type": "markdown",
   "id": "e0ad2e34",
   "metadata": {},
   "source": [
    "# Final conclusion : Random Forest is having Highest Accuracy i.e. 89.22%"
   ]
  },
  {
   "cell_type": "markdown",
   "id": "014e9834",
   "metadata": {},
   "source": [
    "hence we will use Hyper parameter tunning to run model on mutilple parameter and will select the best combination for model to predict highest and most accurate prediction"
   ]
  },
  {
   "cell_type": "markdown",
   "id": "186e65f5",
   "metadata": {},
   "source": [
    "# Using hyperparameter tunning"
   ]
  },
  {
   "cell_type": "code",
   "execution_count": 632,
   "id": "da7aa28e",
   "metadata": {},
   "outputs": [
    {
     "name": "stdout",
     "output_type": "stream",
     "text": [
      "best_params: {'criterion': 'mae', 'max_depth': 10, 'max_features': 'auto', 'n_estimators': 5}\n",
      "0.8634127412592235\n"
     ]
    }
   ],
   "source": [
    "from sklearn.model_selection import GridSearchCV\n",
    "clf = RandomForestRegressor()\n",
    "\n",
    "params={'max_features':['auto','sqrt','log2'],\n",
    "       'max_depth':[10,15],\n",
    "       'criterion':['mae','mse'],\n",
    "        'n_estimators':[5,10,15]\n",
    "       }\n",
    "\n",
    "\n",
    "grd=GridSearchCV(clf,param_grid=params,cv=5,scoring='accuracy')\n",
    "grd.fit(x_train,y_train)\n",
    "print('best_params:',grd.best_params_)\n",
    "grd=grd.best_estimator_\n",
    "grd.fit(x_train,y_train)\n",
    "y_pred=grd.predict(x_test)\n",
    "print(r2_score(y_test,y_pred))"
   ]
  },
  {
   "cell_type": "markdown",
   "id": "d2f2714b",
   "metadata": {},
   "source": [
    "# Random Forest Algorithm with best parameter selection"
   ]
  },
  {
   "cell_type": "code",
   "execution_count": 633,
   "id": "d0986637",
   "metadata": {},
   "outputs": [
    {
     "data": {
      "text/plain": [
       "(91.22657273615224, 698.0399481777621, 1213.3660085031918)"
      ]
     },
     "execution_count": 633,
     "metadata": {},
     "output_type": "execute_result"
    }
   ],
   "source": [
    "#from sklearn.ensemble import RandomForestClassifier \n",
    "\n",
    "x_train, x_test, y_train, y_test= train_test_split(x,y,test_size=0.19,random_state=60) \n",
    "rf2=RandomForestRegressor(criterion= 'mae', max_depth= 10, max_features= 'auto',n_estimators=5)\n",
    "rf2=RandomForestRegressor()\n",
    "rf2.fit(x_train,y_train)\n",
    "pred=rf2.predict(x_test)\n",
    "acc=rf2.score(x_test,y_test)\n",
    "pred_f=y_test\n",
    "r2_score(y_test, pred)*100, mean_absolute_error(y_test, pred), np.sqrt(mean_squared_error(y_test, pred))"
   ]
  },
  {
   "cell_type": "markdown",
   "id": "e6a72ba4",
   "metadata": {},
   "source": [
    "# Saving the model in pickel format"
   ]
  },
  {
   "cell_type": "code",
   "execution_count": 648,
   "id": "04eb3da6",
   "metadata": {},
   "outputs": [
    {
     "data": {
      "text/plain": [
       "['AirPrice.pk1']"
      ]
     },
     "execution_count": 648,
     "metadata": {},
     "output_type": "execute_result"
    }
   ],
   "source": [
    "import joblib\n",
    "joblib.dump(r2_score(y_test, pred)*100,\"AirPrice.pk1\")"
   ]
  },
  {
   "cell_type": "markdown",
   "id": "3e863d39",
   "metadata": {},
   "source": [
    "# Testing Model with Future Data for Output columns"
   ]
  },
  {
   "cell_type": "code",
   "execution_count": 649,
   "id": "a5919d47",
   "metadata": {},
   "outputs": [
    {
     "data": {
      "text/plain": [
       "Airline           -1.418107\n",
       "Date_of_Journey   -1.519284\n",
       "Source             0.897016\n",
       "Destination       -1.367088\n",
       "Route              0.214536\n",
       "Dep_Time          -1.355825\n",
       "Arrival_Time       0.040704\n",
       "Duration           1.242483\n",
       "Additional_Info    0.524414\n",
       "Name: 1, dtype: float64"
      ]
     },
     "execution_count": 649,
     "metadata": {},
     "output_type": "execute_result"
    }
   ],
   "source": [
    "x.iloc[1]"
   ]
  },
  {
   "cell_type": "code",
   "execution_count": 650,
   "id": "5261bb6a",
   "metadata": {},
   "outputs": [
    {
     "data": {
      "text/plain": [
       "7662"
      ]
     },
     "execution_count": 650,
     "metadata": {},
     "output_type": "execute_result"
    }
   ],
   "source": [
    "y.iloc[1]"
   ]
  },
  {
   "cell_type": "code",
   "execution_count": 651,
   "id": "a00114b9",
   "metadata": {},
   "outputs": [],
   "source": [
    "t=np.array([-1.418107,-1.519284,0.897016,-1.367088,0.214536,-1.355825,0.040704,1.242483,0.524414])"
   ]
  },
  {
   "cell_type": "code",
   "execution_count": 652,
   "id": "d609c345",
   "metadata": {},
   "outputs": [
    {
     "data": {
      "text/plain": [
       "(9,)"
      ]
     },
     "execution_count": 652,
     "metadata": {},
     "output_type": "execute_result"
    }
   ],
   "source": [
    "\n",
    "t.shape"
   ]
  },
  {
   "cell_type": "code",
   "execution_count": 653,
   "id": "5e6c7753",
   "metadata": {},
   "outputs": [
    {
     "data": {
      "text/plain": [
       "(8568, 9)"
      ]
     },
     "execution_count": 653,
     "metadata": {},
     "output_type": "execute_result"
    }
   ],
   "source": [
    "x_train.shape"
   ]
  },
  {
   "cell_type": "code",
   "execution_count": 654,
   "id": "9de3f4fe",
   "metadata": {},
   "outputs": [
    {
     "data": {
      "text/plain": [
       "(1, 9)"
      ]
     },
     "execution_count": 654,
     "metadata": {},
     "output_type": "execute_result"
    }
   ],
   "source": [
    "t=t.reshape(1,-1)\n",
    "t.shape"
   ]
  },
  {
   "cell_type": "code",
   "execution_count": 655,
   "id": "ffb7c0d6",
   "metadata": {},
   "outputs": [
    {
     "data": {
      "text/plain": [
       "array([7220.96])"
      ]
     },
     "execution_count": 655,
     "metadata": {},
     "output_type": "execute_result"
    }
   ],
   "source": [
    "rf2.predict(t) # selecting final model "
   ]
  },
  {
   "cell_type": "markdown",
   "id": "d82a78db",
   "metadata": {},
   "source": [
    "Here we can see that the actual output and predicted output are nrealy same i.e.\n",
    "\n",
    "Actual output =7662\n",
    "Prediction= 7220.96\n",
    "\n",
    "Hence we can say that the Model is prediction well"
   ]
  },
  {
   "cell_type": "code",
   "execution_count": null,
   "id": "cfa3818e",
   "metadata": {},
   "outputs": [],
   "source": []
  }
 ],
 "metadata": {
  "kernelspec": {
   "display_name": "Python 3 (ipykernel)",
   "language": "python",
   "name": "python3"
  },
  "language_info": {
   "codemirror_mode": {
    "name": "ipython",
    "version": 3
   },
   "file_extension": ".py",
   "mimetype": "text/x-python",
   "name": "python",
   "nbconvert_exporter": "python",
   "pygments_lexer": "ipython3",
   "version": "3.9.7"
  }
 },
 "nbformat": 4,
 "nbformat_minor": 5
}
